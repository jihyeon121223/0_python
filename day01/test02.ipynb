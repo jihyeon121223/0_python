{
 "cells": [
  {
   "cell_type": "code",
   "execution_count": 1,
   "id": "83d8d162-aafc-428c-881d-c5807a813610",
   "metadata": {},
   "outputs": [],
   "source": [
    "a = \"Life is too short, You need Python\""
   ]
  },
  {
   "cell_type": "code",
   "execution_count": 2,
   "id": "de67aece-b2f1-4f8d-92fa-4119759c1cd9",
   "metadata": {},
   "outputs": [
    {
     "data": {
      "text/plain": [
       "'Life is too short, You need Python'"
      ]
     },
     "execution_count": 2,
     "metadata": {},
     "output_type": "execute_result"
    }
   ],
   "source": [
    "a"
   ]
  },
  {
   "cell_type": "code",
   "execution_count": 3,
   "id": "a3c11032-0b28-4a1e-be18-973aa65a3d10",
   "metadata": {},
   "outputs": [
    {
     "data": {
      "text/plain": [
       "'Lif'"
      ]
     },
     "execution_count": 3,
     "metadata": {},
     "output_type": "execute_result"
    }
   ],
   "source": [
    "a[0:3]"
   ]
  },
  {
   "cell_type": "code",
   "execution_count": 4,
   "id": "df27e773-bf40-4b45-83ea-e28365b3daf6",
   "metadata": {},
   "outputs": [],
   "source": [
    "#주민번호 성별 값을 출력하라"
   ]
  },
  {
   "cell_type": "code",
   "execution_count": 10,
   "id": "9f0446d8-9665-47c9-932d-8761af1acd2a",
   "metadata": {},
   "outputs": [
    {
     "data": {
      "text/plain": [
       "'8'"
      ]
     },
     "execution_count": 10,
     "metadata": {},
     "output_type": "execute_result"
    }
   ],
   "source": [
    "a=input('123456-7890123')\n",
    "a[8]"
   ]
  },
  {
   "cell_type": "code",
   "execution_count": 12,
   "id": "c7b55faf-8f99-4cab-b6ce-8fa877da1ea3",
   "metadata": {},
   "outputs": [
    {
     "name": "stdin",
     "output_type": "stream",
     "text": [
      "주민번호: 123456-7890123\n"
     ]
    },
    {
     "data": {
      "text/plain": [
       "'7'"
      ]
     },
     "execution_count": 12,
     "metadata": {},
     "output_type": "execute_result"
    }
   ],
   "source": [
    "jumin=input('주민번호:')\n",
    "jumin[7]"
   ]
  },
  {
   "cell_type": "code",
   "execution_count": 13,
   "id": "0f08d6a5-8749-4073-b639-c6aebdd3d5c0",
   "metadata": {},
   "outputs": [
    {
     "name": "stdout",
     "output_type": "stream",
     "text": [
      "i eat 3 apples\n"
     ]
    }
   ],
   "source": [
    "print('i eat %d apples'%3)"
   ]
  },
  {
   "cell_type": "code",
   "execution_count": 15,
   "id": "32a22493-205d-4a2d-8c1d-e2ce17bcf279",
   "metadata": {},
   "outputs": [
    {
     "name": "stdin",
     "output_type": "stream",
     "text": [
      "사과의 수>>> 3\n"
     ]
    },
    {
     "name": "stdout",
     "output_type": "stream",
     "text": [
      "i eat 3 apples\n"
     ]
    }
   ],
   "source": [
    "data=input('사과의 수>>>')\n",
    "print('i eat %s apples'%data)"
   ]
  },
  {
   "cell_type": "code",
   "execution_count": 17,
   "id": "206fc539-f655-4c02-9827-3189da3a5415",
   "metadata": {},
   "outputs": [
    {
     "name": "stdout",
     "output_type": "stream",
     "text": [
      "123\n"
     ]
    }
   ],
   "source": [
    "print('%d%d%d'%(1,2,3))"
   ]
  },
  {
   "cell_type": "code",
   "execution_count": 19,
   "id": "6d9efe70-1b8d-488e-8b80-a0126677890c",
   "metadata": {},
   "outputs": [
    {
     "data": {
      "text/plain": [
       "'I eat 2 apples 1'"
      ]
     },
     "execution_count": 19,
     "metadata": {},
     "output_type": "execute_result"
    }
   ],
   "source": [
    "\"I eat {1} apples {0}\".format(1, 2)"
   ]
  },
  {
   "cell_type": "code",
   "execution_count": 20,
   "id": "ff417b8c-8fcf-488f-b487-26ecf08c210a",
   "metadata": {},
   "outputs": [
    {
     "data": {
      "text/plain": [
       "'I eat          2 apples 1'"
      ]
     },
     "execution_count": 20,
     "metadata": {},
     "output_type": "execute_result"
    }
   ],
   "source": [
    "\"I eat {1:10} apples {0}\".format(1, 2)"
   ]
  },
  {
   "cell_type": "code",
   "execution_count": 22,
   "id": "a28ad32f-550b-4921-814a-ddcf7246e1df",
   "metadata": {},
   "outputs": [
    {
     "data": {
      "text/plain": [
       "'I eat 2          apples 1'"
      ]
     },
     "execution_count": 22,
     "metadata": {},
     "output_type": "execute_result"
    }
   ],
   "source": [
    "\"I eat {1:<10} apples {0}\".format(1, 2)"
   ]
  },
  {
   "cell_type": "code",
   "execution_count": 24,
   "id": "e09841be-5676-4725-be10-02b1b7c83373",
   "metadata": {},
   "outputs": [
    {
     "data": {
      "text/plain": [
       "'I eat     2      apples 1.00'"
      ]
     },
     "execution_count": 24,
     "metadata": {},
     "output_type": "execute_result"
    }
   ],
   "source": [
    "\"I eat {1:^10} apples {0:.2f}\".format(1, 2)"
   ]
  },
  {
   "cell_type": "code",
   "execution_count": 29,
   "id": "629d9bea-7713-44e6-8731-ab62c3aa815c",
   "metadata": {},
   "outputs": [
    {
     "name": "stdout",
     "output_type": "stream",
     "text": [
      "나의 이름은    홍길동    입니다. 나이는 3,000,000,000입니다.\n"
     ]
    }
   ],
   "source": [
    "name = '홍길동'\n",
    "age = 3000000000\n",
    "print(f'나의 이름은 {name:^10}입니다. 나이는 {age:,}입니다.') #천단위 기호"
   ]
  },
  {
   "cell_type": "code",
   "execution_count": 32,
   "id": "dcef0e3b-d559-470b-9f1c-ae9714c86943",
   "metadata": {},
   "outputs": [
    {
     "data": {
      "text/plain": [
       "0"
      ]
     },
     "execution_count": 32,
     "metadata": {},
     "output_type": "execute_result"
    }
   ],
   "source": [
    "a = \"hobby\" #변수a는 문자열\n",
    "a.count('bbb') #커서 두고 shft+tab누르면 설명 나옴"
   ]
  },
  {
   "cell_type": "code",
   "execution_count": 33,
   "id": "be964a5f-3229-47f8-a8a2-55dbe872b4d3",
   "metadata": {},
   "outputs": [
    {
     "data": {
      "text/plain": [
       "14"
      ]
     },
     "execution_count": 33,
     "metadata": {},
     "output_type": "execute_result"
    }
   ],
   "source": [
    ">>> a = \"Python is the best choice\"\n",
    ">>> a.find('b')"
   ]
  },
  {
   "cell_type": "code",
   "execution_count": 34,
   "id": "457c699e-b22d-432e-a6a8-562923833dc5",
   "metadata": {},
   "outputs": [
    {
     "data": {
      "text/plain": [
       "-1"
      ]
     },
     "execution_count": 34,
     "metadata": {},
     "output_type": "execute_result"
    }
   ],
   "source": [
    ">>> a = \"Python is the best choice\"\n",
    ">>> a.find('p') #대소문자 구분하기 때문에 없다고 나옴, 없으면 오류발생없이 \n",
    "-1"
   ]
  },
  {
   "cell_type": "code",
   "execution_count": 36,
   "id": "492ea10e-5206-4056-8f9d-7c9703baf750",
   "metadata": {},
   "outputs": [
    {
     "data": {
      "text/plain": [
       "0"
      ]
     },
     "execution_count": 36,
     "metadata": {},
     "output_type": "execute_result"
    }
   ],
   "source": [
    ">>> a = \"Python is the best choice\"\n",
    ">>> a.index('P') #대소문자 구분하기 때문에 없다고 나옴, 없으면 오류발생시키고 0"
   ]
  },
  {
   "cell_type": "code",
   "execution_count": 37,
   "id": "78cb02ce-95b0-4d47-8834-1d56147495d9",
   "metadata": {},
   "outputs": [
    {
     "ename": "TypeError",
     "evalue": "sequence item 3: expected str instance, int found",
     "output_type": "error",
     "traceback": [
      "\u001b[1;31m---------------------------------------------------------------------------\u001b[0m",
      "\u001b[1;31mTypeError\u001b[0m                                 Traceback (most recent call last)",
      "\u001b[1;32m~\\AppData\\Local\\Temp/ipykernel_3260/1483258827.py\u001b[0m in \u001b[0;36m<module>\u001b[1;34m\u001b[0m\n\u001b[0;32m      1\u001b[0m \u001b[0ma\u001b[0m\u001b[1;33m=\u001b[0m\u001b[1;33m(\u001b[0m\u001b[1;33m[\u001b[0m\u001b[1;34m'a'\u001b[0m\u001b[1;33m,\u001b[0m \u001b[1;34m'b'\u001b[0m\u001b[1;33m,\u001b[0m \u001b[1;34m'c'\u001b[0m\u001b[1;33m,\u001b[0m \u001b[1;36m1\u001b[0m\u001b[1;33m]\u001b[0m\u001b[1;33m)\u001b[0m\u001b[1;33m\u001b[0m\u001b[1;33m\u001b[0m\u001b[0m\n\u001b[1;32m----> 2\u001b[1;33m \u001b[1;34m','\u001b[0m\u001b[1;33m.\u001b[0m\u001b[0mjoin\u001b[0m\u001b[1;33m(\u001b[0m\u001b[0ma\u001b[0m\u001b[1;33m)\u001b[0m\u001b[1;33m\u001b[0m\u001b[1;33m\u001b[0m\u001b[0m\n\u001b[0m",
      "\u001b[1;31mTypeError\u001b[0m: sequence item 3: expected str instance, int found"
     ]
    }
   ],
   "source": [
    "a=(['a', 'b', 'c', 1]) #데이터 타입이 달라서 오류, 머신러닝에서 많이 쓰임. 오류나면 찾아야함. \n",
    "','.join(a)"
   ]
  },
  {
   "cell_type": "code",
   "execution_count": 38,
   "id": "4d696d90-4125-4a9e-843f-bb21d79162af",
   "metadata": {},
   "outputs": [
    {
     "data": {
      "text/plain": [
       "'a,b,c'"
      ]
     },
     "execution_count": 38,
     "metadata": {},
     "output_type": "execute_result"
    }
   ],
   "source": [
    "a=(['a', 'b', 'c']) \n",
    "','.join(a)"
   ]
  },
  {
   "cell_type": "code",
   "execution_count": 39,
   "id": "0096b8bb-c637-4e0a-a9d5-3419cef41420",
   "metadata": {},
   "outputs": [
    {
     "data": {
      "text/plain": [
       "'h i'"
      ]
     },
     "execution_count": 39,
     "metadata": {},
     "output_type": "execute_result"
    }
   ],
   "source": [
    ">>> a = \" h i \"\n",
    ">>> a.strip()"
   ]
  },
  {
   "cell_type": "code",
   "execution_count": 46,
   "id": "0200f789-e9a5-42a2-9cb8-5560367b54f8",
   "metadata": {},
   "outputs": [
    {
     "data": {
      "text/plain": [
       "'Life is too short'"
      ]
     },
     "execution_count": 46,
     "metadata": {},
     "output_type": "execute_result"
    }
   ],
   "source": [
    "\n",
    ">>> a.rstrip()"
   ]
  },
  {
   "cell_type": "code",
   "execution_count": 44,
   "id": "a3728a9c-71d7-4b90-8af6-3f2b73f04698",
   "metadata": {},
   "outputs": [
    {
     "data": {
      "text/plain": [
       "['Life', 'is', 'too', 'short']"
      ]
     },
     "execution_count": 44,
     "metadata": {},
     "output_type": "execute_result"
    }
   ],
   "source": [
    ">>> a = \"Life is too short\"\n",
    ">>> a.split() #나누는거 합치려면 join"
   ]
  },
  {
   "cell_type": "code",
   "execution_count": 45,
   "id": "400bda29-6f77-4219-b18f-0e50b66110c8",
   "metadata": {},
   "outputs": [
    {
     "name": "stdin",
     "output_type": "stream",
     "text": [
      "숫자 fa\n"
     ]
    },
    {
     "data": {
      "text/plain": [
       "False"
      ]
     },
     "execution_count": 45,
     "metadata": {},
     "output_type": "execute_result"
    }
   ],
   "source": [
    "v1=input('숫자')\n",
    "v1.isnumeric()"
   ]
  },
  {
   "cell_type": "code",
   "execution_count": 47,
   "id": "d986a80b-00e3-4df0-93e8-0bfc63f43eef",
   "metadata": {},
   "outputs": [
    {
     "data": {
      "text/plain": [
       "' h i'"
      ]
     },
     "execution_count": 47,
     "metadata": {},
     "output_type": "execute_result"
    }
   ],
   "source": [
    ">>> a = \" h i \"\n",
    ">>> a.rstrip()"
   ]
  },
  {
   "cell_type": "code",
   "execution_count": 48,
   "id": "83608db1-8510-4c3c-9623-5459b1abea4b",
   "metadata": {},
   "outputs": [
    {
     "data": {
      "text/plain": [
       "'h i '"
      ]
     },
     "execution_count": 48,
     "metadata": {},
     "output_type": "execute_result"
    }
   ],
   "source": [
    ">>> a = \" h i \"\n",
    ">>> a.lstrip()"
   ]
  },
  {
   "cell_type": "code",
   "execution_count": null,
   "id": "88e8a3e8-dbde-42e2-af68-bb47698dc5f0",
   "metadata": {},
   "outputs": [],
   "source": []
  }
 ],
 "metadata": {
  "kernelspec": {
   "display_name": "Python 3 (ipykernel)",
   "language": "python",
   "name": "python3"
  },
  "language_info": {
   "codemirror_mode": {
    "name": "ipython",
    "version": 3
   },
   "file_extension": ".py",
   "mimetype": "text/x-python",
   "name": "python",
   "nbconvert_exporter": "python",
   "pygments_lexer": "ipython3",
   "version": "3.9.7"
  },
  "toc-autonumbering": true
 },
 "nbformat": 4,
 "nbformat_minor": 5
}
