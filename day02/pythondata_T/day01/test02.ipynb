{
 "cells": [
  {
   "cell_type": "code",
   "execution_count": 2,
   "id": "316eef2b-bbc6-41d9-be7a-a7dbcc236553",
   "metadata": {},
   "outputs": [],
   "source": [
    "a = \"Life is too short, You need Python\""
   ]
  },
  {
   "cell_type": "code",
   "execution_count": 3,
   "id": "ce5c5f05-00d6-45d4-aca3-1cb7285d3769",
   "metadata": {},
   "outputs": [
    {
     "data": {
      "text/plain": [
       "'Life is too short, You need Python'"
      ]
     },
     "execution_count": 3,
     "metadata": {},
     "output_type": "execute_result"
    }
   ],
   "source": [
    "a"
   ]
  },
  {
   "cell_type": "code",
   "execution_count": 5,
   "id": "a51ff494-af01-4b9b-973f-ae50e51be612",
   "metadata": {},
   "outputs": [
    {
     "data": {
      "text/plain": [
       "'Life'"
      ]
     },
     "execution_count": 5,
     "metadata": {},
     "output_type": "execute_result"
    }
   ],
   "source": [
    "a[0:4]"
   ]
  },
  {
   "cell_type": "code",
   "execution_count": 6,
   "id": "41b5a9f2-b438-4d09-9de8-7c537b2d2fa7",
   "metadata": {},
   "outputs": [],
   "source": [
    "## 주민등록 번호를 받아서 성별과 관련된 값을 출력하세요"
   ]
  },
  {
   "cell_type": "code",
   "execution_count": 7,
   "id": "818303dd-f2f4-473c-ae96-75220ed24d92",
   "metadata": {},
   "outputs": [
    {
     "name": "stdin",
     "output_type": "stream",
     "text": [
      "주민등록번호 >>> 201010-3123456\n"
     ]
    },
    {
     "data": {
      "text/plain": [
       "'3'"
      ]
     },
     "execution_count": 7,
     "metadata": {},
     "output_type": "execute_result"
    }
   ],
   "source": [
    "jumin = input('주민등록번호 >>>')\n",
    "jumin[7]"
   ]
  },
  {
   "cell_type": "code",
   "execution_count": 8,
   "id": "ae8fc73b-b9b3-46dd-98a1-a9e076fb18e9",
   "metadata": {},
   "outputs": [
    {
     "name": "stdout",
     "output_type": "stream",
     "text": [
      "i eat 3 apples\n"
     ]
    }
   ],
   "source": [
    "print('i eat %d apples'%3)"
   ]
  },
  {
   "cell_type": "code",
   "execution_count": 10,
   "id": "ded3256a-e36b-45c0-a866-c9bcc68433d3",
   "metadata": {},
   "outputs": [
    {
     "name": "stdin",
     "output_type": "stream",
     "text": [
      "사과의 수는 >>> 5\n"
     ]
    },
    {
     "name": "stdout",
     "output_type": "stream",
     "text": [
      "i eat 5 apples\n"
     ]
    }
   ],
   "source": [
    "data = input('사과의 수는 >>>')\n",
    "print('i eat %s apples'%data)"
   ]
  },
  {
   "cell_type": "code",
   "execution_count": 12,
   "id": "f8b469c9-5d21-45fe-b707-a03870551cf4",
   "metadata": {},
   "outputs": [
    {
     "name": "stdout",
     "output_type": "stream",
     "text": [
      " 1 2 3\n"
     ]
    }
   ],
   "source": [
    "print(' %d %d %d' % (1,2,3))"
   ]
  },
  {
   "cell_type": "code",
   "execution_count": 13,
   "id": "42b1cb79-f937-4246-b8a3-f6a02ec9020e",
   "metadata": {},
   "outputs": [
    {
     "data": {
      "text/plain": [
       "'i eat 1 apples hi'"
      ]
     },
     "execution_count": 13,
     "metadata": {},
     "output_type": "execute_result"
    }
   ],
   "source": [
    "'i eat {} apples {}'.format(1,'hi')"
   ]
  },
  {
   "cell_type": "code",
   "execution_count": 14,
   "id": "7f24984c-ab34-4585-9e8b-b996301564b8",
   "metadata": {},
   "outputs": [
    {
     "data": {
      "text/plain": [
       "'i eat hi apples 1'"
      ]
     },
     "execution_count": 14,
     "metadata": {},
     "output_type": "execute_result"
    }
   ],
   "source": [
    "'i eat {1} apples {0}'.format(1,'hi')"
   ]
  },
  {
   "cell_type": "code",
   "execution_count": 19,
   "id": "37e178b8-ad3a-4339-9471-03dcb2e0a2bb",
   "metadata": {},
   "outputs": [
    {
     "data": {
      "text/plain": [
       "'i eat     hi     apples 1.00'"
      ]
     },
     "execution_count": 19,
     "metadata": {},
     "output_type": "execute_result"
    }
   ],
   "source": [
    "'i eat {1:^10} apples {0:.2f}'.format(1,'hi')"
   ]
  },
  {
   "cell_type": "code",
   "execution_count": 24,
   "id": "d524ac63-e1ee-48a8-be7d-010472a3a157",
   "metadata": {},
   "outputs": [
    {
     "name": "stdout",
     "output_type": "stream",
     "text": [
      "이름은    홍길동    입니다. 나이는 300,000입니다.\n"
     ]
    }
   ],
   "source": [
    "name = '홍길동'\n",
    "age = 300000\n",
    "print(f'이름은 {name:^10}입니다. 나이는 {age:,}입니다.')"
   ]
  },
  {
   "cell_type": "code",
   "execution_count": 31,
   "id": "28170c6b-fee8-4a2e-a00e-554f59348f66",
   "metadata": {},
   "outputs": [
    {
     "data": {
      "text/plain": [
       "1"
      ]
     },
     "execution_count": 31,
     "metadata": {},
     "output_type": "execute_result"
    }
   ],
   "source": [
    "a='hobby@co.kr'\n",
    "a.count('@co.kr')"
   ]
  },
  {
   "cell_type": "code",
   "execution_count": 33,
   "id": "9f9fbd75-44f0-486a-bcdd-23520f0a89d6",
   "metadata": {},
   "outputs": [
    {
     "data": {
      "text/plain": [
       "-1"
      ]
     },
     "execution_count": 33,
     "metadata": {},
     "output_type": "execute_result"
    }
   ],
   "source": [
    "a = \"Python is the best choice\"\n",
    "a.find('p')"
   ]
  },
  {
   "cell_type": "code",
   "execution_count": 35,
   "id": "e61ac259-88c7-4771-977d-4153b7e1f9c7",
   "metadata": {},
   "outputs": [
    {
     "data": {
      "text/plain": [
       "0"
      ]
     },
     "execution_count": 35,
     "metadata": {},
     "output_type": "execute_result"
    }
   ],
   "source": [
    "a = \"Python is the best choice\"\n",
    "a.index('P')"
   ]
  },
  {
   "cell_type": "code",
   "execution_count": 37,
   "id": "c83b72f6-2ce2-498b-b56d-d6cd15067045",
   "metadata": {},
   "outputs": [
    {
     "data": {
      "text/plain": [
       "'a,b,c'"
      ]
     },
     "execution_count": 37,
     "metadata": {},
     "output_type": "execute_result"
    }
   ],
   "source": [
    "a = ['a','b','c']\n",
    "','.join(a)"
   ]
  },
  {
   "cell_type": "code",
   "execution_count": 38,
   "id": "7ede50b0-e59c-467b-ac96-7b2e2f1657ee",
   "metadata": {},
   "outputs": [
    {
     "data": {
      "text/plain": [
       "'   a   s'"
      ]
     },
     "execution_count": 38,
     "metadata": {},
     "output_type": "execute_result"
    }
   ],
   "source": [
    "a = '   a   s     '\n",
    "a.rstrip()"
   ]
  },
  {
   "cell_type": "code",
   "execution_count": 39,
   "id": "d1df29a1-a9c0-40ae-a7a9-e9ee229dcde8",
   "metadata": {},
   "outputs": [
    {
     "data": {
      "text/plain": [
       "'a   s     '"
      ]
     },
     "execution_count": 39,
     "metadata": {},
     "output_type": "execute_result"
    }
   ],
   "source": [
    "a.lstrip()"
   ]
  },
  {
   "cell_type": "code",
   "execution_count": 40,
   "id": "625c93b3-17a0-4157-b3bd-bf88a7a12915",
   "metadata": {},
   "outputs": [
    {
     "data": {
      "text/plain": [
       "'a   s'"
      ]
     },
     "execution_count": 40,
     "metadata": {},
     "output_type": "execute_result"
    }
   ],
   "source": [
    "a.strip()"
   ]
  },
  {
   "cell_type": "code",
   "execution_count": 41,
   "id": "61fa76a0-b4f7-4159-9bb7-665b8bc50659",
   "metadata": {},
   "outputs": [
    {
     "data": {
      "text/plain": [
       "['Life', 'is', 'too', 'short']"
      ]
     },
     "execution_count": 41,
     "metadata": {},
     "output_type": "execute_result"
    }
   ],
   "source": [
    "a = \"Life is too short\"\n",
    "a.split()"
   ]
  },
  {
   "cell_type": "code",
   "execution_count": 42,
   "id": "6c0cc112-9488-42ed-bfff-bf0c47bb2a03",
   "metadata": {},
   "outputs": [
    {
     "name": "stdin",
     "output_type": "stream",
     "text": [
      "숫자입력 fhfh\n"
     ]
    },
    {
     "data": {
      "text/plain": [
       "False"
      ]
     },
     "execution_count": 42,
     "metadata": {},
     "output_type": "execute_result"
    }
   ],
   "source": [
    "value1 = input('숫자입력')\n",
    "value1.isnumeric()"
   ]
  },
  {
   "cell_type": "code",
   "execution_count": null,
   "id": "406cebb4-300a-412a-9e9e-564961e700d0",
   "metadata": {},
   "outputs": [],
   "source": []
  }
 ],
 "metadata": {
  "kernelspec": {
   "display_name": "Python 3 (ipykernel)",
   "language": "python",
   "name": "python3"
  },
  "language_info": {
   "codemirror_mode": {
    "name": "ipython",
    "version": 3
   },
   "file_extension": ".py",
   "mimetype": "text/x-python",
   "name": "python",
   "nbconvert_exporter": "python",
   "pygments_lexer": "ipython3",
   "version": "3.9.7"
  }
 },
 "nbformat": 4,
 "nbformat_minor": 5
}
