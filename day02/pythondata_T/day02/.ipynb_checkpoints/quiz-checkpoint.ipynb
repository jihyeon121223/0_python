{
 "cells": [
  {
   "cell_type": "raw",
   "id": "439cf012-3526-40f9-a6c4-421887f31907",
   "metadata": {},
   "source": [
    "quiz 01\n",
    "1~ 100 사이 숫자를 맞추는 게임, 몇번만에 맞췄는지, 정답을 맞출때까지 반복"
   ]
  },
  {
   "cell_type": "code",
   "execution_count": 1,
   "id": "6e9027b0-e561-4339-961a-0e9d006d7187",
   "metadata": {},
   "outputs": [],
   "source": [
    "import random"
   ]
  },
  {
   "cell_type": "code",
   "execution_count": 55,
   "id": "aac108ed-70ed-4e54-a3a0-4f69587b7697",
   "metadata": {},
   "outputs": [
    {
     "data": {
      "text/plain": [
       "42"
      ]
     },
     "execution_count": 55,
     "metadata": {},
     "output_type": "execute_result"
    }
   ],
   "source": [
    "random.randint(1,100)"
   ]
  },
  {
   "cell_type": "code",
   "execution_count": 57,
   "id": "71c62d15-a868-428a-9729-929439643f71",
   "metadata": {
    "collapsed": true,
    "jupyter": {
     "outputs_hidden": true
    },
    "tags": []
   },
   "outputs": [
    {
     "name": "stdout",
     "output_type": "stream",
     "text": [
      "정답 18\n"
     ]
    },
    {
     "name": "stdin",
     "output_type": "stream",
     "text": [
      "숫자를 입력하세요 >>  1\n"
     ]
    },
    {
     "name": "stdout",
     "output_type": "stream",
     "text": [
      "1번째 시도 - 더 큰수를 입력하세요\n"
     ]
    },
    {
     "name": "stdin",
     "output_type": "stream",
     "text": [
      "숫자를 입력하세요 >>  20\n"
     ]
    },
    {
     "name": "stdout",
     "output_type": "stream",
     "text": [
      "2번째 시도 - 더 작은수를 입력하세요\n"
     ]
    },
    {
     "name": "stdin",
     "output_type": "stream",
     "text": [
      "숫자를 입력하세요 >>  18\n"
     ]
    },
    {
     "name": "stdout",
     "output_type": "stream",
     "text": [
      "정답입니다. 3번만에 맞추셨습니다.\n"
     ]
    }
   ],
   "source": [
    "com = random.randint(1,100)\n",
    "count = 0\n",
    "print(f'정답 {com}')\n",
    "while True:\n",
    "    input_no = input('숫자를 입력하세요 >> ')\n",
    "    if not input_no.isnumeric():\n",
    "        print('숫자를 입력하세요.')\n",
    "        continue\n",
    "    count += 1\n",
    "    input_no = int(input_no)\n",
    "    if com == input_no:\n",
    "        print(f'정답입니다. {count}번만에 맞추셨습니다.')\n",
    "        break\n",
    "    elif com > input_no :\n",
    "        print(f'{count}번째 시도 - 더 큰수를 입력하세요')\n",
    "    else:\n",
    "        print(f'{count}번째 시도 - 더 작은수를 입력하세요')"
   ]
  },
  {
   "cell_type": "raw",
   "id": "fd56cd0c-e2f0-4503-80ab-e9cae57b8b10",
   "metadata": {},
   "source": [
    "quiz 02 사칙연산 계산기 \n",
    "입력은 : 숫자 연산자 숫자(빈 문자열이 들어오면 프로그램을 종료함,그 전까지는 무한 반복)\n",
    "연산자는 + - * / 만 가능"
   ]
  },
  {
   "cell_type": "code",
   "execution_count": 58,
   "id": "4487ff47-574e-466a-b8af-9a95753aad41",
   "metadata": {},
   "outputs": [
    {
     "name": "stdin",
     "output_type": "stream",
     "text": [
      "계산식 입력(1 + 1) >>> (공백:종료) 2 * 4\n"
     ]
    },
    {
     "name": "stdout",
     "output_type": "stream",
     "text": [
      "8\n"
     ]
    },
    {
     "name": "stdin",
     "output_type": "stream",
     "text": [
      "계산식 입력(1 + 1) >>> (공백:종료) \n"
     ]
    },
    {
     "name": "stdout",
     "output_type": "stream",
     "text": [
      "프로그램 종료\n"
     ]
    }
   ],
   "source": [
    "while True:\n",
    "    user_input = input('계산식 입력(1 + 1) >>> (공백:종료)')\n",
    "    if user_input == '':\n",
    "        print('프로그램 종료')\n",
    "        break\n",
    "    else:\n",
    "        quiz = user_input.split()\n",
    "        if len(quiz)==3:\n",
    "            x = int(quiz[0])\n",
    "            y = int(quiz[2])\n",
    "            if quiz[1] == '+':\n",
    "                print(x+y)\n",
    "            elif quiz[1] == '-':\n",
    "                print(x-y)\n",
    "            elif quiz[1] == '*':\n",
    "                print(x*y)\n",
    "            elif quiz[1] == '/':\n",
    "                print(x/y)\n",
    "        else:\n",
    "            print('입력이 올바르지 않습니다.')\n",
    "        "
   ]
  },
  {
   "cell_type": "code",
   "execution_count": 60,
   "id": "070208d1-e9db-4baf-ad4f-25bc37ffc635",
   "metadata": {},
   "outputs": [
    {
     "name": "stdin",
     "output_type": "stream",
     "text": [
      "계산식 입력 >>> (공백:종료) 1*2\n"
     ]
    },
    {
     "name": "stdout",
     "output_type": "stream",
     "text": [
      "2\n"
     ]
    },
    {
     "name": "stdin",
     "output_type": "stream",
     "text": [
      "계산식 입력 >>> (공백:종료) 45-2\n"
     ]
    },
    {
     "name": "stdout",
     "output_type": "stream",
     "text": [
      "43\n"
     ]
    },
    {
     "name": "stdin",
     "output_type": "stream",
     "text": [
      "계산식 입력 >>> (공백:종료) 78/2\n"
     ]
    },
    {
     "name": "stdout",
     "output_type": "stream",
     "text": [
      "39.0\n"
     ]
    },
    {
     "name": "stdin",
     "output_type": "stream",
     "text": [
      "계산식 입력 >>> (공백:종료) \n"
     ]
    },
    {
     "name": "stdout",
     "output_type": "stream",
     "text": [
      "프로그램 종료\n"
     ]
    }
   ],
   "source": [
    "while True:\n",
    "    user_input = input('계산식 입력 >>> (공백:종료)')\n",
    "    if user_input == '':\n",
    "        print('프로그램 종료')\n",
    "        break\n",
    "    else:\n",
    "        print(eval(user_input))"
   ]
  },
  {
   "cell_type": "raw",
   "id": "3e029cb3-ae98-48f3-997f-4f6a36b78e19",
   "metadata": {},
   "source": [
    "quiz 03 시간체크"
   ]
  },
  {
   "cell_type": "code",
   "execution_count": 67,
   "id": "11f5522f-1984-40d5-a572-ab634bd99e16",
   "metadata": {},
   "outputs": [],
   "source": [
    "import time"
   ]
  },
  {
   "cell_type": "code",
   "execution_count": 68,
   "id": "97f713b7-c5ac-4324-b9c8-51429d2ade77",
   "metadata": {},
   "outputs": [],
   "source": [
    "time1 = time.time()"
   ]
  },
  {
   "cell_type": "code",
   "execution_count": 69,
   "id": "a3dfe8a4-a4e1-4bb1-b6ed-b2f4660ac99e",
   "metadata": {},
   "outputs": [],
   "source": [
    "time2 = time.time()"
   ]
  },
  {
   "cell_type": "code",
   "execution_count": 70,
   "id": "48e11d87-0f91-441a-b7e3-76061f92816f",
   "metadata": {},
   "outputs": [
    {
     "data": {
      "text/plain": [
       "12.946446657180786"
      ]
     },
     "execution_count": 70,
     "metadata": {},
     "output_type": "execute_result"
    }
   ],
   "source": [
    "time2-time1"
   ]
  },
  {
   "cell_type": "code",
   "execution_count": 71,
   "id": "5da814c5-15df-4436-89cd-3573eab50e89",
   "metadata": {},
   "outputs": [],
   "source": [
    "# 시간차이 5초에 근접하기\n",
    "# 게임은 enter키를 입력하면 시작하고 5초정도 후에 다시 enter을 입력해서 5초와 차이를 출력한다."
   ]
  },
  {
   "cell_type": "code",
   "execution_count": 74,
   "id": "bb93c267-ea42-428c-aff2-03c50f60e06e",
   "metadata": {},
   "outputs": [
    {
     "name": "stdin",
     "output_type": "stream",
     "text": [
      "시작 \n",
      "5초후 enter \n"
     ]
    },
    {
     "name": "stdout",
     "output_type": "stream",
     "text": [
      "4.2초 차이\n"
     ]
    }
   ],
   "source": [
    "input('시작')\n",
    "start = time.time()\n",
    "input('5초후 enter')\n",
    "end = time.time()\n",
    "print(f'{abs(end-start):.1f}초 차이')"
   ]
  },
  {
   "cell_type": "code",
   "execution_count": 75,
   "id": "5cf18310-0bd0-4de1-a4cc-eb4fe4030516",
   "metadata": {},
   "outputs": [],
   "source": [
    "# 시간차이 5초에 근접하기\n",
    "# 게임은 enter키를 입력하면 시작하고 5초정도 후에 다시 enter을 입력해서 5초와 차이를 출력한다.\n",
    "# 원하는 만큼 시도할수 있고, 그중에서 시간차가 작은 기록을 출력한다.\n",
    "# q를 입력하면 종료"
   ]
  },
  {
   "cell_type": "code",
   "execution_count": 79,
   "id": "a62c0f33-f9ee-4de3-b630-fedbeb650261",
   "metadata": {
    "collapsed": true,
    "jupyter": {
     "outputs_hidden": true
    },
    "tags": []
   },
   "outputs": [
    {
     "name": "stdin",
     "output_type": "stream",
     "text": [
      "1번째 시도 : 시작! (종료:Q) \n",
      "5초 후에 enter를 누릅니다. \n",
      "2번째 시도 : 시작! (종료:Q) \n",
      "5초 후에 enter를 누릅니다. \n",
      "3번째 시도 : 시작! (종료:Q) \n",
      "5초 후에 enter를 누릅니다. \n",
      "4번째 시도 : 시작! (종료:Q) q\n"
     ]
    },
    {
     "name": "stdout",
     "output_type": "stream",
     "text": [
      "게임 종료\n",
      "시간: [0.7240133285522461, 4.207455396652222, 1.5342023372650146]\n",
      "시간차이: [4.275986671447754, 0.7925446033477783, 3.4657976627349854]\n",
      "4.207455396652222\n",
      "0.7925446033477783\n"
     ]
    }
   ],
   "source": [
    "time_diff=[]\n",
    "count = 0\n",
    "while True:\n",
    "    count += 1\n",
    "    menu = input(str(count)+'번째 시도 : 시작! (종료:Q)')\n",
    "    if menu.upper() == 'Q':\n",
    "        print('게임 종료')\n",
    "        break\n",
    "    start = time.time()\n",
    "    input('5초 후에 enter를 누릅니다.')\n",
    "    end = time.time()\n",
    "    time_diff.append(end-start)\n",
    "    \n",
    "if len(time_diff) == 0:\n",
    "    print('저장된 정보가 없습니다.')\n",
    "else:\n",
    "    print('시간:',time_diff)\n",
    "    time_diff1 = [data - 5 for data in time_diff]\n",
    "    result = list(map(abs,time_diff1))\n",
    "    print('시간차이:',result)\n",
    "    index = result.index(min(result))\n",
    "    print(time_diff[index])\n",
    "    print(result[index])"
   ]
  },
  {
   "cell_type": "raw",
   "id": "d6dc80e6-16e2-4661-84b1-fd7784cd8c50",
   "metadata": {},
   "source": [
    "quiz 04 사칙연산 맞추기\n",
    "컴퓨터가 랜덤으로 사칙연산 문제를 출제하면 답을 맞추면 됩니다.\n",
    "이때 나누기 문제는 정수로 변환해서 처리합니다.\n",
    "문제 출제는 총 5문제가 출제되고 끝나면 맞춘 문제수를 출력합니다."
   ]
  },
  {
   "cell_type": "code",
   "execution_count": 100,
   "id": "735bc86d-b403-4fc0-88de-705102d5814c",
   "metadata": {},
   "outputs": [
    {
     "data": {
      "text/plain": [
       "'+'"
      ]
     },
     "execution_count": 100,
     "metadata": {},
     "output_type": "execute_result"
    }
   ],
   "source": [
    "oper = ['+','-','*','/']\n",
    "oper[random.randint(0,3)]"
   ]
  },
  {
   "cell_type": "code",
   "execution_count": 112,
   "id": "5dc6d8a7-dc30-44f0-81cb-eac29a0c635a",
   "metadata": {},
   "outputs": [
    {
     "data": {
      "text/plain": [
       "'+'"
      ]
     },
     "execution_count": 112,
     "metadata": {},
     "output_type": "execute_result"
    }
   ],
   "source": [
    "random.choice(oper)"
   ]
  },
  {
   "cell_type": "code",
   "execution_count": 114,
   "id": "6575a952-1429-4758-a4c8-c2ae8bced512",
   "metadata": {
    "collapsed": true,
    "jupyter": {
     "outputs_hidden": true
    },
    "tags": []
   },
   "outputs": [
    {
     "name": "stdout",
     "output_type": "stream",
     "text": [
      "31/47 =\n"
     ]
    },
    {
     "name": "stdin",
     "output_type": "stream",
     "text": [
      "정답 >>> 12\n"
     ]
    },
    {
     "name": "stdout",
     "output_type": "stream",
     "text": [
      "오답!\n",
      "24/30 =\n"
     ]
    },
    {
     "name": "stdin",
     "output_type": "stream",
     "text": [
      "정답 >>> 22\n"
     ]
    },
    {
     "name": "stdout",
     "output_type": "stream",
     "text": [
      "오답!\n",
      "35*5 =\n"
     ]
    },
    {
     "name": "stdin",
     "output_type": "stream",
     "text": [
      "정답 >>> 175\n"
     ]
    },
    {
     "name": "stdout",
     "output_type": "stream",
     "text": [
      "정답!\n",
      "13-19 =\n"
     ]
    },
    {
     "name": "stdin",
     "output_type": "stream",
     "text": [
      "정답 >>> 1\n"
     ]
    },
    {
     "name": "stdout",
     "output_type": "stream",
     "text": [
      "오답!\n",
      "26-18 =\n"
     ]
    },
    {
     "name": "stdin",
     "output_type": "stream",
     "text": [
      "정답 >>> 25\n"
     ]
    },
    {
     "name": "stdout",
     "output_type": "stream",
     "text": [
      "오답!\n",
      "1 개 맞춤\n"
     ]
    }
   ],
   "source": [
    "import random,time\n",
    "\n",
    "count = 0\n",
    "oper = ['+','-','*','/']\n",
    "\n",
    "for i in range(5):\n",
    "    a = random.randint(1,50)\n",
    "    b = random.randint(1,50)\n",
    "    op = random.choice(oper)\n",
    "    quiz = str(a) + op + str(b)\n",
    "    print(quiz,'=')\n",
    "    result = int(input('정답 >>>'))\n",
    "    if int(eval(quiz)) == result:\n",
    "        print('정답!')\n",
    "        count += 1\n",
    "    else:\n",
    "        print('오답!')\n",
    "print(count,'개 맞춤')"
   ]
  },
  {
   "cell_type": "code",
   "execution_count": null,
   "id": "0a15a0e1-4d54-4d6a-a771-0396eac1cb1a",
   "metadata": {},
   "outputs": [],
   "source": [
    "#정렬하기\n",
    "#list.sort()\n",
    "#sorted()"
   ]
  },
  {
   "cell_type": "code",
   "execution_count": 115,
   "id": "749a3e20-6240-4308-ab15-9267f158a1d0",
   "metadata": {},
   "outputs": [],
   "source": [
    "data1 = [1,3,6,2,8,5]\n",
    "data2 = ['b','u','a','c']"
   ]
  },
  {
   "cell_type": "code",
   "execution_count": 116,
   "id": "4f656c9f-0afb-4c61-b369-cb6b0bb18dee",
   "metadata": {},
   "outputs": [
    {
     "data": {
      "text/plain": [
       "[1, 2, 3, 5, 6, 8]"
      ]
     },
     "execution_count": 116,
     "metadata": {},
     "output_type": "execute_result"
    }
   ],
   "source": [
    "data1.sort()\n",
    "data1"
   ]
  },
  {
   "cell_type": "code",
   "execution_count": 118,
   "id": "d78b18bc-3e27-4332-94a5-697a7b1f227a",
   "metadata": {},
   "outputs": [
    {
     "data": {
      "text/plain": [
       "['a', 'b', 'c', 'u']"
      ]
     },
     "execution_count": 118,
     "metadata": {},
     "output_type": "execute_result"
    }
   ],
   "source": [
    "data2.sort()\n",
    "data2"
   ]
  },
  {
   "cell_type": "code",
   "execution_count": 126,
   "id": "1cfbf4ac-5213-4955-bd20-4168a42bcc97",
   "metadata": {},
   "outputs": [],
   "source": [
    "dic1 = {2:'c',5:'v',1:'e',8:'b',3:'d'}\n",
    "tup1 = (4,2,7,3,1,5)\n",
    "set1 = {6,9,3,5,2,0,1}\n",
    "student = [('jone','A',15),\n",
    "           ('jane','B',12),\n",
    "           ('dave','B',10)]"
   ]
  },
  {
   "cell_type": "code",
   "execution_count": 124,
   "id": "90e44a4d-12ec-4151-a562-b53ed364d6b3",
   "metadata": {},
   "outputs": [
    {
     "data": {
      "text/plain": [
       "[8, 5, 3, 2, 1]"
      ]
     },
     "execution_count": 124,
     "metadata": {},
     "output_type": "execute_result"
    }
   ],
   "source": [
    "sorted(dic1,reverse=True)"
   ]
  },
  {
   "cell_type": "code",
   "execution_count": 122,
   "id": "faa0a87a-232d-4e71-a858-133a4564374c",
   "metadata": {},
   "outputs": [
    {
     "data": {
      "text/plain": [
       "[1, 2, 3, 4, 5, 7]"
      ]
     },
     "execution_count": 122,
     "metadata": {},
     "output_type": "execute_result"
    }
   ],
   "source": [
    "sorted(tup1)"
   ]
  },
  {
   "cell_type": "code",
   "execution_count": 123,
   "id": "52452b02-ba99-472a-b9ae-c9f11c7eb8fc",
   "metadata": {},
   "outputs": [
    {
     "data": {
      "text/plain": [
       "[0, 1, 2, 3, 5, 6, 9]"
      ]
     },
     "execution_count": 123,
     "metadata": {},
     "output_type": "execute_result"
    }
   ],
   "source": [
    "sorted(set1)"
   ]
  },
  {
   "cell_type": "code",
   "execution_count": 125,
   "id": "55611c4b-43bf-4ace-9110-0e5834f7fa99",
   "metadata": {},
   "outputs": [
    {
     "data": {
      "text/plain": [
       "{2: 'c', 5: 'v', 1: 'e', 8: 'b', 3: 'd'}"
      ]
     },
     "execution_count": 125,
     "metadata": {},
     "output_type": "execute_result"
    }
   ],
   "source": [
    "dic1"
   ]
  },
  {
   "cell_type": "code",
   "execution_count": 127,
   "id": "666708a5-8789-422f-a8a0-b0af4f7952e1",
   "metadata": {},
   "outputs": [
    {
     "data": {
      "text/plain": [
       "[('dave', 'B', 10), ('jane', 'B', 12), ('jone', 'A', 15)]"
      ]
     },
     "execution_count": 127,
     "metadata": {},
     "output_type": "execute_result"
    }
   ],
   "source": [
    "sorted(student)"
   ]
  },
  {
   "cell_type": "code",
   "execution_count": 129,
   "id": "34644b34-7de3-460e-bd0c-1b6efe39b2b9",
   "metadata": {},
   "outputs": [
    {
     "data": {
      "text/plain": [
       "[(5, 'v'), (1, 'e'), (3, 'd'), (2, 'c'), (8, 'b')]"
      ]
     },
     "execution_count": 129,
     "metadata": {},
     "output_type": "execute_result"
    }
   ],
   "source": [
    "#람다식이용\n",
    "sorted(dic1.items(),key=lambda x : x[1],reverse=True)"
   ]
  },
  {
   "cell_type": "code",
   "execution_count": 141,
   "id": "5982e774-c171-4332-9884-d4b670d012bd",
   "metadata": {},
   "outputs": [
    {
     "data": {
      "text/plain": [
       "[('jone', 'A', 15), ('jane', 'B', 12), ('dave', 'B', 10)]"
      ]
     },
     "execution_count": 141,
     "metadata": {},
     "output_type": "execute_result"
    }
   ],
   "source": [
    "sorted(student,key=lambda x:(x[1],-x[2]))"
   ]
  },
  {
   "cell_type": "code",
   "execution_count": 138,
   "id": "4f391b6b-cd4d-402f-a8fe-9024079debb6",
   "metadata": {},
   "outputs": [
    {
     "data": {
      "text/plain": [
       "[('jone', 'A', 15), ('dave', 'B', 10), ('jane', 'B', 12)]"
      ]
     },
     "execution_count": 138,
     "metadata": {},
     "output_type": "execute_result"
    }
   ],
   "source": [
    "# itemgetter\n",
    "from operator import itemgetter\n",
    "sorted(student,key=itemgetter(1,-2))"
   ]
  },
  {
   "cell_type": "code",
   "execution_count": 136,
   "id": "d3c85375-f500-4d30-8290-d8bb4f1c67f8",
   "metadata": {},
   "outputs": [
    {
     "data": {
      "text/plain": [
       "[('dave', 'B', 10), ('jane', 'B', 12), ('jone', 'A', 15)]"
      ]
     },
     "execution_count": 136,
     "metadata": {},
     "output_type": "execute_result"
    }
   ],
   "source": [
    "def multisort(xs,specs):\n",
    "    for key, reverse in reversed(specs):\n",
    "        xs.sort(key=itemgetter(key),reverse=reverse)\n",
    "    return xs\n",
    "\n",
    "multisort(student,((1,True),(2,False)))"
   ]
  },
  {
   "cell_type": "code",
   "execution_count": null,
   "id": "88afafa1-dcac-4331-91a3-90e03857085d",
   "metadata": {
    "tags": []
   },
   "outputs": [],
   "source": [
    "# 시간체크 기능 추가\n",
    "# 무한반복 처리하고 종료 메뉴 추가\n",
    "# 사용자이름, 시간, 정답갯수 저장\n",
    "# 순위출력 - 정답수(큰값),걸린시간(작은값)"
   ]
  },
  {
   "cell_type": "code",
   "execution_count": 142,
   "id": "32a1f3f7-8a68-4577-b902-b9df59382b0a",
   "metadata": {
    "collapsed": true,
    "jupyter": {
     "outputs_hidden": true
    },
    "tags": []
   },
   "outputs": [
    {
     "name": "stdout",
     "output_type": "stream",
     "text": [
      "45-1 =\n"
     ]
    },
    {
     "name": "stdin",
     "output_type": "stream",
     "text": [
      "정답 >>> 44\n"
     ]
    },
    {
     "name": "stdout",
     "output_type": "stream",
     "text": [
      "정답!\n",
      "4-21 =\n"
     ]
    },
    {
     "name": "stdin",
     "output_type": "stream",
     "text": [
      "정답 >>> -19\n"
     ]
    },
    {
     "name": "stdout",
     "output_type": "stream",
     "text": [
      "오답!\n",
      "2/4 =\n"
     ]
    },
    {
     "name": "stdin",
     "output_type": "stream",
     "text": [
      "정답 >>> 2\n"
     ]
    },
    {
     "name": "stdout",
     "output_type": "stream",
     "text": [
      "오답!\n",
      "36/31 =\n"
     ]
    },
    {
     "name": "stdin",
     "output_type": "stream",
     "text": [
      "정답 >>> 1\n"
     ]
    },
    {
     "name": "stdout",
     "output_type": "stream",
     "text": [
      "정답!\n",
      "16/6 =\n"
     ]
    },
    {
     "name": "stdin",
     "output_type": "stream",
     "text": [
      "정답 >>> 2\n"
     ]
    },
    {
     "name": "stdout",
     "output_type": "stream",
     "text": [
      "정답!\n",
      "3 개 맞춤 걸린시간:16.68\n"
     ]
    },
    {
     "name": "stdin",
     "output_type": "stream",
     "text": [
      "등록할 이름 >>> aaa\n"
     ]
    },
    {
     "name": "stdout",
     "output_type": "stream",
     "text": [
      "1등 ['sunjo', 4, 12.138150453567505]\n",
      "2등 ['ooo', 3, 5.9696044921875]\n",
      "3등 ['kkk', 3, 6.9696044921875]\n",
      "4등 ['aaa', 3, 16.678706645965576]\n"
     ]
    },
    {
     "name": "stdin",
     "output_type": "stream",
     "text": [
      "종료(Q),계속(Enter) q\n"
     ]
    }
   ],
   "source": [
    "import random,time\n",
    "\n",
    "rank =[['sunjo', 4, 12.138150453567505], ['kkk', 3, 6.9696044921875], ['ooo', 3, 5.9696044921875]]\n",
    "oper = ['+','-','*','/']\n",
    "while True:\n",
    "    count = 0\n",
    "    start = time.time()\n",
    "    for i in range(5):\n",
    "        a = random.randint(1,50)\n",
    "        b = random.randint(1,50)\n",
    "        op = random.choice(oper)\n",
    "        quiz = str(a) + op + str(b)\n",
    "        print(quiz,'=')\n",
    "        result = int(input('정답 >>>'))\n",
    "        if int(eval(quiz)) == result:\n",
    "            print('정답!')\n",
    "            count += 1\n",
    "        else:\n",
    "            print('오답!')\n",
    "    end = time.time()\n",
    "    print(count,'개 맞춤',f'걸린시간:{end-start:.2f}')\n",
    "    name = input('등록할 이름 >>>')\n",
    "    rank.append([name,count,end-start])\n",
    "    result = sorted(rank,key=lambda x :(-x[1],x[2]))\n",
    "    for i, item in enumerate(result):\n",
    "        print(f'{i+1}등 {item}')\n",
    "    if 'Q' == input('종료(Q),계속(Enter)').upper():\n",
    "        break"
   ]
  },
  {
   "cell_type": "code",
   "execution_count": 143,
   "id": "d644f2c0-8b79-404a-a524-3b3309a9defa",
   "metadata": {},
   "outputs": [],
   "source": [
    "## 커피자판기 메뉴 입력 프로그램\n",
    "coffee = {'아메리카노':3000}\n",
    "# 메뉴 입력\n",
    "# 메뉴 삭제\n",
    "# 메뉴 수정\n",
    "# 메뉴 리스트 "
   ]
  },
  {
   "cell_type": "code",
   "execution_count": null,
   "id": "12808c12-dd13-4afd-aef7-0b61c84aebdd",
   "metadata": {},
   "outputs": [],
   "source": [
    "while True:\n",
    "    display = '''\n",
    "---------------------------------------------------------------------\n",
    "1. 메뉴입력   2. 메뉴삭제   3. 메뉴 수정   4. 메뉴리스트  5. 종료\n",
    "---------------------------------------------------------------------\n",
    ">>> '''\n",
    "    menu = input(display)\n",
    "    if menu == '5':\n",
    "        print('프로그램 종료')\n",
    "        break\n",
    "    elif menu == '1':    \n",
    "        pass\n",
    "    elif menu == '2':  \n",
    "        pass\n",
    "    elif menu == '3':    \n",
    "        pass\n",
    "    elif menu == '4':    \n",
    "        pass"
   ]
  }
 ],
 "metadata": {
  "kernelspec": {
   "display_name": "Python 3 (ipykernel)",
   "language": "python",
   "name": "python3"
  },
  "language_info": {
   "codemirror_mode": {
    "name": "ipython",
    "version": 3
   },
   "file_extension": ".py",
   "mimetype": "text/x-python",
   "name": "python",
   "nbconvert_exporter": "python",
   "pygments_lexer": "ipython3",
   "version": "3.9.7"
  }
 },
 "nbformat": 4,
 "nbformat_minor": 5
}
