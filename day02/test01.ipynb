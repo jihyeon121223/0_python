{
 "cells": [
  {
   "cell_type": "code",
   "execution_count": 1,
   "id": "dc49d850-3c24-405b-9e0f-90a92e264f07",
   "metadata": {},
   "outputs": [
    {
     "data": {
      "text/plain": [
       "[]"
      ]
     },
     "execution_count": 1,
     "metadata": {},
     "output_type": "execute_result"
    }
   ],
   "source": [
    "a=[]\n",
    "a"
   ]
  },
  {
   "cell_type": "code",
   "execution_count": 2,
   "id": "e4afe049-bf18-4e32-ba95-0315fc4ed6ae",
   "metadata": {},
   "outputs": [
    {
     "data": {
      "text/plain": [
       "[]"
      ]
     },
     "execution_count": 2,
     "metadata": {},
     "output_type": "execute_result"
    }
   ],
   "source": [
    "a1=list()\n",
    "a1"
   ]
  },
  {
   "cell_type": "code",
   "execution_count": 6,
   "id": "cdd3153d-39de-4296-bdd6-ef28fd8d4aa1",
   "metadata": {},
   "outputs": [
    {
     "data": {
      "text/plain": [
       "list"
      ]
     },
     "execution_count": 6,
     "metadata": {},
     "output_type": "execute_result"
    }
   ],
   "source": [
    "a=[1,2,3,'d',['f',['f']]]\n",
    "a\n",
    "type(a)"
   ]
  },
  {
   "cell_type": "code",
   "execution_count": 10,
   "id": "cc6f13b2-7eb9-479c-9126-6c4d2f02e1a9",
   "metadata": {},
   "outputs": [
    {
     "data": {
      "text/plain": [
       "'g'"
      ]
     },
     "execution_count": 10,
     "metadata": {},
     "output_type": "execute_result"
    }
   ],
   "source": [
    "a=[1,2,['f','3',['r','g']]]\n",
    "a[2][2][-1]"
   ]
  },
  {
   "cell_type": "code",
   "execution_count": 11,
   "id": "bc1fb482-1a0c-4b25-b034-a0265e6f6157",
   "metadata": {},
   "outputs": [
    {
     "data": {
      "text/plain": [
       "3"
      ]
     },
     "execution_count": 11,
     "metadata": {},
     "output_type": "execute_result"
    }
   ],
   "source": [
    "len(a)"
   ]
  },
  {
   "cell_type": "code",
   "execution_count": 12,
   "id": "b531c3bd-9545-46f4-a7bb-793b9c36010a",
   "metadata": {},
   "outputs": [
    {
     "data": {
      "text/plain": [
       "2"
      ]
     },
     "execution_count": 12,
     "metadata": {},
     "output_type": "execute_result"
    }
   ],
   "source": [
    "len(a[2][2])"
   ]
  },
  {
   "cell_type": "code",
   "execution_count": 15,
   "id": "d86f51a1-b9ee-40a2-939d-32607906c5ce",
   "metadata": {},
   "outputs": [
    {
     "data": {
      "text/plain": [
       "1"
      ]
     },
     "execution_count": 15,
     "metadata": {},
     "output_type": "execute_result"
    }
   ],
   "source": [
    "len(a[2][1])"
   ]
  },
  {
   "cell_type": "code",
   "execution_count": 16,
   "id": "1f0ade5f-d35c-401d-93d8-4d928e654e3f",
   "metadata": {},
   "outputs": [
    {
     "data": {
      "text/plain": [
       "'g'"
      ]
     },
     "execution_count": 16,
     "metadata": {},
     "output_type": "execute_result"
    }
   ],
   "source": [
    "a[2][2][-1]"
   ]
  },
  {
   "cell_type": "code",
   "execution_count": 22,
   "id": "87cf4225-df39-4001-afbb-520c384c86da",
   "metadata": {},
   "outputs": [
    {
     "data": {
      "text/plain": [
       "1"
      ]
     },
     "execution_count": 22,
     "metadata": {},
     "output_type": "execute_result"
    }
   ],
   "source": [
    "a=[1,2,['f','3','1',['r','g','y''t']]]\n",
    "len(a[2][2])"
   ]
  },
  {
   "cell_type": "code",
   "execution_count": 25,
   "id": "f9e317c9-a9f0-4dba-9214-944416dc1d18",
   "metadata": {},
   "outputs": [],
   "source": [
    "a=[1,2,['f','3','1',['r','g','y''t']]]\n",
    "len=(a)"
   ]
  },
  {
   "cell_type": "code",
   "execution_count": 26,
   "id": "3b58a573-b7e9-4afb-a79b-ffde959268e8",
   "metadata": {},
   "outputs": [
    {
     "data": {
      "text/plain": [
       "['r', 'g']"
      ]
     },
     "execution_count": 26,
     "metadata": {},
     "output_type": "execute_result"
    }
   ],
   "source": [
    "a=[1,2,['f','3',['r','g']]]\n",
    "a[2][-1]"
   ]
  },
  {
   "cell_type": "code",
   "execution_count": 27,
   "id": "a7dbe4d2-55be-43fe-b458-40fc30ad864e",
   "metadata": {},
   "outputs": [
    {
     "data": {
      "text/plain": [
       "'3'"
      ]
     },
     "execution_count": 27,
     "metadata": {},
     "output_type": "execute_result"
    }
   ],
   "source": [
    "a=[1,2,['f','3',['r','g']]]\n",
    "a[2][1]"
   ]
  },
  {
   "cell_type": "code",
   "execution_count": 28,
   "id": "f77b2e2c-e48f-43eb-b3b5-5dc19d278701",
   "metadata": {},
   "outputs": [
    {
     "data": {
      "text/plain": [
       "'f'"
      ]
     },
     "execution_count": 28,
     "metadata": {},
     "output_type": "execute_result"
    }
   ],
   "source": [
    "a=[1,2,['f','3',['r','g']]]\n",
    "a[2][0] #0/1/2로 2번에 들어가는것은 리스트[]임. 그 안에있는 것 중 0번에 들어가는 것은 f."
   ]
  },
  {
   "cell_type": "code",
   "execution_count": 31,
   "id": "9551e1c3-c2cb-4f9d-a509-cb4841b9a72f",
   "metadata": {},
   "outputs": [
    {
     "data": {
      "text/plain": [
       "'rrr'"
      ]
     },
     "execution_count": 31,
     "metadata": {},
     "output_type": "execute_result"
    }
   ],
   "source": [
    "a[2][2][0]*3 #반복"
   ]
  },
  {
   "cell_type": "code",
   "execution_count": 32,
   "id": "6712e75e-2ff5-4b55-b5cc-7dc853b64055",
   "metadata": {},
   "outputs": [],
   "source": [
    "a=[1,2,3]"
   ]
  },
  {
   "cell_type": "code",
   "execution_count": 33,
   "id": "189d2ed3-91d9-4c88-beda-3f291e093f91",
   "metadata": {},
   "outputs": [
    {
     "data": {
      "text/plain": [
       "[1, 2, 3]"
      ]
     },
     "execution_count": 33,
     "metadata": {},
     "output_type": "execute_result"
    }
   ],
   "source": [
    "a=[1,2,3]\n",
    "a"
   ]
  },
  {
   "cell_type": "code",
   "execution_count": 37,
   "id": "83c26468-8696-431b-9429-33724320de8e",
   "metadata": {},
   "outputs": [
    {
     "data": {
      "text/plain": [
       "[1, 2, 4]"
      ]
     },
     "execution_count": 37,
     "metadata": {},
     "output_type": "execute_result"
    }
   ],
   "source": [
    ">>> a = [1, 2, 3]\n",
    ">>> a[2] = 4\n",
    ">>> a"
   ]
  },
  {
   "cell_type": "code",
   "execution_count": 41,
   "id": "55fdd3ef-1693-4f64-bfc3-db3eee4c1133",
   "metadata": {},
   "outputs": [],
   "source": [
    "a = [1, 2, 3]\n",
    "del a[1]"
   ]
  },
  {
   "cell_type": "code",
   "execution_count": null,
   "id": "21e436de-c1d1-47fc-a9d0-74fc14b1e1db",
   "metadata": {},
   "outputs": [],
   "source": [
    "a=[1,2,3]"
   ]
  },
  {
   "cell_type": "code",
   "execution_count": 42,
   "id": "c52c1cbd-8173-4cb3-925e-72f61a3e762f",
   "metadata": {},
   "outputs": [
    {
     "data": {
      "text/plain": [
       "[1, 3, 5]"
      ]
     },
     "execution_count": 42,
     "metadata": {},
     "output_type": "execute_result"
    }
   ],
   "source": [
    "a.append(5)\n",
    "a"
   ]
  },
  {
   "cell_type": "code",
   "execution_count": 43,
   "id": "f2151e2b-7940-4a57-bd9a-3a64d5d3f8a7",
   "metadata": {},
   "outputs": [],
   "source": [
    "a.append([6,7])"
   ]
  },
  {
   "cell_type": "code",
   "execution_count": 44,
   "id": "02470bc2-b6f6-4c48-b661-7561747732a6",
   "metadata": {},
   "outputs": [
    {
     "data": {
      "text/plain": [
       "[1, 3, 5, [6, 7]]"
      ]
     },
     "execution_count": 44,
     "metadata": {},
     "output_type": "execute_result"
    }
   ],
   "source": [
    "a"
   ]
  },
  {
   "cell_type": "code",
   "execution_count": 49,
   "id": "340af25c-54fd-403b-919d-874d3c47a406",
   "metadata": {},
   "outputs": [],
   "source": [
    "a = [1,8,9, 2, 3]\n",
    "a.sort()"
   ]
  },
  {
   "cell_type": "code",
   "execution_count": 45,
   "id": "3e39b130-b92b-4e88-a23a-9030a99a110f",
   "metadata": {},
   "outputs": [
    {
     "data": {
      "text/plain": [
       "[1, 3, [6, 7]]"
      ]
     },
     "execution_count": 45,
     "metadata": {},
     "output_type": "execute_result"
    }
   ],
   "source": [
    "a = [1, 2, 3]\n",
    "del a[1]\n",
    "a.append([6,7])\n",
    "a"
   ]
  },
  {
   "cell_type": "code",
   "execution_count": 46,
   "id": "db97ee84-95d2-4af0-9054-83c6cf7689c5",
   "metadata": {},
   "outputs": [
    {
     "data": {
      "text/plain": [
       "[1, 3, [6, 7], 8, 9]"
      ]
     },
     "execution_count": 46,
     "metadata": {},
     "output_type": "execute_result"
    }
   ],
   "source": [
    "a = [1, 2, 3]\n",
    "del a[1]\n",
    "a.append([6,7])\n",
    "a.extend([8,9])\n",
    "a"
   ]
  },
  {
   "cell_type": "code",
   "execution_count": 47,
   "id": "34463a55-45ed-4d1f-af7b-572968b4431b",
   "metadata": {},
   "outputs": [
    {
     "ename": "TypeError",
     "evalue": "'<' not supported between instances of 'list' and 'int'",
     "output_type": "error",
     "traceback": [
      "\u001b[1;31m---------------------------------------------------------------------------\u001b[0m",
      "\u001b[1;31mTypeError\u001b[0m                                 Traceback (most recent call last)",
      "\u001b[1;32m~\\AppData\\Local\\Temp/ipykernel_11992/2629139315.py\u001b[0m in \u001b[0;36m<module>\u001b[1;34m\u001b[0m\n\u001b[1;32m----> 1\u001b[1;33m \u001b[0ma\u001b[0m\u001b[1;33m.\u001b[0m\u001b[0msort\u001b[0m\u001b[1;33m(\u001b[0m\u001b[1;33m)\u001b[0m\u001b[1;33m\u001b[0m\u001b[1;33m\u001b[0m\u001b[0m\n\u001b[0m",
      "\u001b[1;31mTypeError\u001b[0m: '<' not supported between instances of 'list' and 'int'"
     ]
    }
   ],
   "source": [
    "a.sort()"
   ]
  },
  {
   "cell_type": "code",
   "execution_count": 53,
   "id": "5638c688-1e5a-49dc-9abe-fc38ca7780d6",
   "metadata": {},
   "outputs": [
    {
     "data": {
      "text/plain": [
       "[9, 8, 3, 2, 1]"
      ]
     },
     "execution_count": 53,
     "metadata": {},
     "output_type": "execute_result"
    }
   ],
   "source": [
    "a = [1,8,9, 2, 3]\n",
    "a.sort(reverse=True) #시프트+탭눌럿 ()안에 뭐 들어가는지 알 수 있음. 역순나열 간단하게 쓴거.\n",
    "a"
   ]
  },
  {
   "cell_type": "code",
   "execution_count": null,
   "id": "8840b43d-1a94-4a60-a92c-186024d4f060",
   "metadata": {},
   "outputs": [],
   "source": []
  },
  {
   "cell_type": "code",
   "execution_count": 51,
   "id": "5e8ebc71-48e2-41ad-a386-73477ca28bee",
   "metadata": {},
   "outputs": [
    {
     "data": {
      "text/plain": [
       "[9, 8, 3, 2, 1]"
      ]
     },
     "execution_count": 51,
     "metadata": {},
     "output_type": "execute_result"
    }
   ],
   "source": [
    "a = [1,8,9, 2, 3]\n",
    "a.sort() #같은 타입의 정보가 들어가야 함. []가 들어가면 에러.\n",
    "a.reverse() #역순\n",
    "a"
   ]
  },
  {
   "cell_type": "code",
   "execution_count": 52,
   "id": "b250de68-f19f-4d48-b860-8d1f455a266f",
   "metadata": {},
   "outputs": [
    {
     "data": {
      "text/plain": [
       "[3, 2, 9, 8, 1]"
      ]
     },
     "execution_count": 52,
     "metadata": {},
     "output_type": "execute_result"
    }
   ],
   "source": [
    "a = [1,8,9, 2, 3]\n",
    "a.reverse() \n",
    "a"
   ]
  },
  {
   "cell_type": "code",
   "execution_count": 55,
   "id": "02da6071-0aa0-412b-ac44-36c75b472cf5",
   "metadata": {},
   "outputs": [
    {
     "data": {
      "text/plain": [
       "2"
      ]
     },
     "execution_count": 55,
     "metadata": {},
     "output_type": "execute_result"
    }
   ],
   "source": [
    "a = ['a','2','g']\n",
    "a.index('g') #index(x) 함수는 리스트에 x 값이 있으면 x의 위치 값을 돌려준다."
   ]
  },
  {
   "cell_type": "code",
   "execution_count": 56,
   "id": "5ed4fb42-c5c6-4af4-b420-edf91063376c",
   "metadata": {},
   "outputs": [
    {
     "data": {
      "text/plain": [
       "[4, 'a', '2', 'g']"
      ]
     },
     "execution_count": 56,
     "metadata": {},
     "output_type": "execute_result"
    }
   ],
   "source": [
    "a = ['a','2','g']\n",
    "a.insert(0, 4) #insert(a, b)는 리스트의 a번째 위치에 b를 삽입\n",
    "a"
   ]
  },
  {
   "cell_type": "code",
   "execution_count": 57,
   "id": "76aa3d53-e3ff-4faf-90a0-63a6da157cf2",
   "metadata": {},
   "outputs": [],
   "source": [
    "a.remove('g') #remove(x)는 리스트에서 첫 번째로 나오는 x를 삭제"
   ]
  },
  {
   "cell_type": "code",
   "execution_count": 58,
   "id": "e6edc544-f87f-4b9f-b2d8-20e7f4bfd6ea",
   "metadata": {},
   "outputs": [
    {
     "data": {
      "text/plain": [
       "[4, 'a', '2']"
      ]
     },
     "execution_count": 58,
     "metadata": {},
     "output_type": "execute_result"
    }
   ],
   "source": [
    "a"
   ]
  },
  {
   "cell_type": "code",
   "execution_count": 59,
   "id": "817679ba-10c7-4269-9ee5-19fbc2d5675f",
   "metadata": {},
   "outputs": [
    {
     "data": {
      "text/plain": [
       "[4, 'a']"
      ]
     },
     "execution_count": 59,
     "metadata": {},
     "output_type": "execute_result"
    }
   ],
   "source": [
    "a.pop() #맨 마지막 요소를 돌려주고 그 요소는 삭제\n",
    "a"
   ]
  },
  {
   "cell_type": "code",
   "execution_count": 62,
   "id": "295ca26b-6da0-4fe8-9037-9aa711f1efc8",
   "metadata": {},
   "outputs": [
    {
     "data": {
      "text/plain": [
       "[4]"
      ]
     },
     "execution_count": 62,
     "metadata": {},
     "output_type": "execute_result"
    }
   ],
   "source": [
    "a"
   ]
  },
  {
   "cell_type": "code",
   "execution_count": 63,
   "id": "769b457b-aae2-45bf-a92e-2187d7c1c0f6",
   "metadata": {},
   "outputs": [
    {
     "data": {
      "text/plain": [
       "2"
      ]
     },
     "execution_count": 63,
     "metadata": {},
     "output_type": "execute_result"
    }
   ],
   "source": [
    ">>> a = [1,2,3,1]\n",
    ">>> a.count(1) #count(x)는 리스트 안에 x가 몇 개 있는지 조사"
   ]
  },
  {
   "cell_type": "code",
   "execution_count": 66,
   "id": "20f8ac8a-b755-400d-bba3-f8298ff90163",
   "metadata": {},
   "outputs": [
    {
     "name": "stdin",
     "output_type": "stream",
     "text": [
      "name:>>> item\n",
      "no.:>>> 1\n",
      "phone:>>> 010\n",
      "age:>>> 3\n"
     ]
    },
    {
     "data": {
      "text/plain": [
       "['item', '1', '010', '3', '이름', '회원번호', '전화번호', '나이']"
      ]
     },
     "execution_count": 66,
     "metadata": {},
     "output_type": "execute_result"
    }
   ],
   "source": [
    "a=['이름','회원번호','전화번호','나이']\n",
    "a.insert(0, input('name:>>>'))\n",
    "a.insert(1, input('no.:>>>'))\n",
    "a.insert(2, input('phone:>>>'))\n",
    "a.insert(3, input('age:>>>'))\n",
    "a"
   ]
  },
  {
   "cell_type": "code",
   "execution_count": 70,
   "id": "6cbeb14e-63d3-4c0e-a3c8-1684084c1458",
   "metadata": {},
   "outputs": [
    {
     "name": "stdin",
     "output_type": "stream",
     "text": [
      "name:>>> 1\n",
      "no.:>>> 2\n",
      "phone:>>> 3\n",
      "age:>>> 4\n"
     ]
    },
    {
     "data": {
      "text/plain": [
       "['1', '2', '3', '4']"
      ]
     },
     "execution_count": 70,
     "metadata": {},
     "output_type": "execute_result"
    }
   ],
   "source": [
    "a=['이름','회원번호','전화번호','나이']\n",
    "a.insert(0, input('name:>>>'))\n",
    "a.insert(1, input('no.:>>>'))\n",
    "a.insert(2, input('phone:>>>'))\n",
    "a.insert(3, input('age:>>>'))\n",
    "del a[4:]\n",
    "a"
   ]
  },
  {
   "cell_type": "code",
   "execution_count": 77,
   "id": "cbeeb7a1-6314-4b7d-bcc9-825cb44002b3",
   "metadata": {},
   "outputs": [
    {
     "data": {
      "text/plain": [
       "[]"
      ]
     },
     "execution_count": 77,
     "metadata": {},
     "output_type": "execute_result"
    }
   ],
   "source": [
    "del a[:]\n",
    "a"
   ]
  },
  {
   "cell_type": "code",
   "execution_count": 79,
   "id": "3b4c645f-6eca-4fd3-be6b-4a7fc244a227",
   "metadata": {},
   "outputs": [
    {
     "name": "stdin",
     "output_type": "stream",
     "text": [
      "name: ㅑㅅ드\n",
      "no.: 1\n",
      "phone: 010\n",
      "age: 3\n"
     ]
    },
    {
     "data": {
      "text/plain": [
       "[]"
      ]
     },
     "execution_count": 79,
     "metadata": {},
     "output_type": "execute_result"
    }
   ],
   "source": [
    "a=['이름','회원번호','전화번호','나이']\n",
    "a.insert(0, input('name:'))\n",
    "a.insert(1, input('no.:'))\n",
    "a.insert(2, input('phone:'))\n",
    "a.insert(3, input('age:'))\n",
    "del a[:]\n",
    "a"
   ]
  },
  {
   "cell_type": "code",
   "execution_count": 81,
   "id": "cade628a-60f8-4332-ac73-59d428d7d3b8",
   "metadata": {},
   "outputs": [
    {
     "name": "stdin",
     "output_type": "stream",
     "text": [
      "name: 1\n",
      "no.: 2\n",
      "phone: 3\n",
      "age: 4\n"
     ]
    },
    {
     "data": {
      "text/plain": [
       "['1', '2', '3', '4']"
      ]
     },
     "execution_count": 81,
     "metadata": {},
     "output_type": "execute_result"
    }
   ],
   "source": [
    "a=[]\n",
    "a.insert(0, input('name:'))\n",
    "a.insert(1, input('no.:'))\n",
    "a.insert(2, input('phone:'))\n",
    "a.insert(3, input('age:'))\n",
    "a"
   ]
  },
  {
   "cell_type": "code",
   "execution_count": 95,
   "id": "53e9c3d9-f9ee-4337-a10b-c7dce9470fb5",
   "metadata": {},
   "outputs": [
    {
     "name": "stdin",
     "output_type": "stream",
     "text": [
      "name: 1\n",
      "no.: 2\n",
      "phone: 3\n",
      "age: 4\n"
     ]
    },
    {
     "data": {
      "text/plain": [
       "['1', '2', '3', '4']"
      ]
     },
     "execution_count": 95,
     "metadata": {},
     "output_type": "execute_result"
    }
   ],
   "source": [
    "a=[]\n",
    "a.insert(0, input('name:'))\n",
    "a.insert(1, input('no.:'))\n",
    "a.insert(2, input('phone:'))\n",
    "a.insert(3, input('age:'))\n",
    "a"
   ]
  },
  {
   "cell_type": "code",
   "execution_count": null,
   "id": "daede5db-7658-4857-9a91-7b1f7f10c907",
   "metadata": {},
   "outputs": [],
   "source": [
    "item=[]\n",
    "no=input('no:')\n",
    "name=input('name:')\n",
    "tel=input('tel:')\n",
    "age=input('age:')\n",
    "item.append([no,name,tel,age])\n",
    "print(item) #연속 정보 입력은 어케한거지"
   ]
  },
  {
   "cell_type": "code",
   "execution_count": null,
   "id": "a272d0e7-96ba-415a-9cf1-bf8ec3efc969",
   "metadata": {},
   "outputs": [],
   "source": [
    "item=[]"
   ]
  },
  {
   "cell_type": "code",
   "execution_count": 131,
   "id": "a2672cb0-7d33-4999-97e3-1169af937b91",
   "metadata": {},
   "outputs": [
    {
     "name": "stdin",
     "output_type": "stream",
     "text": [
      "no: 1\n",
      "name: 2\n",
      "tel: 3\n",
      "age: 4\n"
     ]
    },
    {
     "name": "stdout",
     "output_type": "stream",
     "text": [
      "[['1', '2', '3', '4'], ['1', '2', '3', '4']]\n"
     ]
    }
   ],
   "source": [
    "\n",
    "no=input('no:')\n",
    "name=input('name:')\n",
    "tel=input('tel:')\n",
    "age=input('age:')\n",
    "item.append([no,name,tel,age])\n",
    "print(item) #연속 정보 입력은 어케한거지"
   ]
  },
  {
   "cell_type": "code",
   "execution_count": 132,
   "id": "60aeb1b7-6d4b-4c87-a2f8-5c9980aaa052",
   "metadata": {},
   "outputs": [
    {
     "name": "stdin",
     "output_type": "stream",
     "text": [
      "no: 5\n",
      "name: 6\n",
      "tel: 7\n",
      "age: 8\n"
     ]
    },
    {
     "name": "stdout",
     "output_type": "stream",
     "text": [
      "[['1', '2', '3', '4'], ['1', '2', '3', '4'], ['5', '6', '7', '8']]\n"
     ]
    }
   ],
   "source": [
    "\n",
    "no=input('no:')\n",
    "name=input('name:')\n",
    "tel=input('tel:')\n",
    "age=input('age:')\n",
    "item.append([no,name,tel,age])\n",
    "print(item) #연속 정보 입력은 어케한거지"
   ]
  },
  {
   "cell_type": "code",
   "execution_count": null,
   "id": "061ae9a8-7d9f-4bde-9a7b-2f208be7b4a6",
   "metadata": {},
   "outputs": [],
   "source": []
  },
  {
   "cell_type": "code",
   "execution_count": 83,
   "id": "e26fbf23-ad89-45e2-83e9-a38fdf0dc79a",
   "metadata": {},
   "outputs": [
    {
     "name": "stdin",
     "output_type": "stream",
     "text": [
      "name: 1\n",
      "no.: 2\n",
      "phone: 3\n",
      "age: 4\n"
     ]
    }
   ],
   "source": [
    "a=[]\n",
    "a.insert(0, input('name:'))\n",
    "a.insert(1, input('no.:'))\n",
    "a.insert(2, input('phone:'))\n",
    "a.insert(3, input('age:'))\n",
    "a\n",
    "del a[:]"
   ]
  },
  {
   "cell_type": "code",
   "execution_count": 84,
   "id": "1f0ffdfb-5289-49c2-a5a2-91cb0ebba62a",
   "metadata": {},
   "outputs": [
    {
     "name": "stdin",
     "output_type": "stream",
     "text": [
      "name: item\n",
      "no.: 1\n",
      "phone: 2\n",
      "age: 3\n"
     ]
    },
    {
     "data": {
      "text/plain": [
       "['item', '1', '2', '3']"
      ]
     },
     "execution_count": 84,
     "metadata": {},
     "output_type": "execute_result"
    }
   ],
   "source": [
    "a=[]\n",
    "a.insert(0, input('name:'))\n",
    "a.insert(1, input('no.:'))\n",
    "a.insert(2, input('phone:'))\n",
    "a.insert(3, input('age:'))\n",
    "a"
   ]
  },
  {
   "cell_type": "code",
   "execution_count": 86,
   "id": "9fc38d43-499e-4914-89a4-7be45b3c22f3",
   "metadata": {},
   "outputs": [
    {
     "data": {
      "text/plain": [
       "[]"
      ]
     },
     "execution_count": 86,
     "metadata": {},
     "output_type": "execute_result"
    }
   ],
   "source": [
    "del a\n",
    "[:]\n",
    "a"
   ]
  },
  {
   "cell_type": "code",
   "execution_count": 130,
   "id": "bcdc8fcb-ff6c-4bf9-9168-332fab6eac21",
   "metadata": {},
   "outputs": [
    {
     "name": "stdin",
     "output_type": "stream",
     "text": [
      "no: 1\n",
      "name: 2\n",
      "tel: 3\n",
      "age: 4\n"
     ]
    },
    {
     "name": "stdout",
     "output_type": "stream",
     "text": [
      "[['1', '2', '3', '4']]\n"
     ]
    }
   ],
   "source": [
    "item=[]\n",
    "no=input('no:')\n",
    "name=input('name:')\n",
    "tel=input('tel:')\n",
    "age=input('age:')\n",
    "item.append([no,name,tel,age])\n",
    "print(item) #연속 정보 입력은 어케한거지"
   ]
  },
  {
   "cell_type": "code",
   "execution_count": 93,
   "id": "d584cb80-32a0-4169-a9d0-ff52c4353674",
   "metadata": {},
   "outputs": [
    {
     "data": {
      "text/plain": [
       "'1'"
      ]
     },
     "execution_count": 93,
     "metadata": {},
     "output_type": "execute_result"
    }
   ],
   "source": [
    "item[0].pop(0)"
   ]
  },
  {
   "cell_type": "code",
   "execution_count": 98,
   "id": "b8db49d1-40c1-48c2-ac01-132482be1ed2",
   "metadata": {},
   "outputs": [
    {
     "name": "stdin",
     "output_type": "stream",
     "text": [
      "no: 1\n"
     ]
    }
   ],
   "source": [
    "inputno=input('no:')"
   ]
  },
  {
   "cell_type": "code",
   "execution_count": 101,
   "id": "95395c5a-e930-4a60-97dc-e4ba05a92295",
   "metadata": {},
   "outputs": [
    {
     "name": "stdout",
     "output_type": "stream",
     "text": [
      "[1, 2, 3, 4]\n",
      "[5, 6, 7, 8]\n"
     ]
    }
   ],
   "source": [
    "item=[[1,2,3,4],[5,6,7,8]]\n",
    "\n",
    "for i in item:\n",
    "    #print(i)"
   ]
  },
  {
   "cell_type": "code",
   "execution_count": 133,
   "id": "f93677e2-9005-4cce-8983-cf564c2683bc",
   "metadata": {},
   "outputs": [
    {
     "name": "stdin",
     "output_type": "stream",
     "text": [
      "no: 1\n",
      "name: 2\n",
      "tel: 3\n",
      "age: 4\n"
     ]
    },
    {
     "name": "stdout",
     "output_type": "stream",
     "text": [
      "[['1', '2', '3', '4']]\n"
     ]
    }
   ],
   "source": [
    "item=[]\n",
    "no=input('no:')\n",
    "name=input('name:')\n",
    "tel=input('tel:')\n",
    "age=input('age:')\n",
    "item.append([no,name,tel,age])\n",
    "print(item)\n",
    "\n",
    "for i in item:\n",
    "    if inputno == i[0]:\n",
    "        item.remove(i)"
   ]
  },
  {
   "cell_type": "code",
   "execution_count": 134,
   "id": "c9124579-4c16-4466-b0ca-1320562b2999",
   "metadata": {},
   "outputs": [],
   "source": [
    "for i in item:\n",
    "    if inputno == i[0]:\n",
    "        item.remove(i)"
   ]
  },
  {
   "cell_type": "code",
   "execution_count": 135,
   "id": "0dbb3971-bfcb-4f8a-a799-fc55c369acf5",
   "metadata": {},
   "outputs": [],
   "source": [
    "item=[[1,2,3,4],[5,6,7,8]]\n",
    "for i in item:\n",
    "    if inputno == i[0]:\n",
    "        item.remove(i)"
   ]
  },
  {
   "cell_type": "code",
   "execution_count": 136,
   "id": "959b98c0-ce20-445c-8736-83010ed8bb74",
   "metadata": {},
   "outputs": [
    {
     "data": {
      "text/plain": [
       "[[1, 2, 3, 4], [5, 6, 7, 8]]"
      ]
     },
     "execution_count": 136,
     "metadata": {},
     "output_type": "execute_result"
    }
   ],
   "source": [
    "item=[[1,2,3,4],[5,6,7,8]]\n",
    "for i in item:\n",
    "    if inputno == i[0]:\n",
    "        item.remove(i)\n",
    "item"
   ]
  },
  {
   "cell_type": "code",
   "execution_count": 161,
   "id": "9467c5b2-3c87-44fd-9b63-7b71e89b6204",
   "metadata": {},
   "outputs": [
    {
     "name": "stdin",
     "output_type": "stream",
     "text": [
      "삭제할 번호: 6\n"
     ]
    },
    {
     "data": {
      "text/plain": [
       "[[1, '2', '3', '4'], [5, '6', '7', '8']]"
      ]
     },
     "execution_count": 161,
     "metadata": {},
     "output_type": "execute_result"
    }
   ],
   "source": [
    "item=[[1,'2','3','4'],[5,'6','7','8']] #숫자랑 섞였을 때 숫자 빼는법???\n",
    "inputno=input('삭제할 번호:') #무조건 첫번째 번호만 삭제되나???\n",
    "for i in item:\n",
    "    if inputno == i[0]:\n",
    "        item.remove(i)\n",
    "item"
   ]
  },
  {
   "cell_type": "code",
   "execution_count": null,
   "id": "abdff8b5-4786-418a-94f1-5c9e9f5c8daa",
   "metadata": {},
   "outputs": [],
   "source": [
    "#////////////////////////////////////////////////////////////////////////////////////////"
   ]
  },
  {
   "cell_type": "code",
   "execution_count": null,
   "id": "39c11f07-c327-4281-ae13-1f79d55fb6cc",
   "metadata": {},
   "outputs": [],
   "source": [
    "{Key1:Value1, Key2:Value2, Key3:Value3, ...}"
   ]
  },
  {
   "cell_type": "code",
   "execution_count": 106,
   "id": "f0bdf802-9dbf-4bd5-af0e-cc7117f9f6de",
   "metadata": {},
   "outputs": [
    {
     "data": {
      "text/plain": [
       "1"
      ]
     },
     "execution_count": 106,
     "metadata": {},
     "output_type": "execute_result"
    }
   ],
   "source": [
    ">>> t1 = (1, 2, 'a', 'b')\n",
    ">>> t1[0]"
   ]
  },
  {
   "cell_type": "code",
   "execution_count": 111,
   "id": "5b2b6149-e10e-497b-ad07-fcd80d1e8341",
   "metadata": {},
   "outputs": [],
   "source": [
    "t1 = (1, 2, 'a', 'b')\n",
    "t1[0]\n",
    "del t1"
   ]
  },
  {
   "cell_type": "code",
   "execution_count": 119,
   "id": "d6250e82-4d66-49fa-95e1-57307484d327",
   "metadata": {},
   "outputs": [
    {
     "data": {
      "text/plain": [
       "'pey'"
      ]
     },
     "execution_count": 119,
     "metadata": {},
     "output_type": "execute_result"
    }
   ],
   "source": [
    "dic = {'name':'pey', 'phone':'0119993323', 'birth': '1118'}\n",
    "dic['name'] #값찾기"
   ]
  },
  {
   "cell_type": "code",
   "execution_count": 114,
   "id": "3775557f-e780-4b1f-86fc-e118a0343408",
   "metadata": {},
   "outputs": [
    {
     "data": {
      "text/plain": [
       "{'name': 'pey', 'phone': ['123', '345'], 'birth': '1118'}"
      ]
     },
     "execution_count": 114,
     "metadata": {},
     "output_type": "execute_result"
    }
   ],
   "source": [
    "dic['phone']=['123','345']\n",
    "dic #값수정"
   ]
  },
  {
   "cell_type": "code",
   "execution_count": 118,
   "id": "8db6c168-2711-4016-8666-35844e8fd39f",
   "metadata": {},
   "outputs": [
    {
     "data": {
      "text/plain": [
       "{'name': 'pey', 'phone': ['123', '345'], 'birth': '1118', 'age': '5'}"
      ]
     },
     "execution_count": 118,
     "metadata": {},
     "output_type": "execute_result"
    }
   ],
   "source": [
    "dic['age']='5'\n",
    "dic #값추가"
   ]
  },
  {
   "cell_type": "code",
   "execution_count": 122,
   "id": "3c9f3698-6428-45e4-bd00-f4d8b8bbd97d",
   "metadata": {},
   "outputs": [
    {
     "data": {
      "text/plain": [
       "{'name': 'pey', 'phone': '0119993323', 'birth': '1118', 'age': '5'}"
      ]
     },
     "execution_count": 122,
     "metadata": {},
     "output_type": "execute_result"
    }
   ],
   "source": [
    "dic = {'name':'pey', 'phone':'0119993323', 'birth': '1118'}\n",
    "dic['age']='5'\n",
    "dic"
   ]
  },
  {
   "cell_type": "code",
   "execution_count": 124,
   "id": "6ae83a7f-2dad-4f20-a6c8-3440f61504a5",
   "metadata": {},
   "outputs": [
    {
     "data": {
      "text/plain": [
       "{'name': 'pey', 'phone': '0119993323', 'birth': '1118'}"
      ]
     },
     "execution_count": 124,
     "metadata": {},
     "output_type": "execute_result"
    }
   ],
   "source": [
    "del dic['age']\n",
    "dic #값삭제"
   ]
  },
  {
   "cell_type": "code",
   "execution_count": 138,
   "id": "ac2e294e-a115-4fcc-9e48-90ea058be256",
   "metadata": {},
   "outputs": [
    {
     "data": {
      "text/plain": [
       "'0'"
      ]
     },
     "execution_count": 138,
     "metadata": {},
     "output_type": "execute_result"
    }
   ],
   "source": [
    "dic['phone'][0]"
   ]
  },
  {
   "cell_type": "code",
   "execution_count": 140,
   "id": "0668fc7d-b29d-4cff-b297-875d75684b87",
   "metadata": {},
   "outputs": [
    {
     "data": {
      "text/plain": [
       "'1'"
      ]
     },
     "execution_count": 140,
     "metadata": {},
     "output_type": "execute_result"
    }
   ],
   "source": [
    "{'name': 'pey', 'phone': ['123', '345'], 'birth': '1118', 'age': '5'}\n",
    "dic['phone'][1]"
   ]
  },
  {
   "cell_type": "code",
   "execution_count": 141,
   "id": "957fe286-175c-4192-82c2-377e318e38c1",
   "metadata": {},
   "outputs": [
    {
     "data": {
      "text/plain": [
       "dict_keys(['name', 'phone', 'birth'])"
      ]
     },
     "execution_count": 141,
     "metadata": {},
     "output_type": "execute_result"
    }
   ],
   "source": [
    ">>> a = {'name': 'pey', 'phone': '0119993323', 'birth': '1118'}\n",
    ">>> a.keys() #키만 뽑아냄"
   ]
  },
  {
   "cell_type": "code",
   "execution_count": 142,
   "id": "e7b733e5-4936-480a-a79c-b6570cbcf1df",
   "metadata": {},
   "outputs": [
    {
     "data": {
      "text/plain": [
       "dict_values(['pey', '0119993323', '1118'])"
      ]
     },
     "execution_count": 142,
     "metadata": {},
     "output_type": "execute_result"
    }
   ],
   "source": [
    "a.values() #밸류만 뽑아냄"
   ]
  },
  {
   "cell_type": "code",
   "execution_count": 143,
   "id": "f83be92e-6c79-478a-8299-fba2f5404bbe",
   "metadata": {},
   "outputs": [
    {
     "data": {
      "text/plain": [
       "dict_items([('name', 'pey'), ('phone', '0119993323'), ('birth', '1118')])"
      ]
     },
     "execution_count": 143,
     "metadata": {},
     "output_type": "execute_result"
    }
   ],
   "source": [
    "a.items() #쌍으로 뽑아냄"
   ]
  },
  {
   "cell_type": "code",
   "execution_count": 145,
   "id": "a98b5e41-e0bf-4fa4-a87e-23d7db119d15",
   "metadata": {},
   "outputs": [
    {
     "data": {
      "text/plain": [
       "'pey'"
      ]
     },
     "execution_count": 145,
     "metadata": {},
     "output_type": "execute_result"
    }
   ],
   "source": [
    "a.get('name') #해당 값없으면 안뽑아냄. 에러안남. "
   ]
  },
  {
   "cell_type": "code",
   "execution_count": 151,
   "id": "eb04103f-43e5-4db5-a181-6ac6c3901769",
   "metadata": {},
   "outputs": [
    {
     "data": {
      "text/plain": [
       "{1, 2, 3}"
      ]
     },
     "execution_count": 151,
     "metadata": {},
     "output_type": "execute_result"
    }
   ],
   "source": [
    ">>> s1 = set([1,2,3,1,2,3]) #데이터를 중복없이 하나씩만 뽑아낼 때 씀. 순서는 없음. \n",
    ">>> s1 "
   ]
  },
  {
   "cell_type": "code",
   "execution_count": 150,
   "id": "a8325637-65c8-4d83-970c-ace91cb58bf9",
   "metadata": {},
   "outputs": [
    {
     "data": {
      "text/plain": [
       "set"
      ]
     },
     "execution_count": 150,
     "metadata": {},
     "output_type": "execute_result"
    }
   ],
   "source": [
    "type(s1)"
   ]
  },
  {
   "cell_type": "code",
   "execution_count": null,
   "id": "f88612e7-b43e-4f27-936a-2fa24885df2d",
   "metadata": {},
   "outputs": [],
   "source": [
    "#///////////////////////////////////////////////////"
   ]
  },
  {
   "cell_type": "code",
   "execution_count": 1,
   "id": "8e3cc631-6905-447e-a660-3897572535f0",
   "metadata": {},
   "outputs": [
    {
     "name": "stdin",
     "output_type": "stream",
     "text": [
      "주민번호>>>123456-7890123 123123-1231234\n"
     ]
    },
    {
     "name": "stdout",
     "output_type": "stream",
     "text": [
      "남\n"
     ]
    }
   ],
   "source": [
    "jumin=input('주민번호>>>123456-7890123')\n",
    "if jumin[7]=='1' or jumin[7]=='3':\n",
    "    print('남')\n",
    "elif jumin[7]=='2' or jumin[7]=='4':\n",
    "    print('여')\n",
    "else:\n",
    "    print('잘못입력')"
   ]
  },
  {
   "cell_type": "code",
   "execution_count": 188,
   "id": "6468cbb2-e4e0-4b6d-adad-985b82fdd86c",
   "metadata": {},
   "outputs": [
    {
     "ename": "NameError",
     "evalue": "name 'prompt' is not defined",
     "output_type": "error",
     "traceback": [
      "\u001b[1;31m---------------------------------------------------------------------------\u001b[0m",
      "\u001b[1;31mNameError\u001b[0m                                 Traceback (most recent call last)",
      "\u001b[1;32m~\\AppData\\Local\\Temp/ipykernel_11992/3847006770.py\u001b[0m in \u001b[0;36m<module>\u001b[1;34m\u001b[0m\n\u001b[0;32m      1\u001b[0m \u001b[0mnumber\u001b[0m \u001b[1;33m=\u001b[0m \u001b[1;36m0\u001b[0m\u001b[1;33m\u001b[0m\u001b[1;33m\u001b[0m\u001b[0m\n\u001b[0;32m      2\u001b[0m \u001b[1;32mwhile\u001b[0m \u001b[0mnumber\u001b[0m \u001b[1;33m!=\u001b[0m \u001b[1;36m4\u001b[0m\u001b[1;33m:\u001b[0m\u001b[1;33m\u001b[0m\u001b[1;33m\u001b[0m\u001b[0m\n\u001b[1;32m----> 3\u001b[1;33m     \u001b[0mprint\u001b[0m\u001b[1;33m(\u001b[0m\u001b[0mprompt\u001b[0m\u001b[1;33m)\u001b[0m\u001b[1;33m\u001b[0m\u001b[1;33m\u001b[0m\u001b[0m\n\u001b[0m\u001b[0;32m      4\u001b[0m     \u001b[0mnumber\u001b[0m \u001b[1;33m=\u001b[0m \u001b[0mint\u001b[0m\u001b[1;33m(\u001b[0m\u001b[0minput\u001b[0m\u001b[1;33m(\u001b[0m\u001b[1;33m)\u001b[0m\u001b[1;33m)\u001b[0m\u001b[1;33m\u001b[0m\u001b[1;33m\u001b[0m\u001b[0m\n",
      "\u001b[1;31mNameError\u001b[0m: name 'prompt' is not defined"
     ]
    }
   ],
   "source": [
    ">>> number = 0\n",
    ">>> while number != 4:\n",
    "...     print(prompt)\n",
    "...     number = int(input())"
   ]
  },
  {
   "cell_type": "code",
   "execution_count": 189,
   "id": "aeee3f53-6a25-4e76-ab2e-3e099bf3b300",
   "metadata": {},
   "outputs": [
    {
     "name": "stdout",
     "output_type": "stream",
     "text": [
      "나무를 1번 찍었습니다.\n",
      "나무를 2번 찍었습니다.\n",
      "나무를 3번 찍었습니다.\n",
      "나무를 4번 찍었습니다.\n",
      "나무를 5번 찍었습니다.\n",
      "나무를 6번 찍었습니다.\n",
      "나무를 7번 찍었습니다.\n",
      "나무를 8번 찍었습니다.\n",
      "나무를 9번 찍었습니다.\n",
      "나무를 10번 찍었습니다.\n",
      "나무 넘어갑니다.\n"
     ]
    }
   ],
   "source": [
    ">>> treeHit = 0\n",
    ">>> while treeHit < 10:\n",
    "...     treeHit = treeHit +1\n",
    "...     print(\"나무를 %d번 찍었습니다.\" % treeHit)\n",
    "...     if treeHit == 10:\n",
    "...         print(\"나무 넘어갑니다.\")"
   ]
  },
  {
   "cell_type": "code",
   "execution_count": 178,
   "id": "f5a72feb-a1e2-485e-8446-50b880169ac9",
   "metadata": {},
   "outputs": [
    {
     "name": "stdout",
     "output_type": "stream",
     "text": [
      "0\n",
      "1\n",
      "2\n",
      "3\n",
      "4\n",
      "5\n",
      "6\n",
      "7\n",
      "8\n",
      "9\n"
     ]
    }
   ],
   "source": [
    "i=0\n",
    "while i <10:\n",
    "    print(i) #참이므로 무한반복\n",
    "    i += 1 #i값에 1씩 늘린다 "
   ]
  },
  {
   "cell_type": "code",
   "execution_count": null,
   "id": "86626e92-0685-40c4-a0ac-4ab14ee7b220",
   "metadata": {},
   "outputs": [],
   "source": []
  },
  {
   "cell_type": "code",
   "execution_count": null,
   "id": "c34e4db9-256a-484e-94d5-43f5b7cc8dce",
   "metadata": {},
   "outputs": [],
   "source": [
    "i=0\n",
    "while i < 10:\n",
    "    print(i) \n",
    "    i += 1 # 왜 값이 안나오지?????????"
   ]
  },
  {
   "cell_type": "code",
   "execution_count": null,
   "id": "2520a8fc-7f37-4e78-b4f9-4d2400a8610a",
   "metadata": {},
   "outputs": [],
   "source": [
    "# 1-100사이 짝수 출력"
   ]
  },
  {
   "cell_type": "code",
   "execution_count": null,
   "id": "f6567b02-5d0a-41c7-9184-ee349bd2e528",
   "metadata": {},
   "outputs": [],
   "source": [
    "i=1\n",
    "while i <= 100:\n",
    "    print(i) \n",
    "    if i == i*2:\n",
    "        print(i)"
   ]
  },
  {
   "cell_type": "code",
   "execution_count": null,
   "id": "78912c80-ed6d-452d-844d-82c5e9bf35c9",
   "metadata": {},
   "outputs": [],
   "source": [
    "i=1\n",
    "while i <= 100:\n",
    "    print(i) \n",
    "    if i += 1:\n",
    "        print(i)"
   ]
  },
  {
   "cell_type": "code",
   "execution_count": null,
   "id": "0b591a3f-bfd5-494a-91cd-0eec5f7180cf",
   "metadata": {},
   "outputs": [],
   "source": []
  },
  {
   "cell_type": "code",
   "execution_count": null,
   "id": "63a17c16-e7fa-4647-8711-72fa5ff476a1",
   "metadata": {},
   "outputs": [],
   "source": [
    "i=1\n",
    "while i <= 100:\n",
    "    if i % 5 ==0: \n",
    "        print(i)\n",
    "    i += 1:"
   ]
  },
  {
   "cell_type": "code",
   "execution_count": null,
   "id": "71698d58-cd3f-4c4c-90e7-1c0c5f50f398",
   "metadata": {},
   "outputs": [],
   "source": [
    "while True:\n",
    "    if 조건:"
   ]
  },
  {
   "cell_type": "code",
   "execution_count": null,
   "id": "3900669a-e93d-4ca6-9e6b-561108b27fd2",
   "metadata": {},
   "outputs": [],
   "source": [
    "i=1\n",
    "while True:\n",
    "    if i%2 ==0:\n",
    "        break\n",
    "    print(i)\n",
    "    i +=1"
   ]
  },
  {
   "cell_type": "code",
   "execution_count": 192,
   "id": "7a265071-08ba-41fa-9c93-e7ba91e2d513",
   "metadata": {},
   "outputs": [
    {
     "name": "stdout",
     "output_type": "stream",
     "text": [
      "one\n",
      "two\n",
      "three\n"
     ]
    }
   ],
   "source": [
    ">>> test_list = ['one', 'two', 'three'] \n",
    ">>> for i in test_list: \n",
    "...     print(i)"
   ]
  },
  {
   "cell_type": "code",
   "execution_count": null,
   "id": "ab89f628-0912-41fa-9707-b97e417edd77",
   "metadata": {},
   "outputs": [
    {
     "name": "stdout",
     "output_type": "stream",
     "text": [
      "(1, 2)\n",
      "(3, 4)\n",
      "(5, 6)\n"
     ]
    }
   ],
   "source": [
    ">>> a = [(1,2), (3,4), (5,6)]\n",
    ">>> for i in a:\n",
    "...     print(i)"
   ]
  },
  {
   "cell_type": "code",
   "execution_count": 195,
   "id": "3a4f5808-5bf0-4717-be0e-35369295cf1e",
   "metadata": {},
   "outputs": [
    {
     "name": "stdout",
     "output_type": "stream",
     "text": [
      "1 2\n",
      "3 4\n",
      "5 6\n"
     ]
    }
   ],
   "source": [
    ">>> a = [(1,2), (3,4), (5,6)]\n",
    ">>> for i,j in a:\n",
    "...     print(i,j) #각각 따로 뽑기"
   ]
  },
  {
   "cell_type": "code",
   "execution_count": 196,
   "id": "55dda47f-28d3-4c7f-90c2-29c5e13a9e7c",
   "metadata": {},
   "outputs": [
    {
     "name": "stdout",
     "output_type": "stream",
     "text": [
      "0\n",
      "1\n",
      "2\n",
      "3\n",
      "4\n",
      "5\n",
      "6\n",
      "7\n",
      "8\n",
      "9\n"
     ]
    }
   ],
   "source": [
    "for i in range(10): #0~9까지 10개 만들어줌 \n",
    "    print(i)"
   ]
  },
  {
   "cell_type": "code",
   "execution_count": 197,
   "id": "447b9fcc-31ec-4c47-876f-faebafefaa26",
   "metadata": {},
   "outputs": [
    {
     "name": "stdout",
     "output_type": "stream",
     "text": [
      "1\n",
      "2\n",
      "3\n",
      "4\n",
      "5\n",
      "6\n",
      "7\n",
      "8\n",
      "9\n",
      "10\n"
     ]
    }
   ],
   "source": [
    "for i in range(1,11): #10까지 뽑고싶을때\n",
    "    print(i)"
   ]
  },
  {
   "cell_type": "code",
   "execution_count": 198,
   "id": "ee437bf5-05d3-40c3-b260-dcac8b120985",
   "metadata": {},
   "outputs": [],
   "source": [
    "#단 입력받아 구구단 출력"
   ]
  },
  {
   "cell_type": "code",
   "execution_count": 211,
   "id": "58911f3c-977c-4e3e-b7d5-d1c46b763228",
   "metadata": {},
   "outputs": [
    {
     "name": "stdin",
     "output_type": "stream",
     "text": [
      "gugu: 5\n"
     ]
    },
    {
     "name": "stdout",
     "output_type": "stream",
     "text": [
      "5*1= 5\n",
      "5*2=10\n",
      "5*3=15\n",
      "5*4=20\n",
      "5*5=25\n",
      "5*6=30\n",
      "5*7=35\n",
      "5*8=40\n",
      "5*9=45\n"
     ]
    }
   ],
   "source": [
    "a=input('gugu:') #input은 문자열을 출력하기 떄문에 숫자를 곱하려면 숫자로 바꿔라\n",
    "if a.isdecimal(): #숫자형태가 맞으면 TRUE\n",
    "    for i in range(1,10):\n",
    "        print(f'{a}*{i}={int(a)*i:2}')\n",
    "else:\n",
    "    print('숫자입력')"
   ]
  },
  {
   "cell_type": "code",
   "execution_count": null,
   "id": "fc16def4-aac9-4d89-884c-50470c7dcba6",
   "metadata": {},
   "outputs": [],
   "source": [
    "#2-9단까지 출력 (곱하는수는 1-9임)"
   ]
  },
  {
   "cell_type": "code",
   "execution_count": 223,
   "id": "43f9e0c5-aaf8-41ba-8e0a-217ccd3a4094",
   "metadata": {},
   "outputs": [
    {
     "name": "stdout",
     "output_type": "stream",
     "text": [
      "====2단===\n",
      "2*1=2\n",
      "2*2=4\n",
      "2*3=6\n",
      "2*4=8\n",
      "2*5=10\n",
      "2*6=12\n",
      "2*7=14\n",
      "2*8=16\n",
      "2*9=18\n",
      "====3단===\n",
      "3*1=3\n",
      "3*2=6\n",
      "3*3=9\n",
      "3*4=12\n",
      "3*5=15\n",
      "3*6=18\n",
      "3*7=21\n",
      "3*8=24\n",
      "3*9=27\n",
      "====4단===\n",
      "4*1=4\n",
      "4*2=8\n",
      "4*3=12\n",
      "4*4=16\n",
      "4*5=20\n",
      "4*6=24\n",
      "4*7=28\n",
      "4*8=32\n",
      "4*9=36\n",
      "====5단===\n",
      "5*1=5\n",
      "5*2=10\n",
      "5*3=15\n",
      "5*4=20\n",
      "5*5=25\n",
      "5*6=30\n",
      "5*7=35\n",
      "5*8=40\n",
      "5*9=45\n",
      "====6단===\n",
      "6*1=6\n",
      "6*2=12\n",
      "6*3=18\n",
      "6*4=24\n",
      "6*5=30\n",
      "6*6=36\n",
      "6*7=42\n",
      "6*8=48\n",
      "6*9=54\n",
      "====7단===\n",
      "7*1=7\n",
      "7*2=14\n",
      "7*3=21\n",
      "7*4=28\n",
      "7*5=35\n",
      "7*6=42\n",
      "7*7=49\n",
      "7*8=56\n",
      "7*9=63\n",
      "====8단===\n",
      "8*1=8\n",
      "8*2=16\n",
      "8*3=24\n",
      "8*4=32\n",
      "8*5=40\n",
      "8*6=48\n",
      "8*7=56\n",
      "8*8=64\n",
      "8*9=72\n",
      "====9단===\n",
      "9*1=9\n",
      "9*2=18\n",
      "9*3=27\n",
      "9*4=36\n",
      "9*5=45\n",
      "9*6=54\n",
      "9*7=63\n",
      "9*8=72\n",
      "9*9=81\n"
     ]
    }
   ],
   "source": [
    "for i in range(2,10): #고정값\n",
    "    print(f'===={i}단===')\n",
    "    for j in range(1,10): #변화값\n",
    "        print(f'{i}*{j}={i*j}')"
   ]
  },
  {
   "cell_type": "code",
   "execution_count": 227,
   "id": "a88db6e3-1337-482e-9ade-7214e750cb42",
   "metadata": {},
   "outputs": [
    {
     "name": "stdout",
     "output_type": "stream",
     "text": [
      " 2* 1= 2  3* 1= 3  4* 1= 4  5* 1= 5  6* 1= 6  7* 1= 7  8* 1= 8  9* 1= 9 \n",
      " 2* 2= 4  3* 2= 6  4* 2= 8  5* 2=10  6* 2=12  7* 2=14  8* 2=16  9* 2=18 \n",
      " 2* 3= 6  3* 3= 9  4* 3=12  5* 3=15  6* 3=18  7* 3=21  8* 3=24  9* 3=27 \n",
      " 2* 4= 8  3* 4=12  4* 4=16  5* 4=20  6* 4=24  7* 4=28  8* 4=32  9* 4=36 \n",
      " 2* 5=10  3* 5=15  4* 5=20  5* 5=25  6* 5=30  7* 5=35  8* 5=40  9* 5=45 \n",
      " 2* 6=12  3* 6=18  4* 6=24  5* 6=30  6* 6=36  7* 6=42  8* 6=48  9* 6=54 \n",
      " 2* 7=14  3* 7=21  4* 7=28  5* 7=35  6* 7=42  7* 7=49  8* 7=56  9* 7=63 \n",
      " 2* 8=16  3* 8=24  4* 8=32  5* 8=40  6* 8=48  7* 8=56  8* 8=64  9* 8=72 \n",
      " 2* 9=18  3* 9=27  4* 9=36  5* 9=45  6* 9=54  7* 9=63  8* 9=72  9* 9=81 \n"
     ]
    }
   ],
   "source": [
    "for i in range(1,10): #고정값\n",
    "    for j in range(2,10): #변화값\n",
    "        print(f'{j:2}*{i:2}={i*j:2}',end=' ')\n",
    "    print() #한 줄이 다 찍히고 나면 줄을 바꿔줘야 하니깐 "
   ]
  },
  {
   "cell_type": "code",
   "execution_count": null,
   "id": "dca4a2f4-9d9a-44a2-8407-e89efff407d6",
   "metadata": {},
   "outputs": [],
   "source": []
  },
  {
   "cell_type": "code",
   "execution_count": null,
   "id": "d2e499bf-ad20-4da4-a223-fbe142500d35",
   "metadata": {},
   "outputs": [],
   "source": []
  },
  {
   "cell_type": "code",
   "execution_count": null,
   "id": "0869dd88-897b-4469-854f-6e69531bca11",
   "metadata": {},
   "outputs": [],
   "source": []
  },
  {
   "cell_type": "code",
   "execution_count": null,
   "id": "973262be-cf64-4bc4-aa6c-b80e1e2eef7e",
   "metadata": {},
   "outputs": [],
   "source": [
    ">>> treeHit = 0\n",
    ">>> while treeHit < 10:\n",
    "...     treeHit = treeHit +1\n",
    "...     print(\"나무를 %d번 찍었습니다.\" % treeHit)\n",
    "...     if treeHit == 10:\n",
    "...         print(\"나무 넘어갑니다.\")"
   ]
  },
  {
   "cell_type": "code",
   "execution_count": null,
   "id": "5fb9f306-9465-4e77-af53-037aeadcc0cd",
   "metadata": {},
   "outputs": [],
   "source": []
  },
  {
   "cell_type": "code",
   "execution_count": null,
   "id": "2f8d66e5-f004-4a0f-b1b9-ad02ca7096e1",
   "metadata": {},
   "outputs": [],
   "source": []
  }
 ],
 "metadata": {
  "kernelspec": {
   "display_name": "Python 3 (ipykernel)",
   "language": "python",
   "name": "python3"
  },
  "language_info": {
   "codemirror_mode": {
    "name": "ipython",
    "version": 3
   },
   "file_extension": ".py",
   "mimetype": "text/x-python",
   "name": "python",
   "nbconvert_exporter": "python",
   "pygments_lexer": "ipython3",
   "version": "3.9.7"
  }
 },
 "nbformat": 4,
 "nbformat_minor": 5
}
