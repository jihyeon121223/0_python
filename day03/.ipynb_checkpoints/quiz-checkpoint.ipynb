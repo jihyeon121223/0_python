{
 "cells": [
  {
   "cell_type": "raw",
   "id": "5495f639-3ad2-447b-a4fa-dd4b2d7c59e5",
   "metadata": {},
   "source": [
    "quiz01\n",
    "1~100 사이 숫자를 맞추는 게임, 몇번만에 맞췄는지, 정답을 맞출때까지 반복"
   ]
  },
  {
   "cell_type": "code",
   "execution_count": 1,
   "id": "6582f8d3-c47c-4ece-b298-9744993685de",
   "metadata": {},
   "outputs": [],
   "source": [
    "import random #라이브러리 끌어당길 때 import 이름 \n",
    "#이건 미리 위에 써놓고 밑에 식 더 쓰는 것."
   ]
  },
  {
   "cell_type": "code",
   "execution_count": 15,
   "id": "9cdfd883-82bf-462d-894f-5f843436fcb1",
   "metadata": {},
   "outputs": [
    {
     "data": {
      "text/plain": [
       "60"
      ]
     },
     "execution_count": 15,
     "metadata": {},
     "output_type": "execute_result"
    }
   ],
   "source": [
    "random.randint(1,100) #소스. 숫자 한자리수 쓸 때, 이건 끝자리포함됨(얼마전엔 포함안됐쥬?)"
   ]
  },
  {
   "cell_type": "code",
   "execution_count": 27,
   "id": "104aa7a9-707a-4fcf-8978-901a5c3b9761",
   "metadata": {},
   "outputs": [
    {
     "name": "stdout",
     "output_type": "stream",
     "text": [
      "ok37\n"
     ]
    },
    {
     "name": "stdin",
     "output_type": "stream",
     "text": [
      ">> 5\n"
     ]
    },
    {
     "name": "stdout",
     "output_type": "stream",
     "text": [
      "1.bigger\n"
     ]
    },
    {
     "name": "stdin",
     "output_type": "stream",
     "text": [
      ">> 90\n"
     ]
    },
    {
     "name": "stdout",
     "output_type": "stream",
     "text": [
      "2.smaller\n"
     ]
    },
    {
     "name": "stdin",
     "output_type": "stream",
     "text": [
      ">> 34\n"
     ]
    },
    {
     "name": "stdout",
     "output_type": "stream",
     "text": [
      "3.bigger\n"
     ]
    },
    {
     "name": "stdin",
     "output_type": "stream",
     "text": [
      ">> 37\n"
     ]
    },
    {
     "name": "stdout",
     "output_type": "stream",
     "text": [
      "ok4\n"
     ]
    }
   ],
   "source": [
    "i=random.randint(1,100)\n",
    "count=0 #와일문 바깥에서 해야 카운트됨\n",
    "print(f'ok{i}') #맞는지 확인용\n",
    "while True: #반복문\n",
    "    no=input('>>')\n",
    "    if not no.isnumeric(): #is가 -인지 아닌지를 나타낼때, 숫자\n",
    "        print('>>>')\n",
    "        continue #break(지나면 끝), countinue(뒤에꺼 안해도될때, 다시 돌아가서 함)\n",
    "    count +=1 #위 조건 맞으면 하나 셈\n",
    "    no=int(no)\n",
    "    if i == no:\n",
    "        print(f'ok{count}')\n",
    "        break #while문 벗어남\n",
    "    elif i > no:\n",
    "        print(f'{count}.bigger')\n",
    "    else:\n",
    "        print(f'{count}.smaller')"
   ]
  },
  {
   "cell_type": "raw",
   "id": "4d60403c-c78c-4382-94b3-fd366c43ad88",
   "metadata": {},
   "source": [
    "quiz02 사칙연산계산기\n",
    "입력은 : 숫자 연산자 숫자(빈 문자열이 들어오면 프로그램을 종료함, 그 전까지는 무한 #반복)\n",
    "연산자는 +-*/ 만 가능"
   ]
  },
  {
   "cell_type": "code",
   "execution_count": null,
   "id": "c8b3c732-1fb6-4a35-9752-b31b81f6f395",
   "metadata": {},
   "outputs": [],
   "source": [
    "while True: #반복문\n",
    "    no=input('i(1+1)>>(blank:end)')\n",
    "    if not no=='':\n",
    "        pass\n",
    "    else:\n",
    "        print('end')\n",
    "        break"
   ]
  },
  {
   "cell_type": "code",
   "execution_count": 108,
   "id": "02481a05-f0fb-45a9-8a87-b16b44970794",
   "metadata": {},
   "outputs": [
    {
     "name": "stdin",
     "output_type": "stream",
     "text": [
      "식입력>>그냥엔터치면종료 1-1\n"
     ]
    },
    {
     "name": "stdout",
     "output_type": "stream",
     "text": [
      "다른숫자입력\n"
     ]
    },
    {
     "name": "stdin",
     "output_type": "stream",
     "text": [
      "식입력>>그냥엔터치면종료 \n"
     ]
    },
    {
     "name": "stdout",
     "output_type": "stream",
     "text": [
      "종료\n"
     ]
    }
   ],
   "source": [
    "while True: #반복\n",
    "    a = input('식입력>>그냥엔터치면종료') \n",
    "    if a == '': #빈 문자열이 들어오면\n",
    "        print('종료') #종료\n",
    "        break \n",
    "    else:\n",
    "        quiz=a.split() #공백기준 또는 인자값으로 띄움, 리스트로 리턴.\n",
    "        if len(quiz)==3: #길이값이 3이어야 식이니깐\n",
    "            x = int(quiz[0])\n",
    "            y = int(quiz[2])\n",
    "            if quiz[1] == '+':\n",
    "                print(x+y)\n",
    "            elif quiz[1] == '-':\n",
    "                print(x-y)\n",
    "            elif quiz[1] == '*':\n",
    "                print(x*y)\n",
    "            elif quiz[1] == '/':\n",
    "                print(x/y)\n",
    "        else:\n",
    "            print('다른숫자입력')"
   ]
  },
  {
   "cell_type": "raw",
   "id": "2236db12-8a24-4322-871c-ba9571d614a9",
   "metadata": {},
   "source": [
    "/////////////////////////???????????????그냥식입력해도 '다른숫자입력'이 뜸"
   ]
  },
  {
   "cell_type": "code",
   "execution_count": 65,
   "id": "a3a66d15-b311-4342-b00f-eeb63405ae85",
   "metadata": {},
   "outputs": [
    {
     "name": "stdin",
     "output_type": "stream",
     "text": [
      "입력>>>(공백:끝) \n"
     ]
    },
    {
     "name": "stdout",
     "output_type": "stream",
     "text": [
      "종료\n"
     ]
    }
   ],
   "source": [
    "while True: \n",
    "    user_input=input('입력>>>(공백:끝)') \n",
    "    if user_input == '': \n",
    "        print('종료') \n",
    "        break \n",
    "    else:\n",
    "        print(eval(user_input))"
   ]
  },
  {
   "cell_type": "raw",
   "id": "8963bad7-f41b-471d-b0ff-99e4d5b29b83",
   "metadata": {},
   "source": [
    "quiz03 시간체크"
   ]
  },
  {
   "cell_type": "raw",
   "id": "aaef5966-3620-4eed-9f93-a724c48202ae",
   "metadata": {},
   "source": [
    "time=time.time() #변수이름을 라이브러리와 동일하게 만들면 못불러온다. 내가 변수를 새로 정의해서 원래 가져온 것을 못 불러옴. 다시 변수 지정해주면 해결."
   ]
  },
  {
   "cell_type": "code",
   "execution_count": 55,
   "id": "c4f1e3ec-9306-47ce-b863-fb65fedcdcf1",
   "metadata": {},
   "outputs": [],
   "source": [
    "import time\n",
    "time1 = time.time()"
   ]
  },
  {
   "cell_type": "code",
   "execution_count": 57,
   "id": "8e2dff5e-2521-4a5d-bf6a-d14420325575",
   "metadata": {},
   "outputs": [],
   "source": [
    "time2 = time.time()"
   ]
  },
  {
   "cell_type": "code",
   "execution_count": 58,
   "id": "c8c4a044-f62d-40db-aaf7-e58495402290",
   "metadata": {},
   "outputs": [
    {
     "data": {
      "text/plain": [
       "25.77315402030945"
      ]
     },
     "execution_count": 58,
     "metadata": {},
     "output_type": "execute_result"
    }
   ],
   "source": [
    "time2-time1"
   ]
  },
  {
   "cell_type": "code",
   "execution_count": 59,
   "id": "5aa6377f-6930-466c-a9a3-14bb1a084e29",
   "metadata": {},
   "outputs": [],
   "source": [
    "#시간차이 5초에 근접하기\n",
    "#게임은 enter키입력하면 시작하고 5초 후 다시enter입력해 5초와 차이를 출력한다."
   ]
  },
  {
   "cell_type": "code",
   "execution_count": null,
   "id": "4d2662d9-5fd5-4cd4-8e15-96bd03cd9fc5",
   "metadata": {},
   "outputs": [],
   "source": [
    "input(key(enter))\n",
    "time1=time.time()\n",
    "time2=time.time()\n",
    "a=time2-time1\n",
    "print(a)"
   ]
  },
  {
   "cell_type": "code",
   "execution_count": 69,
   "id": "07598541-cc25-4ff2-9194-0c30b1559830",
   "metadata": {},
   "outputs": [
    {
     "name": "stdin",
     "output_type": "stream",
     "text": [
      "시작 \n",
      "enter in 5s \n"
     ]
    },
    {
     "name": "stdout",
     "output_type": "stream",
     "text": [
      "0.5초 차이\n"
     ]
    }
   ],
   "source": [
    "input('시작')\n",
    "start=time.time()\n",
    "input('enter in 5s')\n",
    "end=time.time()\n",
    "print(f'{abs(end-start):.1f}초 차이') #차이값구할거니 절댓값"
   ]
  },
  {
   "cell_type": "code",
   "execution_count": 70,
   "id": "43d27e99-8dec-40f5-a804-143ad8bc89f4",
   "metadata": {},
   "outputs": [],
   "source": [
    "#원하는 만큼 시도할 수 있고, 그 중에서 시간차가 작은 기록을 출력한다\n",
    "#q를 입력하면 종료"
   ]
  },
  {
   "cell_type": "code",
   "execution_count": 75,
   "id": "75b54596-e942-4881-b9f6-e6d4d9dab9e9",
   "metadata": {},
   "outputs": [
    {
     "name": "stdin",
     "output_type": "stream",
     "text": [
      "1번째시도:시작!(종료Q) \n",
      "5초후enter \n",
      "2번째시도:시작!(종료Q) \n",
      "5초후enter \n",
      "3번째시도:시작!(종료Q) \n",
      "5초후enter \n",
      "4번째시도:시작!(종료Q) q\n"
     ]
    },
    {
     "name": "stdout",
     "output_type": "stream",
     "text": [
      "종료\n",
      "시간: [2.448007583618164, 3.19991397857666, 2.7680342197418213]\n",
      "시간차이: [2.551992416381836, 1.8000860214233398, 2.2319657802581787]\n",
      "3.19991397857666\n",
      "1.8000860214233398\n"
     ]
    }
   ],
   "source": [
    "time_diff=[] #시간값저장 선언\n",
    "count=0\n",
    "while True:\n",
    "    count+=1\n",
    "    menu=input(str(count)+'번째시도:시작!(종료Q)') #count가 숫자라서 글로 바꿈\n",
    "    if menu.upper()=='Q':\n",
    "        print('종료')\n",
    "        break\n",
    "    start=time.time()\n",
    "    input('5초후enter')\n",
    "    end=time.time()\n",
    "    time_diff.append(end-start)\n",
    "    \n",
    "if len(time_diff)==0:\n",
    "    print('저장된 정보 없음')\n",
    "else:\n",
    "    print('시간:', time_diff) #f포멧 왜 넣지: 공간확보. 그냥,넣으면 ,로 붙여줌\n",
    "    time_diff1=[data-5 for data in time_diff] #for문 리스트내포사용 참조\n",
    "    result=list(map(abs,time_diff1)) #자료형이름함수 list, map\n",
    "    print('시간차이:',result)\n",
    "    index=result.index(min(result)) #index시간차의 최소+위치값 뽑아내기\n",
    "    print(time_diff[index])\n",
    "    print(result[index])"
   ]
  },
  {
   "cell_type": "raw",
   "id": "57cc28f7-0f5a-4a97-9499-54721537771f",
   "metadata": {},
   "source": [
    "quiz04 사칙연산맞추기\n",
    "컴퓨터가 랜덤으로 사칙연산 문제를 출제하면 답을 맞추면 됩니다.\n",
    "이때 나누기 문제는 정수로 변환해서 처리합니다.\n",
    "문제 출제는 총5문제, 끝나면 맞춘 문제수를 출력합니다."
   ]
  },
  {
   "cell_type": "code",
   "execution_count": 76,
   "id": "3d335a66-c5c6-462c-b355-7255ab45a89f",
   "metadata": {},
   "outputs": [
    {
     "data": {
      "text/plain": [
       "'+'"
      ]
     },
     "execution_count": 76,
     "metadata": {},
     "output_type": "execute_result"
    }
   ],
   "source": [
    "oper=['+','-','*','/']\n",
    "oper[random.randint(0,3)] #무작위추출"
   ]
  },
  {
   "cell_type": "code",
   "execution_count": 95,
   "id": "79ac80c6-9e78-475a-8445-050de6019a9f",
   "metadata": {},
   "outputs": [
    {
     "data": {
      "text/plain": [
       "'*'"
      ]
     },
     "execution_count": 95,
     "metadata": {},
     "output_type": "execute_result"
    }
   ],
   "source": [
    "random.choice(oper) #무작위추출"
   ]
  },
  {
   "cell_type": "code",
   "execution_count": 102,
   "id": "8fa37ee9-20cf-441f-8f91-aa0a9fa0396d",
   "metadata": {},
   "outputs": [
    {
     "name": "stdout",
     "output_type": "stream",
     "text": [
      "23-43 =\n"
     ]
    },
    {
     "name": "stdin",
     "output_type": "stream",
     "text": [
      "정답: 1\n"
     ]
    },
    {
     "name": "stdout",
     "output_type": "stream",
     "text": [
      "wrong\n",
      "3-30 =\n"
     ]
    },
    {
     "name": "stdin",
     "output_type": "stream",
     "text": [
      "정답: 27\n"
     ]
    },
    {
     "name": "stdout",
     "output_type": "stream",
     "text": [
      "wrong\n",
      "2/29 =\n"
     ]
    },
    {
     "name": "stdin",
     "output_type": "stream",
     "text": [
      "정답: 1\n"
     ]
    },
    {
     "name": "stdout",
     "output_type": "stream",
     "text": [
      "wrong\n",
      "9/44 =\n"
     ]
    },
    {
     "name": "stdin",
     "output_type": "stream",
     "text": [
      "정답: 1\n"
     ]
    },
    {
     "name": "stdout",
     "output_type": "stream",
     "text": [
      "wrong\n",
      "5*40 =\n"
     ]
    },
    {
     "name": "stdin",
     "output_type": "stream",
     "text": [
      "정답: 200\n"
     ]
    },
    {
     "name": "stdout",
     "output_type": "stream",
     "text": [
      "good\n",
      "1 개 맞춤\n"
     ]
    }
   ],
   "source": [
    "import random,time\n",
    "\n",
    "count=0\n",
    "oper=['+','-','*','/']\n",
    "\n",
    "for i in range(5):\n",
    "    a=random.randint(1,50)\n",
    "    b=random.randint(1,50)\n",
    "    op=random.choice(oper)\n",
    "    Q=str(a)+op+str(b)\n",
    "    print(Q,'=')\n",
    "    result=int(input('정답:'))\n",
    "    if int(eval(Q))==result:\n",
    "        print('good')\n",
    "        count+=1\n",
    "    else:\n",
    "        print('wrong')\n",
    "print(count,'개 맞춤')\n"
   ]
  },
  {
   "cell_type": "code",
   "execution_count": 109,
   "id": "4c7c3dd4-523f-4a66-9fc1-b59231b57469",
   "metadata": {},
   "outputs": [],
   "source": [
    "#정렬하기\n",
    "#list.sort()\n",
    "#sorted() 오름차순 데이터정렬. 원본은 손 안댐. 정보변경하려면 다시 엔터해줘야."
   ]
  },
  {
   "cell_type": "code",
   "execution_count": 110,
   "id": "ce08b6c8-6be6-4194-a6ee-e1ac5bcc3274",
   "metadata": {},
   "outputs": [],
   "source": [
    "data1=[1,9,5,3,7,2]\n",
    "data2=['q','a','d','s','z']"
   ]
  },
  {
   "cell_type": "code",
   "execution_count": 111,
   "id": "d0c12fe3-641c-4ae8-b4ea-959c2b9d3931",
   "metadata": {},
   "outputs": [
    {
     "data": {
      "text/plain": [
       "[1, 2, 3, 5, 7, 9]"
      ]
     },
     "execution_count": 111,
     "metadata": {},
     "output_type": "execute_result"
    }
   ],
   "source": [
    "data1.sort()\n",
    "data1"
   ]
  },
  {
   "cell_type": "code",
   "execution_count": 112,
   "id": "6180f823-d2cd-46d0-84a2-a01e96898133",
   "metadata": {},
   "outputs": [
    {
     "data": {
      "text/plain": [
       "['a', 'd', 'q', 's', 'z']"
      ]
     },
     "execution_count": 112,
     "metadata": {},
     "output_type": "execute_result"
    }
   ],
   "source": [
    "data2.sort()\n",
    "data2"
   ]
  },
  {
   "cell_type": "code",
   "execution_count": 126,
   "id": "19829964-d0fe-45b2-8bff-794aad2c5ca9",
   "metadata": {},
   "outputs": [],
   "source": [
    "dic1={5:'s',1:'d',2:'t',6:'a',3:'y',4:'o'}\n",
    "tup1=(2,5,1,4,3,6)\n",
    "set1={9,8,4,2,1,5}\n",
    "student=[('name','A',13),\n",
    "         ('name2','B',14),\n",
    "         ('name3','C',17)] #정보추가하면 다시ctl+enter눌러서 업데이트해줘야."
   ]
  },
  {
   "cell_type": "code",
   "execution_count": 124,
   "id": "3f87644d-0adc-4cc3-a050-c4296008e28c",
   "metadata": {},
   "outputs": [
    {
     "data": {
      "text/plain": [
       "[6, 5, 4, 3, 2, 1]"
      ]
     },
     "execution_count": 124,
     "metadata": {},
     "output_type": "execute_result"
    }
   ],
   "source": [
    "sorted(dic1,reverse=True)"
   ]
  },
  {
   "cell_type": "code",
   "execution_count": 120,
   "id": "c3dc99ae-4bfa-4fea-967d-3f0e87cc44e1",
   "metadata": {},
   "outputs": [
    {
     "data": {
      "text/plain": [
       "[1, 2, 3, 4, 5, 6]"
      ]
     },
     "execution_count": 120,
     "metadata": {},
     "output_type": "execute_result"
    }
   ],
   "source": [
    "sorted(tup1)"
   ]
  },
  {
   "cell_type": "code",
   "execution_count": 121,
   "id": "74350c4e-8d61-4ac6-a0f1-1251780da0c7",
   "metadata": {},
   "outputs": [
    {
     "data": {
      "text/plain": [
       "[1, 2, 4, 5, 8, 9]"
      ]
     },
     "execution_count": 121,
     "metadata": {},
     "output_type": "execute_result"
    }
   ],
   "source": [
    "sorted(set1)"
   ]
  },
  {
   "cell_type": "code",
   "execution_count": 122,
   "id": "7fa1f7df-1756-46f1-ac77-e9e58ec0923c",
   "metadata": {},
   "outputs": [
    {
     "data": {
      "text/plain": [
       "{5: 's', 1: 'd', 2: 't', 6: 'a', 3: 'y', 4: 'o'}"
      ]
     },
     "execution_count": 122,
     "metadata": {},
     "output_type": "execute_result"
    }
   ],
   "source": [
    "dic1"
   ]
  },
  {
   "cell_type": "code",
   "execution_count": 127,
   "id": "10daa36d-6b5b-4277-9c34-283440e56e7b",
   "metadata": {},
   "outputs": [
    {
     "data": {
      "text/plain": [
       "[('name', 'A', 13), ('name2', 'B', 14), ('name3', 'C', 17)]"
      ]
     },
     "execution_count": 127,
     "metadata": {},
     "output_type": "execute_result"
    }
   ],
   "source": [
    "sorted(student) #맨 앞 기준으로 정렬함 "
   ]
  },
  {
   "cell_type": "code",
   "execution_count": 129,
   "id": "1f0df181-8a4d-4bf2-9c55-f520de0a04a8",
   "metadata": {},
   "outputs": [
    {
     "data": {
      "text/plain": [
       "[(5, 's'), (1, 'd'), (2, 't'), (6, 'a'), (3, 'y'), (4, 'o')]"
      ]
     },
     "execution_count": 129,
     "metadata": {},
     "output_type": "execute_result"
    }
   ],
   "source": [
    "sorted(dic1.items(),key=lambda x:[1]) #dic함수중 키+벨류 세트 뽑는건 items"
   ]
  },
  {
   "cell_type": "raw",
   "id": "35540de3-ae38-43fe-9306-4b13b9eedebc",
   "metadata": {},
   "source": [
    "/////////////////아이템 정의안됨>>>>.으로 이어야함"
   ]
  },
  {
   "cell_type": "code",
   "execution_count": 130,
   "id": "e14e5890-b92d-4db7-a143-f7503a3813f4",
   "metadata": {},
   "outputs": [
    {
     "data": {
      "text/plain": [
       "[(5, 's'), (1, 'd'), (2, 't'), (6, 'a'), (3, 'y'), (4, 'o')]"
      ]
     },
     "execution_count": 130,
     "metadata": {},
     "output_type": "execute_result"
    }
   ],
   "source": [
    "#람다식이용\n",
    "sorted(dic1.items(),key=lambda x:[1],reverse=True) #역순"
   ]
  },
  {
   "cell_type": "code",
   "execution_count": 143,
   "id": "83d576c2-19b7-42e0-b8cd-10ef1495c82e",
   "metadata": {},
   "outputs": [
    {
     "data": {
      "text/plain": [
       "[('name', 'A', 13), ('name2', 'B', 14), ('name3', 'C', 17)]"
      ]
     },
     "execution_count": 143,
     "metadata": {},
     "output_type": "execute_result"
    }
   ],
   "source": [
    "sorted(student,key=lambda x:(x[1],-x[2])) #reverse대신 쓸 수 있음"
   ]
  },
  {
   "cell_type": "raw",
   "id": "6a7ce081-119b-49bc-b4a7-26e9771925cb",
   "metadata": {},
   "source": [
    "몇번째 정보를 쓸건지 결정하는건 rambda쓰는게 편함"
   ]
  },
  {
   "cell_type": "code",
   "execution_count": 133,
   "id": "df263629-0df1-4c06-939d-697e220b8a6d",
   "metadata": {},
   "outputs": [
    {
     "data": {
      "text/plain": [
       "[('name3', 'C', 17), ('name2', 'B', 14), ('name', 'A', 13)]"
      ]
     },
     "execution_count": 133,
     "metadata": {},
     "output_type": "execute_result"
    }
   ],
   "source": [
    "#itemgetter\n",
    "from operator import itemgetter\n",
    "sorted(student,key=itemgetter(1,2),reverse=True) #역순"
   ]
  },
  {
   "cell_type": "raw",
   "id": "3145a362-7e91-44ec-b909-b6d1d2368c2e",
   "metadata": {},
   "source": [
    "인덱스값 성적, 나이를 기준으로 순서대로 나열함\n",
    "아이템게터는 여러개가 있을 때 사용가능. \n",
    "그러나 섞여있을 때는 다음을 참고."
   ]
  },
  {
   "cell_type": "code",
   "execution_count": 136,
   "id": "78f68090-f0b0-44e8-83ac-d4a3baa6cd64",
   "metadata": {},
   "outputs": [
    {
     "data": {
      "text/plain": [
       "[('name3', 'C', 17), ('name2', 'B', 14), ('name', 'A', 13)]"
      ]
     },
     "execution_count": 136,
     "metadata": {},
     "output_type": "execute_result"
    }
   ],
   "source": [
    "def multisort(xs,specs): #섞여있을 때 다중정렬\n",
    "    for key, reverse in reversed(specs): #뒤에꺼 먼저 정렬하고 앞 정렬\n",
    "        xs.sort(key=itemgetter(key),reverse=reverse)\n",
    "    return xs\n",
    "\n",
    "multisort(student,((1,True),(2,False)))"
   ]
  },
  {
   "cell_type": "raw",
   "id": "97804882-51cd-449c-913a-611eaf68882b",
   "metadata": {},
   "source": [
    "함수: def함수이름정렬시  함수(매게변수), return 값으로 나옴\n",
    "for in뒤집어서 키에 값을가져온다\n",
    "인덱스값이 키에 들어온다\n",
    "true는 정렬, false는 정렬안함"
   ]
  },
  {
   "cell_type": "code",
   "execution_count": null,
   "id": "7ce36f34-ef8d-45f8-8fef-980db8d9b551",
   "metadata": {},
   "outputs": [],
   "source": []
  },
  {
   "cell_type": "code",
   "execution_count": 106,
   "id": "127440a6-dc6a-4b03-b11f-eeee9507f252",
   "metadata": {},
   "outputs": [],
   "source": [
    "#시간체크기능추가\n",
    "#무한반복처리, 종료메뉴추가\n",
    "#사용자이름, 한게임당 시간, 맞춘갯수 저장 \n",
    "#순위출력 - 정담수(큰값),걸린시간(작은값)"
   ]
  },
  {
   "cell_type": "code",
   "execution_count": 146,
   "id": "13b4300f-85bf-41b7-bf99-89b1ea429b47",
   "metadata": {},
   "outputs": [
    {
     "name": "stdout",
     "output_type": "stream",
     "text": [
      "29*36 =\n"
     ]
    },
    {
     "name": "stdin",
     "output_type": "stream",
     "text": [
      "정답: 1\n"
     ]
    },
    {
     "name": "stdout",
     "output_type": "stream",
     "text": [
      "wrong\n",
      "12-22 =\n"
     ]
    },
    {
     "name": "stdin",
     "output_type": "stream",
     "text": [
      "정답: 2\n"
     ]
    },
    {
     "name": "stdout",
     "output_type": "stream",
     "text": [
      "wrong\n",
      "26-7 =\n"
     ]
    },
    {
     "name": "stdin",
     "output_type": "stream",
     "text": [
      "정답: 19\n"
     ]
    },
    {
     "name": "stdout",
     "output_type": "stream",
     "text": [
      "good\n",
      "2*36 =\n"
     ]
    },
    {
     "name": "stdin",
     "output_type": "stream",
     "text": [
      "정답: 72\n"
     ]
    },
    {
     "name": "stdout",
     "output_type": "stream",
     "text": [
      "good\n",
      "44*50 =\n"
     ]
    },
    {
     "name": "stdin",
     "output_type": "stream",
     "text": [
      "정답: 2\n"
     ]
    },
    {
     "name": "stdout",
     "output_type": "stream",
     "text": [
      "wrong\n",
      "2 개 맞춤 걸린시간:14.39\n"
     ]
    },
    {
     "name": "stdin",
     "output_type": "stream",
     "text": [
      "이름: aaa\n"
     ]
    },
    {
     "ename": "TypeError",
     "evalue": "bad operand type for unary -: 'tuple'",
     "output_type": "error",
     "traceback": [
      "\u001b[1;31m---------------------------------------------------------------------------\u001b[0m",
      "\u001b[1;31mTypeError\u001b[0m                                 Traceback (most recent call last)",
      "\u001b[1;32m~\\AppData\\Local\\Temp/ipykernel_1136/3949502273.py\u001b[0m in \u001b[0;36m<module>\u001b[1;34m\u001b[0m\n\u001b[0;32m     22\u001b[0m     \u001b[0mname\u001b[0m\u001b[1;33m=\u001b[0m\u001b[0minput\u001b[0m\u001b[1;33m(\u001b[0m\u001b[1;34m'이름:'\u001b[0m\u001b[1;33m)\u001b[0m\u001b[1;33m\u001b[0m\u001b[1;33m\u001b[0m\u001b[0m\n\u001b[0;32m     23\u001b[0m     \u001b[0mrank\u001b[0m\u001b[1;33m.\u001b[0m\u001b[0mappend\u001b[0m\u001b[1;33m(\u001b[0m\u001b[1;33m[\u001b[0m\u001b[0mname\u001b[0m\u001b[1;33m,\u001b[0m\u001b[0mcount\u001b[0m\u001b[1;33m,\u001b[0m\u001b[0mend\u001b[0m\u001b[1;33m-\u001b[0m\u001b[0mstart\u001b[0m\u001b[1;33m]\u001b[0m\u001b[1;33m)\u001b[0m\u001b[1;33m\u001b[0m\u001b[1;33m\u001b[0m\u001b[0m\n\u001b[1;32m---> 24\u001b[1;33m     \u001b[0mresult\u001b[0m\u001b[1;33m=\u001b[0m\u001b[0msorted\u001b[0m\u001b[1;33m(\u001b[0m\u001b[0mrank\u001b[0m\u001b[1;33m,\u001b[0m\u001b[0mkey\u001b[0m\u001b[1;33m=\u001b[0m\u001b[1;32mlambda\u001b[0m \u001b[0mx\u001b[0m \u001b[1;33m:\u001b[0m\u001b[1;33m(\u001b[0m\u001b[1;33m-\u001b[0m\u001b[0mx\u001b[0m\u001b[1;33m[\u001b[0m\u001b[1;36m1\u001b[0m\u001b[1;33m]\u001b[0m\u001b[1;33m,\u001b[0m\u001b[0mx\u001b[0m\u001b[1;33m[\u001b[0m\u001b[1;36m2\u001b[0m\u001b[1;33m]\u001b[0m\u001b[1;33m)\u001b[0m\u001b[1;33m)\u001b[0m \u001b[1;31m#x는[]한단위\u001b[0m\u001b[1;33m\u001b[0m\u001b[1;33m\u001b[0m\u001b[0m\n\u001b[0m\u001b[0;32m     25\u001b[0m     \u001b[1;32mfor\u001b[0m \u001b[0mi\u001b[0m\u001b[1;33m,\u001b[0m \u001b[0mitem\u001b[0m \u001b[1;32min\u001b[0m \u001b[0menumerate\u001b[0m\u001b[1;33m(\u001b[0m\u001b[0mresult\u001b[0m\u001b[1;33m)\u001b[0m\u001b[1;33m:\u001b[0m \u001b[1;31m#리스트안 데이터를 하나씩 꺼내줌. 문제는 몇번째로 나온지 안나옴.그래서 인덱스값i를 같이 꺼내준다.\u001b[0m\u001b[1;33m\u001b[0m\u001b[1;33m\u001b[0m\u001b[0m\n\u001b[0;32m     26\u001b[0m         \u001b[0mprint\u001b[0m\u001b[1;33m(\u001b[0m\u001b[1;34mf'{i+1}등 {item}'\u001b[0m\u001b[1;33m)\u001b[0m\u001b[1;33m\u001b[0m\u001b[1;33m\u001b[0m\u001b[0m\n",
      "\u001b[1;32m~\\AppData\\Local\\Temp/ipykernel_1136/3949502273.py\u001b[0m in \u001b[0;36m<lambda>\u001b[1;34m(x)\u001b[0m\n\u001b[0;32m     22\u001b[0m     \u001b[0mname\u001b[0m\u001b[1;33m=\u001b[0m\u001b[0minput\u001b[0m\u001b[1;33m(\u001b[0m\u001b[1;34m'이름:'\u001b[0m\u001b[1;33m)\u001b[0m\u001b[1;33m\u001b[0m\u001b[1;33m\u001b[0m\u001b[0m\n\u001b[0;32m     23\u001b[0m     \u001b[0mrank\u001b[0m\u001b[1;33m.\u001b[0m\u001b[0mappend\u001b[0m\u001b[1;33m(\u001b[0m\u001b[1;33m[\u001b[0m\u001b[0mname\u001b[0m\u001b[1;33m,\u001b[0m\u001b[0mcount\u001b[0m\u001b[1;33m,\u001b[0m\u001b[0mend\u001b[0m\u001b[1;33m-\u001b[0m\u001b[0mstart\u001b[0m\u001b[1;33m]\u001b[0m\u001b[1;33m)\u001b[0m\u001b[1;33m\u001b[0m\u001b[1;33m\u001b[0m\u001b[0m\n\u001b[1;32m---> 24\u001b[1;33m     \u001b[0mresult\u001b[0m\u001b[1;33m=\u001b[0m\u001b[0msorted\u001b[0m\u001b[1;33m(\u001b[0m\u001b[0mrank\u001b[0m\u001b[1;33m,\u001b[0m\u001b[0mkey\u001b[0m\u001b[1;33m=\u001b[0m\u001b[1;32mlambda\u001b[0m \u001b[0mx\u001b[0m \u001b[1;33m:\u001b[0m\u001b[1;33m(\u001b[0m\u001b[1;33m-\u001b[0m\u001b[0mx\u001b[0m\u001b[1;33m[\u001b[0m\u001b[1;36m1\u001b[0m\u001b[1;33m]\u001b[0m\u001b[1;33m,\u001b[0m\u001b[0mx\u001b[0m\u001b[1;33m[\u001b[0m\u001b[1;36m2\u001b[0m\u001b[1;33m]\u001b[0m\u001b[1;33m)\u001b[0m\u001b[1;33m)\u001b[0m \u001b[1;31m#x는[]한단위\u001b[0m\u001b[1;33m\u001b[0m\u001b[1;33m\u001b[0m\u001b[0m\n\u001b[0m\u001b[0;32m     25\u001b[0m     \u001b[1;32mfor\u001b[0m \u001b[0mi\u001b[0m\u001b[1;33m,\u001b[0m \u001b[0mitem\u001b[0m \u001b[1;32min\u001b[0m \u001b[0menumerate\u001b[0m\u001b[1;33m(\u001b[0m\u001b[0mresult\u001b[0m\u001b[1;33m)\u001b[0m\u001b[1;33m:\u001b[0m \u001b[1;31m#리스트안 데이터를 하나씩 꺼내줌. 문제는 몇번째로 나온지 안나옴.그래서 인덱스값i를 같이 꺼내준다.\u001b[0m\u001b[1;33m\u001b[0m\u001b[1;33m\u001b[0m\u001b[0m\n\u001b[0;32m     26\u001b[0m         \u001b[0mprint\u001b[0m\u001b[1;33m(\u001b[0m\u001b[1;34mf'{i+1}등 {item}'\u001b[0m\u001b[1;33m)\u001b[0m\u001b[1;33m\u001b[0m\u001b[1;33m\u001b[0m\u001b[0m\n",
      "\u001b[1;31mTypeError\u001b[0m: bad operand type for unary -: 'tuple'"
     ]
    }
   ],
   "source": [
    "import random,time\n",
    "\n",
    "rank=[[('name3', 4, 17), ('name2', 3, 14), ('name', 3, 13)]]\n",
    "oper=['+','-','*','/']\n",
    "while True:\n",
    "    count=0\n",
    "    start=time.time()\n",
    "    for i in range(5):\n",
    "        a=random.randint(1,50)\n",
    "        b=random.randint(1,50)\n",
    "        op=random.choice(oper)\n",
    "        Q=str(a)+op+str(b)\n",
    "        print(Q,'=')\n",
    "        result=int(input('정답:'))\n",
    "        if int(eval(Q))==result:\n",
    "            print('good')\n",
    "            count+=1\n",
    "        else:\n",
    "            print('wrong')\n",
    "    end=time.time()\n",
    "    print(count,'개 맞춤',f'걸린시간:{end-start:.2f}')\n",
    "    name=input('이름:')\n",
    "    rank.append([name,count,end-start])\n",
    "    result=sorted(rank,key=lambda x :(-x[1],x[2])) #x는[]한단위\n",
    "    for i, item in enumerate(result): #리스트안 데이터를 하나씩 꺼내줌. 문제는 몇번째로 나온지 안나옴.그래서 인덱스값i를 같이 꺼내준다. \n",
    "        print(f'{i+1}등 {item}')\n",
    "    if'Q'==input('종료(Q)','계속(enter)').upper():\n",
    "        break\n",
    "        \n",
    "    "
   ]
  },
  {
   "cell_type": "code",
   "execution_count": 147,
   "id": "6fd25065-2309-4c76-ba9d-46878a120705",
   "metadata": {},
   "outputs": [],
   "source": [
    "##커피자판기 메뉴입력 프로그램\n",
    "coffee={'아메리카노':3000}\n",
    "#메뉴입력\n",
    "#메뉴삭제\n",
    "#메뉴리스트"
   ]
  },
  {
   "cell_type": "code",
   "execution_count": null,
   "id": "d53204f1-1a4d-46f1-ad81-ccd7bc604167",
   "metadata": {},
   "outputs": [],
   "source": [
    "while True:\n",
    "    display = '''\n",
    "-----------------\n",
    "1.메뉴입력 2.메뉴삭제 3.메뉴수정 4.메뉴리스트\n",
    "-----------------\n",
    ">>> '''\n",
    "    menu=input(display)\n",
    "    if menu=='5': \n",
    "        print('프로그램종료')\n",
    "        break\n",
    "    elif menu=='1':\n",
    "        pass\n",
    "    elif menu=='2':\n",
    "        pass\n",
    "    elif menu=='3':\n",
    "        pass\n",
    "    elif menu=='4':\n",
    "        pass"
   ]
  }
 ],
 "metadata": {
  "kernelspec": {
   "display_name": "Python 3 (ipykernel)",
   "language": "python",
   "name": "python3"
  },
  "language_info": {
   "codemirror_mode": {
    "name": "ipython",
    "version": 3
   },
   "file_extension": ".py",
   "mimetype": "text/x-python",
   "name": "python",
   "nbconvert_exporter": "python",
   "pygments_lexer": "ipython3",
   "version": "3.9.7"
  }
 },
 "nbformat": 4,
 "nbformat_minor": 5
}
