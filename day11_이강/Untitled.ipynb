{
 "cells": [
  {
   "cell_type": "code",
   "execution_count": 2,
   "id": "81ebbead-7c5e-4edc-9dac-40cb24549ffb",
   "metadata": {},
   "outputs": [
    {
     "name": "stdin",
     "output_type": "stream",
     "text": [
      ">>> 3\n",
      ">>> 2\n"
     ]
    },
    {
     "name": "stdout",
     "output_type": "stream",
     "text": [
      "몫은 1 나머지는 1\n"
     ]
    }
   ],
   "source": [
    "x=int(input('>>>'))\n",
    "y=int(input('>>>'))\n",
    "print('몫은',x//y,'나머지는',x%y)"
   ]
  },
  {
   "cell_type": "code",
   "execution_count": 12,
   "id": "d9850f1f-f304-4367-9552-31f1a46419b4",
   "metadata": {},
   "outputs": [
    {
     "name": "stdin",
     "output_type": "stream",
     "text": [
      "입력 10.5\n",
      "1또는 아무키입력 1\n"
     ]
    },
    {
     "name": "stdout",
     "output_type": "stream",
     "text": [
      "입력한 10.5inch 변환결과 26.67cm\n"
     ]
    }
   ],
   "source": [
    "def aaa(x,y):\n",
    "    if y=='1':\n",
    "        result = x*2.54\n",
    "        print('입력한 {:g}inch 변환결과 {}cm'.format(x,result))\n",
    "    else:\n",
    "        result = x/2.54\n",
    "        print('{}cm'.format(result))\n",
    "x=float(input(\"입력\"))\n",
    "y=input('1또는 아무키입력')\n",
    "aaa(x,y)"
   ]
  },
  {
   "cell_type": "markdown",
   "id": "64d45fbf-be75-4273-9019-04b184b55df4",
   "metadata": {},
   "source": [
    "# "
   ]
  }
 ],
 "metadata": {
  "kernelspec": {
   "display_name": "kbu",
   "language": "python",
   "name": "kbu"
  },
  "language_info": {
   "codemirror_mode": {
    "name": "ipython",
    "version": 3
   },
   "file_extension": ".py",
   "mimetype": "text/x-python",
   "name": "python",
   "nbconvert_exporter": "python",
   "pygments_lexer": "ipython3",
   "version": "3.7.11"
  }
 },
 "nbformat": 4,
 "nbformat_minor": 5
}
