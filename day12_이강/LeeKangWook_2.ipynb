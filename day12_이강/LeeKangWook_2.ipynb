{
 "cells": [
  {
   "cell_type": "code",
   "execution_count": 1,
   "id": "caad50ca-5439-4d38-9da0-f63ace829763",
   "metadata": {},
   "outputs": [],
   "source": [
    "# #조건문(control)\n",
    "# 만약-가 참이면\n",
    "# 다음을 실행시켜라\n",
    "# 그렇지 않으먄\n",
    "# 다음을 실행시켜라"
   ]
  },
  {
   "cell_type": "code",
   "execution_count": 2,
   "id": "5a6b84da-1480-43a9-9d4b-08593113c67d",
   "metadata": {},
   "outputs": [],
   "source": [
    "# if a == b: #if True"
   ]
  },
  {
   "cell_type": "code",
   "execution_count": 3,
   "id": "6f315e45-abff-4d54-97a6-151bd8fac95c",
   "metadata": {},
   "outputs": [
    {
     "name": "stdout",
     "output_type": "stream",
     "text": [
      "x\n"
     ]
    }
   ],
   "source": [
    "if True:\n",
    "    print('x')#빈칸은 인덴트. 위 구문에 지배받음을 뜻함.\n",
    "else:\n",
    "    print('y')"
   ]
  },
  {
   "cell_type": "code",
   "execution_count": 4,
   "id": "f5d334b5-4e6a-43a9-849c-5655ee4583b1",
   "metadata": {},
   "outputs": [
    {
     "name": "stdout",
     "output_type": "stream",
     "text": [
      "y\n"
     ]
    }
   ],
   "source": [
    "if False:\n",
    "    print('x')#빈칸은 인덴트. 위 구문에 지배받음을 뜻함.\n",
    "else:\n",
    "    print('y')"
   ]
  },
  {
   "cell_type": "code",
   "execution_count": 6,
   "id": "a4634407-3c56-44ab-a1fd-f35b4855ca06",
   "metadata": {},
   "outputs": [
    {
     "name": "stdout",
     "output_type": "stream",
     "text": [
      "B\n"
     ]
    }
   ],
   "source": [
    "score = 80\n",
    "#score>=90 A, <90 and >=80 B, <80 and >=70 C, <70 D \n",
    "if score >= 90:\n",
    "    print(\"A\")\n",
    "elif score < 90 and score >= 80:\n",
    "    print(\"B\")\n",
    "elif score < 80 and score >= 70:\n",
    "    print(\"C\")\n",
    "else:\n",
    "    print(\"D\")"
   ]
  },
  {
   "cell_type": "code",
   "execution_count": 7,
   "id": "286d58c7-c0bc-45de-b6c0-f0fd2412fb09",
   "metadata": {},
   "outputs": [
    {
     "name": "stdout",
     "output_type": "stream",
     "text": [
      "B\n"
     ]
    }
   ],
   "source": [
    "score = 89\n",
    "#score>=90 A, <90 and >=80 B, <80 and >=70 C, <70 D \n",
    "if score >= 90: #한번에 하나 처리하기 떄문에 논리가 이렇게도 됨\n",
    "    print(\"A\")\n",
    "elif score >= 80:\n",
    "    print(\"B\")\n",
    "elif score >= 70:\n",
    "    print(\"C\")\n",
    "else:\n",
    "    print(\"D\")"
   ]
  },
  {
   "cell_type": "code",
   "execution_count": 8,
   "id": "45f81669-f021-4439-be32-831d78979380",
   "metadata": {},
   "outputs": [],
   "source": [
    "#여러개 처리는 for문"
   ]
  },
  {
   "cell_type": "code",
   "execution_count": 9,
   "id": "a5af58e2-50f8-42e6-b1b6-d982545dbdd0",
   "metadata": {},
   "outputs": [
    {
     "name": "stdout",
     "output_type": "stream",
     "text": [
      "B\n",
      "pass\n"
     ]
    }
   ],
   "source": [
    "score = 89\n",
    "#score>=90 A, <90 and >=80 B, <80 and >=70 C, <70 D \n",
    "if score >= 90: #한번에 하나 처리하기 떄문에 논리가 이렇게도 됨\n",
    "    print(\"A\")\n",
    "    print(\"pass\")\n",
    "elif score >= 80:\n",
    "    print(\"B\")\n",
    "    print(\"pass\")\n",
    "elif score >= 70:\n",
    "    print(\"C\")\n",
    "    print(\"fail\")\n",
    "else:\n",
    "    print(\"D\")\n",
    "    print(\"fail\")"
   ]
  },
  {
   "cell_type": "code",
   "execution_count": 12,
   "id": "c8d14b70-ad0b-49ef-a50b-ea2ea802fa79",
   "metadata": {},
   "outputs": [
    {
     "data": {
      "text/plain": [
       "False"
      ]
     },
     "execution_count": 12,
     "metadata": {},
     "output_type": "execute_result"
    }
   ],
   "source": [
    "x=[1,2,3]\n",
    "False and (x[4]==3)"
   ]
  },
  {
   "cell_type": "code",
   "execution_count": 13,
   "id": "b2cb7e39-ebce-456f-8af7-fc23ba911503",
   "metadata": {},
   "outputs": [
    {
     "ename": "IndexError",
     "evalue": "list index out of range",
     "output_type": "error",
     "traceback": [
      "\u001b[1;31m---------------------------------------------------------------------------\u001b[0m",
      "\u001b[1;31mIndexError\u001b[0m                                Traceback (most recent call last)",
      "\u001b[1;32m~\\AppData\\Local\\Temp/ipykernel_7564/1325435963.py\u001b[0m in \u001b[0;36m<module>\u001b[1;34m\u001b[0m\n\u001b[1;32m----> 1\u001b[1;33m \u001b[1;33m(\u001b[0m\u001b[0mx\u001b[0m\u001b[1;33m[\u001b[0m\u001b[1;36m4\u001b[0m\u001b[1;33m]\u001b[0m\u001b[1;33m==\u001b[0m\u001b[1;36m3\u001b[0m\u001b[1;33m)\u001b[0m\u001b[1;33m\u001b[0m\u001b[1;33m\u001b[0m\u001b[0m\n\u001b[0m",
      "\u001b[1;31mIndexError\u001b[0m: list index out of range"
     ]
    }
   ],
   "source": [
    "(x[4]==3)"
   ]
  },
  {
   "cell_type": "code",
   "execution_count": 14,
   "id": "c7adefaa-1497-4021-b67b-e87e04dbd1d7",
   "metadata": {},
   "outputs": [
    {
     "ename": "IndexError",
     "evalue": "list index out of range",
     "output_type": "error",
     "traceback": [
      "\u001b[1;31m---------------------------------------------------------------------------\u001b[0m",
      "\u001b[1;31mIndexError\u001b[0m                                Traceback (most recent call last)",
      "\u001b[1;32m~\\AppData\\Local\\Temp/ipykernel_7564/1434695005.py\u001b[0m in \u001b[0;36m<module>\u001b[1;34m\u001b[0m\n\u001b[0;32m      1\u001b[0m \u001b[0mx\u001b[0m\u001b[1;33m=\u001b[0m\u001b[1;33m[\u001b[0m\u001b[1;36m1\u001b[0m\u001b[1;33m,\u001b[0m\u001b[1;36m2\u001b[0m\u001b[1;33m,\u001b[0m\u001b[1;36m3\u001b[0m\u001b[1;33m]\u001b[0m\u001b[1;33m\u001b[0m\u001b[1;33m\u001b[0m\u001b[0m\n\u001b[1;32m----> 2\u001b[1;33m \u001b[1;32mTrue\u001b[0m \u001b[1;32mand\u001b[0m \u001b[1;33m(\u001b[0m\u001b[0mx\u001b[0m\u001b[1;33m[\u001b[0m\u001b[1;36m4\u001b[0m\u001b[1;33m]\u001b[0m\u001b[1;33m==\u001b[0m\u001b[1;36m3\u001b[0m\u001b[1;33m)\u001b[0m\u001b[1;33m\u001b[0m\u001b[1;33m\u001b[0m\u001b[0m\n\u001b[0m",
      "\u001b[1;31mIndexError\u001b[0m: list index out of range"
     ]
    }
   ],
   "source": [
    "x=[1,2,3]\n",
    "True and (x[4]==3) "
   ]
  },
  {
   "cell_type": "code",
   "execution_count": 15,
   "id": "d9154137-8783-4541-a1cb-f0f579c41d5c",
   "metadata": {},
   "outputs": [
    {
     "ename": "IndexError",
     "evalue": "list index out of range",
     "output_type": "error",
     "traceback": [
      "\u001b[1;31m---------------------------------------------------------------------------\u001b[0m",
      "\u001b[1;31mIndexError\u001b[0m                                Traceback (most recent call last)",
      "\u001b[1;32m~\\AppData\\Local\\Temp/ipykernel_7564/3132945383.py\u001b[0m in \u001b[0;36m<module>\u001b[1;34m\u001b[0m\n\u001b[0;32m      1\u001b[0m \u001b[0mx\u001b[0m\u001b[1;33m=\u001b[0m\u001b[1;33m[\u001b[0m\u001b[1;36m1\u001b[0m\u001b[1;33m,\u001b[0m\u001b[1;36m2\u001b[0m\u001b[1;33m,\u001b[0m\u001b[1;36m3\u001b[0m\u001b[1;33m]\u001b[0m\u001b[1;33m\u001b[0m\u001b[1;33m\u001b[0m\u001b[0m\n\u001b[1;32m----> 2\u001b[1;33m \u001b[1;33m(\u001b[0m\u001b[0mx\u001b[0m\u001b[1;33m[\u001b[0m\u001b[1;36m4\u001b[0m\u001b[1;33m]\u001b[0m\u001b[1;33m==\u001b[0m\u001b[1;36m3\u001b[0m\u001b[1;33m)\u001b[0m \u001b[1;32mand\u001b[0m \u001b[1;32mFalse\u001b[0m\u001b[1;33m\u001b[0m\u001b[1;33m\u001b[0m\u001b[0m\n\u001b[0m",
      "\u001b[1;31mIndexError\u001b[0m: list index out of range"
     ]
    }
   ],
   "source": [
    "x=[1,2,3]\n",
    "(x[4]==3) and False #에러를 먼저 계산해서"
   ]
  },
  {
   "cell_type": "code",
   "execution_count": 17,
   "id": "60fb416d-36c2-4a38-85ad-1fcd25ba4e5f",
   "metadata": {},
   "outputs": [
    {
     "name": "stdin",
     "output_type": "stream",
     "text": [
      "welcome 10.2\n"
     ]
    },
    {
     "name": "stdout",
     "output_type": "stream",
     "text": [
      "부동소수점입니다\n"
     ]
    }
   ],
   "source": [
    "##값을 입력받아서 정수이면if 정수입니다. 실수이면if 부동소수점 입니다. \n",
    "welcome = \"수치입력하세요\"\n",
    "x=float(input(\"welcome\"))\n",
    "if x == int(x):\n",
    "    print(\"정수입니다\")\n",
    "elif x == float(x):\n",
    "    print(\"부동소수점입니다\")"
   ]
  },
  {
   "cell_type": "code",
   "execution_count": 18,
   "id": "9c4fc165-3057-4575-8210-6bfaa316e44a",
   "metadata": {},
   "outputs": [],
   "source": [
    "#우와! 처음으로? 성공함 "
   ]
  },
  {
   "cell_type": "code",
   "execution_count": 20,
   "id": "e61038b6-8c4d-404a-a1e7-3291f7a41039",
   "metadata": {},
   "outputs": [
    {
     "name": "stdin",
     "output_type": "stream",
     "text": [
      "welcome 10\n"
     ]
    },
    {
     "name": "stdout",
     "output_type": "stream",
     "text": [
      "정수입니다\n"
     ]
    }
   ],
   "source": [
    "welcome = \"수치입력하세요\"\n",
    "x=float(input(\"welcome\"))\n",
    "if int(x)==x:\n",
    "    print(\"정수입니다\")\n",
    "else:\n",
    "    print(\"부동소수점입니다\")"
   ]
  },
  {
   "cell_type": "code",
   "execution_count": 21,
   "id": "ea703bb9-52b2-48e6-aef0-639f6633e3c9",
   "metadata": {},
   "outputs": [],
   "source": [
    "#강의 답"
   ]
  },
  {
   "cell_type": "code",
   "execution_count": 22,
   "id": "9d9113c6-6179-454b-b0da-007326280af5",
   "metadata": {},
   "outputs": [],
   "source": [
    "dt_kr=\"2022-02-04\"\n",
    "dt_us=\"02-04-2022\""
   ]
  },
  {
   "cell_type": "code",
   "execution_count": 23,
   "id": "e64fd120-4ee1-470f-999e-d765319940b0",
   "metadata": {},
   "outputs": [],
   "source": [
    "import datetime"
   ]
  },
  {
   "cell_type": "code",
   "execution_count": 24,
   "id": "59983146-16ed-4c19-b088-93a9b6508812",
   "metadata": {},
   "outputs": [
    {
     "data": {
      "text/plain": [
       "['MAXYEAR',\n",
       " 'MINYEAR',\n",
       " '__builtins__',\n",
       " '__cached__',\n",
       " '__doc__',\n",
       " '__file__',\n",
       " '__loader__',\n",
       " '__name__',\n",
       " '__package__',\n",
       " '__spec__',\n",
       " 'date',\n",
       " 'datetime',\n",
       " 'datetime_CAPI',\n",
       " 'sys',\n",
       " 'time',\n",
       " 'timedelta',\n",
       " 'timezone',\n",
       " 'tzinfo']"
      ]
     },
     "execution_count": 24,
     "metadata": {},
     "output_type": "execute_result"
    }
   ],
   "source": [
    "dir(datetime)"
   ]
  },
  {
   "cell_type": "code",
   "execution_count": 25,
   "id": "2620e635-d032-4594-9dce-ce78d4c3311f",
   "metadata": {},
   "outputs": [
    {
     "data": {
      "text/plain": [
       "['__add__',\n",
       " '__class__',\n",
       " '__delattr__',\n",
       " '__dir__',\n",
       " '__doc__',\n",
       " '__eq__',\n",
       " '__format__',\n",
       " '__ge__',\n",
       " '__getattribute__',\n",
       " '__gt__',\n",
       " '__hash__',\n",
       " '__init__',\n",
       " '__init_subclass__',\n",
       " '__le__',\n",
       " '__lt__',\n",
       " '__ne__',\n",
       " '__new__',\n",
       " '__radd__',\n",
       " '__reduce__',\n",
       " '__reduce_ex__',\n",
       " '__repr__',\n",
       " '__rsub__',\n",
       " '__setattr__',\n",
       " '__sizeof__',\n",
       " '__str__',\n",
       " '__sub__',\n",
       " '__subclasshook__',\n",
       " 'astimezone',\n",
       " 'combine',\n",
       " 'ctime',\n",
       " 'date',\n",
       " 'day',\n",
       " 'dst',\n",
       " 'fold',\n",
       " 'fromisoformat',\n",
       " 'fromordinal',\n",
       " 'fromtimestamp',\n",
       " 'hour',\n",
       " 'isocalendar',\n",
       " 'isoformat',\n",
       " 'isoweekday',\n",
       " 'max',\n",
       " 'microsecond',\n",
       " 'min',\n",
       " 'minute',\n",
       " 'month',\n",
       " 'now',\n",
       " 'replace',\n",
       " 'resolution',\n",
       " 'second',\n",
       " 'strftime',\n",
       " 'strptime',\n",
       " 'time',\n",
       " 'timestamp',\n",
       " 'timetuple',\n",
       " 'timetz',\n",
       " 'today',\n",
       " 'toordinal',\n",
       " 'tzinfo',\n",
       " 'tzname',\n",
       " 'utcfromtimestamp',\n",
       " 'utcnow',\n",
       " 'utcoffset',\n",
       " 'utctimetuple',\n",
       " 'weekday',\n",
       " 'year']"
      ]
     },
     "execution_count": 25,
     "metadata": {},
     "output_type": "execute_result"
    }
   ],
   "source": [
    "dir(datetime.datetime)"
   ]
  },
  {
   "cell_type": "code",
   "execution_count": 26,
   "id": "cd01aff1-132f-40c2-b1f7-05ce7500ac6a",
   "metadata": {},
   "outputs": [
    {
     "data": {
      "text/plain": [
       "datetime.datetime(2022, 2, 4, 11, 7, 15, 567760)"
      ]
     },
     "execution_count": 26,
     "metadata": {},
     "output_type": "execute_result"
    }
   ],
   "source": [
    "datetime.datetime.now()"
   ]
  },
  {
   "cell_type": "code",
   "execution_count": 28,
   "id": "96abeafb-7063-4b48-a354-98e767ac83f8",
   "metadata": {},
   "outputs": [
    {
     "data": {
      "text/plain": [
       "int"
      ]
     },
     "execution_count": 28,
     "metadata": {},
     "output_type": "execute_result"
    }
   ],
   "source": [
    "type(datetime.datetime.now().year) #int이면 수치로 뽑아낼 수 있다는 뜻"
   ]
  },
  {
   "cell_type": "code",
   "execution_count": 29,
   "id": "fdcf09a5-a170-4ad6-9105-69259b28ac3e",
   "metadata": {},
   "outputs": [
    {
     "data": {
      "text/plain": [
       "4"
      ]
     },
     "execution_count": 29,
     "metadata": {},
     "output_type": "execute_result"
    }
   ],
   "source": [
    "datetime.datetime.now().year\n",
    "datetime.datetime.now().month\n",
    "datetime.datetime.now().day"
   ]
  },
  {
   "cell_type": "code",
   "execution_count": 30,
   "id": "a5f7dbc7-0e62-464e-bc08-52c5e965a069",
   "metadata": {},
   "outputs": [],
   "source": [
    "import datetime #?? 뒤 y m d뽑아내는거?\n",
    "from datetime import datetime #이렇게 뽑아내면 앞 생략가능"
   ]
  },
  {
   "cell_type": "code",
   "execution_count": 31,
   "id": "565736ff-3756-422d-8815-8dc8be78fa07",
   "metadata": {},
   "outputs": [
    {
     "data": {
      "text/plain": [
       "4"
      ]
     },
     "execution_count": 31,
     "metadata": {},
     "output_type": "execute_result"
    }
   ],
   "source": [
    "datetime.now().year\n",
    "datetime.now().month\n",
    "datetime.now().day"
   ]
  },
  {
   "cell_type": "code",
   "execution_count": 32,
   "id": "9bea4225-5bc1-447e-8ab8-5c07b84c5b56",
   "metadata": {},
   "outputs": [
    {
     "name": "stdout",
     "output_type": "stream",
     "text": [
      "2022-2-4\n"
     ]
    }
   ],
   "source": [
    "yyyy=str(datetime.now().year)\n",
    "mm=str(datetime.now().month)\n",
    "dd=str(datetime.now().day)\n",
    "today=\"{}-{}-{}\".format(yyyy,mm,dd)\n",
    "print(today)"
   ]
  },
  {
   "cell_type": "code",
   "execution_count": 33,
   "id": "d5c50802-df27-4839-a400-1a8aa527b399",
   "metadata": {},
   "outputs": [
    {
     "data": {
      "text/plain": [
       "5"
      ]
     },
     "execution_count": 33,
     "metadata": {},
     "output_type": "execute_result"
    }
   ],
   "source": [
    "datetime.now().hour\n",
    "datetime.now().minute\n",
    "datetime.now().second\n"
   ]
  },
  {
   "cell_type": "code",
   "execution_count": 34,
   "id": "14923487-9204-4975-b936-c71f033b10ac",
   "metadata": {},
   "outputs": [],
   "source": [
    "def current_time():\n",
    "    hr=datetime.now().hour\n",
    "    mi=datetime.now().minute\n",
    "    se=datetime.now().second\n",
    "    print(\"현재시간은{}시{}분{}초입니다\".format(hr,mi,se))"
   ]
  },
  {
   "cell_type": "code",
   "execution_count": 35,
   "id": "181da34f-243d-415f-8e42-b42fa5a4b676",
   "metadata": {},
   "outputs": [
    {
     "name": "stdout",
     "output_type": "stream",
     "text": [
      "현재시간은11시18분33초입니다\n"
     ]
    }
   ],
   "source": [
    "current_time()"
   ]
  },
  {
   "cell_type": "code",
   "execution_count": 38,
   "id": "762e8b97-824c-4d54-8dcc-72ca5564094a",
   "metadata": {},
   "outputs": [],
   "source": [
    "def current_time(x=1): #기본 인자값을 가져보자 1을 넣으면 밑 구문()에 아무것도 안넣어도 나옴\n",
    "    if x==0:\n",
    "        yyyy=datetime.now().year\n",
    "        mm=datetime.now().month\n",
    "        dd=datetime.now().day\n",
    "        print(\"오늘날짜는 {}년{}월{}일입니다\".format(yyyy,mm,dd))\n",
    "    else:\n",
    "        hr=datetime.now().hour\n",
    "        mi=datetime.now().minute\n",
    "        se=datetime.now().second\n",
    "        print(\"현재시간은{}시{}분{}초입니다\".format(hr,mi,se))"
   ]
  },
  {
   "cell_type": "code",
   "execution_count": 39,
   "id": "13185dd8-e993-4297-a3e0-a06f1cbd08be",
   "metadata": {},
   "outputs": [
    {
     "name": "stdout",
     "output_type": "stream",
     "text": [
      "현재시간은11시23분41초입니다\n"
     ]
    }
   ],
   "source": [
    "current_time()"
   ]
  },
  {
   "cell_type": "code",
   "execution_count": 41,
   "id": "f429fa0c-b82e-455e-a918-78c2c185af68",
   "metadata": {},
   "outputs": [
    {
     "ename": "SyntaxError",
     "evalue": "invalid syntax (Temp/ipykernel_7564/2214866475.py, line 7)",
     "output_type": "error",
     "traceback": [
      "\u001b[1;36m  File \u001b[1;32m\"C:\\Users\\user\\AppData\\Local\\Temp/ipykernel_7564/2214866475.py\"\u001b[1;36m, line \u001b[1;32m7\u001b[0m\n\u001b[1;33m    else\u001b[0m\n\u001b[1;37m        ^\u001b[0m\n\u001b[1;31mSyntaxError\u001b[0m\u001b[1;31m:\u001b[0m invalid syntax\n"
     ]
    }
   ],
   "source": [
    "##짝수면if 짝수출력, 홀수면if 홀수출력\n",
    "## 2로 나눈 몫을 함께 출력(짝수) //2\n",
    "## 3으로 나눈 나머지 값을 출력(홀수) %3\n",
    "x=int(input(\"숫자입력\"))\n",
    "if x%2 == 0:\n",
    "    print(\"짝수이고 몫{}입니다\".format(x//2))\n",
    "else\n",
    "    print(\"홀수이고 나머지{}입니다\".format(x%3))"
   ]
  },
  {
   "cell_type": "code",
   "execution_count": 42,
   "id": "03e65f39-4511-4535-a76b-a8cfa450f36a",
   "metadata": {},
   "outputs": [
    {
     "name": "stdin",
     "output_type": "stream",
     "text": [
      "숫자입력 4\n"
     ]
    },
    {
     "name": "stdout",
     "output_type": "stream",
     "text": [
      "짝수다. 몫은2\n"
     ]
    }
   ],
   "source": [
    "def judge_odds(x):\n",
    "    if x%2==0:\n",
    "        print(\"짝수다. 몫은{}\".format(x//2))\n",
    "    else:\n",
    "        print(\"홀수다. 나머지은{}\".format(x%3))\n",
    "x=int(input(\"숫자입력\"))\n",
    "judge_odds(x)"
   ]
  },
  {
   "cell_type": "code",
   "execution_count": 44,
   "id": "14fa9cc1-c3be-455b-95fe-0b0d5f19d9a5",
   "metadata": {},
   "outputs": [],
   "source": [
    "if True:\n",
    "    pass"
   ]
  },
  {
   "cell_type": "code",
   "execution_count": 45,
   "id": "344f038c-6977-4a60-ab44-d9be4406ab7e",
   "metadata": {},
   "outputs": [],
   "source": [
    "li=[20,\"dd\", True, False]"
   ]
  },
  {
   "cell_type": "code",
   "execution_count": 56,
   "id": "08a83192-446a-4922-aa7d-59a955c37604",
   "metadata": {},
   "outputs": [
    {
     "data": {
      "text/plain": [
       "[20, 'dd']"
      ]
     },
     "execution_count": 56,
     "metadata": {},
     "output_type": "execute_result"
    }
   ],
   "source": [
    "li[0:2] #0번부터 0-2개만큼 뽑아와라"
   ]
  },
  {
   "cell_type": "code",
   "execution_count": 47,
   "id": "fd60f3f6-53c3-4157-b26e-33b3230b71af",
   "metadata": {},
   "outputs": [],
   "source": [
    "li2=[li,li]"
   ]
  },
  {
   "cell_type": "code",
   "execution_count": 48,
   "id": "4545616d-0d28-4709-9cc8-1151aa51e44f",
   "metadata": {},
   "outputs": [
    {
     "data": {
      "text/plain": [
       "[[20, 'dd', True, False], [20, 'dd', True, False]]"
      ]
     },
     "execution_count": 48,
     "metadata": {},
     "output_type": "execute_result"
    }
   ],
   "source": [
    "li2"
   ]
  },
  {
   "cell_type": "code",
   "execution_count": 50,
   "id": "e3ebffd9-6f53-4218-80b9-05d02e4ba390",
   "metadata": {},
   "outputs": [
    {
     "data": {
      "text/plain": [
       "str"
      ]
     },
     "execution_count": 50,
     "metadata": {},
     "output_type": "execute_result"
    }
   ],
   "source": [
    "type(li[1])"
   ]
  },
  {
   "cell_type": "code",
   "execution_count": 53,
   "id": "7e8cab44-c7ce-4fd1-bf05-6ab69a7c1d55",
   "metadata": {},
   "outputs": [
    {
     "data": {
      "text/plain": [
       "['sf']"
      ]
     },
     "execution_count": 53,
     "metadata": {},
     "output_type": "execute_result"
    }
   ],
   "source": [
    "li1=[\"sf\"]\n",
    "li1"
   ]
  },
  {
   "cell_type": "code",
   "execution_count": 55,
   "id": "329f8598-8990-4694-8937-f27cb631c8cd",
   "metadata": {},
   "outputs": [
    {
     "data": {
      "text/plain": [
       "list"
      ]
     },
     "execution_count": 55,
     "metadata": {},
     "output_type": "execute_result"
    }
   ],
   "source": [
    "type(li1)"
   ]
  },
  {
   "cell_type": "code",
   "execution_count": 58,
   "id": "544398a5-0102-41f1-992c-de1a5f06328f",
   "metadata": {},
   "outputs": [
    {
     "data": {
      "text/plain": [
       "list"
      ]
     },
     "execution_count": 58,
     "metadata": {},
     "output_type": "execute_result"
    }
   ],
   "source": [
    "type(li[1:2])"
   ]
  },
  {
   "cell_type": "code",
   "execution_count": 59,
   "id": "a3d652fb-583b-4d60-9b91-b4b9d149a2bf",
   "metadata": {},
   "outputs": [
    {
     "data": {
      "text/plain": [
       "False"
      ]
     },
     "execution_count": 59,
     "metadata": {},
     "output_type": "execute_result"
    }
   ],
   "source": [
    "li[1:2]==li[1] #리스트랑 스트링이라 펄스"
   ]
  },
  {
   "cell_type": "code",
   "execution_count": 60,
   "id": "b3ab4beb-6a55-4598-aa96-1c2e816a204f",
   "metadata": {},
   "outputs": [
    {
     "data": {
      "text/plain": [
       "'dd'"
      ]
     },
     "execution_count": 60,
     "metadata": {},
     "output_type": "execute_result"
    }
   ],
   "source": [
    "li[1:2][0] #가져온 리스트에서 0번째 인덱스를 가져와"
   ]
  },
  {
   "cell_type": "code",
   "execution_count": 62,
   "id": "938ed4a0-1550-4b35-ac87-647c77eae5dd",
   "metadata": {},
   "outputs": [
    {
     "data": {
      "text/plain": [
       "[1, 2, 3, 4, 5, 6, 7, 8, 9, 10]"
      ]
     },
     "execution_count": 62,
     "metadata": {},
     "output_type": "execute_result"
    }
   ],
   "source": [
    "list(range(1,11)) #출발숫자, 간격"
   ]
  },
  {
   "cell_type": "code",
   "execution_count": 64,
   "id": "dfc0f71e-cf6f-4752-abf5-32191a3c43c0",
   "metadata": {},
   "outputs": [
    {
     "ename": "NameError",
     "evalue": "name 'a' is not defined",
     "output_type": "error",
     "traceback": [
      "\u001b[1;31m---------------------------------------------------------------------------\u001b[0m",
      "\u001b[1;31mNameError\u001b[0m                                 Traceback (most recent call last)",
      "\u001b[1;32m~\\AppData\\Local\\Temp/ipykernel_7564/924815237.py\u001b[0m in \u001b[0;36m<module>\u001b[1;34m\u001b[0m\n\u001b[1;32m----> 1\u001b[1;33m \u001b[0ma\u001b[0m\u001b[1;33m[\u001b[0m\u001b[1;36m1\u001b[0m\u001b[1;33m:\u001b[0m\u001b[1;36m10\u001b[0m\u001b[1;33m]\u001b[0m\u001b[1;33m\u001b[0m\u001b[1;33m\u001b[0m\u001b[0m\n\u001b[0m\u001b[0;32m      2\u001b[0m \u001b[0ma\u001b[0m\u001b[1;33m\u001b[0m\u001b[1;33m\u001b[0m\u001b[0m\n",
      "\u001b[1;31mNameError\u001b[0m: name 'a' is not defined"
     ]
    }
   ],
   "source": [
    "a[1:10]\n",
    "a"
   ]
  },
  {
   "cell_type": "code",
   "execution_count": 66,
   "id": "5d340ff9-8a79-4316-9bba-f902e1680265",
   "metadata": {},
   "outputs": [
    {
     "ename": "TypeError",
     "evalue": "list indices must be integers or slices, not list",
     "output_type": "error",
     "traceback": [
      "\u001b[1;31m---------------------------------------------------------------------------\u001b[0m",
      "\u001b[1;31mTypeError\u001b[0m                                 Traceback (most recent call last)",
      "\u001b[1;32m~\\AppData\\Local\\Temp/ipykernel_7564/2114833818.py\u001b[0m in \u001b[0;36m<module>\u001b[1;34m\u001b[0m\n\u001b[1;32m----> 1\u001b[1;33m \u001b[0ma\u001b[0m\u001b[1;33m[\u001b[0m\u001b[1;33m[\u001b[0m\u001b[1;36m0\u001b[0m\u001b[1;33m,\u001b[0m\u001b[1;36m2\u001b[0m\u001b[1;33m,\u001b[0m\u001b[1;36m4\u001b[0m\u001b[1;33m,\u001b[0m\u001b[1;36m6\u001b[0m\u001b[1;33m,\u001b[0m\u001b[1;36m8\u001b[0m\u001b[1;33m]\u001b[0m\u001b[1;33m]\u001b[0m \u001b[1;31m#[]만 하면 ,기준 차원으로 나눔. [[]]로 리스트를 가져올 수 있음\u001b[0m\u001b[1;33m\u001b[0m\u001b[1;33m\u001b[0m\u001b[0m\n\u001b[0m",
      "\u001b[1;31mTypeError\u001b[0m: list indices must be integers or slices, not list"
     ]
    }
   ],
   "source": [
    "a[[0,2,4,6,8]] #[]만 하면 ,기준 차원으로 나눔. [[]]로 리스트를 가져올 수 있음"
   ]
  },
  {
   "cell_type": "code",
   "execution_count": 67,
   "id": "33cdf9bd-8b5b-457d-b577-449008c0aea0",
   "metadata": {},
   "outputs": [
    {
     "ename": "SyntaxError",
     "evalue": "unexpected EOF while parsing (Temp/ipykernel_7564/2848641072.py, line 1)",
     "output_type": "error",
     "traceback": [
      "\u001b[1;36m  File \u001b[1;32m\"C:\\Users\\user\\AppData\\Local\\Temp/ipykernel_7564/2848641072.py\"\u001b[1;36m, line \u001b[1;32m1\u001b[0m\n\u001b[1;33m    a[[True ,True] #리스트를 끄집어내려면 문장으로 써서 for문을 쓴다\u001b[0m\n\u001b[1;37m                                                ^\u001b[0m\n\u001b[1;31mSyntaxError\u001b[0m\u001b[1;31m:\u001b[0m unexpected EOF while parsing\n"
     ]
    }
   ],
   "source": [
    "a[[True ,True] #리스트를 끄집어내려면 문장으로 써서 for문을 쓴다"
   ]
  },
  {
   "cell_type": "code",
   "execution_count": 68,
   "id": "623085e7-d05b-4ca0-93ca-939a29144250",
   "metadata": {},
   "outputs": [
    {
     "data": {
      "text/plain": [
       "[[0, 2, 4, 6, 8]]"
      ]
     },
     "execution_count": 68,
     "metadata": {},
     "output_type": "execute_result"
    }
   ],
   "source": [
    "a[1:11][3:5]+a"
   ]
  },
  {
   "cell_type": "code",
   "execution_count": 69,
   "id": "555bc4cb-3f8b-4316-bcdb-85a1bfe18fee",
   "metadata": {},
   "outputs": [
    {
     "data": {
      "text/plain": [
       "[[0, 2, 4, 6, 8], 11]"
      ]
     },
     "execution_count": 69,
     "metadata": {},
     "output_type": "execute_result"
    }
   ],
   "source": [
    "a.append(11)\n",
    "a"
   ]
  },
  {
   "cell_type": "code",
   "execution_count": 70,
   "id": "613cb0ce-35de-448b-898a-d9d5e7dc113d",
   "metadata": {},
   "outputs": [],
   "source": [
    "a.insert(1,7)"
   ]
  },
  {
   "cell_type": "code",
   "execution_count": 71,
   "id": "26cd71aa-3e96-47e8-8f32-391d11f95d39",
   "metadata": {},
   "outputs": [
    {
     "data": {
      "text/plain": [
       "[[0, 2, 4, 6, 8], 7, 11]"
      ]
     },
     "execution_count": 71,
     "metadata": {},
     "output_type": "execute_result"
    }
   ],
   "source": [
    "a"
   ]
  },
  {
   "cell_type": "code",
   "execution_count": 72,
   "id": "d04fc57e-bc8c-47bf-b888-ff0e43c7cf14",
   "metadata": {},
   "outputs": [
    {
     "data": {
      "text/plain": [
       "[0, 2, 4, 6, 8]"
      ]
     },
     "execution_count": 72,
     "metadata": {},
     "output_type": "execute_result"
    }
   ],
   "source": [
    "a.pop(0) #0번째 요소를 끄집어 내면서 하나의 객체가 되고 남은것은 새로운 인덱스가 됨"
   ]
  },
  {
   "cell_type": "code",
   "execution_count": 73,
   "id": "068c3af8-c9d6-45d4-89ef-07998a9c965e",
   "metadata": {},
   "outputs": [
    {
     "data": {
      "text/plain": [
       "[7, 11]"
      ]
     },
     "execution_count": 73,
     "metadata": {},
     "output_type": "execute_result"
    }
   ],
   "source": [
    "a"
   ]
  },
  {
   "cell_type": "code",
   "execution_count": 74,
   "id": "29b3ec5e-5ffd-47c9-99f1-4cfab3920530",
   "metadata": {},
   "outputs": [
    {
     "data": {
      "text/plain": [
       "[7]"
      ]
     },
     "execution_count": 74,
     "metadata": {},
     "output_type": "execute_result"
    }
   ],
   "source": [
    "a.remove(11) #위치정보가 아니라 값 자체를 없애는 것이 특징\n",
    "a"
   ]
  },
  {
   "cell_type": "code",
   "execution_count": 75,
   "id": "54c1fa9e-fa88-4b4c-9e8f-10c4dc5b245c",
   "metadata": {},
   "outputs": [],
   "source": [
    "a.extend([12,23]) #리스트가 아니라 끄집어 내서 붙임"
   ]
  },
  {
   "cell_type": "code",
   "execution_count": 76,
   "id": "9d2de3e6-01fb-4540-b639-65e0a07e7754",
   "metadata": {},
   "outputs": [
    {
     "data": {
      "text/plain": [
       "[7, 12, 23]"
      ]
     },
     "execution_count": 76,
     "metadata": {},
     "output_type": "execute_result"
    }
   ],
   "source": [
    "a"
   ]
  },
  {
   "cell_type": "code",
   "execution_count": 77,
   "id": "d5456a81-7dd0-4b15-a5ad-627c18be1f61",
   "metadata": {},
   "outputs": [],
   "source": [
    "# del object #이렇게 쓰면 object가 명령어로 사라짐"
   ]
  },
  {
   "cell_type": "code",
   "execution_count": 78,
   "id": "1fde8b1d-a0d0-4ac7-9299-01cb80ad24cf",
   "metadata": {},
   "outputs": [],
   "source": [
    "a=[1,2,3,4]"
   ]
  },
  {
   "cell_type": "code",
   "execution_count": 79,
   "id": "53709a78-87ca-4f19-98ea-56db1d922bd0",
   "metadata": {},
   "outputs": [
    {
     "data": {
      "text/plain": [
       "4"
      ]
     },
     "execution_count": 79,
     "metadata": {},
     "output_type": "execute_result"
    }
   ],
   "source": [
    "len(a)"
   ]
  },
  {
   "cell_type": "code",
   "execution_count": 80,
   "id": "18be08f7-7593-487e-a826-f5fb98810827",
   "metadata": {},
   "outputs": [
    {
     "data": {
      "text/plain": [
       "[1, 2, 3]"
      ]
     },
     "execution_count": 80,
     "metadata": {},
     "output_type": "execute_result"
    }
   ],
   "source": [
    "del a[3]\n",
    "a"
   ]
  },
  {
   "cell_type": "code",
   "execution_count": 82,
   "id": "a40ae9b4-a2b0-4388-8dc3-ea2b3e273a55",
   "metadata": {},
   "outputs": [
    {
     "data": {
      "text/plain": [
       "[1, 3, 5, 7, 9, 11, 13, 15, 17, 19]"
      ]
     },
     "execution_count": 82,
     "metadata": {},
     "output_type": "execute_result"
    }
   ],
   "source": [
    "a=list(range(1,20,2)) #C=create\n",
    "a"
   ]
  },
  {
   "cell_type": "code",
   "execution_count": 84,
   "id": "abd6ad2f-a1ea-49d9-9e5a-f94d84cf98da",
   "metadata": {},
   "outputs": [
    {
     "data": {
      "text/plain": [
       "[1, 3, 5, 7, 9, 11, 13, 15, 17, 19, 31, 31]"
      ]
     },
     "execution_count": 84,
     "metadata": {},
     "output_type": "execute_result"
    }
   ],
   "source": [
    "a.append(31)\n",
    "a"
   ]
  },
  {
   "cell_type": "code",
   "execution_count": 85,
   "id": "b33df242-f9a8-4149-9f6c-86941db81145",
   "metadata": {},
   "outputs": [
    {
     "data": {
      "text/plain": [
       "12"
      ]
     },
     "execution_count": 85,
     "metadata": {},
     "output_type": "execute_result"
    }
   ],
   "source": [
    "len(a)"
   ]
  },
  {
   "cell_type": "code",
   "execution_count": 86,
   "id": "ff25c0ce-ac4c-4f4c-b8b3-4dcc8b42a099",
   "metadata": {},
   "outputs": [
    {
     "data": {
      "text/plain": [
       "[1, 3, 5, 7, 9, 11, 13, 15, 17, 19, 31, 31, 33]"
      ]
     },
     "execution_count": 86,
     "metadata": {},
     "output_type": "execute_result"
    }
   ],
   "source": [
    "a.insert(len(a),33) #(위치정보 인덱스,넣을값) #해당위치에 값을 추가\n",
    "a"
   ]
  },
  {
   "cell_type": "code",
   "execution_count": 87,
   "id": "8a383776-96b9-43fd-8df5-7f1ed4014b8c",
   "metadata": {},
   "outputs": [
    {
     "data": {
      "text/plain": [
       "[0, 1, 3, 5, 7, 9, 11, 13, 15, 17, 19, 31, 31, 33]"
      ]
     },
     "execution_count": 87,
     "metadata": {},
     "output_type": "execute_result"
    }
   ],
   "source": [
    "a.insert(0,0)\n",
    "a"
   ]
  },
  {
   "cell_type": "code",
   "execution_count": 88,
   "id": "429e9963-664c-40e1-a9ae-55b4d8365687",
   "metadata": {},
   "outputs": [],
   "source": [
    "a.extend(range(35,46,2)) #range가list랑 유사한 이유."
   ]
  },
  {
   "cell_type": "code",
   "execution_count": 89,
   "id": "50873369-a9d0-47e5-b9ea-c0e310618d8d",
   "metadata": {},
   "outputs": [
    {
     "data": {
      "text/plain": [
       "[0, 1, 3, 5, 7, 9, 11, 13, 15, 17, 19, 31, 31, 33, 35, 37, 39, 41, 43, 45]"
      ]
     },
     "execution_count": 89,
     "metadata": {},
     "output_type": "execute_result"
    }
   ],
   "source": [
    "a"
   ]
  },
  {
   "cell_type": "code",
   "execution_count": 90,
   "id": "4c63f6c9-2937-44b8-b020-ada9a87b4b51",
   "metadata": {},
   "outputs": [
    {
     "data": {
      "text/plain": [
       "45"
      ]
     },
     "execution_count": 90,
     "metadata": {},
     "output_type": "execute_result"
    }
   ],
   "source": [
    "a[-1]"
   ]
  },
  {
   "cell_type": "code",
   "execution_count": 91,
   "id": "8443f0ba-2925-4202-ac71-9f90eef69ecb",
   "metadata": {},
   "outputs": [
    {
     "data": {
      "text/plain": [
       "[0, 1, 3, 5, 7, 9, 11, 13, 15, 17]"
      ]
     },
     "execution_count": 91,
     "metadata": {},
     "output_type": "execute_result"
    }
   ],
   "source": [
    "a[0:10]"
   ]
  },
  {
   "cell_type": "code",
   "execution_count": 93,
   "id": "18bc8ed0-0e50-449b-b522-952f9dd95948",
   "metadata": {},
   "outputs": [
    {
     "data": {
      "text/plain": [
       "[10, 1, 3, 5, 7, 9, 11, 13, 15, 17, 10, 31, 31, 33, 35, 37, 39, 41, 43, 45]"
      ]
     },
     "execution_count": 93,
     "metadata": {},
     "output_type": "execute_result"
    }
   ],
   "source": [
    "a[0]=10\n",
    "a"
   ]
  },
  {
   "cell_type": "code",
   "execution_count": 94,
   "id": "7e481967-1baf-4df1-bc3e-4ab809692238",
   "metadata": {},
   "outputs": [
    {
     "data": {
      "text/plain": [
       "10"
      ]
     },
     "execution_count": 94,
     "metadata": {},
     "output_type": "execute_result"
    }
   ],
   "source": [
    "a.pop(0)"
   ]
  },
  {
   "cell_type": "code",
   "execution_count": 95,
   "id": "ec9ac5d6-f97a-4cb3-bf74-e290d708fb86",
   "metadata": {},
   "outputs": [
    {
     "data": {
      "text/plain": [
       "[1, 3, 5, 7, 9, 11, 13, 15, 17, 10, 31, 31, 33, 35, 37, 39, 41, 43, 45]"
      ]
     },
     "execution_count": 95,
     "metadata": {},
     "output_type": "execute_result"
    }
   ],
   "source": [
    "a"
   ]
  },
  {
   "cell_type": "code",
   "execution_count": 96,
   "id": "cd525788-1ddb-483a-bb7b-cba7b82e1f08",
   "metadata": {},
   "outputs": [
    {
     "data": {
      "text/plain": [
       "[1, 5, 7, 9, 11, 13, 15, 17, 10, 31, 31, 33, 35, 37, 39, 41, 43, 45]"
      ]
     },
     "execution_count": 96,
     "metadata": {},
     "output_type": "execute_result"
    }
   ],
   "source": [
    "a.remove(3) #R\n",
    "a"
   ]
  },
  {
   "cell_type": "code",
   "execution_count": 97,
   "id": "b05c74be-42c2-484f-afae-0ba23dd3e244",
   "metadata": {},
   "outputs": [
    {
     "ename": "SyntaxError",
     "evalue": "invalid syntax (Temp/ipykernel_7564/4233905774.py, line 1)",
     "output_type": "error",
     "traceback": [
      "\u001b[1;36m  File \u001b[1;32m\"C:\\Users\\user\\AppData\\Local\\Temp/ipykernel_7564/4233905774.py\"\u001b[1;36m, line \u001b[1;32m1\u001b[0m\n\u001b[1;33m    a.pop(0:3)\u001b[0m\n\u001b[1;37m           ^\u001b[0m\n\u001b[1;31mSyntaxError\u001b[0m\u001b[1;31m:\u001b[0m invalid syntax\n"
     ]
    }
   ],
   "source": [
    "a.pop(0:3)"
   ]
  },
  {
   "cell_type": "code",
   "execution_count": 98,
   "id": "d727ea7d-5ac1-4656-b070-ef93d6b79c9d",
   "metadata": {},
   "outputs": [
    {
     "ename": "SyntaxError",
     "evalue": "invalid syntax (Temp/ipykernel_7564/2759980757.py, line 1)",
     "output_type": "error",
     "traceback": [
      "\u001b[1;36m  File \u001b[1;32m\"C:\\Users\\user\\AppData\\Local\\Temp/ipykernel_7564/2759980757.py\"\u001b[1;36m, line \u001b[1;32m1\u001b[0m\n\u001b[1;33m    a.pop([0:3])\u001b[0m\n\u001b[1;37m            ^\u001b[0m\n\u001b[1;31mSyntaxError\u001b[0m\u001b[1;31m:\u001b[0m invalid syntax\n"
     ]
    }
   ],
   "source": [
    "a.pop([0:3])\n",
    "a"
   ]
  },
  {
   "cell_type": "code",
   "execution_count": 99,
   "id": "220154c5-6602-4903-9a59-e73fd712b5d4",
   "metadata": {},
   "outputs": [
    {
     "ename": "TypeError",
     "evalue": "'list' object cannot be interpreted as an integer",
     "output_type": "error",
     "traceback": [
      "\u001b[1;31m---------------------------------------------------------------------------\u001b[0m",
      "\u001b[1;31mTypeError\u001b[0m                                 Traceback (most recent call last)",
      "\u001b[1;32m~\\AppData\\Local\\Temp/ipykernel_7564/3231579107.py\u001b[0m in \u001b[0;36m<module>\u001b[1;34m\u001b[0m\n\u001b[1;32m----> 1\u001b[1;33m \u001b[0ma\u001b[0m\u001b[1;33m.\u001b[0m\u001b[0mpop\u001b[0m\u001b[1;33m(\u001b[0m\u001b[1;33m[\u001b[0m\u001b[1;36m0\u001b[0m\u001b[1;33m,\u001b[0m\u001b[1;36m1\u001b[0m\u001b[1;33m,\u001b[0m\u001b[1;36m2\u001b[0m\u001b[1;33m]\u001b[0m\u001b[1;33m)\u001b[0m\u001b[1;33m\u001b[0m\u001b[1;33m\u001b[0m\u001b[0m\n\u001b[0m\u001b[0;32m      2\u001b[0m \u001b[0ma\u001b[0m\u001b[1;33m\u001b[0m\u001b[1;33m\u001b[0m\u001b[0m\n",
      "\u001b[1;31mTypeError\u001b[0m: 'list' object cannot be interpreted as an integer"
     ]
    }
   ],
   "source": [
    "a.pop([0,1,2])\n",
    "a"
   ]
  },
  {
   "cell_type": "code",
   "execution_count": 100,
   "id": "a8ae1627-bf5f-4aab-afaa-86342defb91a",
   "metadata": {},
   "outputs": [],
   "source": [
    "#즉, pop은 하나의 스칼라 값만 들어감. 벡터가 안들어감"
   ]
  },
  {
   "cell_type": "code",
   "execution_count": 103,
   "id": "52150cc7-ba96-4e0c-9edd-4ecfbf032373",
   "metadata": {},
   "outputs": [
    {
     "data": {
      "text/plain": [
       "[15, 17, 10, 31, 31, 33, 35, 37, 39, 41, 43, 45]"
      ]
     },
     "execution_count": 103,
     "metadata": {},
     "output_type": "execute_result"
    }
   ],
   "source": [
    "del a[0:3] #D\n",
    "a"
   ]
  },
  {
   "cell_type": "code",
   "execution_count": 104,
   "id": "6280b4cf-963d-45f6-843f-142961ecdff2",
   "metadata": {},
   "outputs": [
    {
     "ename": "NameError",
     "evalue": "name 'ind' is not defined",
     "output_type": "error",
     "traceback": [
      "\u001b[1;31m---------------------------------------------------------------------------\u001b[0m",
      "\u001b[1;31mNameError\u001b[0m                                 Traceback (most recent call last)",
      "\u001b[1;32m~\\AppData\\Local\\Temp/ipykernel_7564/4005289350.py\u001b[0m in \u001b[0;36m<module>\u001b[1;34m\u001b[0m\n\u001b[1;32m----> 1\u001b[1;33m \u001b[0ma\u001b[0m\u001b[1;33m[\u001b[0m\u001b[0mind\u001b[0m\u001b[1;33m]\u001b[0m \u001b[1;31m##ind인덱스(하나의 값, 슬라이스)\u001b[0m\u001b[1;33m\u001b[0m\u001b[1;33m\u001b[0m\u001b[0m\n\u001b[0m",
      "\u001b[1;31mNameError\u001b[0m: name 'ind' is not defined"
     ]
    }
   ],
   "source": [
    "a[ind] ##ind인덱스(하나의 값, 슬라이스)"
   ]
  },
  {
   "cell_type": "code",
   "execution_count": 105,
   "id": "5c9ab39c-9a68-4843-90ae-db7378a1bb7c",
   "metadata": {},
   "outputs": [
    {
     "data": {
      "text/plain": [
       "False"
      ]
     },
     "execution_count": 105,
     "metadata": {},
     "output_type": "execute_result"
    }
   ],
   "source": [
    "12 in [1,2,3,4] #값 in[리스트]"
   ]
  },
  {
   "cell_type": "code",
   "execution_count": 106,
   "id": "c3215519-81f6-4832-b1e7-40968769494c",
   "metadata": {},
   "outputs": [
    {
     "data": {
      "text/plain": [
       "True"
      ]
     },
     "execution_count": 106,
     "metadata": {},
     "output_type": "execute_result"
    }
   ],
   "source": [
    "12 not in [1,2,3,4]"
   ]
  },
  {
   "cell_type": "code",
   "execution_count": 107,
   "id": "524343e7-51d3-40cb-93fc-a66a0b9a7450",
   "metadata": {},
   "outputs": [],
   "source": [
    "#반복문"
   ]
  },
  {
   "cell_type": "code",
   "execution_count": 108,
   "id": "1445a934-7446-419b-8939-b09781b5898c",
   "metadata": {},
   "outputs": [],
   "source": [
    "#i라는 문자를 20번 찍기: 반복객체=list(range(20))\n",
    "#for 반복자 in 반복객체: #반복객체는 인덱스값을 가지고 있음\n",
    "# print (\"실행명령어\")"
   ]
  },
  {
   "cell_type": "code",
   "execution_count": 109,
   "id": "0a5daf84-e6b8-4eb8-8aa5-2fcb0430ed35",
   "metadata": {},
   "outputs": [
    {
     "data": {
      "text/plain": [
       "[0, 1, 2, 3, 4, 5, 6, 7, 8, 9, 10, 11, 12, 13, 14, 15, 16, 17, 18, 19]"
      ]
     },
     "execution_count": 109,
     "metadata": {},
     "output_type": "execute_result"
    }
   ],
   "source": [
    "반복객체=list(range(20))\n",
    "반복객체"
   ]
  },
  {
   "cell_type": "code",
   "execution_count": 110,
   "id": "45385ce4-6241-4102-b445-8de71a003e35",
   "metadata": {},
   "outputs": [
    {
     "data": {
      "text/plain": [
       "20"
      ]
     },
     "execution_count": 110,
     "metadata": {},
     "output_type": "execute_result"
    }
   ],
   "source": [
    "반복객체=list(range(20))\n",
    "len(반복객체)"
   ]
  },
  {
   "cell_type": "code",
   "execution_count": 111,
   "id": "28ec58bf-e35c-4c85-8400-5a027b33a51b",
   "metadata": {},
   "outputs": [
    {
     "name": "stdout",
     "output_type": "stream",
     "text": [
      "i\n",
      "i\n",
      "i\n",
      "i\n",
      "i\n",
      "i\n",
      "i\n",
      "i\n",
      "i\n",
      "i\n",
      "i\n",
      "i\n",
      "i\n",
      "i\n",
      "i\n",
      "i\n",
      "i\n",
      "i\n",
      "i\n",
      "i\n"
     ]
    }
   ],
   "source": [
    "반복객체=list(range(20))\n",
    "for 반복자 in 반복객체:\n",
    "    print (\"i\")"
   ]
  },
  {
   "cell_type": "code",
   "execution_count": 112,
   "id": "6be619cb-89e3-4ac2-86e6-38411e0ee874",
   "metadata": {},
   "outputs": [
    {
     "name": "stdout",
     "output_type": "stream",
     "text": [
      "i\n",
      "i\n",
      "i\n",
      "i\n",
      "i\n",
      "i\n",
      "i\n",
      "i\n",
      "i\n",
      "i\n"
     ]
    }
   ],
   "source": [
    "반복객체=list(range(5,15))\n",
    "for 반복자 in 반복객체:\n",
    "    print (\"i\")"
   ]
  },
  {
   "cell_type": "code",
   "execution_count": 113,
   "id": "172a597a-095c-4a1a-9549-9ba797974939",
   "metadata": {},
   "outputs": [
    {
     "data": {
      "text/plain": [
       "<enumerate at 0x29a60831ae8>"
      ]
     },
     "execution_count": 113,
     "metadata": {},
     "output_type": "execute_result"
    }
   ],
   "source": [
    "enumerate(반복객체) #인덱스(자리값) 뽑을 수 있음 "
   ]
  },
  {
   "cell_type": "code",
   "execution_count": 114,
   "id": "d22f3cdc-f69a-4df0-9fd0-4aa11cb013bb",
   "metadata": {},
   "outputs": [
    {
     "data": {
      "text/plain": [
       "[5, 6, 7, 8, 9, 10, 11, 12, 13, 14]"
      ]
     },
     "execution_count": 114,
     "metadata": {},
     "output_type": "execute_result"
    }
   ],
   "source": [
    "반복객체"
   ]
  },
  {
   "cell_type": "code",
   "execution_count": 115,
   "id": "6d51da4c-6623-4ac9-81ea-9ce1a7caaec1",
   "metadata": {},
   "outputs": [
    {
     "name": "stdout",
     "output_type": "stream",
     "text": [
      "(0, 5)\n",
      "(1, 6)\n",
      "(2, 7)\n",
      "(3, 8)\n",
      "(4, 9)\n",
      "(5, 10)\n",
      "(6, 11)\n",
      "(7, 12)\n",
      "(8, 13)\n",
      "(9, 14)\n"
     ]
    }
   ],
   "source": [
    "for i in enumerate(반복객체): #(인덱스값, 밸류값)\n",
    "    print(i)"
   ]
  },
  {
   "cell_type": "code",
   "execution_count": 116,
   "id": "d173dc48-4328-493a-8144-86055036f4bc",
   "metadata": {},
   "outputs": [
    {
     "name": "stdout",
     "output_type": "stream",
     "text": [
      "5\n",
      "6\n",
      "7\n",
      "8\n",
      "9\n",
      "10\n",
      "11\n",
      "12\n",
      "13\n",
      "14\n"
     ]
    }
   ],
   "source": [
    "for i,z in enumerate(반복객체):\n",
    "    print(z)"
   ]
  },
  {
   "cell_type": "code",
   "execution_count": 117,
   "id": "171b3293-e586-49c3-ab3d-cf1deb2f87de",
   "metadata": {},
   "outputs": [
    {
     "name": "stdout",
     "output_type": "stream",
     "text": [
      "0\n",
      "5\n",
      "1\n",
      "6\n",
      "2\n",
      "7\n",
      "3\n",
      "8\n",
      "4\n",
      "9\n",
      "5\n",
      "10\n",
      "6\n",
      "11\n",
      "7\n",
      "12\n",
      "8\n",
      "13\n",
      "9\n",
      "14\n"
     ]
    }
   ],
   "source": [
    "for i,z in enumerate(반복객체):\n",
    "    print(i)\n",
    "    print(z)"
   ]
  },
  {
   "cell_type": "code",
   "execution_count": 118,
   "id": "1626febc-9b79-49f5-b383-0f2268ba0a32",
   "metadata": {},
   "outputs": [
    {
     "name": "stdout",
     "output_type": "stream",
     "text": [
      "0 5\n",
      "1 6\n",
      "2 7\n",
      "3 8\n",
      "4 9\n",
      "5 10\n",
      "6 11\n",
      "7 12\n",
      "8 13\n",
      "9 14\n"
     ]
    }
   ],
   "source": [
    "for i,z in enumerate(반복객체):\n",
    "    print(i,z)"
   ]
  },
  {
   "cell_type": "code",
   "execution_count": 119,
   "id": "15d995bc-8ebb-451c-a9e7-9c7c68280eec",
   "metadata": {},
   "outputs": [
    {
     "name": "stdout",
     "output_type": "stream",
     "text": [
      "i 인덱스는0, 값은5\n",
      "i 인덱스는1, 값은6\n",
      "i 인덱스는2, 값은7\n",
      "i 인덱스는3, 값은8\n",
      "i 인덱스는4, 값은9\n",
      "i 인덱스는5, 값은10\n",
      "i 인덱스는6, 값은11\n",
      "i 인덱스는7, 값은12\n",
      "i 인덱스는8, 값은13\n",
      "i 인덱스는9, 값은14\n"
     ]
    }
   ],
   "source": [
    "반복객체=list(range(5,15)) #15번째 인덱스에서 stop\n",
    "for ind, value in enumerate(반복객체):\n",
    "    print (\"i\",\"인덱스는{}, 값은{}\".format(ind,value))"
   ]
  },
  {
   "cell_type": "code",
   "execution_count": 120,
   "id": "07ac8433-529b-4885-adc6-aafcbf76766e",
   "metadata": {},
   "outputs": [
    {
     "name": "stdout",
     "output_type": "stream",
     "text": [
      "k\n",
      "k\n",
      "k\n",
      "k\n",
      "k\n",
      "k\n",
      "k\n",
      "k\n",
      "k\n",
      "k\n",
      "k\n",
      "k\n",
      "k\n",
      "k\n",
      "k\n",
      "k\n",
      "k\n",
      "k\n",
      "k\n",
      "k\n"
     ]
    }
   ],
   "source": [
    "for i in \"a\"*20:\n",
    "    print(\"k\")"
   ]
  },
  {
   "cell_type": "code",
   "execution_count": 121,
   "id": "d77ed3d6-5988-4bc7-946d-9149f44b64ff",
   "metadata": {},
   "outputs": [
    {
     "name": "stdout",
     "output_type": "stream",
     "text": [
      "0\n",
      "1\n",
      "2\n",
      "3\n",
      "4\n",
      "5\n",
      "6\n",
      "7\n",
      "8\n",
      "9\n"
     ]
    }
   ],
   "source": [
    "for i in range(10):\n",
    "    print(i)"
   ]
  },
  {
   "cell_type": "code",
   "execution_count": 123,
   "id": "0b134b62-b181-4bd7-8b0b-a6c702cfb5e6",
   "metadata": {},
   "outputs": [
    {
     "name": "stdout",
     "output_type": "stream",
     "text": [
      "뽑아온 값0, 합한 값0\n",
      "뽑아온 값1, 합한 값1\n",
      "뽑아온 값2, 합한 값3\n",
      "뽑아온 값3, 합한 값6\n",
      "뽑아온 값4, 합한 값10\n",
      "뽑아온 값5, 합한 값15\n",
      "뽑아온 값6, 합한 값21\n",
      "뽑아온 값7, 합한 값28\n",
      "뽑아온 값8, 합한 값36\n",
      "뽑아온 값9, 합한 값45\n"
     ]
    }
   ],
   "source": [
    "#0이라는 초기값에서 주어진 순서대로 더함\n",
    "s=0 #초기값 #for문은 초기값이 중요\n",
    "for i in range(10):\n",
    "    s += i\n",
    "    print(\"뽑아온 값{}, 합한 값{}\".format(i,s))"
   ]
  },
  {
   "cell_type": "code",
   "execution_count": 124,
   "id": "5f180f12-0c1e-499e-b0c8-d9f267c6ef21",
   "metadata": {},
   "outputs": [
    {
     "data": {
      "text/plain": [
       "[0, 1, 2, 3, 4, 5, 6, 7, 8, 9]"
      ]
     },
     "execution_count": 124,
     "metadata": {},
     "output_type": "execute_result"
    }
   ],
   "source": [
    "a=list(range(10))\n",
    "a"
   ]
  },
  {
   "cell_type": "code",
   "execution_count": 125,
   "id": "15158481-2ae4-4709-88eb-c32ab68592d9",
   "metadata": {},
   "outputs": [],
   "source": [
    "b=[]\n",
    "for i in range(10):\n",
    "    b.append(i)"
   ]
  },
  {
   "cell_type": "code",
   "execution_count": 126,
   "id": "60a0b823-e6dd-4f6b-8db9-c7b2a730ad97",
   "metadata": {},
   "outputs": [
    {
     "data": {
      "text/plain": [
       "[0, 1, 2, 3, 4, 5, 6, 7, 8, 9]"
      ]
     },
     "execution_count": 126,
     "metadata": {},
     "output_type": "execute_result"
    }
   ],
   "source": [
    "b"
   ]
  },
  {
   "cell_type": "code",
   "execution_count": 127,
   "id": "216a87f3-42d5-4123-b6c5-7e7706d75377",
   "metadata": {},
   "outputs": [
    {
     "data": {
      "text/plain": [
       "True"
      ]
     },
     "execution_count": 127,
     "metadata": {},
     "output_type": "execute_result"
    }
   ],
   "source": [
    "b==a"
   ]
  },
  {
   "cell_type": "code",
   "execution_count": 128,
   "id": "d2279ea8-fd47-44bf-a67b-847f4010fe44",
   "metadata": {},
   "outputs": [],
   "source": [
    "a=list(range(1,100)) #칸당1-99까지 있음"
   ]
  },
  {
   "cell_type": "code",
   "execution_count": 130,
   "id": "49507e8c-ba10-47eb-9e88-80a886242a96",
   "metadata": {},
   "outputs": [
    {
     "name": "stdout",
     "output_type": "stream",
     "text": [
      "1\n",
      "3\n",
      "5\n",
      "7\n",
      "9\n",
      "11\n",
      "13\n",
      "15\n",
      "17\n",
      "19\n",
      "21\n",
      "23\n",
      "25\n",
      "27\n",
      "29\n",
      "31\n",
      "33\n",
      "35\n",
      "37\n",
      "39\n",
      "41\n",
      "43\n",
      "45\n",
      "47\n",
      "49\n",
      "51\n",
      "53\n",
      "55\n",
      "57\n",
      "59\n",
      "61\n",
      "63\n",
      "65\n",
      "67\n",
      "69\n",
      "71\n",
      "73\n",
      "75\n",
      "77\n",
      "79\n",
      "81\n",
      "83\n",
      "85\n",
      "87\n",
      "89\n",
      "91\n",
      "93\n",
      "95\n",
      "97\n",
      "99\n"
     ]
    }
   ],
   "source": [
    "b=[]\n",
    "for k,v in enumerate(a):\n",
    "        print(a.pop(k))"
   ]
  },
  {
   "cell_type": "code",
   "execution_count": 131,
   "id": "8d9afdb3-d844-4968-af0a-366ef95e57a9",
   "metadata": {},
   "outputs": [
    {
     "data": {
      "text/plain": [
       "[2,\n",
       " 4,\n",
       " 6,\n",
       " 8,\n",
       " 10,\n",
       " 12,\n",
       " 14,\n",
       " 16,\n",
       " 18,\n",
       " 20,\n",
       " 22,\n",
       " 24,\n",
       " 26,\n",
       " 28,\n",
       " 30,\n",
       " 32,\n",
       " 34,\n",
       " 36,\n",
       " 38,\n",
       " 40,\n",
       " 42,\n",
       " 44,\n",
       " 46,\n",
       " 48,\n",
       " 50,\n",
       " 52,\n",
       " 54,\n",
       " 56,\n",
       " 58,\n",
       " 60,\n",
       " 62,\n",
       " 64,\n",
       " 66,\n",
       " 68,\n",
       " 70,\n",
       " 72,\n",
       " 74,\n",
       " 76,\n",
       " 78,\n",
       " 80,\n",
       " 82,\n",
       " 84,\n",
       " 86,\n",
       " 88,\n",
       " 90,\n",
       " 92,\n",
       " 94,\n",
       " 96,\n",
       " 98]"
      ]
     },
     "execution_count": 131,
     "metadata": {},
     "output_type": "execute_result"
    }
   ],
   "source": [
    "a"
   ]
  },
  {
   "cell_type": "code",
   "execution_count": 132,
   "id": "0d50571d-7589-4fa7-82d1-522ebf5e6cc5",
   "metadata": {},
   "outputs": [],
   "source": [
    "b=[]\n",
    "for k,v in enumerate(a):\n",
    "        b.append(a.pop(k))"
   ]
  },
  {
   "cell_type": "code",
   "execution_count": 134,
   "id": "1faa11ee-7553-4d68-9a7b-e16c3aca8005",
   "metadata": {},
   "outputs": [
    {
     "data": {
      "text/plain": [
       "100"
      ]
     },
     "execution_count": 134,
     "metadata": {},
     "output_type": "execute_result"
    }
   ],
   "source": [
    "a=[]\n",
    "for i in range(10):\n",
    "    for j in range(10): #j값에 넣어져 10번씩 돌아감\n",
    "        a.append(0)\n",
    "len(a)"
   ]
  },
  {
   "cell_type": "code",
   "execution_count": null,
   "id": "3036111d-d661-4eff-8e15-05a94147a0d9",
   "metadata": {},
   "outputs": [],
   "source": [
    "b=[]\n",
    "for i in a:\n",
    "    if i % 2 == 0:\n",
    "        a.pop()"
   ]
  },
  {
   "cell_type": "code",
   "execution_count": 135,
   "id": "a1ae87c9-fcaa-4362-b084-522cd6a85499",
   "metadata": {},
   "outputs": [
    {
     "name": "stdout",
     "output_type": "stream",
     "text": [
      "2\n",
      "4\n",
      "6\n",
      "8\n",
      "10\n",
      "12\n",
      "14\n",
      "16\n",
      "18\n"
     ]
    }
   ],
   "source": [
    "for i in range(1,10):\n",
    "    print(i*2) #숫자넣음 구구단, 뒤가 변하는 값으로 반복."
   ]
  },
  {
   "cell_type": "code",
   "execution_count": 138,
   "id": "7d13a335-bf02-4c64-bafb-41fa327b6384",
   "metadata": {},
   "outputs": [
    {
     "name": "stdout",
     "output_type": "stream",
     "text": [
      "2x2=4\n",
      "2x3=6\n",
      "2x4=8\n",
      "2x5=10\n",
      "2x6=12\n",
      "2x7=14\n",
      "2x8=16\n",
      "2x9=18\n",
      "3x2=6\n",
      "3x3=9\n",
      "3x4=12\n",
      "3x5=15\n",
      "3x6=18\n",
      "3x7=21\n",
      "3x8=24\n",
      "3x9=27\n",
      "4x2=8\n",
      "4x3=12\n",
      "4x4=16\n",
      "4x5=20\n",
      "4x6=24\n",
      "4x7=28\n",
      "4x8=32\n",
      "4x9=36\n",
      "5x2=10\n",
      "5x3=15\n",
      "5x4=20\n",
      "5x5=25\n",
      "5x6=30\n",
      "5x7=35\n",
      "5x8=40\n",
      "5x9=45\n",
      "6x2=12\n",
      "6x3=18\n",
      "6x4=24\n",
      "6x5=30\n",
      "6x6=36\n",
      "6x7=42\n",
      "6x8=48\n",
      "6x9=54\n",
      "7x2=14\n",
      "7x3=21\n",
      "7x4=28\n",
      "7x5=35\n",
      "7x6=42\n",
      "7x7=49\n",
      "7x8=56\n",
      "7x9=63\n",
      "8x2=16\n",
      "8x3=24\n",
      "8x4=32\n",
      "8x5=40\n",
      "8x6=48\n",
      "8x7=56\n",
      "8x8=64\n",
      "8x9=72\n",
      "9x2=18\n",
      "9x3=27\n",
      "9x4=36\n",
      "9x5=45\n",
      "9x6=54\n",
      "9x7=63\n",
      "9x8=72\n",
      "9x9=81\n"
     ]
    }
   ],
   "source": [
    "for i in range(2,10):\n",
    "    for j in range(2,10):\n",
    "        print(f'{i}x{j}={i*j}') #print로 받으며 초기화시킬 필요 없음"
   ]
  },
  {
   "cell_type": "code",
   "execution_count": 140,
   "id": "5bbf2b9e-3a6a-445e-827a-3902fb13b55c",
   "metadata": {},
   "outputs": [],
   "source": [
    "f=1\n",
    "for i in range(1,6):\n",
    "    f *= i"
   ]
  },
  {
   "cell_type": "code",
   "execution_count": 141,
   "id": "a1432727-72cc-4fb9-87a5-61547b4b8cc4",
   "metadata": {},
   "outputs": [
    {
     "data": {
      "text/plain": [
       "120"
      ]
     },
     "execution_count": 141,
     "metadata": {},
     "output_type": "execute_result"
    }
   ],
   "source": [
    "f"
   ]
  },
  {
   "cell_type": "code",
   "execution_count": 142,
   "id": "5ad3dccf-1d42-4ef9-a9ba-54fde324aa4d",
   "metadata": {},
   "outputs": [],
   "source": [
    "#인덱스를 보려면 enumerate"
   ]
  },
  {
   "cell_type": "code",
   "execution_count": 143,
   "id": "c27bd780-afa7-4fbc-8bc2-f703535dc13f",
   "metadata": {},
   "outputs": [
    {
     "name": "stdout",
     "output_type": "stream",
     "text": [
      "-100이상의 수:273\n",
      "-100이상의 수:103\n",
      "-100이상의 수:800\n"
     ]
    }
   ],
   "source": [
    "numbers = [273,103,5,32,65,9,72,800]\n",
    "#numbers의 값중 100이상의 숫자만 출력하게 만들기\n",
    "\n",
    "for number in numbers:\n",
    "    if number >=100:\n",
    "        print(f'-100이상의 수:{number}')"
   ]
  },
  {
   "cell_type": "code",
   "execution_count": null,
   "id": "2978a162-b4b5-4d6c-897e-b2cfa877e596",
   "metadata": {},
   "outputs": [],
   "source": [
    "-100이상의 수:273 은 {}번째 인덱스에 있습니다."
   ]
  },
  {
   "cell_type": "code",
   "execution_count": 144,
   "id": "2a303b2f-ae19-4354-b4be-5d93f7334bdf",
   "metadata": {},
   "outputs": [
    {
     "name": "stdout",
     "output_type": "stream",
     "text": [
      "-100이상의 수:273은 0번쨰 인덱스에 있다\n",
      "-100이상의 수:103은 1번쨰 인덱스에 있다\n",
      "-100이상의 수:800은 7번쨰 인덱스에 있다\n"
     ]
    }
   ],
   "source": [
    "numbers = [273,103,5,32,65,9,72,800]\n",
    "#numbers의 값중 100이상의 숫자만 출력하게 만들기\n",
    "i=0\n",
    "for number in numbers:\n",
    "    if number >=100:\n",
    "        print(f'-100이상의 수:{number}은 {i}번쨰 인덱스에 있다')\n",
    "    i += 1"
   ]
  },
  {
   "cell_type": "code",
   "execution_count": 145,
   "id": "436e2110-9d66-4ec1-a4f5-28dbee86bd11",
   "metadata": {},
   "outputs": [
    {
     "name": "stdout",
     "output_type": "stream",
     "text": [
      "-100이상의 수:273은 0번쨰 인덱스에 있다\n",
      "-100이상의 수:103은 1번쨰 인덱스에 있다\n",
      "-100이상의 수:800은 7번쨰 인덱스에 있다\n"
     ]
    }
   ],
   "source": [
    "for k, number in enumerate(numbers):\n",
    "    if number >= 100:\n",
    "        print(f'-100이상의 수:{number}은 {k}번쨰 인덱스에 있다')\n",
    " "
   ]
  },
  {
   "cell_type": "code",
   "execution_count": 148,
   "id": "a2549c68-40ae-493a-afdb-5c6f005d5f0e",
   "metadata": {},
   "outputs": [],
   "source": [
    "list_of_list = [[1,2,3],[4,5,6,],[8,9],] #끝에 , 한번 더 찍으면 나주에 편함"
   ]
  },
  {
   "cell_type": "code",
   "execution_count": 149,
   "id": "bb5e28dc-cc2d-429c-bda2-eef9e8957f98",
   "metadata": {},
   "outputs": [
    {
     "data": {
      "text/plain": [
       "[[1, 2, 3], [4, 5, 6], [8, 9]]"
      ]
     },
     "execution_count": 149,
     "metadata": {},
     "output_type": "execute_result"
    }
   ],
   "source": [
    "list_of_list"
   ]
  },
  {
   "cell_type": "code",
   "execution_count": 150,
   "id": "37afc4ad-555d-436e-b8c7-13ed8f51ba95",
   "metadata": {},
   "outputs": [
    {
     "name": "stdout",
     "output_type": "stream",
     "text": [
      "1\n",
      "2\n",
      "3\n",
      "4\n",
      "5\n",
      "6\n",
      "7\n",
      "8\n",
      "9\n"
     ]
    }
   ],
   "source": [
    "for i in range(1,10):\n",
    "    print(i)"
   ]
  },
  {
   "cell_type": "code",
   "execution_count": 154,
   "id": "6905e24b-4dec-48fc-9567-6b27b4f0fbf3",
   "metadata": {},
   "outputs": [
    {
     "name": "stdout",
     "output_type": "stream",
     "text": [
      "[1, 2, 3]\n",
      "[4, 5, 6]\n",
      "[8, 9]\n"
     ]
    }
   ],
   "source": [
    "for i,z in enumerate(list_of_list):\n",
    "    print(z)"
   ]
  },
  {
   "cell_type": "code",
   "execution_count": 159,
   "id": "839b5616-59de-4f44-88e9-58fcbb609cc4",
   "metadata": {},
   "outputs": [
    {
     "name": "stdout",
     "output_type": "stream",
     "text": [
      "1\n",
      "2\n",
      "3\n",
      "4\n",
      "5\n",
      "6\n",
      "8\n",
      "9\n"
     ]
    }
   ],
   "source": [
    "a=[]\n",
    "for i in list_of_list:\n",
    "    a.extend(i)\n",
    "for i in a:\n",
    "    print(i)"
   ]
  },
  {
   "cell_type": "code",
   "execution_count": 158,
   "id": "e227ef17-5d53-4df2-8591-e21810398012",
   "metadata": {},
   "outputs": [
    {
     "name": "stdout",
     "output_type": "stream",
     "text": [
      "1\n",
      "2\n",
      "3\n",
      "4\n",
      "5\n",
      "6\n",
      "8\n",
      "9\n"
     ]
    }
   ],
   "source": [
    "for i in list_of_list:\n",
    "    for j in i:\n",
    "        print(j)"
   ]
  },
  {
   "cell_type": "code",
   "execution_count": 160,
   "id": "0fe1c3d8-983e-400c-9ee9-11d8ac7cfc5d",
   "metadata": {},
   "outputs": [],
   "source": [
    "a = list(range(10))"
   ]
  },
  {
   "cell_type": "code",
   "execution_count": 161,
   "id": "d54a1068-246b-49c0-8827-500b1885a5ea",
   "metadata": {},
   "outputs": [
    {
     "data": {
      "text/plain": [
       "[0, 1, 2, 3, 4, 5, 6, 7, 8, 9]"
      ]
     },
     "execution_count": 161,
     "metadata": {},
     "output_type": "execute_result"
    }
   ],
   "source": [
    "a"
   ]
  },
  {
   "cell_type": "code",
   "execution_count": 162,
   "id": "a9e73945-97e2-409d-af44-5a6c6e67a9be",
   "metadata": {},
   "outputs": [],
   "source": [
    "#for i in a: #요소마다 해줄 떄"
   ]
  },
  {
   "cell_type": "code",
   "execution_count": 163,
   "id": "717ab09a-51c6-45c4-aa39-4b355a0312ac",
   "metadata": {},
   "outputs": [],
   "source": [
    "b=[]\n",
    "for i in a:\n",
    "    b.append(i*2)"
   ]
  },
  {
   "cell_type": "code",
   "execution_count": 164,
   "id": "4a4b41ef-9bcd-4d79-a7b9-16dd91be5f13",
   "metadata": {},
   "outputs": [],
   "source": [
    "for k,v in enumerate(a):\n",
    "    a[k]=v*2"
   ]
  },
  {
   "cell_type": "code",
   "execution_count": 165,
   "id": "565d0b62-5075-4041-b3c6-7bc3020dabc3",
   "metadata": {},
   "outputs": [
    {
     "data": {
      "text/plain": [
       "[0, 2, 4, 6, 8, 10, 12, 14, 16, 18]"
      ]
     },
     "execution_count": 165,
     "metadata": {},
     "output_type": "execute_result"
    }
   ],
   "source": [
    "a"
   ]
  },
  {
   "cell_type": "code",
   "execution_count": 166,
   "id": "9fdbb7ff-6ad1-4b8e-89db-e939e7eee801",
   "metadata": {},
   "outputs": [
    {
     "ename": "SyntaxError",
     "evalue": "invalid syntax (Temp/ipykernel_7564/1562245373.py, line 2)",
     "output_type": "error",
     "traceback": [
      "\u001b[1;36m  File \u001b[1;32m\"C:\\Users\\user\\AppData\\Local\\Temp/ipykernel_7564/1562245373.py\"\u001b[1;36m, line \u001b[1;32m2\u001b[0m\n\u001b[1;33m    [k,v for k,v in enumerate(a)]\u001b[0m\n\u001b[1;37m           ^\u001b[0m\n\u001b[1;31mSyntaxError\u001b[0m\u001b[1;31m:\u001b[0m invalid syntax\n"
     ]
    }
   ],
   "source": [
    "#리스트 컴프레션: 한 줄로 써주는거\n",
    "[k,v for k,v in enumerate(a)]"
   ]
  },
  {
   "cell_type": "code",
   "execution_count": 167,
   "id": "56aa7a2c-c496-4d27-aec5-c5bfbb09ec84",
   "metadata": {},
   "outputs": [
    {
     "data": {
      "text/plain": [
       "[0, 4, 8, 12, 16, 20, 24, 28, 32, 36]"
      ]
     },
     "execution_count": 167,
     "metadata": {},
     "output_type": "execute_result"
    }
   ],
   "source": [
    "[v*2 for k,v in enumerate(a)]"
   ]
  },
  {
   "cell_type": "code",
   "execution_count": 168,
   "id": "4c3a68b6-6992-427d-a55a-6ca3bc88816e",
   "metadata": {},
   "outputs": [],
   "source": [
    "a=[v*2 for k,v in enumerate(a)]"
   ]
  },
  {
   "cell_type": "code",
   "execution_count": 171,
   "id": "44f6ef1d-0a87-4f12-bb48-5ec784dabae3",
   "metadata": {},
   "outputs": [],
   "source": [
    "a={\"one\":\"1\",\"two\":\"2\",} #딕셔너리"
   ]
  },
  {
   "cell_type": "code",
   "execution_count": 172,
   "id": "0ae676ba-db10-43b1-a82f-c9fa2e0759ce",
   "metadata": {},
   "outputs": [
    {
     "data": {
      "text/plain": [
       "'1'"
      ]
     },
     "execution_count": 172,
     "metadata": {},
     "output_type": "execute_result"
    }
   ],
   "source": [
    "a[\"one\"] #키값 찾기"
   ]
  },
  {
   "cell_type": "code",
   "execution_count": 173,
   "id": "32dd3604-4906-4ed8-b3ad-be46ea0ba18e",
   "metadata": {},
   "outputs": [],
   "source": [
    "a[\"three\"]=3 #추가=인서트"
   ]
  },
  {
   "cell_type": "code",
   "execution_count": 174,
   "id": "6b648bdc-f347-4bcc-b011-3cda3faa55ca",
   "metadata": {},
   "outputs": [
    {
     "data": {
      "text/plain": [
       "{'one': '1', 'two': '2', 'three': 3}"
      ]
     },
     "execution_count": 174,
     "metadata": {},
     "output_type": "execute_result"
    }
   ],
   "source": [
    "a"
   ]
  },
  {
   "cell_type": "code",
   "execution_count": 175,
   "id": "a1a8fc37-c56e-45cb-9401-c60e0d560d53",
   "metadata": {},
   "outputs": [],
   "source": [
    "a[\"three\"]=4 #있는 값에 바꿈 = 업데이트"
   ]
  },
  {
   "cell_type": "code",
   "execution_count": 176,
   "id": "a78d9611-0944-4f1e-ac8b-13ce2ee04fd4",
   "metadata": {},
   "outputs": [
    {
     "data": {
      "text/plain": [
       "{'one': '1', 'two': '2', 'three': 4}"
      ]
     },
     "execution_count": 176,
     "metadata": {},
     "output_type": "execute_result"
    }
   ],
   "source": [
    "a"
   ]
  },
  {
   "cell_type": "code",
   "execution_count": null,
   "id": "0a6801a3-d0ad-4f43-875a-1a2025c513ed",
   "metadata": {},
   "outputs": [],
   "source": [
    "a[\"one\",\"three\"] #값이 튜플로 묶이지 않음"
   ]
  },
  {
   "cell_type": "code",
   "execution_count": 177,
   "id": "0a41777c-741e-4e31-a783-36e1bdf7fb4b",
   "metadata": {},
   "outputs": [
    {
     "data": {
      "text/plain": [
       "['one', 'two', 'three']"
      ]
     },
     "execution_count": 177,
     "metadata": {},
     "output_type": "execute_result"
    }
   ],
   "source": [
    "list(a.keys())"
   ]
  },
  {
   "cell_type": "code",
   "execution_count": 179,
   "id": "37b31b2d-c158-420a-9b5a-98726d3a04fb",
   "metadata": {},
   "outputs": [],
   "source": [
    "dictionary = {\n",
    "    \"name\":\"망고\",\n",
    "    \"type\":\"당절임\",\n",
    "    \"ingredient\":[\"망고\",\"설탕\"],\n",
    "    \"origin\":\"필리핀\"\n",
    "}"
   ]
  },
  {
   "cell_type": "code",
   "execution_count": 180,
   "id": "91c53747-0dc4-4fe3-a8fc-324574e414be",
   "metadata": {},
   "outputs": [
    {
     "data": {
      "text/plain": [
       "'필리핀'"
      ]
     },
     "execution_count": 180,
     "metadata": {},
     "output_type": "execute_result"
    }
   ],
   "source": [
    "dictionary.get(\"origin\")"
   ]
  },
  {
   "cell_type": "code",
   "execution_count": 181,
   "id": "79ac4f73-64d2-4464-a80d-176e6e5c863b",
   "metadata": {},
   "outputs": [],
   "source": [
    "dictionary.get(\"존재하지않는키\") #get을 쓰면 에러안뜸"
   ]
  },
  {
   "cell_type": "code",
   "execution_count": 185,
   "id": "a31730c8-cba1-4a92-b8cc-f4375aec6ddb",
   "metadata": {},
   "outputs": [],
   "source": [
    "s=0\n",
    "for i in range(10):\n",
    "    dictionary.get(\"존재하지않는키\")\n",
    "    s += i"
   ]
  },
  {
   "cell_type": "code",
   "execution_count": 186,
   "id": "90713189-b23d-4fd9-8472-e5d527dc5561",
   "metadata": {},
   "outputs": [
    {
     "data": {
      "text/plain": [
       "45"
      ]
     },
     "execution_count": 186,
     "metadata": {},
     "output_type": "execute_result"
    }
   ],
   "source": [
    "s"
   ]
  },
  {
   "cell_type": "code",
   "execution_count": 188,
   "id": "dc9b51fa-4525-4fea-82af-600add65a3cb",
   "metadata": {},
   "outputs": [
    {
     "name": "stdout",
     "output_type": "stream",
     "text": [
      "name 망고\n",
      "type 당절임\n",
      "ingredient ['망고', '설탕']\n",
      "origin 필리핀\n"
     ]
    }
   ],
   "source": [
    "for k,v in dictionary.items():\n",
    "    print(k,v)"
   ]
  },
  {
   "cell_type": "code",
   "execution_count": 189,
   "id": "b2ae3327-0d30-4402-88fa-edcdc8236c32",
   "metadata": {},
   "outputs": [
    {
     "name": "stdout",
     "output_type": "stream",
     "text": [
      "name\n",
      "type\n",
      "ingredient\n",
      "origin\n"
     ]
    }
   ],
   "source": [
    "for v in dictionary:\n",
    "    print(v)"
   ]
  },
  {
   "cell_type": "code",
   "execution_count": 191,
   "id": "6fe46aed-9c95-4b00-9b57-1226749ec3ef",
   "metadata": {},
   "outputs": [
    {
     "name": "stdout",
     "output_type": "stream",
     "text": [
      "망고\n",
      "당절임\n",
      "['망고', '설탕']\n",
      "필리핀\n"
     ]
    }
   ],
   "source": [
    "for v in dictionary.values():\n",
    "    print(v)"
   ]
  },
  {
   "cell_type": "code",
   "execution_count": 192,
   "id": "139b2237-08c1-4521-a927-95b228df0cd2",
   "metadata": {},
   "outputs": [],
   "source": [
    "def multi(x,y):\n",
    "    return x*y"
   ]
  },
  {
   "cell_type": "code",
   "execution_count": 193,
   "id": "fdca29fe-dbc5-46c3-b582-0f1e7d8a2dc1",
   "metadata": {},
   "outputs": [
    {
     "data": {
      "text/plain": [
       "6"
      ]
     },
     "execution_count": 193,
     "metadata": {},
     "output_type": "execute_result"
    }
   ],
   "source": [
    "multi(2,3)"
   ]
  },
  {
   "cell_type": "code",
   "execution_count": 194,
   "id": "8b78f81e-3269-471c-a904-23285dc1858f",
   "metadata": {},
   "outputs": [],
   "source": [
    "dic={\"x\":3,\"y\":2}"
   ]
  },
  {
   "cell_type": "code",
   "execution_count": null,
   "id": "b1565abe-735c-4de5-a655-ef04290c4464",
   "metadata": {},
   "outputs": [],
   "source": [
    "multi(**dic)"
   ]
  },
  {
   "cell_type": "code",
   "execution_count": null,
   "id": "2a1b4d1d-7b67-4f25-b66c-d31049684356",
   "metadata": {},
   "outputs": [],
   "source": [
    "numbers=[1,2,5,2,3,5,7,9,6,4,3]\n",
    "count={}\n",
    "for number in numbers:\n",
    "    count[number]=number"
   ]
  },
  {
   "cell_type": "code",
   "execution_count": null,
   "id": "4bd2944b-a9fc-43bd-ac2d-6bbab91a5807",
   "metadata": {},
   "outputs": [],
   "source": [
    "count"
   ]
  },
  {
   "cell_type": "markdown",
   "id": "72a36def-f006-41e9-bd1e-88917c1f4e3c",
   "metadata": {},
   "source": [
    "1 in numbers"
   ]
  },
  {
   "cell_type": "code",
   "execution_count": 1,
   "id": "8ca661e4-e11e-470c-bfcb-6842eabc31f1",
   "metadata": {},
   "outputs": [
    {
     "name": "stdout",
     "output_type": "stream",
     "text": [
      "True\n",
      "True\n",
      "True\n",
      "True\n",
      "True\n",
      "True\n",
      "True\n",
      "True\n",
      "True\n",
      "True\n",
      "True\n"
     ]
    }
   ],
   "source": [
    "numbers=[1,2,5,2,3,5,7,9,6,4,3]\n",
    "count={}\n",
    "for number in numbers:\n",
    "    print(number in numbers)\n",
    "    count[number]=number"
   ]
  },
  {
   "cell_type": "code",
   "execution_count": 2,
   "id": "452ef64a-b334-48cf-acc0-1b4b1cf408e0",
   "metadata": {},
   "outputs": [
    {
     "name": "stdout",
     "output_type": "stream",
     "text": [
      "name:기사\n",
      "level:12\n",
      "sword:불꽃의 검\n",
      "armor:풀플레이트\n",
      "skill:베기\n",
      "skill:세게 베기\n",
      "skill:아주 세게 베기\n"
     ]
    }
   ],
   "source": [
    "numbers = [1,2,6,8,4,3,2,1,9,5,4,9,7,2,1,3,5,4,8,9,7,2,3,]\n",
    "count = {}\n",
    "\n",
    "for number in numbers:\n",
    "    count[number] = numbers.count(number)\n",
    "\n",
    "count = {number:numbers.count(number) for number in numbers}\n",
    "\n",
    "numbers = [1,2,6,8,4,3,2,1,9,5,4,9,7,2,1,3,5,4,8,9,7,2,3,]\n",
    "\n",
    "count = {}\n",
    "for number in numbers:\n",
    "    if count.get(number) == None:\n",
    "        count[number] = 1\n",
    "    else:\n",
    "        count[number] = count[number] + 1\n",
    "\n",
    "character = {\n",
    "    \"name\":\"기사\",\n",
    "    \"level\":12,\n",
    "    \"items\":{\n",
    "        \"sword\":\"불꽃의 검\",\n",
    "        \"armor\":\"풀플레이트\"\n",
    "    },\n",
    "    \"skill\":[\"베기\",\"세게 베기\",\"아주 세게 베기\"]\n",
    "}\n",
    "\n",
    "for key in character:\n",
    "    if type(character[key]) == str or type(character[key]) == int: \n",
    "        print(f'{key}:{character[key]}')\n",
    "    elif type(character[key]) == dict:\n",
    "        for k,v in character[key].items():\n",
    "            print(f'{k}:{v}')\n",
    "    else:\n",
    "        for i in character[key]:\n",
    "            print(f'{key}:{i}')\n",
    "\n",
    "            "
   ]
  },
  {
   "cell_type": "code",
   "execution_count": null,
   "id": "b6b7c092-b99e-4d31-8cdf-b1ca67c014c7",
   "metadata": {},
   "outputs": [],
   "source": []
  }
 ],
 "metadata": {
  "kernelspec": {
   "display_name": "kbu",
   "language": "python",
   "name": "kbu"
  },
  "language_info": {
   "codemirror_mode": {
    "name": "ipython",
    "version": 3
   },
   "file_extension": ".py",
   "mimetype": "text/x-python",
   "name": "python",
   "nbconvert_exporter": "python",
   "pygments_lexer": "ipython3",
   "version": "3.7.11"
  }
 },
 "nbformat": 4,
 "nbformat_minor": 5
}
