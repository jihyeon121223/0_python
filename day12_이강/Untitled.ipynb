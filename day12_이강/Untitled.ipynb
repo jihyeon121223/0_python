{
 "cells": [
  {
   "cell_type": "code",
   "execution_count": 1,
   "id": "132615a1-4d4d-41bb-89cd-c3f044af77b2",
   "metadata": {},
   "outputs": [],
   "source": [
    "numbers=[1,2,5,2,3,5,7,9,6,4,3]\n",
    "count={}\n",
    "for number in numbers:\n",
    "    count[number]=number"
   ]
  },
  {
   "cell_type": "code",
   "execution_count": 2,
   "id": "e140139c-3ee0-4048-93bd-889edf6e6f9d",
   "metadata": {},
   "outputs": [
    {
     "data": {
      "text/plain": [
       "{1: 1, 2: 2, 5: 5, 3: 3, 7: 7, 9: 9, 6: 6, 4: 4}"
      ]
     },
     "execution_count": 2,
     "metadata": {},
     "output_type": "execute_result"
    }
   ],
   "source": [
    "count"
   ]
  },
  {
   "cell_type": "code",
   "execution_count": 3,
   "id": "2cb99f48-460d-41f2-87f3-096837cc01e7",
   "metadata": {},
   "outputs": [],
   "source": [
    "numbers=[1,2,5,2,3,5,7,9,6,4,3]\n",
    "count={}"
   ]
  },
  {
   "cell_type": "code",
   "execution_count": 5,
   "id": "04a82904-944d-44b9-965f-3bfefbdbda3e",
   "metadata": {},
   "outputs": [],
   "source": [
    "for number in numbers:\n",
    "    count[number]=numbers.count(number)"
   ]
  },
  {
   "cell_type": "code",
   "execution_count": 6,
   "id": "ced5beaf-e71c-47e7-9d8e-2956dbd7fb9f",
   "metadata": {},
   "outputs": [
    {
     "data": {
      "text/plain": [
       "{1: 1, 2: 2, 5: 2, 3: 2, 7: 1, 9: 1, 6: 1, 4: 1}"
      ]
     },
     "execution_count": 6,
     "metadata": {},
     "output_type": "execute_result"
    }
   ],
   "source": [
    "count"
   ]
  },
  {
   "cell_type": "code",
   "execution_count": 7,
   "id": "190f5456-8d10-488d-8c0e-181f8e855161",
   "metadata": {},
   "outputs": [],
   "source": [
    "#한 줄로 만들기"
   ]
  },
  {
   "cell_type": "code",
   "execution_count": 9,
   "id": "c0359071-4100-4cd3-90de-2086595ac037",
   "metadata": {},
   "outputs": [],
   "source": [
    "count = {number:numbers.count(number) for number in numbers}"
   ]
  },
  {
   "cell_type": "code",
   "execution_count": 10,
   "id": "920b61b3-bd20-4576-9e52-69a5c2989a3e",
   "metadata": {},
   "outputs": [
    {
     "data": {
      "text/plain": [
       "{1: 1, 2: 2, 5: 2, 3: 2, 7: 1, 9: 1, 6: 1, 4: 1}"
      ]
     },
     "execution_count": 10,
     "metadata": {},
     "output_type": "execute_result"
    }
   ],
   "source": [
    "count"
   ]
  },
  {
   "cell_type": "code",
   "execution_count": 11,
   "id": "7d875d04-ab65-4726-aab1-7da1f6eee43a",
   "metadata": {},
   "outputs": [],
   "source": [
    "#다른 방법"
   ]
  },
  {
   "cell_type": "code",
   "execution_count": null,
   "id": "fb1eba1e-45bc-4665-8945-2b91f22cfafa",
   "metadata": {},
   "outputs": [],
   "source": [
    "for number in numbers: #한줄짜기 중요\n",
    "    count[number]=count[number]+int(number in numbers)"
   ]
  },
  {
   "cell_type": "code",
   "execution_count": 12,
   "id": "d24cfe8d-e22c-49c1-8481-28b13222b9de",
   "metadata": {},
   "outputs": [
    {
     "data": {
      "text/plain": [
       "True"
      ]
     },
     "execution_count": 12,
     "metadata": {},
     "output_type": "execute_result"
    }
   ],
   "source": [
    "1 in numbers"
   ]
  },
  {
   "cell_type": "code",
   "execution_count": 13,
   "id": "cc1b21fe-8711-4997-ada6-8ab18445ced4",
   "metadata": {},
   "outputs": [
    {
     "data": {
      "text/plain": [
       "1"
      ]
     },
     "execution_count": 13,
     "metadata": {},
     "output_type": "execute_result"
    }
   ],
   "source": [
    "int(1 in numbers)"
   ]
  },
  {
   "cell_type": "code",
   "execution_count": 14,
   "id": "74086d5f-2d8e-4d2e-9984-b4a85297a593",
   "metadata": {},
   "outputs": [
    {
     "data": {
      "text/plain": [
       "0"
      ]
     },
     "execution_count": 14,
     "metadata": {},
     "output_type": "execute_result"
    }
   ],
   "source": [
    "int(10 in numbers)"
   ]
  },
  {
   "cell_type": "code",
   "execution_count": 17,
   "id": "0ae79449-9484-455f-a14e-e8c9f27b3bb7",
   "metadata": {},
   "outputs": [],
   "source": [
    "count={}\n",
    "for number in numbers:\n",
    "    if count.get(number)==None: #초기값\n",
    "        count[number]=0+int(number in numbers)\n",
    "    else:\n",
    "        count[number]=count[number]+int(number in numbers)"
   ]
  },
  {
   "cell_type": "code",
   "execution_count": 18,
   "id": "0f340786-3c01-4de9-be8c-14939415bfe8",
   "metadata": {},
   "outputs": [
    {
     "data": {
      "text/plain": [
       "{1: 1, 2: 2, 5: 2, 3: 2, 7: 1, 9: 1, 6: 1, 4: 1}"
      ]
     },
     "execution_count": 18,
     "metadata": {},
     "output_type": "execute_result"
    }
   ],
   "source": [
    "count"
   ]
  },
  {
   "cell_type": "code",
   "execution_count": 19,
   "id": "82c7fb2f-9f5d-4476-accb-a933cf391a40",
   "metadata": {},
   "outputs": [],
   "source": [
    "count={}\n",
    "for number in numbers:\n",
    "    if count.get(number)==None: #초기값\n",
    "        count[number]=1\n",
    "    else:\n",
    "        count[number]=count[number]+1"
   ]
  },
  {
   "cell_type": "code",
   "execution_count": 20,
   "id": "c0cf4267-7668-4b7a-9cfe-593e619fd8ff",
   "metadata": {},
   "outputs": [
    {
     "data": {
      "text/plain": [
       "{1: 1, 2: 2, 5: 2, 3: 2, 7: 1, 9: 1, 6: 1, 4: 1}"
      ]
     },
     "execution_count": 20,
     "metadata": {},
     "output_type": "execute_result"
    }
   ],
   "source": [
    "count"
   ]
  },
  {
   "cell_type": "code",
   "execution_count": 21,
   "id": "a67fb98f-e285-421c-b757-d97318ceeb39",
   "metadata": {},
   "outputs": [],
   "source": [
    "#값이 어떤 회로를 도는지 해석해보기"
   ]
  },
  {
   "cell_type": "code",
   "execution_count": 24,
   "id": "69d11735-52ef-4787-8520-9874ede72460",
   "metadata": {},
   "outputs": [],
   "source": [
    "character={\n",
    "    \"name\":\"기사\",\n",
    "    \"level\":12,\n",
    "    \"items\":{\n",
    "        \"sword\":\"불꽃의 검\",\n",
    "        \"armor\":\"풀플레이트\",\n",
    "    },\n",
    "    \"skill\":[\"배기\",\"세게 배기\",\"아주 세게 배기\"]\n",
    "}"
   ]
  },
  {
   "cell_type": "code",
   "execution_count": 25,
   "id": "a2ad9f0a-5a8b-4aa8-82a2-cbd3d96f7741",
   "metadata": {},
   "outputs": [
    {
     "name": "stdout",
     "output_type": "stream",
     "text": [
      "name:기사\n",
      "level:12\n",
      "items:{'sword': '불꽃의 검', 'armor': '풀플레이트'}\n",
      "skill:['배기', '세게 배기', '아주 세게 배기']\n"
     ]
    }
   ],
   "source": [
    "for key in character:\n",
    "    print(f'{key}:{character[key]}')"
   ]
  },
  {
   "cell_type": "code",
   "execution_count": 26,
   "id": "98b9f1ca-29b7-4f7e-ab49-162f45e658ef",
   "metadata": {},
   "outputs": [
    {
     "data": {
      "text/plain": [
       "list"
      ]
     },
     "execution_count": 26,
     "metadata": {},
     "output_type": "execute_result"
    }
   ],
   "source": [
    "type(character[\"skill\"])"
   ]
  },
  {
   "cell_type": "code",
   "execution_count": 27,
   "id": "eb63cc6a-2e4a-48c5-aac4-8c239f8bf8d1",
   "metadata": {},
   "outputs": [
    {
     "data": {
      "text/plain": [
       "dict"
      ]
     },
     "execution_count": 27,
     "metadata": {},
     "output_type": "execute_result"
    }
   ],
   "source": [
    "type(character[\"items\"])"
   ]
  },
  {
   "cell_type": "code",
   "execution_count": 32,
   "id": "9410530c-2960-4e98-95ee-dc2b99598f53",
   "metadata": {},
   "outputs": [
    {
     "ename": "AttributeError",
     "evalue": "'dict' object has no attribute 'extend'",
     "output_type": "error",
     "traceback": [
      "\u001b[1;31m---------------------------------------------------------------------------\u001b[0m",
      "\u001b[1;31mAttributeError\u001b[0m                            Traceback (most recent call last)",
      "\u001b[1;32m~\\AppData\\Local\\Temp/ipykernel_3100/3242176449.py\u001b[0m in \u001b[0;36m<module>\u001b[1;34m\u001b[0m\n\u001b[0;32m      2\u001b[0m     \u001b[0mcharacter\u001b[0m\u001b[1;33m.\u001b[0m\u001b[0mappend\u001b[0m\u001b[1;33m(\u001b[0m\u001b[0mskill\u001b[0m\u001b[1;33m)\u001b[0m\u001b[1;33m\u001b[0m\u001b[1;33m\u001b[0m\u001b[0m\n\u001b[0;32m      3\u001b[0m \u001b[1;32melse\u001b[0m\u001b[1;33m:\u001b[0m\u001b[1;33m\u001b[0m\u001b[1;33m\u001b[0m\u001b[0m\n\u001b[1;32m----> 4\u001b[1;33m     \u001b[0mcharacter\u001b[0m\u001b[1;33m[\u001b[0m\u001b[1;34m\"items\"\u001b[0m\u001b[1;33m]\u001b[0m\u001b[1;33m.\u001b[0m\u001b[0mextend\u001b[0m\u001b[1;33m(\u001b[0m\u001b[0mitems\u001b[0m\u001b[1;33m)\u001b[0m\u001b[1;33m\u001b[0m\u001b[1;33m\u001b[0m\u001b[0m\n\u001b[0m",
      "\u001b[1;31mAttributeError\u001b[0m: 'dict' object has no attribute 'extend'"
     ]
    }
   ],
   "source": [
    "if character[\"skill\"]==list:\n",
    "    character.append(skill)\n",
    "else:\n",
    "    character[\"items\"].extend(items)"
   ]
  },
  {
   "cell_type": "code",
   "execution_count": 43,
   "id": "9ad0b85c-806f-4b40-8e53-4d69dfb5806b",
   "metadata": {},
   "outputs": [
    {
     "name": "stdout",
     "output_type": "stream",
     "text": [
      "name:기사\n",
      "level:12\n",
      "sword:불꽃의 검\n",
      "armor:풀플레이트\n",
      "skill:배기\n",
      "skill:세게 배기\n",
      "skill:아주 세게 배기\n"
     ]
    }
   ],
   "source": [
    "for key in character:\n",
    "    if type(character[key])==str or type(character[key])==int:\n",
    "        print(f'{key}:{character[key]}')\n",
    "    elif type(character[key])==dict:\n",
    "        for k,v in character[key].items():\n",
    "            print(f'{k}:{v}')\n",
    "    else:\n",
    "        for i in character[key]: #\"skill\"\n",
    "            print(f'{key}:{i}')"
   ]
  },
  {
   "cell_type": "code",
   "execution_count": 38,
   "id": "dd4c4257-4c25-49a7-9200-99b06c1d96ce",
   "metadata": {},
   "outputs": [
    {
     "ename": "NameError",
     "evalue": "name 'k' is not defined",
     "output_type": "error",
     "traceback": [
      "\u001b[1;31m---------------------------------------------------------------------------\u001b[0m",
      "\u001b[1;31mNameError\u001b[0m                                 Traceback (most recent call last)",
      "\u001b[1;32m~\\AppData\\Local\\Temp/ipykernel_3100/493005605.py\u001b[0m in \u001b[0;36m<module>\u001b[1;34m\u001b[0m\n\u001b[0;32m      1\u001b[0m \u001b[1;32mfor\u001b[0m \u001b[0mi\u001b[0m \u001b[1;32min\u001b[0m \u001b[0mcharacter\u001b[0m\u001b[1;33m[\u001b[0m\u001b[1;34m\"items\"\u001b[0m\u001b[1;33m]\u001b[0m\u001b[1;33m.\u001b[0m\u001b[0mitems\u001b[0m\u001b[1;33m(\u001b[0m\u001b[1;33m)\u001b[0m\u001b[1;33m:\u001b[0m\u001b[1;33m\u001b[0m\u001b[1;33m\u001b[0m\u001b[0m\n\u001b[1;32m----> 2\u001b[1;33m     \u001b[0mprint\u001b[0m\u001b[1;33m(\u001b[0m\u001b[0mk\u001b[0m\u001b[1;33m,\u001b[0m\u001b[0mv\u001b[0m\u001b[1;33m)\u001b[0m\u001b[1;33m\u001b[0m\u001b[1;33m\u001b[0m\u001b[0m\n\u001b[0m",
      "\u001b[1;31mNameError\u001b[0m: name 'k' is not defined"
     ]
    }
   ],
   "source": [
    "for i in character[\"items\"].items():\n",
    "    print(k,v)"
   ]
  },
  {
   "cell_type": "code",
   "execution_count": 1,
   "id": "849551c3-fd74-4bdd-a835-cb86f06f144a",
   "metadata": {},
   "outputs": [
    {
     "name": "stdout",
     "output_type": "stream",
     "text": [
      "name:기사\n",
      "level:12\n",
      "sword:불꽃의 검\n",
      "armor:풀플레이트\n",
      "skill:베기\n",
      "skill:세게 베기\n",
      "skill:아주 세게 베기\n"
     ]
    }
   ],
   "source": [
    "#외열 제님이 모두에게 05:41 PM\n",
    "numbers = [1,2,6,8,4,3,2,1,9,5,4,9,7,2,1,3,5,4,8,9,7,2,3,]\n",
    "count = {}\n",
    "\n",
    "for number in numbers:\n",
    "    count[number] = numbers.count(number)\n",
    "\n",
    "count = {number:numbers.count(number) for number in numbers}\n",
    "\n",
    "numbers = [1,2,6,8,4,3,2,1,9,5,4,9,7,2,1,3,5,4,8,9,7,2,3,]\n",
    "\n",
    "count = {}\n",
    "for number in numbers:\n",
    "    if count.get(number) == None:\n",
    "        count[number] = 1\n",
    "    else:\n",
    "        count[number] = count[number] + 1\n",
    "\n",
    "character = {\n",
    "    \"name\":\"기사\",\n",
    "    \"level\":12,\n",
    "    \"items\":{\n",
    "        \"sword\":\"불꽃의 검\",\n",
    "        \"armor\":\"풀플레이트\"\n",
    "    },\n",
    "    \"skill\":[\"베기\",\"세게 베기\",\"아주 세게 베기\"]\n",
    "}\n",
    "\n",
    "for key in character:\n",
    "    if type(character[key]) == str or type(character[key]) == int: \n",
    "        print(f'{key}:{character[key]}')\n",
    "    elif type(character[key]) == dict:\n",
    "        for k,v in character[key].items():\n",
    "            print(f'{k}:{v}')\n",
    "    else:\n",
    "        for i in character[key]:\n",
    "            print(f'{key}:{i}')\n",
    "\n",
    "            "
   ]
  },
  {
   "cell_type": "code",
   "execution_count": 4,
   "id": "e12a158b-1f40-4dec-a914-135d1ccda964",
   "metadata": {},
   "outputs": [
    {
     "name": "stdout",
     "output_type": "stream",
     "text": [
      "name:기사\n",
      "level:12\n",
      "sword:불꽃의 검\n",
      "armor:풀플레이트\n"
     ]
    }
   ],
   "source": [
    "character = {\n",
    "    \"name\":\"기사\",\n",
    "    \"level\":12,\n",
    "    \"items\":{\n",
    "        \"sword\":\"불꽃의 검\",\n",
    "        \"armor\":\"풀플레이트\"\n",
    "    },\n",
    "    \"skill\":[\"베기\",\"세게 베기\",\"아주 세게 베기\"]\n",
    "}\n",
    "\n",
    "for key in character:\n",
    "    if type(character[key]) == str or type(character[key]) == int: \n",
    "        print(f'{key}:{character[key]}')\n",
    "    elif type(character[key]) == dict:\n",
    "        for k,v in character[key].items():\n",
    "            print(f'{k}:{v}')\n",
    "    # else:\n",
    "    #     for i in character[key]:\n",
    "    #         print(f'{key}:{i}')\n"
   ]
  },
  {
   "cell_type": "code",
   "execution_count": 3,
   "id": "6bc174a1-7af8-4021-a146-7442571cfea1",
   "metadata": {},
   "outputs": [
    {
     "ename": "SyntaxError",
     "evalue": "invalid syntax (Temp/ipykernel_3452/4079654641.py, line 13)",
     "output_type": "error",
     "traceback": [
      "\u001b[1;36m  File \u001b[1;32m\"C:\\Users\\user\\AppData\\Local\\Temp/ipykernel_3452/4079654641.py\"\u001b[1;36m, line \u001b[1;32m13\u001b[0m\n\u001b[1;33m    if #count.get(number) == None:\u001b[0m\n\u001b[1;37m                                  ^\u001b[0m\n\u001b[1;31mSyntaxError\u001b[0m\u001b[1;31m:\u001b[0m invalid syntax\n"
     ]
    }
   ],
   "source": [
    "numbers = [1,2,6,8,4,3,2,1,9,5,4,9,7,2,1,3,5,4,8,9,7,2,3,]\n",
    "count = {}\n",
    "\n",
    "for number in numbers:\n",
    "    count[number] = numbers.count(number)\n",
    "\n",
    "count = {number:numbers.count(number) for number in numbers}\n",
    "\n",
    "numbers = [1,2,6,8,4,3,2,1,9,5,4,9,7,2,1,3,5,4,8,9,7,2,3,]\n",
    "\n",
    "count = {}\n",
    "for number in numbers:\n",
    "     if #count.get(number) == None:\n",
    "    #     count[number] = 1\n",
    "    # else:\n",
    "        count[number] = count[number] + 1"
   ]
  }
 ],
 "metadata": {
  "kernelspec": {
   "display_name": "kbu",
   "language": "python",
   "name": "kbu"
  },
  "language_info": {
   "codemirror_mode": {
    "name": "ipython",
    "version": 3
   },
   "file_extension": ".py",
   "mimetype": "text/x-python",
   "name": "python",
   "nbconvert_exporter": "python",
   "pygments_lexer": "ipython3",
   "version": "3.7.11"
  }
 },
 "nbformat": 4,
 "nbformat_minor": 5
}
