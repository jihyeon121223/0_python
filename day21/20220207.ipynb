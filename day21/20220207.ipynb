{
 "cells": [
  {
   "cell_type": "raw",
   "id": "6afe67b0-e6be-4bbc-a152-c32de755af83",
   "metadata": {},
   "source": [
    "#for반복문\n",
    "for __선언자__ in ___object객체(dir-,,,이터레이터)___ :\n",
    "    indent ______\n",
    "    indent ______\n",
    "#while 반복문: 반복을 끝내기 위해 씀\n",
    "while 범위range(for반복문과 조합) \n",
    "break\n",
    "continue\n",
    "#range(10) 10반복 0-9객체가 들어있음\n",
    "range(시작,칸수)(1,10)=1-9\n",
    "range(시작,칸수,-칸씩뜀)"
   ]
  },
  {
   "cell_type": "code",
   "execution_count": 1,
   "id": "d55a3e06-b6f5-4d8a-a947-6c3f6ff31bb9",
   "metadata": {},
   "outputs": [
    {
     "data": {
      "text/plain": [
       "range(0, 10)"
      ]
     },
     "execution_count": 1,
     "metadata": {},
     "output_type": "execute_result"
    }
   ],
   "source": [
    "range(10)"
   ]
  },
  {
   "cell_type": "code",
   "execution_count": 2,
   "id": "7960c2ac-25eb-40ba-befd-16c6348ba8bb",
   "metadata": {},
   "outputs": [
    {
     "data": {
      "text/plain": [
       "range(1, 10)"
      ]
     },
     "execution_count": 2,
     "metadata": {},
     "output_type": "execute_result"
    }
   ],
   "source": [
    "range(1,10)"
   ]
  },
  {
   "cell_type": "code",
   "execution_count": 3,
   "id": "51df372d-1c56-44be-84e3-f40ac9472c1a",
   "metadata": {},
   "outputs": [
    {
     "data": {
      "text/plain": [
       "[0, 1, 2, 3, 4, 5, 6, 7, 8, 9]"
      ]
     },
     "execution_count": 3,
     "metadata": {},
     "output_type": "execute_result"
    }
   ],
   "source": [
    "list(range(10))"
   ]
  },
  {
   "cell_type": "code",
   "execution_count": 4,
   "id": "721316c9-336c-480f-a90d-b3967d7c1a6d",
   "metadata": {},
   "outputs": [
    {
     "data": {
      "text/plain": [
       "10"
      ]
     },
     "execution_count": 4,
     "metadata": {},
     "output_type": "execute_result"
    }
   ],
   "source": [
    "len(list(range(10)))"
   ]
  },
  {
   "cell_type": "code",
   "execution_count": 5,
   "id": "d762b104-b5df-4d71-a9c2-89e14df65ff5",
   "metadata": {},
   "outputs": [
    {
     "data": {
      "text/plain": [
       "9"
      ]
     },
     "execution_count": 5,
     "metadata": {},
     "output_type": "execute_result"
    }
   ],
   "source": [
    "len(list(range(1,10)))"
   ]
  },
  {
   "cell_type": "code",
   "execution_count": 7,
   "id": "c47bc7e9-a651-4dfb-82be-bc7e2969b80e",
   "metadata": {},
   "outputs": [
    {
     "data": {
      "text/plain": [
       "[1, 3, 5, 7, 9]"
      ]
     },
     "execution_count": 7,
     "metadata": {},
     "output_type": "execute_result"
    }
   ],
   "source": [
    "list(range(1,10,2))"
   ]
  },
  {
   "cell_type": "code",
   "execution_count": 11,
   "id": "bc312f98-b3f9-49f1-9b47-f70c6deb764d",
   "metadata": {},
   "outputs": [
    {
     "data": {
      "text/plain": [
       "[1, 2, 3, 4, 5, 6, 7, 8, 9, 10]"
      ]
     },
     "execution_count": 11,
     "metadata": {},
     "output_type": "execute_result"
    }
   ],
   "source": [
    "list(range(1,10+1))"
   ]
  },
  {
   "cell_type": "code",
   "execution_count": 12,
   "id": "441b41a4-1f00-408d-a3c3-f355d844f5f6",
   "metadata": {},
   "outputs": [
    {
     "ename": "TypeError",
     "evalue": "'float' object cannot be interpreted as an integer",
     "output_type": "error",
     "traceback": [
      "\u001b[1;31m---------------------------------------------------------------------------\u001b[0m",
      "\u001b[1;31mTypeError\u001b[0m                                 Traceback (most recent call last)",
      "\u001b[1;32m~\\AppData\\Local\\Temp/ipykernel_8304/2797903021.py\u001b[0m in \u001b[0;36m<module>\u001b[1;34m\u001b[0m\n\u001b[1;32m----> 1\u001b[1;33m \u001b[0mlist\u001b[0m\u001b[1;33m(\u001b[0m\u001b[0mrange\u001b[0m\u001b[1;33m(\u001b[0m\u001b[1;36m1\u001b[0m\u001b[1;33m,\u001b[0m\u001b[1;36m10\u001b[0m\u001b[1;33m/\u001b[0m\u001b[1;36m2\u001b[0m\u001b[1;33m)\u001b[0m\u001b[1;33m)\u001b[0m\u001b[1;33m\u001b[0m\u001b[1;33m\u001b[0m\u001b[0m\n\u001b[0m",
      "\u001b[1;31mTypeError\u001b[0m: 'float' object cannot be interpreted as an integer"
     ]
    }
   ],
   "source": [
    "list(range(1,10/2)) # range안에 정수 넣어야 하는데, float으로 바꿔버려서 안됨 5.0\n",
    "#//몫을 쓰면 그냥 정수이기 떄문에 몫을 많이 씀"
   ]
  },
  {
   "cell_type": "code",
   "execution_count": 13,
   "id": "99019f26-dcd3-4790-9bc9-762e049c732a",
   "metadata": {},
   "outputs": [
    {
     "data": {
      "text/plain": [
       "[1, 2, 3, 4]"
      ]
     },
     "execution_count": 13,
     "metadata": {},
     "output_type": "execute_result"
    }
   ],
   "source": [
    "list(range(1,int(10/2)))"
   ]
  },
  {
   "cell_type": "code",
   "execution_count": 14,
   "id": "b98ee4fb-dccf-47bc-9d16-dde060d97e0b",
   "metadata": {},
   "outputs": [
    {
     "ename": "TypeError",
     "evalue": "range expected 1 arguments, got 0",
     "output_type": "error",
     "traceback": [
      "\u001b[1;31m---------------------------------------------------------------------------\u001b[0m",
      "\u001b[1;31mTypeError\u001b[0m                                 Traceback (most recent call last)",
      "\u001b[1;32m~\\AppData\\Local\\Temp/ipykernel_8304/1765554186.py\u001b[0m in \u001b[0;36m<module>\u001b[1;34m\u001b[0m\n\u001b[1;32m----> 1\u001b[1;33m \u001b[1;32mfor\u001b[0m \u001b[0mi\u001b[0m \u001b[1;32min\u001b[0m \u001b[0mrange\u001b[0m\u001b[1;33m(\u001b[0m\u001b[1;33m)\u001b[0m\u001b[1;33m:\u001b[0m\u001b[1;33m\u001b[0m\u001b[1;33m\u001b[0m\u001b[0m\n\u001b[0m\u001b[0;32m      2\u001b[0m     \u001b[0mprint\u001b[0m\u001b[1;33m(\u001b[0m\u001b[0mi\u001b[0m\u001b[1;33m+\u001b[0m\u001b[1;34m\"반복변수\"\u001b[0m\u001b[1;33m)\u001b[0m\u001b[1;33m\u001b[0m\u001b[1;33m\u001b[0m\u001b[0m\n",
      "\u001b[1;31mTypeError\u001b[0m: range expected 1 arguments, got 0"
     ]
    }
   ],
   "source": [
    "for i in range():\n",
    "    print(i+\"반복변수\") #i는 int, 뒤는str이라서 에러"
   ]
  },
  {
   "cell_type": "code",
   "execution_count": 17,
   "id": "e4ec4bd6-607f-4313-a43a-5c2268c7b1df",
   "metadata": {},
   "outputs": [
    {
     "name": "stdout",
     "output_type": "stream",
     "text": [
      "1=반복변수\n",
      "0=반복변수\n",
      "3=반복변수\n",
      "7=반복변수\n",
      "2=반복변수\n"
     ]
    }
   ],
   "source": [
    "for i in [1,0,3,7,2,]:\n",
    "    print(str(i)+\"=반복변수\")"
   ]
  },
  {
   "cell_type": "code",
   "execution_count": 20,
   "id": "dab49b4d-2d15-4d73-8189-1cef47284212",
   "metadata": {},
   "outputs": [
    {
     "name": "stdout",
     "output_type": "stream",
     "text": [
      "0반복변수\n",
      "3반복변수\n",
      "6반복변수\n",
      "9반복변수\n"
     ]
    }
   ],
   "source": [
    "for i in range(0,10,3):\n",
    "    print(str(i)+\"반복변수\") "
   ]
  },
  {
   "cell_type": "code",
   "execution_count": 21,
   "id": "95c3a917-b2d8-4a84-80ad-93938811cbad",
   "metadata": {},
   "outputs": [],
   "source": [
    "array = [123,3234,456,89,20]"
   ]
  },
  {
   "cell_type": "markdown",
   "id": "1a3bcfe2-9d3c-402c-b680-457b478634e5",
   "metadata": {},
   "source": [
    "0번째 반복: 123\n",
    "1번째 반복: 3234\n",
    "2번째 반복: 456\n",
    "3번째 반복: 89\n",
    "4번째 반복: 20"
   ]
  },
  {
   "cell_type": "code",
   "execution_count": 22,
   "id": "79e0475f-d452-4566-ab94-c2f83e8e21fa",
   "metadata": {},
   "outputs": [
    {
     "name": "stdout",
     "output_type": "stream",
     "text": [
      "0번째 반복:123\n"
     ]
    }
   ],
   "source": [
    "i=0\n",
    "number=123\n",
    "print(str(0)+\"번째 반복:\"+str(number))"
   ]
  },
  {
   "cell_type": "code",
   "execution_count": 23,
   "id": "ea370d2a-2fdd-4602-a7cc-bae225e5fb88",
   "metadata": {},
   "outputs": [
    {
     "name": "stdout",
     "output_type": "stream",
     "text": [
      "0번째 반복:123\n"
     ]
    }
   ],
   "source": [
    "i=0 #바뀌는 i값이 for문으로 가면 됨\n",
    "print(str(i)+\"번째 반복:\"+str(array[i]))"
   ]
  },
  {
   "cell_type": "code",
   "execution_count": 25,
   "id": "675b69aa-b08d-428b-aba5-6f4cf501d28d",
   "metadata": {},
   "outputs": [
    {
     "ename": "IndexError",
     "evalue": "list index out of range",
     "output_type": "error",
     "traceback": [
      "\u001b[1;31m---------------------------------------------------------------------------\u001b[0m",
      "\u001b[1;31mIndexError\u001b[0m                                Traceback (most recent call last)",
      "\u001b[1;32m~\\AppData\\Local\\Temp/ipykernel_8304/2321783864.py\u001b[0m in \u001b[0;36m<module>\u001b[1;34m\u001b[0m\n\u001b[0;32m      1\u001b[0m \u001b[0mi\u001b[0m \u001b[1;33m=\u001b[0m \u001b[1;36m5\u001b[0m\u001b[1;33m\u001b[0m\u001b[1;33m\u001b[0m\u001b[0m\n\u001b[1;32m----> 2\u001b[1;33m \u001b[0mprint\u001b[0m\u001b[1;33m(\u001b[0m\u001b[0mstr\u001b[0m\u001b[1;33m(\u001b[0m\u001b[0mi\u001b[0m\u001b[1;33m)\u001b[0m\u001b[1;33m+\u001b[0m\u001b[1;34m\"번째반복:\"\u001b[0m\u001b[1;33m+\u001b[0m\u001b[0mstr\u001b[0m\u001b[1;33m(\u001b[0m\u001b[0marray\u001b[0m\u001b[1;33m[\u001b[0m\u001b[0mi\u001b[0m\u001b[1;33m]\u001b[0m\u001b[1;33m)\u001b[0m\u001b[1;33m)\u001b[0m\u001b[1;33m\u001b[0m\u001b[1;33m\u001b[0m\u001b[0m\n\u001b[0m",
      "\u001b[1;31mIndexError\u001b[0m: list index out of range"
     ]
    }
   ],
   "source": [
    "i = 5 #값이 없어 인덱스에러\n",
    "print(str(i)+\"번째반복:\"+str(array[i]))"
   ]
  },
  {
   "cell_type": "code",
   "execution_count": 27,
   "id": "fb53959b-a68f-4ec3-9ba5-d242023b2b40",
   "metadata": {},
   "outputs": [
    {
     "name": "stdout",
     "output_type": "stream",
     "text": [
      "0번째반복:123\n",
      "1번째반복:3234\n",
      "2번째반복:456\n",
      "3번째반복:89\n",
      "4번째반복:20\n"
     ]
    }
   ],
   "source": [
    "for i in [0,1,2,3,4]:\n",
    "    print(str(i)+\"번째반복:\"+str(array[i]))"
   ]
  },
  {
   "cell_type": "code",
   "execution_count": 28,
   "id": "716f63ff-7d68-43c4-8c8a-7e8b898d5f38",
   "metadata": {},
   "outputs": [
    {
     "name": "stdout",
     "output_type": "stream",
     "text": [
      "0번째반복:123\n",
      "1번째반복:3234\n",
      "2번째반복:456\n",
      "3번째반복:89\n",
      "4번째반복:20\n"
     ]
    }
   ],
   "source": [
    "for i in range(5):\n",
    "    print(str(i)+\"번째반복:\"+str(array[i]))"
   ]
  },
  {
   "cell_type": "code",
   "execution_count": 29,
   "id": "c121c92b-2d78-4b25-b4ea-448d15901885",
   "metadata": {},
   "outputs": [
    {
     "name": "stdout",
     "output_type": "stream",
     "text": [
      "0번째반복:123\n",
      "1번째반복:3234\n",
      "2번째반복:456\n",
      "3번째반복:89\n",
      "4번째반복:20\n"
     ]
    }
   ],
   "source": [
    "for i in range(len(array)): #array값이 바뀔 때 알아서 나옴\n",
    "    print(str(i)+\"번째반복:\"+str(array[i]))"
   ]
  },
  {
   "cell_type": "code",
   "execution_count": 31,
   "id": "e0416c43-f790-4614-918e-8b6246fe44d5",
   "metadata": {},
   "outputs": [
    {
     "name": "stdout",
     "output_type": "stream",
     "text": [
      "0번째반복:123\n",
      "1번째반복:3234\n",
      "2번째반복:456\n",
      "3번째반복:89\n",
      "4번째반복:20\n"
     ]
    }
   ],
   "source": [
    "for i in range(5): #제일 간단하게\n",
    "    print(f\"{i}번째반복:{array[i]}\") #f: 문자열 포맷팅으로 밑으로 나열해줌"
   ]
  },
  {
   "cell_type": "code",
   "execution_count": 32,
   "id": "209bf012-cd61-4849-83b5-0f941d20c466",
   "metadata": {},
   "outputs": [
    {
     "data": {
      "text/plain": [
       "[4, 3, 2, 1, 0]"
      ]
     },
     "execution_count": 32,
     "metadata": {},
     "output_type": "execute_result"
    }
   ],
   "source": [
    "# range(start,end,step)\n",
    "list(range(4,-1,-1))"
   ]
  },
  {
   "cell_type": "code",
   "execution_count": 33,
   "id": "c7ec1428-2e06-4f1b-9f83-12a6e2677db0",
   "metadata": {},
   "outputs": [
    {
     "data": {
      "text/plain": [
       "[4, 3, 2, 1, 0]"
      ]
     },
     "execution_count": 33,
     "metadata": {},
     "output_type": "execute_result"
    }
   ],
   "source": [
    "list(range(len(array)-1,-1,-1)) #(변하는값,규칙,규칙)"
   ]
  },
  {
   "cell_type": "code",
   "execution_count": 34,
   "id": "b1ad017a-a588-48bd-b8bf-dbcd195de2be",
   "metadata": {},
   "outputs": [
    {
     "name": "stdout",
     "output_type": "stream",
     "text": [
      "4번째 반복:20\n",
      "3번째 반복:89\n",
      "2번째 반복:456\n",
      "1번째 반복:3234\n",
      "0번째 반복:123\n"
     ]
    }
   ],
   "source": [
    "for i in range(len(array)-1,-1,-1):\n",
    "    print(\"{}번째 반복:{}\".format(i,array[i]))"
   ]
  },
  {
   "cell_type": "code",
   "execution_count": 40,
   "id": "44777e3e-dd74-47fd-bcb7-dc739cc2229f",
   "metadata": {},
   "outputs": [
    {
     "name": "stdout",
     "output_type": "stream",
     "text": [
      "4\n",
      "3\n",
      "2\n",
      "1\n",
      "0\n"
     ]
    }
   ],
   "source": [
    "for i in range(len(array)):\n",
    "    print(len(array)-(i+1))"
   ]
  },
  {
   "cell_type": "code",
   "execution_count": 41,
   "id": "5b2cb76b-d1f5-4682-82a3-a53d0ae9bb83",
   "metadata": {},
   "outputs": [
    {
     "name": "stdout",
     "output_type": "stream",
     "text": [
      "4번째 반복: 20\n",
      "3번째 반복: 89\n",
      "2번째 반복: 456\n",
      "1번째 반복: 3234\n",
      "0번째 반복: 123\n"
     ]
    }
   ],
   "source": [
    "for i in range(len(array)):\n",
    "    x=len(array)-(i+1)\n",
    "    print(f'{x}번째 반복: {array[x]}')"
   ]
  },
  {
   "cell_type": "code",
   "execution_count": 44,
   "id": "8d39f04b-eb4a-4a4a-9c45-a435e02ff167",
   "metadata": {},
   "outputs": [
    {
     "name": "stdout",
     "output_type": "stream",
     "text": [
      "4번째 반복:20\n",
      "3번째 반복:89\n",
      "2번째 반복:456\n",
      "1번째 반복:3234\n",
      "0번째 반복:123\n"
     ]
    }
   ],
   "source": [
    "for i in list(range(5))[::-1]:\n",
    "    print(\"{}번째 반복:{}\".format(i,array[i]))"
   ]
  },
  {
   "cell_type": "code",
   "execution_count": 45,
   "id": "34504351-b3e8-4823-acb1-ee87b40422e0",
   "metadata": {},
   "outputs": [],
   "source": [
    "#다 같은 결과가 나오지만 움직이는 방식을 알아야함 "
   ]
  },
  {
   "cell_type": "code",
   "execution_count": 46,
   "id": "40ddc4c0-8d7a-4179-80a2-6fd9b70f29bc",
   "metadata": {},
   "outputs": [
    {
     "data": {
      "text/plain": [
       "<list_reverseiterator at 0x2af29c34bc8>"
      ]
     },
     "execution_count": 46,
     "metadata": {},
     "output_type": "execute_result"
    }
   ],
   "source": [
    "reversed(array)"
   ]
  },
  {
   "cell_type": "code",
   "execution_count": 48,
   "id": "3c2ed34c-d351-4350-87fd-d667b3209f36",
   "metadata": {},
   "outputs": [
    {
     "data": {
      "text/plain": [
       "[20, 89, 456, 3234, 123]"
      ]
     },
     "execution_count": 48,
     "metadata": {},
     "output_type": "execute_result"
    }
   ],
   "source": [
    "list(reversed(array))"
   ]
  },
  {
   "cell_type": "code",
   "execution_count": 49,
   "id": "e472eba1-b9e8-41c4-939c-089f8de8312f",
   "metadata": {},
   "outputs": [
    {
     "name": "stdout",
     "output_type": "stream",
     "text": [
      "4번째 반복:20\n",
      "3번째 반복:89\n",
      "2번째 반복:456\n",
      "1번째 반복:3234\n",
      "0번째 반복:123\n"
     ]
    }
   ],
   "source": [
    "for i in reversed(range(len(array))):\n",
    "    print(\"{}번째 반복:{}\".format(i,array[i]))"
   ]
  },
  {
   "cell_type": "code",
   "execution_count": 50,
   "id": "22ae3bb1-07b5-43db-b5a5-765d419ea7e8",
   "metadata": {},
   "outputs": [
    {
     "data": {
      "text/plain": [
       "[20, 89, 456, 3234, 123]"
      ]
     },
     "execution_count": 50,
     "metadata": {},
     "output_type": "execute_result"
    }
   ],
   "source": [
    "array[::-1]"
   ]
  },
  {
   "cell_type": "code",
   "execution_count": 51,
   "id": "7c693a98-ceb9-42e3-adaf-a9a883721f64",
   "metadata": {},
   "outputs": [
    {
     "data": {
      "text/plain": [
       "[20, 89, 456, 3234, 123]"
      ]
     },
     "execution_count": 51,
     "metadata": {},
     "output_type": "execute_result"
    }
   ],
   "source": [
    "list(reversed(array))"
   ]
  },
  {
   "cell_type": "code",
   "execution_count": 53,
   "id": "7471f861-bc0a-4e8b-94a1-d9982e833d85",
   "metadata": {},
   "outputs": [
    {
     "name": "stdout",
     "output_type": "stream",
     "text": [
      "20\n",
      "89\n",
      "456\n",
      "3234\n",
      "123\n"
     ]
    }
   ],
   "source": [
    "for i in array[::-1]:\n",
    "    print(i)"
   ]
  },
  {
   "cell_type": "code",
   "execution_count": 56,
   "id": "0da57cba-99f3-472e-81af-da0a711235cf",
   "metadata": {},
   "outputs": [
    {
     "name": "stdout",
     "output_type": "stream",
     "text": [
      "4번째 반복 : 20\n",
      "3번째 반복 : 89\n",
      "2번째 반복 : 456\n",
      "1번째 반복 : 3234\n",
      "0번째 반복 : 123\n"
     ]
    }
   ],
   "source": [
    "order=4\n",
    "for i in array[::-1]:\n",
    "    print(f\"{order}번째 반복 : {i}\") #f:형식으로 출력한다\n",
    "    order -= 1"
   ]
  },
  {
   "cell_type": "code",
   "execution_count": 57,
   "id": "fb51af07-9966-4990-94e3-ea215ea9f47a",
   "metadata": {},
   "outputs": [],
   "source": [
    "# while bool_exp: #불=논리식(트루 펄스)\n",
    "#     command"
   ]
  },
  {
   "cell_type": "code",
   "execution_count": 58,
   "id": "3715f2a3-98dd-4371-8c03-121ed8104e27",
   "metadata": {},
   "outputs": [
    {
     "data": {
      "text/plain": [
       "55"
      ]
     },
     "execution_count": 58,
     "metadata": {},
     "output_type": "execute_result"
    }
   ],
   "source": [
    "s=0\n",
    "for i in range(1,11):\n",
    "    s += i #s=s+i\n",
    "s"
   ]
  },
  {
   "cell_type": "code",
   "execution_count": 59,
   "id": "b1ab049f-244e-492d-a2dc-78278f26ad46",
   "metadata": {},
   "outputs": [
    {
     "data": {
      "text/plain": [
       "55"
      ]
     },
     "execution_count": 59,
     "metadata": {},
     "output_type": "execute_result"
    }
   ],
   "source": [
    "s=0\n",
    "i=0\n",
    "while i < 11:\n",
    "    s=s+i #무한으로 돌아가니 탈출 시켜주자\n",
    "    i=i+1\n",
    "s"
   ]
  },
  {
   "cell_type": "code",
   "execution_count": 60,
   "id": "706ecd8b-63a0-4456-9f89-115541387407",
   "metadata": {},
   "outputs": [
    {
     "name": "stdout",
     "output_type": "stream",
     "text": [
      "0번째 반복입니다\n",
      "1번째 반복입니다\n",
      "2번째 반복입니다\n",
      "3번째 반복입니다\n",
      "4번째 반복입니다\n",
      "5번째 반복입니다\n",
      "6번째 반복입니다\n",
      "7번째 반복입니다\n",
      "8번째 반복입니다\n",
      "9번째 반복입니다\n"
     ]
    }
   ],
   "source": [
    "for i in range(10):\n",
    "    print(f'{i}번째 반복입니다')"
   ]
  },
  {
   "cell_type": "code",
   "execution_count": 62,
   "id": "189d79ae-7a12-4de4-bf80-818a4da7d728",
   "metadata": {},
   "outputs": [
    {
     "name": "stdout",
     "output_type": "stream",
     "text": [
      "0번째 반복입니다\n",
      "1번째 반복입니다\n",
      "2번째 반복입니다\n",
      "3번째 반복입니다\n",
      "4번째 반복입니다\n",
      "5번째 반복입니다\n",
      "6번째 반복입니다\n",
      "7번째 반복입니다\n",
      "8번째 반복입니다\n",
      "9번째 반복입니다\n"
     ]
    }
   ],
   "source": [
    "i = 0\n",
    "while i < 10 :\n",
    "    print(f'{i}번째 반복입니다')\n",
    "    i += 1"
   ]
  },
  {
   "cell_type": "code",
   "execution_count": 75,
   "id": "352faaca-916a-4567-bca1-b5437a7a6014",
   "metadata": {},
   "outputs": [
    {
     "name": "stdout",
     "output_type": "stream",
     "text": [
      "0번째 반복: 123\n",
      "1번째 반복: 3234\n",
      "2번째 반복: 456\n",
      "3번째 반복: 89\n",
      "4번째 반복: 20\n"
     ]
    }
   ],
   "source": [
    "i=0\n",
    "while i < 5:\n",
    "    print(f'{i}번째 반복: {array[i]}')\n",
    "    i += 1"
   ]
  },
  {
   "cell_type": "code",
   "execution_count": 79,
   "id": "fa44c671-64c9-47b5-86f9-d5df01b3d8f7",
   "metadata": {},
   "outputs": [
    {
     "data": {
      "text/plain": [
       "<list_reverseiterator at 0x2af29b77048>"
      ]
     },
     "execution_count": 79,
     "metadata": {},
     "output_type": "execute_result"
    }
   ],
   "source": []
  },
  {
   "cell_type": "code",
   "execution_count": 80,
   "id": "4a12569e-b1c7-4d94-89e6-7af3168c30db",
   "metadata": {},
   "outputs": [
    {
     "name": "stdout",
     "output_type": "stream",
     "text": [
      "4번째 반복: 20\n",
      "3번째 반복: 89\n",
      "2번째 반복: 456\n",
      "1번째 반복: 3234\n",
      "0번째 반복: 123\n"
     ]
    }
   ],
   "source": [
    "i=4\n",
    "while i >= 0:\n",
    "    print(f'{i}번째 반복: {array[i]}')\n",
    "    i -= 1"
   ]
  },
  {
   "cell_type": "code",
   "execution_count": 81,
   "id": "396ce9fa-00b0-4fe5-a685-0d58286bf818",
   "metadata": {},
   "outputs": [],
   "source": [
    " #상태를 기반으로 반복하기 while은 조건을 만족시켜 나오는 것"
   ]
  },
  {
   "cell_type": "code",
   "execution_count": 88,
   "id": "2985565b-6c7c-4d52-96eb-deba5781674c",
   "metadata": {},
   "outputs": [],
   "source": [
    "list_test=[1,1,2,2]\n",
    "list_odd=[]\n",
    "list_even=[]"
   ]
  },
  {
   "cell_type": "code",
   "execution_count": 85,
   "id": "b223d01b-8e99-40f0-ad7d-f90b2c5964db",
   "metadata": {},
   "outputs": [
    {
     "data": {
      "text/plain": [
       "[1, 1]"
      ]
     },
     "execution_count": 85,
     "metadata": {},
     "output_type": "execute_result"
    }
   ],
   "source": [
    "value = 2\n",
    "while 2 in  list_test:\n",
    "    list_test.remove(2)\n",
    "list_test"
   ]
  },
  {
   "cell_type": "code",
   "execution_count": 89,
   "id": "e02efe2f-ee61-451c-8722-bd35a23dd0c6",
   "metadata": {},
   "outputs": [],
   "source": [
    "for i in list_test:\n",
    "    if i%2 == 1:\n",
    "        list_odd.append(i)\n",
    "    else:\n",
    "        list_even.append(i)"
   ]
  },
  {
   "cell_type": "code",
   "execution_count": 102,
   "id": "7ef054e5-6b3e-48c3-a30e-3695381729ef",
   "metadata": {},
   "outputs": [],
   "source": [
    "list_test=[1,1,2,2]\n",
    "list_odd=[]\n",
    "list_even=[]\n",
    "i=0\n",
    "while i < len(list_test):\n",
    "    if list_test[i]%2==1:\n",
    "        list_odd.append(list_test[i])\n",
    "    else:\n",
    "        list_even.append(list_test[i])\n",
    "    i += 1"
   ]
  },
  {
   "cell_type": "code",
   "execution_count": 98,
   "id": "01318696-c6c6-421a-acea-f92b40c41a54",
   "metadata": {},
   "outputs": [
    {
     "data": {
      "text/plain": [
       "[1, 1]"
      ]
     },
     "execution_count": 98,
     "metadata": {},
     "output_type": "execute_result"
    }
   ],
   "source": [
    "list_odd"
   ]
  },
  {
   "cell_type": "code",
   "execution_count": 103,
   "id": "88d188fb-9f13-4a6b-b9ad-1863b0c8d5b3",
   "metadata": {},
   "outputs": [
    {
     "data": {
      "text/plain": [
       "[2, 2]"
      ]
     },
     "execution_count": 103,
     "metadata": {},
     "output_type": "execute_result"
    }
   ],
   "source": [
    "list_even"
   ]
  },
  {
   "cell_type": "code",
   "execution_count": 35,
   "id": "2f36df87-28fd-4976-a57c-e7daaf27460b",
   "metadata": {},
   "outputs": [],
   "source": [
    "from time import time"
   ]
  },
  {
   "cell_type": "code",
   "execution_count": 36,
   "id": "0fc80084-d154-4769-86c4-68fa3b6a817b",
   "metadata": {},
   "outputs": [],
   "source": [
    "import time"
   ]
  },
  {
   "cell_type": "code",
   "execution_count": 38,
   "id": "0a5585b1-7527-4755-bf53-0c7099303a9c",
   "metadata": {},
   "outputs": [
    {
     "data": {
      "text/plain": [
       "1644294735.2923002"
      ]
     },
     "execution_count": 38,
     "metadata": {},
     "output_type": "execute_result"
    }
   ],
   "source": [
    "time.time()"
   ]
  },
  {
   "cell_type": "raw",
   "id": "0bf97ca3-3d55-42b4-9a6f-4b001c3c80c4",
   "metadata": {},
   "source": [
    "#시간을 기반으로 반복하기: 반복문이 -초동안 몇 번 돌아가는지 ???time이 불러와지지가 않음"
   ]
  },
  {
   "cell_type": "code",
   "execution_count": 40,
   "id": "86aa7594-f078-41bf-8619-06b8bd753e86",
   "metadata": {},
   "outputs": [
    {
     "data": {
      "text/plain": [
       "5.0"
      ]
     },
     "execution_count": 40,
     "metadata": {},
     "output_type": "execute_result"
    }
   ],
   "source": [
    "(time.time()+5) - time.time()"
   ]
  },
  {
   "cell_type": "code",
   "execution_count": 43,
   "id": "90787ba9-3c0d-44dc-93d1-72b771dc3abe",
   "metadata": {},
   "outputs": [
    {
     "name": "stdout",
     "output_type": "stream",
     "text": [
      "44403912\n"
     ]
    }
   ],
   "source": [
    "target_time=time.time()+5\n",
    "number=0\n",
    "while time.time() < target_time:\n",
    "    number += 1\n",
    "print(number)"
   ]
  },
  {
   "cell_type": "code",
   "execution_count": 44,
   "id": "8458b137-5fec-4e53-8e9a-a92c8991f087",
   "metadata": {},
   "outputs": [
    {
     "data": {
      "text/plain": [
       "1.3336341381072998"
      ]
     },
     "execution_count": 44,
     "metadata": {},
     "output_type": "execute_result"
    }
   ],
   "source": [
    "start_time = time.time()\n",
    "for i in range(56935391):\n",
    "    pass\n",
    "end_time = time.time()\n",
    "\n",
    "end_time - start_time"
   ]
  },
  {
   "cell_type": "code",
   "execution_count": 127,
   "id": "8f8f5be7-9836-4666-9be5-466a2c20acf8",
   "metadata": {},
   "outputs": [
    {
     "data": {
      "text/plain": [
       "6"
      ]
     },
     "execution_count": 127,
     "metadata": {},
     "output_type": "execute_result"
    }
   ],
   "source": [
    "dt=[1,2,3,1,2,5]\n",
    "s=0\n",
    "for i in dt:\n",
    "    if i == 3:\n",
    "        s += i\n",
    "        break\n",
    "    else: \n",
    "        s += i\n",
    "s"
   ]
  },
  {
   "cell_type": "code",
   "execution_count": 128,
   "id": "4c96d1c6-d09a-4957-bff8-7bcbeb5e0281",
   "metadata": {},
   "outputs": [],
   "source": [
    "s=0\n",
    "i = 0\n",
    "while i < len(dt): \n",
    "    if dt[i]==3:\n",
    "        s+=i\n",
    "        break\n",
    "    else:\n",
    "        s+=i\n",
    "    print(dt[i])\n",
    "    i += 1\n",
    "      "
   ]
  },
  {
   "cell_type": "code",
   "execution_count": 129,
   "id": "9eb0a10d-a80e-458c-a0d3-31623c161efb",
   "metadata": {},
   "outputs": [
    {
     "data": {
      "text/plain": [
       "3"
      ]
     },
     "execution_count": 129,
     "metadata": {},
     "output_type": "execute_result"
    }
   ],
   "source": [
    "s"
   ]
  },
  {
   "cell_type": "code",
   "execution_count": 130,
   "id": "58774a3d-c240-4f45-a600-e0474975e947",
   "metadata": {},
   "outputs": [],
   "source": [
    "s=0\n",
    "i=0\n",
    "while True:#무조건 다 돌려\n",
    "    if dt[i] == 3: #조건이 맞으면 빠져나온다\n",
    "        s += dt[i]\n",
    "        break\n",
    "    else:\n",
    "        s+= dt[i]\n",
    "    i += 1"
   ]
  },
  {
   "cell_type": "code",
   "execution_count": 131,
   "id": "760d0c1e-d57e-4852-b0a7-9dd33831d337",
   "metadata": {},
   "outputs": [
    {
     "data": {
      "text/plain": [
       "6"
      ]
     },
     "execution_count": 131,
     "metadata": {},
     "output_type": "execute_result"
    }
   ],
   "source": [
    "s"
   ]
  },
  {
   "cell_type": "code",
   "execution_count": 140,
   "id": "893f1858-8a27-4e26-8d65-3fdbf669edbc",
   "metadata": {},
   "outputs": [
    {
     "name": "stdin",
     "output_type": "stream",
     "text": [
      "값을 입력하세요 2\n"
     ]
    },
    {
     "name": "stdout",
     "output_type": "stream",
     "text": [
      "입력한 값은 2이고 합계는 59입니다.\n"
     ]
    }
   ],
   "source": [
    "x=int(input(\"값을 입력하세요\"))\n",
    "i=0\n",
    "while True:\n",
    "    if i == x:\n",
    "        s += i\n",
    "        break\n",
    "    else:\n",
    "        s += i\n",
    "    i += 1\n",
    "print(f'입력한 값은 {x}이고 합계는 {s}입니다.')"
   ]
  },
  {
   "cell_type": "code",
   "execution_count": 134,
   "id": "ac9b8fde-07e6-41bb-970b-ae73988699d5",
   "metadata": {},
   "outputs": [],
   "source": [
    "#for문은 정해져있고 while문은 다 포함됨"
   ]
  },
  {
   "cell_type": "code",
   "execution_count": 141,
   "id": "80b4a5ec-ff78-499f-8455-71b3ce5a1970",
   "metadata": {},
   "outputs": [],
   "source": [
    "#continue"
   ]
  },
  {
   "cell_type": "code",
   "execution_count": 142,
   "id": "a0fa23ec-b3aa-4500-ba60-1f47313d5393",
   "metadata": {},
   "outputs": [],
   "source": [
    "numbers=[1,22,33,44,55]"
   ]
  },
  {
   "cell_type": "code",
   "execution_count": 143,
   "id": "e371803b-20ac-4566-8291-6cf8f6141682",
   "metadata": {},
   "outputs": [
    {
     "name": "stdout",
     "output_type": "stream",
     "text": [
      "22\n",
      "33\n",
      "44\n",
      "55\n"
     ]
    }
   ],
   "source": [
    "for number in numbers:\n",
    "    if number > 10:\n",
    "        print(number)"
   ]
  },
  {
   "cell_type": "code",
   "execution_count": 144,
   "id": "e67ce708-cf42-4024-b256-1fb856b0121b",
   "metadata": {},
   "outputs": [
    {
     "name": "stdout",
     "output_type": "stream",
     "text": [
      "22\n",
      "33\n",
      "44\n",
      "55\n"
     ]
    }
   ],
   "source": [
    "for number in numbers:\n",
    "    if number < 10:\n",
    "        continue\n",
    "    print(number)"
   ]
  },
  {
   "cell_type": "code",
   "execution_count": 145,
   "id": "ef2df135-0abf-43cf-83ef-f01315186701",
   "metadata": {},
   "outputs": [],
   "source": [
    "key_list=['name','hp','mp','level']\n",
    "value_list=['기사',200,30,5]\n",
    "charater={}"
   ]
  },
  {
   "cell_type": "raw",
   "id": "1ed86fb5-5fd9-42ad-aa39-b7685a4e4784",
   "metadata": {},
   "source": [
    "{'name':'기사','hp':'200','mp':'30','level':'5'}"
   ]
  },
  {
   "cell_type": "code",
   "execution_count": 147,
   "id": "e0e957dc-0faf-4f37-bc52-bd6fe871d938",
   "metadata": {},
   "outputs": [
    {
     "data": {
      "text/plain": [
       "{'name': '기사', 'hp': 200, 'mp': 30, 'level': 5}"
      ]
     },
     "execution_count": 147,
     "metadata": {},
     "output_type": "execute_result"
    }
   ],
   "source": [
    "charater['name']='기사'\n",
    "charater['hp']=200\n",
    "charater['mp']=30\n",
    "charater['level']=5\n",
    "charater"
   ]
  },
  {
   "cell_type": "code",
   "execution_count": 148,
   "id": "ca466014-751b-4860-ad76-11035d789f4f",
   "metadata": {},
   "outputs": [],
   "source": [
    "#for문으로 만들기"
   ]
  },
  {
   "cell_type": "code",
   "execution_count": 149,
   "id": "ac9a146c-e057-4475-b54b-be7651f1c060",
   "metadata": {},
   "outputs": [
    {
     "data": {
      "text/plain": [
       "{'name': '기사', 'hp': 200, 'mp': 30, 'level': 5}"
      ]
     },
     "execution_count": 149,
     "metadata": {},
     "output_type": "execute_result"
    }
   ],
   "source": [
    "for i in range(len(key_list)):\n",
    "    charater[key_list[i]]=value_list[i]\n",
    "charater"
   ]
  },
  {
   "cell_type": "code",
   "execution_count": 150,
   "id": "3a2aac8b-b947-4a0e-bd8e-033a5da5a50b",
   "metadata": {},
   "outputs": [],
   "source": [
    "#실제 쓰는 방식"
   ]
  },
  {
   "cell_type": "code",
   "execution_count": 151,
   "id": "3664686f-23bf-4c7b-8fca-5b442356742b",
   "metadata": {},
   "outputs": [
    {
     "data": {
      "text/plain": [
       "[('name', '기사'), ('hp', 200), ('mp', 30), ('level', 5)]"
      ]
     },
     "execution_count": 151,
     "metadata": {},
     "output_type": "execute_result"
    }
   ],
   "source": [
    "list(zip(key_list,value_list)) #쌍으로 된것을 튜플이라고 함"
   ]
  },
  {
   "cell_type": "code",
   "execution_count": 153,
   "id": "c7ef61c4-64dc-4099-82dc-62c6cb13d26f",
   "metadata": {},
   "outputs": [
    {
     "name": "stdout",
     "output_type": "stream",
     "text": [
      "name 기사\n",
      "hp 200\n",
      "mp 30\n",
      "level 5\n"
     ]
    }
   ],
   "source": [
    "for a,b in zip(key_list,value_list):\n",
    "    print(a,b)"
   ]
  },
  {
   "cell_type": "code",
   "execution_count": 154,
   "id": "be8562a4-6fbf-4df4-a228-8c6d990b8a19",
   "metadata": {},
   "outputs": [],
   "source": [
    "charater={}\n",
    "for a,b in zip(key_list,value_list):\n",
    "    charater[a]=b"
   ]
  },
  {
   "cell_type": "code",
   "execution_count": 156,
   "id": "625d1c04-4352-4218-989c-3bfc288a6f75",
   "metadata": {},
   "outputs": [],
   "source": [
    "charater={}"
   ]
  },
  {
   "cell_type": "code",
   "execution_count": 157,
   "id": "268fd158-e5e5-48c9-90ae-d6ba603a1681",
   "metadata": {},
   "outputs": [],
   "source": [
    "charater={a:b for a,b in zip(key_list,value_list)}"
   ]
  },
  {
   "cell_type": "code",
   "execution_count": 158,
   "id": "91dd0cf5-dd3d-463f-a257-6e46bfc0be88",
   "metadata": {},
   "outputs": [
    {
     "data": {
      "text/plain": [
       "{'name': '기사', 'hp': 200, 'mp': 30, 'level': 5}"
      ]
     },
     "execution_count": 158,
     "metadata": {},
     "output_type": "execute_result"
    }
   ],
   "source": [
    "charater"
   ]
  },
  {
   "cell_type": "code",
   "execution_count": 159,
   "id": "ff3f34a0-ac3d-4a6f-a08d-1c59783954a4",
   "metadata": {},
   "outputs": [],
   "source": [
    "#1000확인문제"
   ]
  },
  {
   "cell_type": "code",
   "execution_count": 161,
   "id": "3b7af1f6-a39f-4e77-8e59-570f09db831b",
   "metadata": {},
   "outputs": [
    {
     "name": "stdout",
     "output_type": "stream",
     "text": [
      "45\n",
      "1035\n"
     ]
    }
   ],
   "source": [
    "s=0\n",
    "for i in range(1,1000):\n",
    "    s += i\n",
    "    if s >= 1000:\n",
    "        break\n",
    "print(i)\n",
    "print(s)"
   ]
  },
  {
   "cell_type": "code",
   "execution_count": 164,
   "id": "71313325-fd4f-45c1-bb8d-ac54e1d3133f",
   "metadata": {},
   "outputs": [
    {
     "name": "stdout",
     "output_type": "stream",
     "text": [
      "45\n",
      "1125\n"
     ]
    }
   ],
   "source": [
    "while True:\n",
    "    if i < 1001:\n",
    "        s += i\n",
    "        break\n",
    "    else:\n",
    "        pass\n",
    "print(i)\n",
    "print(s)"
   ]
  },
  {
   "cell_type": "code",
   "execution_count": 165,
   "id": "dec1ea4d-d96b-4b7c-b8f7-2128a62d8b50",
   "metadata": {},
   "outputs": [],
   "source": [
    "import random"
   ]
  },
  {
   "cell_type": "code",
   "execution_count": 167,
   "id": "206b6df3-10e4-4d2c-bab4-662b45d7caa5",
   "metadata": {},
   "outputs": [],
   "source": [
    "x=list(range(1,26))\n",
    "random.shuffle(x)"
   ]
  },
  {
   "cell_type": "code",
   "execution_count": 168,
   "id": "d7ac613c-f200-447b-becf-2cedd9a471d1",
   "metadata": {},
   "outputs": [
    {
     "data": {
      "text/plain": [
       "4"
      ]
     },
     "execution_count": 168,
     "metadata": {},
     "output_type": "execute_result"
    }
   ],
   "source": [
    "x[0]"
   ]
  },
  {
   "cell_type": "code",
   "execution_count": 169,
   "id": "1bd047c4-f0e3-4203-99c9-62321c0873d1",
   "metadata": {},
   "outputs": [],
   "source": [
    "limit = 10000\n",
    "i = 1\n",
    "while True:\n",
    "    s=0\n",
    "    for j in range(i+1):\n",
    "        s += j\n",
    "    if s>limit:\n",
    "        break\n",
    "    i += 1"
   ]
  },
  {
   "cell_type": "code",
   "execution_count": 170,
   "id": "9e4d7d5a-acd7-4231-9706-b85163cdc094",
   "metadata": {},
   "outputs": [
    {
     "data": {
      "text/plain": [
       "141"
      ]
     },
     "execution_count": 170,
     "metadata": {},
     "output_type": "execute_result"
    }
   ],
   "source": [
    "i"
   ]
  },
  {
   "cell_type": "code",
   "execution_count": 171,
   "id": "1ea975b9-adc2-4b00-9d43-695435e5c52e",
   "metadata": {},
   "outputs": [],
   "source": [
    "#리스트: 반복객체, 값들어있음"
   ]
  },
  {
   "cell_type": "code",
   "execution_count": 175,
   "id": "b9d41fb9-56a0-4f1a-9750-301e1db4765e",
   "metadata": {},
   "outputs": [],
   "source": [
    "#랜덤은 주어진것에서 임의의 값 얻"
   ]
  },
  {
   "cell_type": "code",
   "execution_count": 205,
   "id": "fc9c95c5-19ea-458d-a499-80fb453e75a3",
   "metadata": {},
   "outputs": [],
   "source": [
    "import random\n",
    "from random import shuffle"
   ]
  },
  {
   "cell_type": "code",
   "execution_count": 177,
   "id": "6244cc2e-da30-4cd6-99d3-a8d37075e4bf",
   "metadata": {},
   "outputs": [],
   "source": [
    "a=list(range(1,100001))\n",
    "shuffle(a)"
   ]
  },
  {
   "cell_type": "code",
   "execution_count": 178,
   "id": "b749fade-e544-429d-8d61-a41815cc26d5",
   "metadata": {},
   "outputs": [
    {
     "data": {
      "text/plain": [
       "[66078, 80932, 60185, 56490, 76419, 14734, 90374, 44946, 4979, 71953]"
      ]
     },
     "execution_count": 178,
     "metadata": {},
     "output_type": "execute_result"
    }
   ],
   "source": [
    "a[:10]"
   ]
  },
  {
   "cell_type": "code",
   "execution_count": 179,
   "id": "862b137b-2533-4d76-b487-a402ebf50c2c",
   "metadata": {},
   "outputs": [
    {
     "data": {
      "text/plain": [
       "100000"
      ]
     },
     "execution_count": 179,
     "metadata": {},
     "output_type": "execute_result"
    }
   ],
   "source": [
    "len(a)"
   ]
  },
  {
   "cell_type": "code",
   "execution_count": 180,
   "id": "0ae5515c-c72a-496b-97b7-9db2e8ef4387",
   "metadata": {},
   "outputs": [
    {
     "data": {
      "text/plain": [
       "5000050000"
      ]
     },
     "execution_count": 180,
     "metadata": {},
     "output_type": "execute_result"
    }
   ],
   "source": [
    "s=0\n",
    "for i in a:\n",
    "    s+=i\n",
    "s"
   ]
  },
  {
   "cell_type": "code",
   "execution_count": 201,
   "id": "8dc54843-3eed-4d2a-84de-8fa0ea4c29b8",
   "metadata": {},
   "outputs": [
    {
     "data": {
      "text/plain": [
       "5000050000"
      ]
     },
     "execution_count": 201,
     "metadata": {},
     "output_type": "execute_result"
    }
   ],
   "source": [
    "sum(a)"
   ]
  },
  {
   "cell_type": "code",
   "execution_count": 202,
   "id": "754c0d12-f9a0-46d6-bb66-d7cc3afc47d4",
   "metadata": {},
   "outputs": [
    {
     "data": {
      "text/plain": [
       "1"
      ]
     },
     "execution_count": 202,
     "metadata": {},
     "output_type": "execute_result"
    }
   ],
   "source": [
    "min(a)"
   ]
  },
  {
   "cell_type": "code",
   "execution_count": 183,
   "id": "af0f0b76-f257-4788-912c-36b8914ce339",
   "metadata": {},
   "outputs": [
    {
     "data": {
      "text/plain": [
       "100000"
      ]
     },
     "execution_count": 183,
     "metadata": {},
     "output_type": "execute_result"
    }
   ],
   "source": [
    "max(a)"
   ]
  },
  {
   "cell_type": "code",
   "execution_count": 188,
   "id": "fb67cd7c-e420-49c3-abed-eb5aecd7927e",
   "metadata": {},
   "outputs": [],
   "source": [
    "a_min = a[0]\n",
    "for i in range(len(a)):\n",
    "    if a_min < a[i]:\n",
    "        a_min = a[i]"
   ]
  },
  {
   "cell_type": "code",
   "execution_count": 189,
   "id": "320406f2-065e-4394-afeb-ea59da3deaba",
   "metadata": {},
   "outputs": [],
   "source": [
    "a_max=a[0]\n",
    "for i in range(len(a)):\n",
    "    if a_max < a[i]:\n",
    "        a_min = a[i]"
   ]
  },
  {
   "cell_type": "code",
   "execution_count": 190,
   "id": "90f63c81-9fdf-4e70-b809-675220f1e7a1",
   "metadata": {},
   "outputs": [
    {
     "data": {
      "text/plain": [
       "66078"
      ]
     },
     "execution_count": 190,
     "metadata": {},
     "output_type": "execute_result"
    }
   ],
   "source": [
    "a_max"
   ]
  },
  {
   "cell_type": "code",
   "execution_count": 191,
   "id": "feabf96b-5b76-4512-9240-2a1299cd56b0",
   "metadata": {},
   "outputs": [
    {
     "data": {
      "text/plain": [
       "90228"
      ]
     },
     "execution_count": 191,
     "metadata": {},
     "output_type": "execute_result"
    }
   ],
   "source": [
    "a_min"
   ]
  },
  {
   "cell_type": "code",
   "execution_count": 192,
   "id": "906fbaa9-1561-4574-8d49-58013d56f445",
   "metadata": {},
   "outputs": [
    {
     "data": {
      "text/plain": [
       "50000.5"
      ]
     },
     "execution_count": 192,
     "metadata": {},
     "output_type": "execute_result"
    }
   ],
   "source": [
    "sum(a)/len(a)"
   ]
  },
  {
   "cell_type": "code",
   "execution_count": 193,
   "id": "2d543457-76a6-4445-8601-0afe5e0bc057",
   "metadata": {},
   "outputs": [],
   "source": [
    "##평균, 합, 분산, 표준편차"
   ]
  },
  {
   "cell_type": "code",
   "execution_count": 194,
   "id": "1f4314cf-4062-4e48-9dff-1f6a8c31073b",
   "metadata": {},
   "outputs": [],
   "source": [
    "# 표준편차 var(a), sd(a) "
   ]
  },
  {
   "cell_type": "code",
   "execution_count": 196,
   "id": "522c9e9f-ef38-4731-a873-05bfb5944d19",
   "metadata": {},
   "outputs": [
    {
     "data": {
      "text/plain": [
       "50000.5"
      ]
     },
     "execution_count": 196,
     "metadata": {},
     "output_type": "execute_result"
    }
   ],
   "source": [
    "sum(a)/len(a) #평균"
   ]
  },
  {
   "cell_type": "code",
   "execution_count": 197,
   "id": "51665c29-74cf-43b6-bb8d-a05b41947345",
   "metadata": {},
   "outputs": [],
   "source": [
    "##분산 for문으로 구하기"
   ]
  },
  {
   "cell_type": "raw",
   "id": "29da04e8-25aa-40bf-a12b-1d40717b0b2b",
   "metadata": {},
   "source": [
    "sum((a-sum(a)/len(a))**2)/(len(a)-1)"
   ]
  },
  {
   "cell_type": "code",
   "execution_count": 199,
   "id": "749d2039-b399-4b96-ab80-bc6245c4ef90",
   "metadata": {},
   "outputs": [
    {
     "data": {
      "text/plain": [
       "833341666.6666666"
      ]
     },
     "execution_count": 199,
     "metadata": {},
     "output_type": "execute_result"
    }
   ],
   "source": [
    "s=0\n",
    "for i in a:\n",
    "    x=(i-sum(a)/len(a))**2\n",
    "    s += x\n",
    "s/(len(a)-1)"
   ]
  },
  {
   "cell_type": "code",
   "execution_count": 206,
   "id": "dffd1e9e-4e87-4124-80bb-ce2b30adec59",
   "metadata": {},
   "outputs": [
    {
     "data": {
      "text/plain": [
       "True"
      ]
     },
     "execution_count": 206,
     "metadata": {},
     "output_type": "execute_result"
    }
   ],
   "source": [
    "list(reversed(a))==a[::-1] #머신러닝에 사용"
   ]
  },
  {
   "cell_type": "code",
   "execution_count": 209,
   "id": "f598bdbb-d748-405b-bbac-dbc48721f792",
   "metadata": {},
   "outputs": [
    {
     "name": "stdout",
     "output_type": "stream",
     "text": [
      "0번째 요소는 A입니다\n",
      "1번째 요소는 B입니다\n",
      "2번째 요소는 C입니다\n"
     ]
    }
   ],
   "source": [
    "example_list=[\"A\",\"B\",\"C\",]\n",
    "j=0\n",
    "for i in example_list:\n",
    "    print(f'{j}번째 요소는 {i}입니다')\n",
    "    j += 1"
   ]
  },
  {
   "cell_type": "code",
   "execution_count": 210,
   "id": "39269f3c-76c3-433d-8c32-735904ceb19f",
   "metadata": {},
   "outputs": [
    {
     "name": "stdout",
     "output_type": "stream",
     "text": [
      "0번째 요소는 A입니다\n",
      "1번째 요소는 B입니다\n",
      "2번째 요소는 C입니다\n"
     ]
    }
   ],
   "source": [
    "example_list=[\"A\",\"B\",\"C\",]\n",
    "for i,v in enumerate(example_list):\n",
    "    print(f'{i}번째 요소는 {v}입니다')"
   ]
  },
  {
   "cell_type": "code",
   "execution_count": 211,
   "id": "0e54d95d-5d00-4d24-863b-2e97f179c78c",
   "metadata": {},
   "outputs": [],
   "source": [
    "example_dictionary={\n",
    "    '키A':'값A',\n",
    "    '키B':'값B',\n",
    "    '키C':'값C',\n",
    "}"
   ]
  },
  {
   "cell_type": "code",
   "execution_count": 212,
   "id": "8f767ad7-dc24-447e-a5b3-8bf7abfde198",
   "metadata": {},
   "outputs": [
    {
     "data": {
      "text/plain": [
       "{'키A': '값A', '키B': '값B', '키C': '값C'}"
      ]
     },
     "execution_count": 212,
     "metadata": {},
     "output_type": "execute_result"
    }
   ],
   "source": [
    "example_dictionary"
   ]
  },
  {
   "cell_type": "code",
   "execution_count": 213,
   "id": "be222255-5879-47bd-b66f-7f7d6abc5b2c",
   "metadata": {},
   "outputs": [],
   "source": [
    "ex_dict={'키'+i:'값'+i for i in 'ABC'}"
   ]
  },
  {
   "cell_type": "code",
   "execution_count": 214,
   "id": "e0f7e24e-aba2-4ced-a363-37c11b94fb2c",
   "metadata": {},
   "outputs": [
    {
     "data": {
      "text/plain": [
       "{'키A': '값A', '키B': '값B', '키C': '값C'}"
      ]
     },
     "execution_count": 214,
     "metadata": {},
     "output_type": "execute_result"
    }
   ],
   "source": [
    "ex_dict "
   ]
  },
  {
   "cell_type": "code",
   "execution_count": 215,
   "id": "d2d7b0c5-6d1e-4d25-babf-e5699b2e8361",
   "metadata": {},
   "outputs": [],
   "source": [
    "#튜플은 ()"
   ]
  },
  {
   "cell_type": "code",
   "execution_count": 216,
   "id": "a0b497a6-32b6-42a7-94a1-99c1685233aa",
   "metadata": {},
   "outputs": [
    {
     "name": "stdout",
     "output_type": "stream",
     "text": [
      "키A:값A\n",
      "키B:값B\n",
      "키C:값C\n"
     ]
    }
   ],
   "source": [
    "for i in ex_dict:\n",
    "    print(f'{i}:{ex_dict.get(i)}')"
   ]
  },
  {
   "cell_type": "code",
   "execution_count": 224,
   "id": "7b48957b-bf99-45cd-a1e8-6e1a9079f9bc",
   "metadata": {},
   "outputs": [
    {
     "name": "stdout",
     "output_type": "stream",
     "text": [
      "키A:값A\n",
      "키B:값B\n",
      "키C:값C\n"
     ]
    }
   ],
   "source": [
    "for i,j in ex_dict.items():\n",
    "    print(f'{i}:{ex_dict.get(i)}')"
   ]
  },
  {
   "cell_type": "code",
   "execution_count": 220,
   "id": "bcb84462-15d0-4f1c-9c5d-29f1c8cae699",
   "metadata": {},
   "outputs": [
    {
     "name": "stdout",
     "output_type": "stream",
     "text": [
      "값A\n",
      "값B\n",
      "값C\n"
     ]
    }
   ],
   "source": [
    "for i in ex_dict.values():\n",
    "    print(f'{i}')"
   ]
  },
  {
   "cell_type": "code",
   "execution_count": 226,
   "id": "f01eb3f8-3fdc-4bcb-b9d9-b09afefdfa2b",
   "metadata": {},
   "outputs": [
    {
     "name": "stdout",
     "output_type": "stream",
     "text": [
      "키A\n",
      "키B\n",
      "키C\n"
     ]
    }
   ],
   "source": [
    "for i in ex_dict.keys():\n",
    "    print(f'{i}')"
   ]
  },
  {
   "cell_type": "code",
   "execution_count": 227,
   "id": "0973dde0-13e1-4c8a-af27-01fcd993fa15",
   "metadata": {},
   "outputs": [],
   "source": [
    "a=list(range(1000000))\n",
    "shuffle(a)"
   ]
  },
  {
   "cell_type": "code",
   "execution_count": 228,
   "id": "2f452986-fc8e-45f7-83b5-adc8e6676c62",
   "metadata": {},
   "outputs": [],
   "source": [
    "a = a[:1000]"
   ]
  },
  {
   "cell_type": "code",
   "execution_count": null,
   "id": "2ab61acb-2526-4878-a39e-2a6f101a1d09",
   "metadata": {},
   "outputs": [],
   "source": [
    "s=0\n",
    "if a%3 == 0:\n",
    "    count(a)\n",
    "    s += 1\n",
    "else:\n",
    "    pass"
   ]
  },
  {
   "cell_type": "code",
   "execution_count": 231,
   "id": "d4be0a08-85e6-4437-8b5d-be33e3869772",
   "metadata": {},
   "outputs": [
    {
     "name": "stdout",
     "output_type": "stream",
     "text": [
      "짝수510,홀수490\n"
     ]
    }
   ],
   "source": [
    "even = 0\n",
    "for i in a:\n",
    "    if i % 2 ==0:\n",
    "        even += 1\n",
    "odds=len(a)-even\n",
    "print(f'짝수{even},홀수{odds}')"
   ]
  },
  {
   "cell_type": "code",
   "execution_count": 232,
   "id": "fff2b6ec-99bc-483d-8a1f-41ed57ddb083",
   "metadata": {},
   "outputs": [
    {
     "data": {
      "text/plain": [
       "322"
      ]
     },
     "execution_count": 232,
     "metadata": {},
     "output_type": "execute_result"
    }
   ],
   "source": [
    "three_times=0\n",
    "for i in a:\n",
    "    if i%3 ==0:\n",
    "        three_times += 1\n",
    "three_times"
   ]
  },
  {
   "cell_type": "code",
   "execution_count": 237,
   "id": "1cc8cc98-2434-4bef-bc42-353addcbbc8b",
   "metadata": {},
   "outputs": [],
   "source": [
    "#three_times=0\n",
    "#for i in range(2,len(a)+1,3):\n",
    "    #print(i)"
   ]
  },
  {
   "cell_type": "code",
   "execution_count": 235,
   "id": "e919fd91-797d-4f8d-8180-9d74346d5531",
   "metadata": {
    "tags": []
   },
   "outputs": [
    {
     "data": {
      "text/plain": [
       "115"
      ]
     },
     "execution_count": 235,
     "metadata": {},
     "output_type": "execute_result"
    }
   ],
   "source": [
    "three_times=0\n",
    "for i in range(2,len(a)+1,3):\n",
    "    if a[i]%3==0:\n",
    "        three_times += 1\n",
    "three_times"
   ]
  },
  {
   "cell_type": "code",
   "execution_count": 245,
   "id": "82e66d85-38f9-474a-9cc8-6c1431030077",
   "metadata": {},
   "outputs": [],
   "source": [
    "three_times=0\n",
    "for i,v in enumerate(a):\n",
    "    a_i=i+1\n",
    "    if a_i%3==0:\n",
    "        if v%3==0:\n",
    "            three_times+=1"
   ]
  },
  {
   "cell_type": "code",
   "execution_count": 246,
   "id": "2da5bf69-c00d-45b4-b36e-609dba7be97b",
   "metadata": {},
   "outputs": [
    {
     "data": {
      "text/plain": [
       "115"
      ]
     },
     "execution_count": 246,
     "metadata": {},
     "output_type": "execute_result"
    }
   ],
   "source": [
    "three_times"
   ]
  },
  {
   "cell_type": "code",
   "execution_count": 247,
   "id": "f4c07001-2e3a-402b-ae17-8ef87baf377b",
   "metadata": {},
   "outputs": [],
   "source": [
    "a_a={i+1:v for i,v in enumerate(a)}"
   ]
  },
  {
   "cell_type": "code",
   "execution_count": 248,
   "id": "d9f68dd7-741c-4eb1-8bf2-0915a5e58b5c",
   "metadata": {},
   "outputs": [
    {
     "data": {
      "text/plain": [
       "43"
      ]
     },
     "execution_count": 248,
     "metadata": {},
     "output_type": "execute_result"
    }
   ],
   "source": [
    "five_times=0\n",
    "for k,v in a_a.items():\n",
    "    if k%5==0:\n",
    "        if v%5==0:\n",
    "            five_times+=1\n",
    "five_times"
   ]
  },
  {
   "cell_type": "code",
   "execution_count": 250,
   "id": "ab6eb4ff-9908-467a-8d6a-aa16e2b7b1b8",
   "metadata": {},
   "outputs": [
    {
     "data": {
      "text/plain": [
       "43"
      ]
     },
     "execution_count": 250,
     "metadata": {},
     "output_type": "execute_result"
    }
   ],
   "source": [
    "five_times=0\n",
    "for k,v in a_a.items():\n",
    "    if (k%5==0)and (v%5==0):\n",
    "        five_times+=1\n",
    "five_times"
   ]
  },
  {
   "cell_type": "code",
   "execution_count": 251,
   "id": "063e55f9-627b-43de-944c-d5ea182e1586",
   "metadata": {},
   "outputs": [],
   "source": [
    "#리스트내포(리스트 컴프레션)"
   ]
  },
  {
   "cell_type": "code",
   "execution_count": 253,
   "id": "e0f8f027-673c-443b-b46b-37240eb72c7c",
   "metadata": {},
   "outputs": [],
   "source": [
    "array=[]\n",
    "for i in range(0,20,2):\n",
    "    array.append(i*i)"
   ]
  },
  {
   "cell_type": "code",
   "execution_count": 254,
   "id": "bb26c7c5-ebf9-4540-b5b6-93704236ef4f",
   "metadata": {},
   "outputs": [
    {
     "data": {
      "text/plain": [
       "[0, 4, 16, 36, 64, 100, 144, 196, 256, 324]"
      ]
     },
     "execution_count": 254,
     "metadata": {},
     "output_type": "execute_result"
    }
   ],
   "source": [
    "array"
   ]
  },
  {
   "cell_type": "code",
   "execution_count": 255,
   "id": "8166b0f5-3278-454f-8ac9-c165ed61a74f",
   "metadata": {},
   "outputs": [],
   "source": [
    "array=[str(i) for i in range(0,20,2)] "
   ]
  },
  {
   "cell_type": "code",
   "execution_count": 257,
   "id": "32493c88-7434-4db3-866a-663543ef190d",
   "metadata": {},
   "outputs": [
    {
     "ename": "TypeError",
     "evalue": "unsupported operand type(s) for +: 'int' and 'str'",
     "output_type": "error",
     "traceback": [
      "\u001b[1;31m---------------------------------------------------------------------------\u001b[0m",
      "\u001b[1;31mTypeError\u001b[0m                                 Traceback (most recent call last)",
      "\u001b[1;32m~\\AppData\\Local\\Temp/ipykernel_8304/1976028139.py\u001b[0m in \u001b[0;36m<module>\u001b[1;34m\u001b[0m\n\u001b[1;32m----> 1\u001b[1;33m \u001b[0msum\u001b[0m\u001b[1;33m(\u001b[0m\u001b[0marray\u001b[0m\u001b[1;33m)\u001b[0m\u001b[1;33m\u001b[0m\u001b[1;33m\u001b[0m\u001b[0m\n\u001b[0m",
      "\u001b[1;31mTypeError\u001b[0m: unsupported operand type(s) for +: 'int' and 'str'"
     ]
    }
   ],
   "source": [
    "sum(array)"
   ]
  },
  {
   "cell_type": "code",
   "execution_count": 258,
   "id": "999735de-9cf4-4dd3-a11a-248b95476cfa",
   "metadata": {},
   "outputs": [
    {
     "data": {
      "text/plain": [
       "90"
      ]
     },
     "execution_count": 258,
     "metadata": {},
     "output_type": "execute_result"
    }
   ],
   "source": [
    "sum([int(i) for i in array])"
   ]
  },
  {
   "cell_type": "code",
   "execution_count": 259,
   "id": "100774a3-c5f5-4e15-b5d6-3a351178c9cf",
   "metadata": {},
   "outputs": [],
   "source": [
    "#예시"
   ]
  },
  {
   "cell_type": "code",
   "execution_count": 275,
   "id": "c8a72355-0047-42f2-b47f-1ff3a9bdce3f",
   "metadata": {},
   "outputs": [],
   "source": [
    "foods=['A','B','C','D','E',]"
   ]
  },
  {
   "cell_type": "code",
   "execution_count": 276,
   "id": "76b45bfa-34c2-418e-89f8-1866a84abfdc",
   "metadata": {},
   "outputs": [],
   "source": [
    "fruits=[]\n",
    "for food in foods:\n",
    "    if food != 'C':\n",
    "        fruits.append(food)"
   ]
  },
  {
   "cell_type": "code",
   "execution_count": 277,
   "id": "b6058c6f-d067-42b7-80f7-5ac80c2a0265",
   "metadata": {},
   "outputs": [],
   "source": [
    "fruits = [food for food in foods if food != 'E']"
   ]
  },
  {
   "cell_type": "code",
   "execution_count": 278,
   "id": "5f5de53d-202f-4722-8c08-54f8c0c1ee34",
   "metadata": {},
   "outputs": [
    {
     "data": {
      "text/plain": [
       "['A', 'B', 'C', 'D']"
      ]
     },
     "execution_count": 278,
     "metadata": {},
     "output_type": "execute_result"
    }
   ],
   "source": [
    "fruits"
   ]
  },
  {
   "cell_type": "code",
   "execution_count": 279,
   "id": "eed6cbbe-b246-495c-9826-03c8048eee06",
   "metadata": {},
   "outputs": [],
   "source": [
    "fruits = {k:food for k,food in enumerate(foods) if food != 'E'}"
   ]
  },
  {
   "cell_type": "code",
   "execution_count": 280,
   "id": "181e4fcc-1ac8-4be9-97eb-f6b3c8a7041c",
   "metadata": {},
   "outputs": [
    {
     "data": {
      "text/plain": [
       "{0: 'A', 1: 'B', 2: 'C', 3: 'D'}"
      ]
     },
     "execution_count": 280,
     "metadata": {},
     "output_type": "execute_result"
    }
   ],
   "source": [
    "fruits"
   ]
  },
  {
   "cell_type": "code",
   "execution_count": 281,
   "id": "769303c6-fecb-4beb-a462-8e3fcddfcb84",
   "metadata": {},
   "outputs": [
    {
     "data": {
      "text/plain": [
       "2.364532919426411e+17"
      ]
     },
     "execution_count": 281,
     "metadata": {},
     "output_type": "execute_result"
    }
   ],
   "source": [
    "sum([(i-sum(a))**2 for i in a])/(len(a)-1)"
   ]
  },
  {
   "cell_type": "code",
   "execution_count": 282,
   "id": "c82e5183-6d9c-4d41-bc93-17ddd8d41883",
   "metadata": {},
   "outputs": [
    {
     "data": {
      "text/plain": [
       "'1010'"
      ]
     },
     "execution_count": 282,
     "metadata": {},
     "output_type": "execute_result"
    }
   ],
   "source": [
    "\"{:b}\".format(10)"
   ]
  },
  {
   "cell_type": "code",
   "execution_count": 286,
   "id": "50af7a77-7edf-4bea-aead-df1946bb9176",
   "metadata": {},
   "outputs": [
    {
     "data": {
      "text/plain": [
       "10"
      ]
     },
     "execution_count": 286,
     "metadata": {},
     "output_type": "execute_result"
    }
   ],
   "source": [
    "int(\"{:b}\".format(10),2)"
   ]
  },
  {
   "cell_type": "code",
   "execution_count": 288,
   "id": "05bb791b-78fd-4335-b08b-a1bcb045288a",
   "metadata": {},
   "outputs": [
    {
     "data": {
      "text/plain": [
       "1"
      ]
     },
     "execution_count": 288,
     "metadata": {},
     "output_type": "execute_result"
    }
   ],
   "source": [
    "[22,34,125,5,230].count(22)"
   ]
  },
  {
   "cell_type": "code",
   "execution_count": 289,
   "id": "cd47fa6b-0741-4038-a352-d0907f5aa5d9",
   "metadata": {},
   "outputs": [],
   "source": [
    "x=[22,34,125,5,230]"
   ]
  },
  {
   "cell_type": "code",
   "execution_count": 292,
   "id": "98285c2b-1e36-4051-9979-1a1f0b198eaf",
   "metadata": {},
   "outputs": [
    {
     "data": {
      "text/plain": [
       "1"
      ]
     },
     "execution_count": 292,
     "metadata": {},
     "output_type": "execute_result"
    }
   ],
   "source": [
    "cnt = 0 #count\n",
    "for i in x:\n",
    "    if i == 22:\n",
    "        cnt += 1\n",
    "cnt"
   ]
  },
  {
   "cell_type": "code",
   "execution_count": 293,
   "id": "641839cd-30d1-4d3a-8022-46dcaa3acca1",
   "metadata": {},
   "outputs": [],
   "source": [
    "output=[]\n",
    "for i in range(1,101):\n",
    "    output.append('{:b}'.format(i))"
   ]
  },
  {
   "cell_type": "code",
   "execution_count": 303,
   "id": "506a8413-2e01-4735-8a12-34b88aa5641b",
   "metadata": {},
   "outputs": [],
   "source": [
    "output = ['{:b}'.format(i) for i in range(1,101)]"
   ]
  },
  {
   "cell_type": "code",
   "execution_count": 308,
   "id": "22262a55-3a14-46bf-8b39-78958db71ad7",
   "metadata": {
    "tags": []
   },
   "outputs": [
    {
     "ename": "SyntaxError",
     "evalue": "invalid syntax (Temp/ipykernel_8304/3083939273.py, line 3)",
     "output_type": "error",
     "traceback": [
      "\u001b[1;36m  File \u001b[1;32m\"C:\\Users\\user\\AppData\\Local\\Temp/ipykernel_8304/3083939273.py\"\u001b[1;36m, line \u001b[1;32m3\u001b[0m\n\u001b[1;33m    i=output[].count('0')==1\u001b[0m\n\u001b[1;37m             ^\u001b[0m\n\u001b[1;31mSyntaxError\u001b[0m\u001b[1;31m:\u001b[0m invalid syntax\n"
     ]
    }
   ],
   "source": [
    "ouput=[]\n",
    "for i in range(2,101):\n",
    "    i=output[].count('0')==1\n",
    "    print(\"{}:{}\".format(i,'{:b}'.format(i)))\n",
    "print(\"합계:\",sum(output))"
   ]
  },
  {
   "cell_type": "code",
   "execution_count": 304,
   "id": "dd47229c-d303-4393-a059-0e95ecfc2dd9",
   "metadata": {},
   "outputs": [
    {
     "data": {
      "text/plain": [
       "False"
      ]
     },
     "execution_count": 304,
     "metadata": {},
     "output_type": "execute_result"
    }
   ],
   "source": [
    "output[3].count('0')==1"
   ]
  },
  {
   "cell_type": "code",
   "execution_count": 313,
   "id": "d2ea2f18-c292-4827-84fe-388678ac3240",
   "metadata": {},
   "outputs": [],
   "source": [
    "one_zero=[]\n",
    "for i in output:\n",
    "    if i.count('0') == 1:\n",
    "        one_zero.append(int(i,2))"
   ]
  },
  {
   "cell_type": "code",
   "execution_count": 312,
   "id": "7f6002f9-80c5-4ae9-a70a-708c23bd43bb",
   "metadata": {},
   "outputs": [
    {
     "data": {
      "text/plain": [
       "29"
      ]
     },
     "execution_count": 312,
     "metadata": {},
     "output_type": "execute_result"
    }
   ],
   "source": [
    "int(one_zero[8],2)"
   ]
  },
  {
   "cell_type": "code",
   "execution_count": 315,
   "id": "46889dbc-e5bc-49c8-863a-2c86f6dbc975",
   "metadata": {},
   "outputs": [
    {
     "data": {
      "text/plain": [
       "539"
      ]
     },
     "execution_count": 315,
     "metadata": {},
     "output_type": "execute_result"
    }
   ],
   "source": [
    "sum(one_zero)"
   ]
  },
  {
   "cell_type": "code",
   "execution_count": 316,
   "id": "75869049-c5cf-44c7-b491-6362a32958d0",
   "metadata": {},
   "outputs": [
    {
     "data": {
      "text/plain": [
       "539"
      ]
     },
     "execution_count": 316,
     "metadata": {},
     "output_type": "execute_result"
    }
   ],
   "source": [
    "sum([int(i,2) for i in output if i.count('0')==1])"
   ]
  },
  {
   "cell_type": "code",
   "execution_count": 317,
   "id": "26fa04eb-97c0-48ae-ba1e-e93549c7c9c8",
   "metadata": {},
   "outputs": [],
   "source": [
    "#함수: del, for, if, 함수는 띄어쓰기가 없다\n",
    "#함수를 만드는 명령어 def_함수명_(형식,채울 필욘 없음>매개변수,파라미터) \n",
    "#마지막에 리턴 해주거나 안해주거나(프린트)  "
   ]
  },
  {
   "cell_type": "code",
   "execution_count": 318,
   "id": "f5e43c34-030b-4702-a79a-3818141529f3",
   "metadata": {},
   "outputs": [],
   "source": [
    "def 함수명():\n",
    "    return 10 #10의 값을 반환한다"
   ]
  },
  {
   "cell_type": "code",
   "execution_count": 319,
   "id": "815c50bb-268e-4415-9804-6188cd756491",
   "metadata": {},
   "outputs": [
    {
     "data": {
      "text/plain": [
       "10"
      ]
     },
     "execution_count": 319,
     "metadata": {},
     "output_type": "execute_result"
    }
   ],
   "source": [
    "함수명()"
   ]
  },
  {
   "cell_type": "code",
   "execution_count": 324,
   "id": "66ec0cfa-7cae-4aa8-b200-6b79feb74abc",
   "metadata": {},
   "outputs": [],
   "source": [
    "def 함수명():\n",
    "    return 10"
   ]
  },
  {
   "cell_type": "code",
   "execution_count": 325,
   "id": "a5fa2568-3b6e-4c83-8f16-4c5ea547454b",
   "metadata": {},
   "outputs": [],
   "source": [
    "a=함수명()"
   ]
  },
  {
   "cell_type": "code",
   "execution_count": 326,
   "id": "fd06ca57-7120-4399-9e88-4ebaeefa9b42",
   "metadata": {},
   "outputs": [
    {
     "data": {
      "text/plain": [
       "10"
      ]
     },
     "execution_count": 326,
     "metadata": {},
     "output_type": "execute_result"
    }
   ],
   "source": [
    "a"
   ]
  },
  {
   "cell_type": "code",
   "execution_count": 329,
   "id": "bf0f3055-ff51-4201-a75b-52d6286b3eef",
   "metadata": {},
   "outputs": [],
   "source": [
    "def aaa(x):\n",
    "    s=0 \n",
    "    for i in range(x+1):\n",
    "        s += i\n",
    "    return s"
   ]
  },
  {
   "cell_type": "code",
   "execution_count": 331,
   "id": "e1c9c085-f2de-4b96-a7ec-ce75bdd09d8a",
   "metadata": {},
   "outputs": [
    {
     "data": {
      "text/plain": [
       "5050"
      ]
     },
     "execution_count": 331,
     "metadata": {},
     "output_type": "execute_result"
    }
   ],
   "source": [
    "aaa(100)"
   ]
  },
  {
   "cell_type": "code",
   "execution_count": 332,
   "id": "4ebbee23-1178-47d6-a38b-d8f71b7a8d18",
   "metadata": {},
   "outputs": [],
   "source": [
    "def aaa(x):\n",
    "    s=0 \n",
    "    for i in x:\n",
    "        s += i\n",
    "    return s"
   ]
  },
  {
   "cell_type": "code",
   "execution_count": 334,
   "id": "134774dd-50a1-4ebf-a26a-f31bb6cf41c8",
   "metadata": {},
   "outputs": [
    {
     "data": {
      "text/plain": [
       "101"
      ]
     },
     "execution_count": 334,
     "metadata": {},
     "output_type": "execute_result"
    }
   ],
   "source": [
    "aaa([1,100])"
   ]
  },
  {
   "cell_type": "code",
   "execution_count": 348,
   "id": "f10de44f-8885-4662-8756-cd5f7ee1171b",
   "metadata": {},
   "outputs": [],
   "source": [
    "y=[1,4,True,62,'11']"
   ]
  },
  {
   "cell_type": "code",
   "execution_count": 349,
   "id": "8458adc2-d761-4c61-b008-31df16ff52ee",
   "metadata": {},
   "outputs": [],
   "source": [
    "def aaa(x):\n",
    "    s=0 \n",
    "    for i in x:\n",
    "        if (type(i) == int) or (type(i) == float): # if type(i) in [int,float]:\n",
    "            s += i\n",
    "    return s"
   ]
  },
  {
   "cell_type": "code",
   "execution_count": 350,
   "id": "d267b4be-cd48-4188-b0ff-7145900bdf05",
   "metadata": {},
   "outputs": [
    {
     "data": {
      "text/plain": [
       "67"
      ]
     },
     "execution_count": 350,
     "metadata": {},
     "output_type": "execute_result"
    }
   ],
   "source": [
    "aaa(y)"
   ]
  },
  {
   "cell_type": "code",
   "execution_count": 352,
   "id": "7f693dea-4c64-4f3c-8619-3cb637d44cfa",
   "metadata": {},
   "outputs": [],
   "source": [
    "def kkk(x):\n",
    "    s=0\n",
    "    for i in x:\n",
    "        if type(i) in [int, float]:\n",
    "            s += i\n",
    "    return s/3"
   ]
  },
  {
   "cell_type": "code",
   "execution_count": 353,
   "id": "2f6dc834-be1d-46a6-a01c-325a263a219a",
   "metadata": {},
   "outputs": [
    {
     "data": {
      "text/plain": [
       "22.333333333333332"
      ]
     },
     "execution_count": 353,
     "metadata": {},
     "output_type": "execute_result"
    }
   ],
   "source": [
    "kkk(y)"
   ]
  },
  {
   "cell_type": "code",
   "execution_count": 354,
   "id": "c347c4d1-4fea-4039-b194-ba65a5177eb0",
   "metadata": {},
   "outputs": [],
   "source": [
    "def kkk(x):\n",
    "    s=0\n",
    "    l=0\n",
    "    for i in x:\n",
    "        if type(i) in [int, float]:\n",
    "            s += i\n",
    "            l += 1\n",
    "    return s/3"
   ]
  },
  {
   "cell_type": "code",
   "execution_count": 355,
   "id": "0bab7241-814a-4283-8986-a8b86c94ec05",
   "metadata": {},
   "outputs": [
    {
     "data": {
      "text/plain": [
       "22.333333333333332"
      ]
     },
     "execution_count": 355,
     "metadata": {},
     "output_type": "execute_result"
    }
   ],
   "source": [
    "kkk(y)"
   ]
  },
  {
   "cell_type": "code",
   "execution_count": 365,
   "id": "497b694c-12d1-4520-be87-dbc36db37461",
   "metadata": {},
   "outputs": [
    {
     "data": {
      "text/plain": [
       "dict"
      ]
     },
     "execution_count": 365,
     "metadata": {},
     "output_type": "execute_result"
    }
   ],
   "source": [
    "type(kkk1(y))"
   ]
  },
  {
   "cell_type": "raw",
   "id": "6e35bb79-e6be-420d-86f1-28d0d67dfd66",
   "metadata": {},
   "source": [
    "사용된 데이터의 수는 : 3\n",
    "합계는 : 67\n",
    "평균은 : 22.3333"
   ]
  },
  {
   "cell_type": "code",
   "execution_count": 357,
   "id": "7d521ddb-9b0f-4b2f-a59e-b92df71acea1",
   "metadata": {},
   "outputs": [],
   "source": [
    "def kkk1(x):\n",
    "    tmp=[]\n",
    "    for i in x:\n",
    "        if type(i) in [int, float]:\n",
    "            tmp.append(i)\n",
    "    return sum(tmp),len(tmp),sum(tmp)/len(tmp)"
   ]
  },
  {
   "cell_type": "code",
   "execution_count": 358,
   "id": "089b4939-1c14-4b13-8031-b527638fc623",
   "metadata": {},
   "outputs": [
    {
     "data": {
      "text/plain": [
       "(67, 3, 22.333333333333332)"
      ]
     },
     "execution_count": 358,
     "metadata": {},
     "output_type": "execute_result"
    }
   ],
   "source": [
    "kkk1(y)"
   ]
  },
  {
   "cell_type": "code",
   "execution_count": 364,
   "id": "300f5b4c-2dd7-4071-a8a7-36c8b3ab4ec5",
   "metadata": {},
   "outputs": [
    {
     "data": {
      "text/plain": [
       "dict"
      ]
     },
     "execution_count": 364,
     "metadata": {},
     "output_type": "execute_result"
    }
   ],
   "source": [
    "type(kkk1(y))"
   ]
  },
  {
   "cell_type": "code",
   "execution_count": 359,
   "id": "e207c6ba-efb2-4865-9508-63b4b1d7a39a",
   "metadata": {},
   "outputs": [],
   "source": [
    "def kkk1(x):\n",
    "    tmp=[]\n",
    "    for i in x:\n",
    "        if type(i) in [int, float]:\n",
    "            tmp.append(i)\n",
    "    return {'합계':sum(tmp),'갯수':len(tmp),'평균':sum(tmp)/len(tmp)}"
   ]
  },
  {
   "cell_type": "code",
   "execution_count": 360,
   "id": "671aeec3-9a23-434e-b440-81e99ee6bbe5",
   "metadata": {},
   "outputs": [
    {
     "data": {
      "text/plain": [
       "{'합계': 67, '갯수': 3, '평균': 22.333333333333332}"
      ]
     },
     "execution_count": 360,
     "metadata": {},
     "output_type": "execute_result"
    }
   ],
   "source": [
    "kkk1(y)"
   ]
  },
  {
   "cell_type": "code",
   "execution_count": 363,
   "id": "2b7cd0e8-8d6c-4772-a110-7f0c589fe5fb",
   "metadata": {},
   "outputs": [
    {
     "data": {
      "text/plain": [
       "dict"
      ]
     },
     "execution_count": 363,
     "metadata": {},
     "output_type": "execute_result"
    }
   ],
   "source": [
    "type(kkk1(y))"
   ]
  },
  {
   "cell_type": "code",
   "execution_count": 366,
   "id": "98fc5deb-f578-4b18-b177-a8ea46766e4f",
   "metadata": {},
   "outputs": [],
   "source": [
    "def aaa(x):\n",
    "    return len(x)"
   ]
  },
  {
   "cell_type": "code",
   "execution_count": 367,
   "id": "ea4b54c8-9e9b-4026-8ef7-85d6ef08ae74",
   "metadata": {},
   "outputs": [
    {
     "data": {
      "text/plain": [
       "2"
      ]
     },
     "execution_count": 367,
     "metadata": {},
     "output_type": "execute_result"
    }
   ],
   "source": [
    "aaa('안녕')"
   ]
  },
  {
   "cell_type": "code",
   "execution_count": 380,
   "id": "ea570800-9ea9-443d-b75f-d9540a844a35",
   "metadata": {},
   "outputs": [],
   "source": [
    "def aaa(x):\n",
    "    s=0\n",
    "    for i in x:\n",
    "        s += 1\n",
    "    return s"
   ]
  },
  {
   "cell_type": "code",
   "execution_count": 381,
   "id": "a2df0eb6-c276-4f84-8277-5e4f388afe0d",
   "metadata": {},
   "outputs": [
    {
     "data": {
      "text/plain": [
       "9"
      ]
     },
     "execution_count": 381,
     "metadata": {},
     "output_type": "execute_result"
    }
   ],
   "source": [
    "aaa('안녕 python')"
   ]
  },
  {
   "cell_type": "code",
   "execution_count": 382,
   "id": "36266ab3-1a19-4e4c-b464-62aa37c36a04",
   "metadata": {},
   "outputs": [
    {
     "data": {
      "text/plain": [
       "4"
      ]
     },
     "execution_count": 382,
     "metadata": {},
     "output_type": "execute_result"
    }
   ],
   "source": [
    "aaa([1,2,3,4])"
   ]
  },
  {
   "cell_type": "code",
   "execution_count": 383,
   "id": "9d6c5094-e8a1-4a12-a4ad-29d252c1bdee",
   "metadata": {},
   "outputs": [
    {
     "data": {
      "text/plain": [
       "5"
      ]
     },
     "execution_count": 383,
     "metadata": {},
     "output_type": "execute_result"
    }
   ],
   "source": [
    "aaa([1,2,3,4,''])"
   ]
  },
  {
   "cell_type": "code",
   "execution_count": 396,
   "id": "97000ebc-ab5e-48cb-9a53-ccb2311c5115",
   "metadata": {},
   "outputs": [],
   "source": [
    "def aaa(x):\n",
    "    s=0\n",
    "    for i in x:\n",
    "        s += 1\n",
    "        if i == ' ':\n",
    "            s -= 1\n",
    "    return s"
   ]
  },
  {
   "cell_type": "code",
   "execution_count": 397,
   "id": "f13efdae-d869-425d-b670-e552dad0e328",
   "metadata": {},
   "outputs": [
    {
     "data": {
      "text/plain": [
       "4"
      ]
     },
     "execution_count": 397,
     "metadata": {},
     "output_type": "execute_result"
    }
   ],
   "source": [
    "aaa([1,2,3,4,' '])"
   ]
  },
  {
   "cell_type": "code",
   "execution_count": 388,
   "id": "49499e4e-9fbc-4984-a052-415efc476a60",
   "metadata": {},
   "outputs": [],
   "source": [
    "def aaa(x):\n",
    "    s=0\n",
    "    if type(x) == str:\n",
    "        x = [i for i in x if i != ' ']\n",
    "        print(x)\n",
    "    for i in x:\n",
    "        s += 1\n",
    "    else:\n",
    "        for i in x:\n",
    "            s += 1\n",
    "    return s"
   ]
  },
  {
   "cell_type": "code",
   "execution_count": 389,
   "id": "587d4016-dfc9-4d3d-b53b-45ea221315f1",
   "metadata": {},
   "outputs": [
    {
     "name": "stdout",
     "output_type": "stream",
     "text": [
      "['안', '녕']\n"
     ]
    },
    {
     "data": {
      "text/plain": [
       "4"
      ]
     },
     "execution_count": 389,
     "metadata": {},
     "output_type": "execute_result"
    }
   ],
   "source": [
    "aaa('안녕')"
   ]
  },
  {
   "cell_type": "code",
   "execution_count": 390,
   "id": "bcdb5f9b-984a-4e92-b4b8-b3583608fc07",
   "metadata": {},
   "outputs": [
    {
     "data": {
      "text/plain": [
       "10"
      ]
     },
     "execution_count": 390,
     "metadata": {},
     "output_type": "execute_result"
    }
   ],
   "source": [
    "aaa([1,2,3,4,''])"
   ]
  },
  {
   "cell_type": "code",
   "execution_count": 391,
   "id": "7e8f27d8-b9e6-4582-ae2d-ee84db7650e5",
   "metadata": {},
   "outputs": [],
   "source": [
    "def aaa(x):\n",
    "    s=0\n",
    "    if type(x) == str:\n",
    "        x = [i for i in x if i != ' '] #리스트컴프레션, 객체를 새로 만들어줌\n",
    "    for i in x:\n",
    "        s += 1\n",
    "    return s"
   ]
  },
  {
   "cell_type": "code",
   "execution_count": 393,
   "id": "8135e926-e98c-45ad-8cde-3bc752e8019b",
   "metadata": {},
   "outputs": [
    {
     "data": {
      "text/plain": [
       "8"
      ]
     },
     "execution_count": 393,
     "metadata": {},
     "output_type": "execute_result"
    }
   ],
   "source": [
    "aaa('안녕 python')"
   ]
  },
  {
   "cell_type": "code",
   "execution_count": 394,
   "id": "fadbf0c2-e5a6-4ce3-9a98-08bd1cffe990",
   "metadata": {},
   "outputs": [],
   "source": [
    "def aaa1(x): #직관적이어서 좋음\n",
    "    s=0\n",
    "    for i in x:\n",
    "        s += 1\n",
    "    if type(x) == str:\n",
    "        s =s - x.count(' ')\n",
    "    return s"
   ]
  },
  {
   "cell_type": "code",
   "execution_count": 395,
   "id": "e85b22c5-ac04-42da-b321-73c282c5a12f",
   "metadata": {},
   "outputs": [
    {
     "data": {
      "text/plain": [
       "7"
      ]
     },
     "execution_count": 395,
     "metadata": {},
     "output_type": "execute_result"
    }
   ],
   "source": [
    "aaa1('안녕하세요 ㅔㅛ')"
   ]
  },
  {
   "cell_type": "code",
   "execution_count": null,
   "id": "8b543163-51ad-4bd8-a820-55ab6b0f8338",
   "metadata": {},
   "outputs": [],
   "source": []
  }
 ],
 "metadata": {
  "kernelspec": {
   "display_name": "kbu",
   "language": "python",
   "name": "kbu"
  },
  "language_info": {
   "codemirror_mode": {
    "name": "ipython",
    "version": 3
   },
   "file_extension": ".py",
   "mimetype": "text/x-python",
   "name": "python",
   "nbconvert_exporter": "python",
   "pygments_lexer": "ipython3",
   "version": "3.7.11"
  }
 },
 "nbformat": 4,
 "nbformat_minor": 5
}
