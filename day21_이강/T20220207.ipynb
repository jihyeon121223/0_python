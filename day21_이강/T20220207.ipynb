{
 "cells": [
  {
   "cell_type": "code",
   "execution_count": 4,
   "id": "614f40b2-61cc-410e-8d02-3143cf53385d",
   "metadata": {},
   "outputs": [
    {
     "data": {
      "text/plain": [
       "10"
      ]
     },
     "execution_count": 4,
     "metadata": {},
     "output_type": "execute_result"
    }
   ],
   "source": [
    "len(list(range(10)))"
   ]
  },
  {
   "cell_type": "code",
   "execution_count": 7,
   "id": "cfe58df0-ce29-433a-9c74-00960c5b9632",
   "metadata": {},
   "outputs": [
    {
     "data": {
      "text/plain": [
       "8"
      ]
     },
     "execution_count": 7,
     "metadata": {},
     "output_type": "execute_result"
    }
   ],
   "source": [
    "len(list(range(2,10)))"
   ]
  },
  {
   "cell_type": "code",
   "execution_count": 8,
   "id": "8146918a-2d4a-4eb9-9667-997e24a8b65e",
   "metadata": {},
   "outputs": [
    {
     "data": {
      "text/plain": [
       "[1, 3, 5, 7, 9]"
      ]
     },
     "execution_count": 8,
     "metadata": {},
     "output_type": "execute_result"
    }
   ],
   "source": [
    "list(range(1,10,2))"
   ]
  },
  {
   "cell_type": "code",
   "execution_count": 9,
   "id": "53580861-dcb4-4b60-9762-305db786d2ac",
   "metadata": {},
   "outputs": [
    {
     "data": {
      "text/plain": [
       "[1, 3, 5, 7, 9]"
      ]
     },
     "execution_count": 9,
     "metadata": {},
     "output_type": "execute_result"
    }
   ],
   "source": [
    "list(range(1,11,2))"
   ]
  },
  {
   "cell_type": "code",
   "execution_count": 16,
   "id": "11b98a3e-2ce5-4c59-a79f-f06c5faba605",
   "metadata": {},
   "outputs": [
    {
     "data": {
      "text/plain": [
       "[0, 1, 2, 3, 4]"
      ]
     },
     "execution_count": 16,
     "metadata": {},
     "output_type": "execute_result"
    }
   ],
   "source": [
    "list(range(0,int(10/2)))"
   ]
  },
  {
   "cell_type": "code",
   "execution_count": 15,
   "id": "97610d66-008b-4238-813b-22ac150eec2e",
   "metadata": {},
   "outputs": [
    {
     "data": {
      "text/plain": [
       "[0, 1, 2, 3, 4]"
      ]
     },
     "execution_count": 15,
     "metadata": {},
     "output_type": "execute_result"
    }
   ],
   "source": [
    "list(range(0,5))"
   ]
  },
  {
   "cell_type": "code",
   "execution_count": 18,
   "id": "a0b174e6-9d00-4c28-b19e-9f456fa5e002",
   "metadata": {},
   "outputs": [
    {
     "data": {
      "text/plain": [
       "[0, 1, 2, 3, 4]"
      ]
     },
     "execution_count": 18,
     "metadata": {},
     "output_type": "execute_result"
    }
   ],
   "source": [
    "list(range(0,int(20/4)))"
   ]
  },
  {
   "cell_type": "code",
   "execution_count": 20,
   "id": "186d416b-7030-488e-8832-de451010c79e",
   "metadata": {},
   "outputs": [
    {
     "name": "stdout",
     "output_type": "stream",
     "text": [
      "0=반복변수\n",
      "1=반복변수\n",
      "2=반복변수\n",
      "3=반복변수\n",
      "4=반복변수\n"
     ]
    }
   ],
   "source": [
    "for i in range(5):\n",
    "    print(str(i)+\"=반복변수\")"
   ]
  },
  {
   "cell_type": "code",
   "execution_count": 21,
   "id": "275aa206-e2cc-4d3c-8520-16793f53cb94",
   "metadata": {},
   "outputs": [
    {
     "name": "stdout",
     "output_type": "stream",
     "text": [
      "1=반복변수\n",
      "3=반복변수\n",
      "4=반복변수\n",
      "2=반복변수\n",
      "0=반복변수\n"
     ]
    }
   ],
   "source": [
    "for i in [1,3,4,2,0]:\n",
    "    print(str(i)+\"=반복변수\")"
   ]
  },
  {
   "cell_type": "code",
   "execution_count": 22,
   "id": "06ee2e54-7861-4c0a-8d01-860d03b2c789",
   "metadata": {},
   "outputs": [
    {
     "name": "stdout",
     "output_type": "stream",
     "text": [
      "5=반복변수\n",
      "6=반복변수\n",
      "7=반복변수\n",
      "8=반복변수\n",
      "9=반복변수\n"
     ]
    }
   ],
   "source": [
    "for i in range(5,10):\n",
    "    print(str(i)+\"=반복변수\")"
   ]
  },
  {
   "cell_type": "code",
   "execution_count": 23,
   "id": "dc21fa67-c1c8-420e-bb44-0c1a777cdc8c",
   "metadata": {},
   "outputs": [
    {
     "name": "stdout",
     "output_type": "stream",
     "text": [
      "0=반복변수\n",
      "3=반복변수\n",
      "6=반복변수\n",
      "9=반복변수\n"
     ]
    }
   ],
   "source": [
    "for i in range(0,10,3):\n",
    "    print(str(i)+\"=반복변수\")"
   ]
  },
  {
   "cell_type": "code",
   "execution_count": 24,
   "id": "9443d604-5f11-4bdb-8824-db6aaaa03407",
   "metadata": {},
   "outputs": [],
   "source": [
    "array = [273,32,103,57,52]"
   ]
  },
  {
   "cell_type": "markdown",
   "id": "0fb29fb6-a47a-46ab-a810-f0805322fb6e",
   "metadata": {},
   "source": [
    "0번째 반복: 273\n",
    "1번째 반복: 32\n",
    "2번째 반복: 103\n",
    "3번째 반복: 57\n",
    "4번째 반복: 52"
   ]
  },
  {
   "cell_type": "code",
   "execution_count": 25,
   "id": "5f7839bb-5a19-4396-b0e9-f5b0487292f9",
   "metadata": {},
   "outputs": [
    {
     "name": "stdout",
     "output_type": "stream",
     "text": [
      "0번째 반복: 273\n"
     ]
    }
   ],
   "source": [
    "print(\"0번째 반복: 273\")"
   ]
  },
  {
   "cell_type": "code",
   "execution_count": 26,
   "id": "5d581b85-a5fa-4817-a5d5-cd69779ec676",
   "metadata": {},
   "outputs": [
    {
     "name": "stdout",
     "output_type": "stream",
     "text": [
      "0번째 반복:273\n"
     ]
    }
   ],
   "source": [
    "i = 0\n",
    "number = 273\n",
    "print(str(0)+\"번째 반복:\"+str(number))"
   ]
  },
  {
   "cell_type": "code",
   "execution_count": 27,
   "id": "4bb3716e-c72d-44e5-9186-f9b4fafe4e62",
   "metadata": {},
   "outputs": [
    {
     "name": "stdout",
     "output_type": "stream",
     "text": [
      "0번째 반복:273\n"
     ]
    }
   ],
   "source": [
    "i = 0\n",
    "print(str(i)+\"번째 반복:\"+str(array[i]))"
   ]
  },
  {
   "cell_type": "code",
   "execution_count": 33,
   "id": "1e5943a8-7bbb-442a-9526-d309fed888e8",
   "metadata": {},
   "outputs": [
    {
     "name": "stdout",
     "output_type": "stream",
     "text": [
      "4번째 반복:52\n"
     ]
    }
   ],
   "source": [
    "i = 4\n",
    "print(str(i)+\"번째 반복:\"+str(array[i]))"
   ]
  },
  {
   "cell_type": "code",
   "execution_count": 37,
   "id": "33b37ab7-7ca5-4429-a47b-1d30af8ddc19",
   "metadata": {},
   "outputs": [
    {
     "name": "stdout",
     "output_type": "stream",
     "text": [
      "0번째 반복: 273\n",
      "1번째 반복: 32\n",
      "2번째 반복: 103\n",
      "3번째 반복: 57\n",
      "4번째 반복: 52\n"
     ]
    }
   ],
   "source": [
    "for i in range(len(array)):\n",
    "    print(str(i)+\"번째 반복: \"+str(array[i]))"
   ]
  },
  {
   "cell_type": "code",
   "execution_count": 38,
   "id": "fe7d57e0-cd87-4aec-bc6a-54dffe0596e0",
   "metadata": {},
   "outputs": [
    {
     "name": "stdout",
     "output_type": "stream",
     "text": [
      "0번째 반복: 273\n",
      "1번째 반복: 32\n",
      "2번째 반복: 103\n",
      "3번째 반복: 57\n",
      "4번째 반복: 52\n"
     ]
    }
   ],
   "source": [
    "for i in range(len(array)):\n",
    "    print(f\"{i}번째 반복: {array[i]}\")"
   ]
  },
  {
   "cell_type": "code",
   "execution_count": 41,
   "id": "cc1dfa6a-5666-4dc2-81ca-e46680f15c88",
   "metadata": {},
   "outputs": [
    {
     "name": "stdout",
     "output_type": "stream",
     "text": [
      "4번째 반복:52\n",
      "3번째 반복:57\n",
      "2번째 반복:103\n",
      "1번째 반복:32\n",
      "0번째 반복:273\n"
     ]
    }
   ],
   "source": [
    "for i in range(len(array)-1,-1,-1):\n",
    "    print(\"{}번째 반복:{}\".format(i,array[i]))"
   ]
  },
  {
   "cell_type": "code",
   "execution_count": 44,
   "id": "0f2ea2cb-e3ff-4837-89d4-1b1078944de9",
   "metadata": {},
   "outputs": [
    {
     "name": "stdout",
     "output_type": "stream",
     "text": [
      "4번째 반복: 52\n",
      "3번째 반복: 57\n",
      "2번째 반복: 103\n",
      "1번째 반복: 32\n",
      "0번째 반복: 273\n"
     ]
    }
   ],
   "source": [
    "for i in range(len(array)):\n",
    "    x = len(array)-(i+1)\n",
    "    print(f'{x}번째 반복: {array[x]}')"
   ]
  },
  {
   "cell_type": "code",
   "execution_count": 49,
   "id": "07cd9d2d-9129-40b2-8704-b83677be6c2f",
   "metadata": {},
   "outputs": [
    {
     "name": "stdout",
     "output_type": "stream",
     "text": [
      "4번째 반복:52\n",
      "3번째 반복:57\n",
      "2번째 반복:103\n",
      "1번째 반복:32\n",
      "0번째 반복:273\n"
     ]
    }
   ],
   "source": [
    "for i in list(range(len(array)))[::-1]:\n",
    "    print(\"{}번째 반복:{}\".format(i,array[i]))"
   ]
  },
  {
   "cell_type": "code",
   "execution_count": 52,
   "id": "8dd73564-bdfb-413c-9900-c25d07535a9c",
   "metadata": {},
   "outputs": [
    {
     "name": "stdout",
     "output_type": "stream",
     "text": [
      "4번째 반복:52\n",
      "3번째 반복:57\n",
      "2번째 반복:103\n",
      "1번째 반복:32\n",
      "0번째 반복:273\n"
     ]
    }
   ],
   "source": [
    "for i in reversed(range(len(array))):\n",
    "     print(\"{}번째 반복:{}\".format(i,array[i]))"
   ]
  },
  {
   "cell_type": "code",
   "execution_count": 53,
   "id": "5d6047c1-b57c-4be5-a2b8-be817e65d972",
   "metadata": {},
   "outputs": [
    {
     "data": {
      "text/plain": [
       "[52, 57, 103, 32, 273]"
      ]
     },
     "execution_count": 53,
     "metadata": {},
     "output_type": "execute_result"
    }
   ],
   "source": [
    "array[::-1]"
   ]
  },
  {
   "cell_type": "code",
   "execution_count": 54,
   "id": "6c3d0cd9-3695-4fbf-9608-6137fc5dd010",
   "metadata": {},
   "outputs": [
    {
     "data": {
      "text/plain": [
       "[52, 57, 103, 32, 273]"
      ]
     },
     "execution_count": 54,
     "metadata": {},
     "output_type": "execute_result"
    }
   ],
   "source": [
    "list(reversed(array))"
   ]
  },
  {
   "cell_type": "code",
   "execution_count": 58,
   "id": "957fa373-0b6c-418e-9864-810ea88d1056",
   "metadata": {},
   "outputs": [
    {
     "name": "stdout",
     "output_type": "stream",
     "text": [
      "4번째 반복 : 52\n",
      "3번째 반복 : 57\n",
      "2번째 반복 : 103\n",
      "1번째 반복 : 32\n",
      "0번째 반복 : 273\n"
     ]
    }
   ],
   "source": [
    "order = 4\n",
    "for i in array[::-1]:\n",
    "    print(f\"{order}번째 반복 : {i}\")\n",
    "    order -= 1"
   ]
  },
  {
   "cell_type": "code",
   "execution_count": 60,
   "id": "a9229ad8-1073-4726-9b1d-ca708cd63628",
   "metadata": {},
   "outputs": [
    {
     "data": {
      "text/plain": [
       "500500"
      ]
     },
     "execution_count": 60,
     "metadata": {},
     "output_type": "execute_result"
    }
   ],
   "source": [
    "s = 0\n",
    "for i in range(1,1001):\n",
    "    s = s+i\n",
    "s"
   ]
  },
  {
   "cell_type": "code",
   "execution_count": 61,
   "id": "7cc6148f-05fd-409b-aec1-db593607c8be",
   "metadata": {},
   "outputs": [
    {
     "data": {
      "text/plain": [
       "55"
      ]
     },
     "execution_count": 61,
     "metadata": {},
     "output_type": "execute_result"
    }
   ],
   "source": [
    "s = 0\n",
    "i = 0\n",
    "while i < 11:\n",
    "    s = s+i\n",
    "    i = i+1\n",
    "s"
   ]
  },
  {
   "cell_type": "code",
   "execution_count": 62,
   "id": "34cf21bd-655c-4390-97aa-09a3d58d2bde",
   "metadata": {},
   "outputs": [
    {
     "name": "stdout",
     "output_type": "stream",
     "text": [
      "0번째 반복 값입니다\n",
      "1번째 반복 값입니다\n",
      "2번째 반복 값입니다\n",
      "3번째 반복 값입니다\n",
      "4번째 반복 값입니다\n",
      "5번째 반복 값입니다\n",
      "6번째 반복 값입니다\n",
      "7번째 반복 값입니다\n",
      "8번째 반복 값입니다\n",
      "9번째 반복 값입니다\n"
     ]
    }
   ],
   "source": [
    "for i in range(10):\n",
    "    print(f'{i}번째 반복 값입니다')"
   ]
  },
  {
   "cell_type": "code",
   "execution_count": 64,
   "id": "5fa69eb8-8f49-4bbb-a591-0a44497184bd",
   "metadata": {},
   "outputs": [
    {
     "name": "stdout",
     "output_type": "stream",
     "text": [
      "0번째 반복 값입니다\n",
      "1번째 반복 값입니다\n",
      "2번째 반복 값입니다\n",
      "3번째 반복 값입니다\n",
      "4번째 반복 값입니다\n",
      "5번째 반복 값입니다\n",
      "6번째 반복 값입니다\n",
      "7번째 반복 값입니다\n",
      "8번째 반복 값입니다\n",
      "9번째 반복 값입니다\n"
     ]
    }
   ],
   "source": [
    "i = 0\n",
    "while i < 10:\n",
    "    print(f'{i}번째 반복 값입니다')\n",
    "    i += 1"
   ]
  },
  {
   "cell_type": "code",
   "execution_count": 73,
   "id": "5353cc1c-3245-48c2-8ed8-5959294dfc3c",
   "metadata": {},
   "outputs": [
    {
     "name": "stdout",
     "output_type": "stream",
     "text": [
      "0번째 반복: 273\n",
      "1번째 반복: 32\n",
      "2번째 반복: 103\n",
      "3번째 반복: 57\n",
      "4번째 반복: 52\n"
     ]
    }
   ],
   "source": [
    "i = 0\n",
    "while i < 5:\n",
    "    print(f\"{i}번째 반복: {array[i]}\")\n",
    "    i += 1"
   ]
  },
  {
   "cell_type": "code",
   "execution_count": 74,
   "id": "b1debf90-2bf8-4744-9f46-c3167685da7b",
   "metadata": {},
   "outputs": [
    {
     "name": "stdout",
     "output_type": "stream",
     "text": [
      "4번째 반복: 52\n",
      "3번째 반복: 57\n",
      "2번째 반복: 103\n",
      "1번째 반복: 32\n",
      "0번째 반복: 273\n"
     ]
    }
   ],
   "source": [
    "i = 4\n",
    "while i >= 0:\n",
    "    print(f\"{i}번째 반복: {array[i]}\")\n",
    "    i -= 1"
   ]
  },
  {
   "cell_type": "code",
   "execution_count": 79,
   "id": "894c4e80-560c-4241-b29f-bb108d7e3dce",
   "metadata": {},
   "outputs": [],
   "source": [
    "list_test = [1,1,2,2]\n",
    "list_odd = []\n",
    "list_even = []"
   ]
  },
  {
   "cell_type": "code",
   "execution_count": 78,
   "id": "aae06a5d-4988-4401-bcf6-bd6ab2bea9fd",
   "metadata": {},
   "outputs": [
    {
     "data": {
      "text/plain": [
       "[1, 1]"
      ]
     },
     "execution_count": 78,
     "metadata": {},
     "output_type": "execute_result"
    }
   ],
   "source": [
    "value = 2\n",
    "while value in list_test:\n",
    "    list_test.remove(value)\n",
    "list_test"
   ]
  },
  {
   "cell_type": "code",
   "execution_count": 80,
   "id": "50ed6cbb-f1dd-4827-a546-8e105e3cfd75",
   "metadata": {},
   "outputs": [],
   "source": [
    "for i in list_test:\n",
    "    if i%2 == 1:\n",
    "        list_odd.append(i)\n",
    "    else:\n",
    "        list_even.append(i)"
   ]
  },
  {
   "cell_type": "code",
   "execution_count": 95,
   "id": "ff8a3617-3268-40da-85b0-04450af54d62",
   "metadata": {},
   "outputs": [],
   "source": [
    "list_test = [1,1,2,2]\n",
    "list_odd = []\n",
    "list_even = []\n",
    "i = 0\n",
    "while i < len(list_test):\n",
    "    if list_test[i] % 2 == 1:\n",
    "        list_odd.append(list_test[i])\n",
    "    else:\n",
    "        list_even.append(list_test[i])\n",
    "    i += 1"
   ]
  },
  {
   "cell_type": "code",
   "execution_count": 102,
   "id": "1980f7cf-1c93-4b40-a70f-3077bcbad75e",
   "metadata": {},
   "outputs": [],
   "source": [
    "from time import time"
   ]
  },
  {
   "cell_type": "code",
   "execution_count": 100,
   "id": "67e8eb17-e8f7-491c-b2f6-defc62b59b0c",
   "metadata": {},
   "outputs": [],
   "source": [
    "import time"
   ]
  },
  {
   "cell_type": "code",
   "execution_count": 106,
   "id": "3d1126fd-0774-4931-bc14-b6867af44af2",
   "metadata": {},
   "outputs": [
    {
     "data": {
      "text/plain": [
       "5.0"
      ]
     },
     "execution_count": 106,
     "metadata": {},
     "output_type": "execute_result"
    }
   ],
   "source": [
    "(time()+5) - time()"
   ]
  },
  {
   "cell_type": "code",
   "execution_count": 108,
   "id": "349332c1-ef43-44d5-a6cc-beb252a61ac1",
   "metadata": {},
   "outputs": [
    {
     "name": "stdout",
     "output_type": "stream",
     "text": [
      "56935391\n"
     ]
    }
   ],
   "source": [
    "target_time = time()+5\n",
    "number = 0\n",
    "while time() < target_time:\n",
    "    number += 1\n",
    "print(number)"
   ]
  },
  {
   "cell_type": "code",
   "execution_count": 109,
   "id": "1020ae85-f606-4b03-b683-da6ef3a103ac",
   "metadata": {},
   "outputs": [
    {
     "data": {
      "text/plain": [
       "1.4151973724365234"
      ]
     },
     "execution_count": 109,
     "metadata": {},
     "output_type": "execute_result"
    }
   ],
   "source": [
    "start_time = time()\n",
    "for i in range(56935391):\n",
    "    pass\n",
    "end_time = time()\n",
    "\n",
    "end_time - start_time"
   ]
  },
  {
   "cell_type": "code",
   "execution_count": 111,
   "id": "45e5ea8e-8c3a-4eaa-b712-a38fb577ebb4",
   "metadata": {},
   "outputs": [
    {
     "data": {
      "text/plain": [
       "6"
      ]
     },
     "execution_count": 111,
     "metadata": {},
     "output_type": "execute_result"
    }
   ],
   "source": [
    "dt = [1,2,3,2,3,4]\n",
    "s = 0\n",
    "for i in dt:\n",
    "    if i == 3:\n",
    "        s += i\n",
    "        break\n",
    "    else:\n",
    "        s += i\n",
    "s"
   ]
  },
  {
   "cell_type": "code",
   "execution_count": 121,
   "id": "6d1b095f-b0d9-4b8e-b1e8-0c969442dd4c",
   "metadata": {},
   "outputs": [
    {
     "data": {
      "text/plain": [
       "6"
      ]
     },
     "execution_count": 121,
     "metadata": {},
     "output_type": "execute_result"
    }
   ],
   "source": [
    "s = 0\n",
    "i = 0\n",
    "while True:\n",
    "    if dt[i] == 3:\n",
    "        s += dt[i]\n",
    "        break\n",
    "    else:\n",
    "        s += dt[i]\n",
    "    i += 1\n",
    "s"
   ]
  },
  {
   "cell_type": "code",
   "execution_count": 124,
   "id": "c35e02e1-66db-4dae-9e91-779ffa41cae8",
   "metadata": {},
   "outputs": [
    {
     "name": "stdin",
     "output_type": "stream",
     "text": [
      "값을 입력하세요 10\n"
     ]
    },
    {
     "name": "stdout",
     "output_type": "stream",
     "text": [
      "입력한 값은10이고 합계는 55입니다\n"
     ]
    }
   ],
   "source": [
    "x = int(input(\"값을 입력하세요\"))\n",
    "i = 0\n",
    "s = 0\n",
    "while True:\n",
    "    if i == x:\n",
    "        s += i\n",
    "        break\n",
    "    else:\n",
    "        s += i\n",
    "    i += 1\n",
    "print(f'입력한 값은{x}이고 합계는 {s}입니다')"
   ]
  },
  {
   "cell_type": "code",
   "execution_count": 125,
   "id": "18fbdbaa-e5ca-41f4-a002-a335965bc18a",
   "metadata": {},
   "outputs": [],
   "source": [
    "numbers = [5,15,6,20,7,25]"
   ]
  },
  {
   "cell_type": "code",
   "execution_count": 126,
   "id": "bf1b8703-004d-4cd4-b326-27a5d4013905",
   "metadata": {},
   "outputs": [
    {
     "name": "stdout",
     "output_type": "stream",
     "text": [
      "15\n",
      "20\n",
      "25\n"
     ]
    }
   ],
   "source": [
    "for number in numbers:\n",
    "    if number > 10:\n",
    "        print(number)"
   ]
  },
  {
   "cell_type": "code",
   "execution_count": 127,
   "id": "7dd833bf-7c22-41bb-9e56-3b7ec3390f87",
   "metadata": {},
   "outputs": [
    {
     "name": "stdout",
     "output_type": "stream",
     "text": [
      "15\n",
      "20\n",
      "25\n"
     ]
    }
   ],
   "source": [
    "for number in numbers:\n",
    "    if number < 10:\n",
    "        continue\n",
    "    print(number)"
   ]
  },
  {
   "cell_type": "code",
   "execution_count": 128,
   "id": "31557d34-4293-412c-8007-447dffb53580",
   "metadata": {},
   "outputs": [
    {
     "data": {
      "text/plain": [
       "[4, 5]"
      ]
     },
     "execution_count": 128,
     "metadata": {},
     "output_type": "execute_result"
    }
   ],
   "source": [
    "list(range(4,6))"
   ]
  },
  {
   "cell_type": "code",
   "execution_count": 129,
   "id": "08f59dfd-d767-40b3-acc2-692c2b073f7e",
   "metadata": {},
   "outputs": [
    {
     "data": {
      "text/plain": [
       "[7, 6, 5, 4, 3, 2, 1]"
      ]
     },
     "execution_count": 129,
     "metadata": {},
     "output_type": "execute_result"
    }
   ],
   "source": [
    "list(range(7,0,-1))"
   ]
  },
  {
   "cell_type": "code",
   "execution_count": 133,
   "id": "28c1c6a2-ddd5-4090-a606-280a7f412803",
   "metadata": {},
   "outputs": [
    {
     "data": {
      "text/plain": [
       "[3, 6, 9]"
      ]
     },
     "execution_count": 133,
     "metadata": {},
     "output_type": "execute_result"
    }
   ],
   "source": [
    "list(range(3,10,3))"
   ]
  },
  {
   "cell_type": "code",
   "execution_count": 138,
   "id": "05e95c4b-b709-4fad-a421-3ba98db59d8f",
   "metadata": {},
   "outputs": [],
   "source": [
    "key_list = [\"name\",\"hp\",\"mp\",\"level\"]\n",
    "value_list = [\"기사\",200,30,5]\n",
    "character = {}"
   ]
  },
  {
   "cell_type": "markdown",
   "id": "2ea9869d-4833-4ff2-ba6e-3a3a5cf91ea1",
   "metadata": {},
   "source": [
    "{'name':'기사','hp':200,'mp':30,'level':5}"
   ]
  },
  {
   "cell_type": "code",
   "execution_count": 140,
   "id": "e14beb9c-1679-4791-aec8-dc10f3a3d1e1",
   "metadata": {},
   "outputs": [
    {
     "data": {
      "text/plain": [
       "{'name': '기사', 'hp': 200, 'mp': 30, 'level': 5}"
      ]
     },
     "execution_count": 140,
     "metadata": {},
     "output_type": "execute_result"
    }
   ],
   "source": [
    "for i in range(len(key_list)):\n",
    "    character[key_list[i]] = value_list[i]\n",
    "character"
   ]
  },
  {
   "cell_type": "code",
   "execution_count": 144,
   "id": "d04b0aa9-b761-4760-9529-144626252351",
   "metadata": {},
   "outputs": [],
   "source": [
    "character = {}\n",
    "for a,b in zip(key_list,value_list):\n",
    "    character[a] = b"
   ]
  },
  {
   "cell_type": "code",
   "execution_count": 146,
   "id": "dd4121b9-8afa-4ef4-aa40-d69a7b5304bf",
   "metadata": {},
   "outputs": [],
   "source": [
    "character = {}"
   ]
  },
  {
   "cell_type": "code",
   "execution_count": 147,
   "id": "d974412b-3cae-4f9e-98ac-6f565bc0bac5",
   "metadata": {},
   "outputs": [],
   "source": [
    "charater = { a:b for a,b in zip(key_list,value_list)}"
   ]
  },
  {
   "cell_type": "code",
   "execution_count": 148,
   "id": "cb1c2b6a-fd22-4961-94d6-8509960f0b28",
   "metadata": {},
   "outputs": [
    {
     "data": {
      "text/plain": [
       "{'name': '기사', 'hp': 200, 'mp': 30, 'level': 5}"
      ]
     },
     "execution_count": 148,
     "metadata": {},
     "output_type": "execute_result"
    }
   ],
   "source": [
    "charater"
   ]
  },
  {
   "cell_type": "code",
   "execution_count": 160,
   "id": "9b8d3bf7-0763-436f-bfe3-575d62628845",
   "metadata": {},
   "outputs": [],
   "source": [
    "limit = 10000\n",
    "i = 1\n",
    "while True:\n",
    "    s = 0\n",
    "    for j in range(i+1):\n",
    "        s += j\n",
    "    if s > limit:\n",
    "        break\n",
    "    i += 1"
   ]
  },
  {
   "cell_type": "code",
   "execution_count": 164,
   "id": "57af717f-0242-4732-bdf4-5702a6b9942e",
   "metadata": {},
   "outputs": [],
   "source": [
    "import random"
   ]
  },
  {
   "cell_type": "code",
   "execution_count": 166,
   "id": "63c41981-6b6c-4bf8-b402-93a187e78467",
   "metadata": {},
   "outputs": [],
   "source": [
    "from random import shuffle"
   ]
  },
  {
   "cell_type": "code",
   "execution_count": 167,
   "id": "4e6e4626-d2e4-47fd-b61e-bff9cb55c7d7",
   "metadata": {},
   "outputs": [],
   "source": [
    "a = list(range(1,1000001))\n",
    "shuffle(a)"
   ]
  },
  {
   "cell_type": "code",
   "execution_count": 170,
   "id": "1e50844e-80d4-41fc-b8d4-e0ee659e8b71",
   "metadata": {},
   "outputs": [],
   "source": [
    "a = a[:100]"
   ]
  },
  {
   "cell_type": "code",
   "execution_count": 173,
   "id": "2435ed00-7816-4710-b132-c6ad885d67dc",
   "metadata": {},
   "outputs": [
    {
     "data": {
      "text/plain": [
       "51083311"
      ]
     },
     "execution_count": 173,
     "metadata": {},
     "output_type": "execute_result"
    }
   ],
   "source": [
    "s = 0 \n",
    "for i in a:\n",
    "    s += i\n",
    "s"
   ]
  },
  {
   "cell_type": "code",
   "execution_count": 177,
   "id": "534a1200-73e1-4522-93d7-ea030c082a03",
   "metadata": {},
   "outputs": [
    {
     "data": {
      "text/plain": [
       "5503"
      ]
     },
     "execution_count": 177,
     "metadata": {},
     "output_type": "execute_result"
    }
   ],
   "source": [
    "min(a)"
   ]
  },
  {
   "cell_type": "code",
   "execution_count": 178,
   "id": "e501ba0d-7f78-45a7-91ab-81cceb13d12a",
   "metadata": {},
   "outputs": [
    {
     "data": {
      "text/plain": [
       "978597"
      ]
     },
     "execution_count": 178,
     "metadata": {},
     "output_type": "execute_result"
    }
   ],
   "source": [
    "max(a)"
   ]
  },
  {
   "cell_type": "code",
   "execution_count": 183,
   "id": "15c2e42b-56ee-47ed-995b-fd2b819ffbac",
   "metadata": {},
   "outputs": [],
   "source": [
    "a_min = a[0]\n",
    "for i in range(len(a)):\n",
    "    if a_min > a[i]:\n",
    "        a_min = a[i]"
   ]
  },
  {
   "cell_type": "code",
   "execution_count": 187,
   "id": "9deb3854-a527-4431-a782-8904a8795e41",
   "metadata": {},
   "outputs": [],
   "source": [
    "a_max = a[0]\n",
    "for i in range(len(a)):\n",
    "    if a_max < a[i]:\n",
    "        a_max = a[i]"
   ]
  },
  {
   "cell_type": "code",
   "execution_count": 191,
   "id": "b1235d72-9d99-432a-9000-70693df7bdbb",
   "metadata": {},
   "outputs": [
    {
     "data": {
      "text/plain": [
       "510833.11"
      ]
     },
     "execution_count": 191,
     "metadata": {},
     "output_type": "execute_result"
    }
   ],
   "source": [
    "##평균, 합, 분산, 표준편차\n"
   ]
  },
  {
   "cell_type": "code",
   "execution_count": 195,
   "id": "1a6f7e46-723d-4329-8705-ad628f10a1fe",
   "metadata": {},
   "outputs": [
    {
     "data": {
      "text/plain": [
       "510833.11"
      ]
     },
     "execution_count": 195,
     "metadata": {},
     "output_type": "execute_result"
    }
   ],
   "source": [
    "sum(a)/len(a)"
   ]
  },
  {
   "cell_type": "code",
   "execution_count": null,
   "id": "1afcca72-38b9-4be3-9406-5b0cc0e06e23",
   "metadata": {},
   "outputs": [],
   "source": [
    "## 분산\n",
    "sum((a - sum(a)/len(a))**2)/(len(a)-1)"
   ]
  },
  {
   "cell_type": "code",
   "execution_count": 197,
   "id": "ca041603-928c-4e1d-a41a-a0ee6fbc5791",
   "metadata": {},
   "outputs": [
    {
     "data": {
      "text/plain": [
       "80952019665.55344"
      ]
     },
     "execution_count": 197,
     "metadata": {},
     "output_type": "execute_result"
    }
   ],
   "source": [
    "s = 0\n",
    "for i in a:\n",
    "    x = (i - sum(a)/len(a))**2\n",
    "    s += x\n",
    "s/(len(a)-1)"
   ]
  },
  {
   "cell_type": "code",
   "execution_count": 204,
   "id": "f41c719e-9da2-4299-8c31-9c4ea057d634",
   "metadata": {},
   "outputs": [
    {
     "data": {
      "text/plain": [
       "True"
      ]
     },
     "execution_count": 204,
     "metadata": {},
     "output_type": "execute_result"
    }
   ],
   "source": [
    "list(reversed(a)) == a[::-1]"
   ]
  },
  {
   "cell_type": "code",
   "execution_count": 208,
   "id": "1966b360-15d3-4f60-a1fc-de04a9e5dec5",
   "metadata": {},
   "outputs": [
    {
     "name": "stdout",
     "output_type": "stream",
     "text": [
      "0번째 요소는 요소A입니다\n",
      "1번째 요소는 요소B입니다\n",
      "2번째 요소는 요소C입니다\n"
     ]
    }
   ],
   "source": [
    "example_list = [\"요소A\",\"요소B\",\"요소C\"]\n",
    "j = 0\n",
    "for i in example_list:\n",
    "    print(f'{j}번째 요소는 {i}입니다')\n",
    "    j +=1"
   ]
  },
  {
   "cell_type": "code",
   "execution_count": 209,
   "id": "314cee0f-86a6-4811-9186-7257aeefdca7",
   "metadata": {},
   "outputs": [
    {
     "name": "stdout",
     "output_type": "stream",
     "text": [
      "0번째 요소는 요소A입니다\n",
      "1번째 요소는 요소B입니다\n",
      "2번째 요소는 요소C입니다\n"
     ]
    }
   ],
   "source": [
    "example_list = [\"요소A\",\"요소B\",\"요소C\"]\n",
    "for i,v in enumerate(example_list):\n",
    "    print(f'{i}번째 요소는 {v}입니다')"
   ]
  },
  {
   "cell_type": "code",
   "execution_count": 210,
   "id": "f54c89a0-0a8d-49d0-90da-aaf647b1f1ac",
   "metadata": {},
   "outputs": [],
   "source": [
    "example_dictionary = {\n",
    "    \"키A\":\"값A\",\n",
    "    \"키B\":\"값B\",\n",
    "    \"키C\":\"값C\"\n",
    "}"
   ]
  },
  {
   "cell_type": "code",
   "execution_count": 211,
   "id": "9a54a47a-ccca-4e70-8893-877cf7d2914a",
   "metadata": {},
   "outputs": [
    {
     "data": {
      "text/plain": [
       "{'키A': '값A', '키B': '값B', '키C': '값C'}"
      ]
     },
     "execution_count": 211,
     "metadata": {},
     "output_type": "execute_result"
    }
   ],
   "source": [
    "example_dictionary"
   ]
  },
  {
   "cell_type": "code",
   "execution_count": 212,
   "id": "3b0ae61d-b935-4505-852f-6081e6662810",
   "metadata": {},
   "outputs": [],
   "source": [
    "ex_dict = {\"키\"+i:\"값\"+i for i in \"ABC\"}"
   ]
  },
  {
   "cell_type": "code",
   "execution_count": 217,
   "id": "5c5fae75-6a6a-41e3-9240-653fd093f2bf",
   "metadata": {},
   "outputs": [
    {
     "name": "stdout",
     "output_type": "stream",
     "text": [
      "키A : 값A\n",
      "키B : 값B\n",
      "키C : 값C\n"
     ]
    }
   ],
   "source": [
    "for i in ex_dict:\n",
    "    print(f'{i} : {ex_dict.get(i)}')"
   ]
  },
  {
   "cell_type": "code",
   "execution_count": 222,
   "id": "71ae542c-ff3a-4e9b-8190-1b6caa12ab59",
   "metadata": {},
   "outputs": [
    {
     "name": "stdout",
     "output_type": "stream",
     "text": [
      "키A\n",
      "키B\n",
      "키C\n"
     ]
    }
   ],
   "source": [
    "for i in ex_dict.keys():\n",
    "    print(f'{i}')"
   ]
  },
  {
   "cell_type": "code",
   "execution_count": 223,
   "id": "b4ed4c21-28e9-4c24-824e-4b45b3ee0060",
   "metadata": {},
   "outputs": [],
   "source": [
    "a = list(range(1000000))\n",
    "shuffle(a)"
   ]
  },
  {
   "cell_type": "code",
   "execution_count": 224,
   "id": "3dc2b945-6298-4410-97fa-91522a2de199",
   "metadata": {},
   "outputs": [],
   "source": [
    "a = a[:1000]"
   ]
  },
  {
   "cell_type": "code",
   "execution_count": 232,
   "id": "9d790e76-ed36-4ca3-ac16-602a579eaf7d",
   "metadata": {},
   "outputs": [
    {
     "name": "stdout",
     "output_type": "stream",
     "text": [
      "짝수의 개수는 510, 홀수의 개수는 490\n"
     ]
    }
   ],
   "source": [
    "even = 0\n",
    "for i in a:\n",
    "    if i % 2 ==0:\n",
    "        even += 1\n",
    "odds = len(a) - even\n",
    "print(f'짝수의 개수는 {even}, 홀수의 개수는 {odds}')"
   ]
  },
  {
   "cell_type": "code",
   "execution_count": 233,
   "id": "9bcf6faf-3979-42a5-a8d8-778a8f7da05a",
   "metadata": {},
   "outputs": [
    {
     "data": {
      "text/plain": [
       "333"
      ]
     },
     "execution_count": 233,
     "metadata": {},
     "output_type": "execute_result"
    }
   ],
   "source": [
    "three_times =0\n",
    "for i in a:\n",
    "    if i % 3==0:\n",
    "        three_times += 1      \n",
    "three_times        "
   ]
  },
  {
   "cell_type": "code",
   "execution_count": 239,
   "id": "50cc2d6e-3f89-4ccd-8830-e798aa87f9a7",
   "metadata": {},
   "outputs": [
    {
     "data": {
      "text/plain": [
       "104"
      ]
     },
     "execution_count": 239,
     "metadata": {},
     "output_type": "execute_result"
    }
   ],
   "source": [
    "three_times =0\n",
    "for i in range(2,len(a)+1,3):\n",
    "    if a[i] % 3 ==0:\n",
    "        three_times += 1\n",
    "three_times"
   ]
  },
  {
   "cell_type": "code",
   "execution_count": 242,
   "id": "2805c664-4e61-4dc2-a001-3d7912486e38",
   "metadata": {},
   "outputs": [],
   "source": [
    "three_times =0\n",
    "for i,v in enumerate(a):\n",
    "    a_i = i+1\n",
    "    if a_i % 3 == 0:\n",
    "        if v % 3 == 0:\n",
    "            three_times += 1"
   ]
  },
  {
   "cell_type": "code",
   "execution_count": 245,
   "id": "e0b93c48-a583-411c-bca0-5df56345b5b1",
   "metadata": {},
   "outputs": [],
   "source": [
    "a_a = {i+1:v for i, v in enumerate(a)}"
   ]
  },
  {
   "cell_type": "code",
   "execution_count": 248,
   "id": "29d6b7f4-d711-4fa0-b6d5-05f1238350ba",
   "metadata": {},
   "outputs": [
    {
     "data": {
      "text/plain": [
       "36"
      ]
     },
     "execution_count": 248,
     "metadata": {},
     "output_type": "execute_result"
    }
   ],
   "source": [
    "five_times = 0\n",
    "for k,v in a_a.items():\n",
    "    if k % 5 == 0:\n",
    "        if v % 5 ==0:\n",
    "            five_times += 1\n",
    "five_times"
   ]
  },
  {
   "cell_type": "code",
   "execution_count": 249,
   "id": "d64e13f9-709e-4797-8e3d-42e2e7abba7b",
   "metadata": {},
   "outputs": [
    {
     "data": {
      "text/plain": [
       "36"
      ]
     },
     "execution_count": 249,
     "metadata": {},
     "output_type": "execute_result"
    }
   ],
   "source": [
    "five_times = 0\n",
    "for k,v in a_a.items():\n",
    "    if (k % 5 == 0) and (v % 5==0):\n",
    "        five_times += 1\n",
    "five_times"
   ]
  },
  {
   "cell_type": "code",
   "execution_count": 251,
   "id": "7afcae85-5eee-45ed-b4dc-0b1d3cc4dce3",
   "metadata": {},
   "outputs": [],
   "source": [
    "array = []\n",
    "for i in range(0,20,2):\n",
    "    array.append(i*i)"
   ]
  },
  {
   "cell_type": "code",
   "execution_count": 253,
   "id": "6ffae344-6930-4724-8ff2-fd84f169c1e1",
   "metadata": {},
   "outputs": [],
   "source": [
    "array = [ str(i)  for i in range(0,20,2)]"
   ]
  },
  {
   "cell_type": "code",
   "execution_count": 257,
   "id": "c7a3d6e4-03b8-4bed-9037-6075ff7e2fe9",
   "metadata": {},
   "outputs": [
    {
     "data": {
      "text/plain": [
       "90"
      ]
     },
     "execution_count": 257,
     "metadata": {},
     "output_type": "execute_result"
    }
   ],
   "source": [
    "sum([int(i) for i in array])"
   ]
  },
  {
   "cell_type": "code",
   "execution_count": 262,
   "id": "552c5b87-9a13-45f9-9927-2c2e3b9b7160",
   "metadata": {},
   "outputs": [],
   "source": [
    "foods = [\"사과\", \"자두\", \"초콜렛\", \"바나나\", \"체리\"]"
   ]
  },
  {
   "cell_type": "code",
   "execution_count": 265,
   "id": "be60c523-e20e-4cbd-96f5-7d28ea19ab30",
   "metadata": {},
   "outputs": [],
   "source": [
    "fruits = []\n",
    "for food in foods:\n",
    "    if food != \"초콜렛\":\n",
    "        fruits.append(food)"
   ]
  },
  {
   "cell_type": "code",
   "execution_count": 272,
   "id": "97819fc4-4f2d-49dd-b82a-5c92ef1a246d",
   "metadata": {},
   "outputs": [],
   "source": [
    "fruits = { k:food for k,food in enumerate(foods) if food != \"체리\"}"
   ]
  },
  {
   "cell_type": "code",
   "execution_count": 273,
   "id": "1205748f-71b0-4044-abf5-b266b9e4f4f1",
   "metadata": {},
   "outputs": [
    {
     "data": {
      "text/plain": [
       "{0: '사과', 1: '자두', 2: '초콜렛', 3: '바나나'}"
      ]
     },
     "execution_count": 273,
     "metadata": {},
     "output_type": "execute_result"
    }
   ],
   "source": [
    "fruits"
   ]
  },
  {
   "cell_type": "code",
   "execution_count": 275,
   "id": "4e8e7249-b149-453a-8f6c-3d893632906b",
   "metadata": {},
   "outputs": [
    {
     "data": {
      "text/plain": [
       "2.4854478779042992e+17"
      ]
     },
     "execution_count": 275,
     "metadata": {},
     "output_type": "execute_result"
    }
   ],
   "source": [
    "sum([(i-sum(a))**2 for i in a])/(len(a)-1)"
   ]
  },
  {
   "cell_type": "code",
   "execution_count": 276,
   "id": "01f4a438-ab10-49e4-81a2-534a3400e56d",
   "metadata": {},
   "outputs": [],
   "source": [
    "a = {}"
   ]
  },
  {
   "cell_type": "code",
   "execution_count": 277,
   "id": "b3c3a032-f06d-4bbf-acaf-963915f4eda2",
   "metadata": {},
   "outputs": [
    {
     "data": {
      "text/plain": [
       "['__class__',\n",
       " '__contains__',\n",
       " '__delattr__',\n",
       " '__delitem__',\n",
       " '__dir__',\n",
       " '__doc__',\n",
       " '__eq__',\n",
       " '__format__',\n",
       " '__ge__',\n",
       " '__getattribute__',\n",
       " '__getitem__',\n",
       " '__gt__',\n",
       " '__hash__',\n",
       " '__init__',\n",
       " '__init_subclass__',\n",
       " '__iter__',\n",
       " '__le__',\n",
       " '__len__',\n",
       " '__lt__',\n",
       " '__ne__',\n",
       " '__new__',\n",
       " '__reduce__',\n",
       " '__reduce_ex__',\n",
       " '__repr__',\n",
       " '__setattr__',\n",
       " '__setitem__',\n",
       " '__sizeof__',\n",
       " '__str__',\n",
       " '__subclasshook__',\n",
       " 'clear',\n",
       " 'copy',\n",
       " 'fromkeys',\n",
       " 'get',\n",
       " 'items',\n",
       " 'keys',\n",
       " 'pop',\n",
       " 'popitem',\n",
       " 'setdefault',\n",
       " 'update',\n",
       " 'values']"
      ]
     },
     "execution_count": 277,
     "metadata": {},
     "output_type": "execute_result"
    }
   ],
   "source": [
    "dir(a)"
   ]
  },
  {
   "cell_type": "code",
   "execution_count": 279,
   "id": "04a4051f-fb64-4f40-aab8-05eca48cb40c",
   "metadata": {},
   "outputs": [
    {
     "data": {
      "text/plain": [
       "10"
      ]
     },
     "execution_count": 279,
     "metadata": {},
     "output_type": "execute_result"
    }
   ],
   "source": [
    "int(\"{:b}\".format(10),2)"
   ]
  },
  {
   "cell_type": "code",
   "execution_count": 281,
   "id": "1d40ae95-5cd7-4aef-b452-0b037ee81bf4",
   "metadata": {},
   "outputs": [],
   "source": [
    "x = [22,34,2,34,3,1,2,2]"
   ]
  },
  {
   "cell_type": "code",
   "execution_count": 282,
   "id": "0aa7d89e-e790-48f5-971c-4e09b8b68b72",
   "metadata": {},
   "outputs": [
    {
     "data": {
      "text/plain": [
       "3"
      ]
     },
     "execution_count": 282,
     "metadata": {},
     "output_type": "execute_result"
    }
   ],
   "source": [
    "cnt = 0\n",
    "for i in x:\n",
    "    if i == 2:\n",
    "        cnt += 1\n",
    "cnt"
   ]
  },
  {
   "cell_type": "code",
   "execution_count": 283,
   "id": "a4272f6c-e6b6-43a2-b4e4-f5734bc163e8",
   "metadata": {},
   "outputs": [],
   "source": [
    "output = []\n",
    "for i in range(1,101):\n",
    "    output.append(\"{:b}\".format(i))"
   ]
  },
  {
   "cell_type": "code",
   "execution_count": 285,
   "id": "bf67da3f-6ad0-4ccf-8cdd-359d33db43da",
   "metadata": {},
   "outputs": [],
   "source": [
    "output = [\"{:b}\".format(i) for i in range(1,101)]"
   ]
  },
  {
   "cell_type": "code",
   "execution_count": 289,
   "id": "bfaf0538-dd8f-41ce-9643-5b210b708bbd",
   "metadata": {},
   "outputs": [
    {
     "data": {
      "text/plain": [
       "False"
      ]
     },
     "execution_count": 289,
     "metadata": {},
     "output_type": "execute_result"
    }
   ],
   "source": [
    "output[3].count('0') == 1"
   ]
  },
  {
   "cell_type": "code",
   "execution_count": 296,
   "id": "d850c93c-c221-4bb9-b228-f5b9bcd32b3f",
   "metadata": {},
   "outputs": [],
   "source": [
    "one_zero = []\n",
    "for i in output:\n",
    "    if i.count(\"0\") == 1:\n",
    "        one_zero.append(int(i,2))"
   ]
  },
  {
   "cell_type": "code",
   "execution_count": 298,
   "id": "6fc4ae88-4aac-435e-98c8-d179ada42320",
   "metadata": {},
   "outputs": [
    {
     "data": {
      "text/plain": [
       "539"
      ]
     },
     "execution_count": 298,
     "metadata": {},
     "output_type": "execute_result"
    }
   ],
   "source": [
    "sum(one_zero)"
   ]
  },
  {
   "cell_type": "code",
   "execution_count": 301,
   "id": "f2bbb9cb-c820-43ed-9a51-2f818f537616",
   "metadata": {},
   "outputs": [
    {
     "data": {
      "text/plain": [
       "539"
      ]
     },
     "execution_count": 301,
     "metadata": {},
     "output_type": "execute_result"
    }
   ],
   "source": [
    "sum([int(i,2) for i in output if i.count(\"0\") == 1])"
   ]
  },
  {
   "cell_type": "code",
   "execution_count": 333,
   "id": "a6e16eff-4cc8-4007-84cf-50200d13b3c6",
   "metadata": {},
   "outputs": [],
   "source": [
    "def aaa(x):\n",
    "    s = 0\n",
    "    for i in x:\n",
    "        if (type(i) == int) or (type(i) == float):\n",
    "            s += i\n",
    "    return s"
   ]
  },
  {
   "cell_type": "code",
   "execution_count": 335,
   "id": "98ffc746-4021-4462-acd0-98e46149ec94",
   "metadata": {},
   "outputs": [],
   "source": [
    "def aaa(x):\n",
    "    s = 0\n",
    "    for i in x:\n",
    "        if type(i) in [int,float]:\n",
    "            s += i\n",
    "    return s"
   ]
  },
  {
   "cell_type": "code",
   "execution_count": 336,
   "id": "5fecd1b4-193f-4d0a-a367-8832adc88b9d",
   "metadata": {},
   "outputs": [],
   "source": [
    "y = [1,2,32,\"23\",True]"
   ]
  },
  {
   "cell_type": "code",
   "execution_count": 355,
   "id": "bc233aa1-4141-4dd3-b56d-788235d45b5a",
   "metadata": {},
   "outputs": [],
   "source": [
    "def khj(x):\n",
    "    s = 0\n",
    "    l = 0\n",
    "    for i in x:\n",
    "        if type(i) in [int,float]:\n",
    "            s += i\n",
    "            l += 1\n",
    "    return [s, l, s/l]"
   ]
  },
  {
   "cell_type": "code",
   "execution_count": 356,
   "id": "8a073b52-277b-438c-bfea-fe62ead261d8",
   "metadata": {},
   "outputs": [
    {
     "data": {
      "text/plain": [
       "list"
      ]
     },
     "execution_count": 356,
     "metadata": {},
     "output_type": "execute_result"
    }
   ],
   "source": [
    "type(khj(y))"
   ]
  },
  {
   "cell_type": "markdown",
   "id": "2e89097f-4e27-4c68-aa95-6adc7e1605ac",
   "metadata": {},
   "source": [
    "사용된 데이터의 수는 : 3\n",
    "합계는 : 35\n",
    "평균은 : 11.6666666666"
   ]
  },
  {
   "cell_type": "code",
   "execution_count": 350,
   "id": "a17424ce-f713-4fe8-8e27-c271ac69f931",
   "metadata": {},
   "outputs": [],
   "source": [
    "def khj1(x):\n",
    "    tmp = []\n",
    "    for i in x:\n",
    "        if type(i) in [int,float]:\n",
    "            tmp.append(i)\n",
    "    return {\"합계\":sum(tmp), \"개수\":len(tmp), \"평균\":sum(tmp)/len(tmp)}"
   ]
  },
  {
   "cell_type": "code",
   "execution_count": 352,
   "id": "77e929eb-2a26-4191-9cc8-3ea0bf398ab1",
   "metadata": {},
   "outputs": [
    {
     "data": {
      "text/plain": [
       "dict"
      ]
     },
     "execution_count": 352,
     "metadata": {},
     "output_type": "execute_result"
    }
   ],
   "source": [
    "type(khj1(y))"
   ]
  },
  {
   "cell_type": "code",
   "execution_count": 359,
   "id": "c26fb639-b3f3-4ce8-b01b-d3f4b202ee15",
   "metadata": {},
   "outputs": [],
   "source": [
    "def lll(x):\n",
    "    s = 0\n",
    "    for i in x:\n",
    "        s += 1\n",
    "    return s"
   ]
  },
  {
   "cell_type": "code",
   "execution_count": 373,
   "id": "2c64d308-f4d3-4e25-869d-53091c3dbf7d",
   "metadata": {},
   "outputs": [
    {
     "data": {
      "text/plain": [
       "11"
      ]
     },
     "execution_count": 377,
     "metadata": {},
     "output_type": "execute_result"
    }
   ],
   "source": [
    "lll(\"안녕하세요 python\")"
   ]
  },
  {
   "cell_type": "code",
   "execution_count": 368,
   "id": "63ddb13f-fbe8-4b10-953f-54d8a3efa967",
   "metadata": {},
   "outputs": [
    {
     "data": {
      "text/plain": [
       "5"
      ]
     },
     "execution_count": 378,
     "metadata": {},
     "output_type": "execute_result"
    }
   ],
   "source": [
    "lll([1,2,3,4,''])"
   ]
  },
  {
   "cell_type": "code",
   "execution_count": 375,
   "id": "41c879fc-d649-4eb9-8d87-ed8b348a1488",
   "metadata": {},
   "outputs": [
    {
     "data": {
      "text/plain": [
       "5"
      ]
     },
     "execution_count": 375,
     "metadata": {},
     "output_type": "execute_result"
    }
   ],
   "source": [
    "lll([1,2,3,4,''])"
   ]
  },
  {
   "cell_type": "code",
   "execution_count": 374,
   "id": "d393d7dd-f72d-46d9-93ac-6753fe000bae",
   "metadata": {},
   "outputs": [],
   "source": [
    "def lll(x):\n",
    "    s = 0\n",
    "    if type(x) == str:\n",
    "        x = [i for i in x if i != ' ']\n",
    "        for i in x:\n",
    "            s += 1\n",
    "    else:\n",
    "        for i in x:\n",
    "            s += 1\n",
    "    return s"
   ]
  },
  {
   "cell_type": "code",
   "execution_count": 379,
   "id": "9282c804-56eb-48f7-a4c5-6ea1a716c668",
   "metadata": {},
   "outputs": [],
   "source": [
    "def lll(x):\n",
    "    s = 0\n",
    "    if type(x) == str:\n",
    "        x = [i for i in x if i != ' ']\n",
    "    for i in x:\n",
    "        s += 1\n",
    "    return s"
   ]
  },
  {
   "cell_type": "code",
   "execution_count": 380,
   "id": "e0ba6616-8471-4d9e-9e11-5fe16c4f7bf1",
   "metadata": {},
   "outputs": [],
   "source": [
    "def lll1(x):\n",
    "    s = 0\n",
    "    for i in x:\n",
    "        s += 1\n",
    "    if type(x) == str:\n",
    "        s = s - x.count(' ')\n",
    "    return s"
   ]
  },
  {
   "cell_type": "code",
   "execution_count": 383,
   "id": "9ca48f4f-8a1b-4421-9556-a68df793fc90",
   "metadata": {},
   "outputs": [
    {
     "data": {
      "text/plain": [
       "15"
      ]
     },
     "execution_count": 383,
     "metadata": {},
     "output_type": "execute_result"
    }
   ],
   "source": [
    "lll1('안녕하세요 python dkdk ')"
   ]
  },
  {
   "cell_type": "code",
   "execution_count": null,
   "id": "90b37c87-a967-4e92-ba05-785edcd9acfe",
   "metadata": {},
   "outputs": [],
   "source": []
  }
 ],
 "metadata": {
  "kernelspec": {
   "display_name": "kbu",
   "language": "python",
   "name": "kbu"
  },
  "language_info": {
   "codemirror_mode": {
    "name": "ipython",
    "version": 3
   },
   "file_extension": ".py",
   "mimetype": "text/x-python",
   "name": "python",
   "nbconvert_exporter": "python",
   "pygments_lexer": "ipython3",
   "version": "3.7.11"
  }
 },
 "nbformat": 4,
 "nbformat_minor": 5
}
