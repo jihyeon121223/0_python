{
 "cells": [
  {
   "cell_type": "code",
   "execution_count": 1,
   "id": "ceaca79a-ffd7-46a7-befa-fc0296df0764",
   "metadata": {},
   "outputs": [],
   "source": [
    "def aaa(x):\n",
    "    s=0\n",
    "    for i in x:\n",
    "        s += 1\n",
    "        if i == ' ':\n",
    "            s -= 1\n",
    "    return s"
   ]
  },
  {
   "cell_type": "code",
   "execution_count": 2,
   "id": "aeac1069-0bda-4857-8c11-da401b6edeae",
   "metadata": {},
   "outputs": [
    {
     "data": {
      "text/plain": [
       "4"
      ]
     },
     "execution_count": 2,
     "metadata": {},
     "output_type": "execute_result"
    }
   ],
   "source": [
    "aaa([1,2,3,4,' '])"
   ]
  },
  {
   "cell_type": "code",
   "execution_count": 3,
   "id": "9adea31f-37c8-4c02-9745-0fdc3649fee9",
   "metadata": {},
   "outputs": [
    {
     "data": {
      "text/plain": [
       "4"
      ]
     },
     "execution_count": 3,
     "metadata": {},
     "output_type": "execute_result"
    }
   ],
   "source": [
    "aaa('dk dd')"
   ]
  },
  {
   "cell_type": "code",
   "execution_count": 4,
   "id": "002f1f79-6ba5-4074-8f06-290ab9d6b74b",
   "metadata": {},
   "outputs": [
    {
     "data": {
      "text/plain": [
       "4"
      ]
     },
     "execution_count": 4,
     "metadata": {},
     "output_type": "execute_result"
    }
   ],
   "source": [
    "aaa('d   k dd  ')"
   ]
  },
  {
   "cell_type": "code",
   "execution_count": 6,
   "id": "e7739483-970b-48a9-98d8-e228cc71cf89",
   "metadata": {},
   "outputs": [
    {
     "data": {
      "text/plain": [
       "[1, 2, 3, 4, 5, 6, 7, 8, 9]"
      ]
     },
     "execution_count": 6,
     "metadata": {},
     "output_type": "execute_result"
    }
   ],
   "source": [
    "list(range(1,10))"
   ]
  },
  {
   "cell_type": "code",
   "execution_count": 10,
   "id": "7f9ac3c6-b7f4-49ce-890a-352d913a26b8",
   "metadata": {},
   "outputs": [
    {
     "data": {
      "text/plain": [
       "[1, 2, 3, 4]"
      ]
     },
     "execution_count": 10,
     "metadata": {},
     "output_type": "execute_result"
    }
   ],
   "source": [
    "list(range(1,10//2))"
   ]
  },
  {
   "cell_type": "code",
   "execution_count": 12,
   "id": "5af3c547-2ca7-47ae-9bbf-b98aac76d1bb",
   "metadata": {},
   "outputs": [
    {
     "name": "stdout",
     "output_type": "stream",
     "text": [
      "1=반복변수\n",
      "0=반복변수\n",
      "3=반복변수\n",
      "7=반복변수\n",
      "2=반복변수\n"
     ]
    }
   ],
   "source": [
    "for i in [1,0,3,7,2,]:\n",
    "    print(str(i)+\"=반복변수\")"
   ]
  },
  {
   "cell_type": "code",
   "execution_count": 35,
   "id": "d7742ec5-a357-46c9-81e3-93711e7596b2",
   "metadata": {},
   "outputs": [],
   "source": [
    "a = [123,3234,456,89,20]"
   ]
  },
  {
   "cell_type": "code",
   "execution_count": 23,
   "id": "d76a1aa5-7061-405f-8320-6068e9250573",
   "metadata": {},
   "outputs": [
    {
     "name": "stdout",
     "output_type": "stream",
     "text": [
      "4번째 반복:20\n"
     ]
    }
   ],
   "source": [
    "i=4\n",
    "print(str(i)+\"번째 반복:\"+str(array[i]))"
   ]
  },
  {
   "cell_type": "code",
   "execution_count": 34,
   "id": "727c124b-1b02-49a3-a7dd-8e4c4dac13ae",
   "metadata": {},
   "outputs": [
    {
     "name": "stdout",
     "output_type": "stream",
     "text": [
      "1번째반복:3234\n"
     ]
    }
   ],
   "source": [
    "for i in range(1,2):\n",
    "    print(str(i)+\"번째반복:\"+str(array[i]))"
   ]
  },
  {
   "cell_type": "code",
   "execution_count": 36,
   "id": "70dab0ed-dd80-4570-9129-3fc64a820b61",
   "metadata": {},
   "outputs": [
    {
     "name": "stdout",
     "output_type": "stream",
     "text": [
      "0번째반복:123\n",
      "1번째반복:3234\n",
      "2번째반복:456\n",
      "3번째반복:89\n",
      "4번째반복:20\n"
     ]
    }
   ],
   "source": [
    "for i in range(len(a)): #array값이 바뀔 때 알아서 나옴\n",
    "    print(str(i)+\"번째반복:\"+str(a[i]))"
   ]
  },
  {
   "cell_type": "code",
   "execution_count": 37,
   "id": "1ffacaf8-c3a2-4f93-819b-c53a369b5ea5",
   "metadata": {},
   "outputs": [
    {
     "name": "stdout",
     "output_type": "stream",
     "text": [
      "4번째 반복:20\n",
      "3번째 반복:89\n",
      "2번째 반복:456\n",
      "1번째 반복:3234\n",
      "0번째 반복:123\n"
     ]
    }
   ],
   "source": [
    "for i in range(len(array)-1,-1,-1):\n",
    "    print(f\"{i}번째 반복:{array[i]}\")"
   ]
  },
  {
   "cell_type": "code",
   "execution_count": null,
   "id": "3cae70de-0918-4601-b239-475014a21956",
   "metadata": {},
   "outputs": [],
   "source": [
    "s=0\n",
    "i=0\n",
    "while i < 11:\n",
    "    s=s+i\n",
    "s"
   ]
  },
  {
   "cell_type": "code",
   "execution_count": null,
   "id": "12702ff7-f62b-40da-83ff-c45421173f71",
   "metadata": {},
   "outputs": [],
   "source": [
    "s"
   ]
  },
  {
   "cell_type": "code",
   "execution_count": 9,
   "id": "9154c304-743c-4b75-a4cd-4332af0bf70d",
   "metadata": {},
   "outputs": [],
   "source": [
    "from time import time"
   ]
  },
  {
   "cell_type": "code",
   "execution_count": 14,
   "id": "5aa8c179-8cee-4dd9-92f9-b7345435afed",
   "metadata": {},
   "outputs": [],
   "source": [
    "#import time, time"
   ]
  },
  {
   "cell_type": "code",
   "execution_count": 15,
   "id": "4fcebd1f-0e54-4f06-acb6-8408844942d3",
   "metadata": {},
   "outputs": [
    {
     "ename": "TypeError",
     "evalue": "'module' object is not callable",
     "output_type": "error",
     "traceback": [
      "\u001b[1;31m---------------------------------------------------------------------------\u001b[0m",
      "\u001b[1;31mTypeError\u001b[0m                                 Traceback (most recent call last)",
      "\u001b[1;32m~\\AppData\\Local\\Temp/ipykernel_11052/736116927.py\u001b[0m in \u001b[0;36m<module>\u001b[1;34m\u001b[0m\n\u001b[1;32m----> 1\u001b[1;33m \u001b[1;33m(\u001b[0m\u001b[0mtime\u001b[0m\u001b[1;33m(\u001b[0m\u001b[1;33m)\u001b[0m\u001b[1;33m+\u001b[0m\u001b[1;36m5\u001b[0m\u001b[1;33m)\u001b[0m\u001b[1;33m-\u001b[0m\u001b[0mtime\u001b[0m\u001b[1;33m(\u001b[0m\u001b[1;33m)\u001b[0m\u001b[1;33m\u001b[0m\u001b[1;33m\u001b[0m\u001b[0m\n\u001b[0m",
      "\u001b[1;31mTypeError\u001b[0m: 'module' object is not callable"
     ]
    }
   ],
   "source": [
    "(time()+5)-time()"
   ]
  },
  {
   "cell_type": "code",
   "execution_count": 8,
   "id": "819c748f-0ab6-43fc-93ad-59d7617f716c",
   "metadata": {},
   "outputs": [
    {
     "ename": "TypeError",
     "evalue": "'module' object is not callable",
     "output_type": "error",
     "traceback": [
      "\u001b[1;31m---------------------------------------------------------------------------\u001b[0m",
      "\u001b[1;31mTypeError\u001b[0m                                 Traceback (most recent call last)",
      "\u001b[1;32m~\\AppData\\Local\\Temp/ipykernel_11052/1511639551.py\u001b[0m in \u001b[0;36m<module>\u001b[1;34m\u001b[0m\n\u001b[1;32m----> 1\u001b[1;33m \u001b[1;33m(\u001b[0m\u001b[0mtime\u001b[0m\u001b[1;33m(\u001b[0m\u001b[1;33m)\u001b[0m\u001b[1;33m+\u001b[0m\u001b[1;36m5\u001b[0m\u001b[1;33m)\u001b[0m \u001b[1;33m-\u001b[0m \u001b[0mtime\u001b[0m\u001b[1;33m(\u001b[0m\u001b[1;33m)\u001b[0m\u001b[1;33m\u001b[0m\u001b[1;33m\u001b[0m\u001b[0m\n\u001b[0m",
      "\u001b[1;31mTypeError\u001b[0m: 'module' object is not callable"
     ]
    }
   ],
   "source": [
    "(time()+5) - time()"
   ]
  },
  {
   "cell_type": "code",
   "execution_count": 6,
   "id": "75efa753-0165-4b1e-b255-4d0abd4edd81",
   "metadata": {},
   "outputs": [
    {
     "ename": "TypeError",
     "evalue": "'module' object is not callable",
     "output_type": "error",
     "traceback": [
      "\u001b[1;31m---------------------------------------------------------------------------\u001b[0m",
      "\u001b[1;31mTypeError\u001b[0m                                 Traceback (most recent call last)",
      "\u001b[1;32m~\\AppData\\Local\\Temp/ipykernel_11052/3629306186.py\u001b[0m in \u001b[0;36m<module>\u001b[1;34m\u001b[0m\n\u001b[1;32m----> 1\u001b[1;33m \u001b[0mtarget_time\u001b[0m\u001b[1;33m=\u001b[0m\u001b[0mtime\u001b[0m\u001b[1;33m(\u001b[0m\u001b[1;33m)\u001b[0m\u001b[1;33m+\u001b[0m\u001b[1;36m5\u001b[0m\u001b[1;33m\u001b[0m\u001b[1;33m\u001b[0m\u001b[0m\n\u001b[0m\u001b[0;32m      2\u001b[0m \u001b[0mnumber\u001b[0m\u001b[1;33m=\u001b[0m\u001b[1;36m0\u001b[0m\u001b[1;33m\u001b[0m\u001b[1;33m\u001b[0m\u001b[0m\n\u001b[0;32m      3\u001b[0m \u001b[1;32mwhile\u001b[0m \u001b[0mtime\u001b[0m\u001b[1;33m(\u001b[0m\u001b[1;33m)\u001b[0m \u001b[1;33m<\u001b[0m \u001b[0mtarget_time\u001b[0m\u001b[1;33m:\u001b[0m\u001b[1;33m\u001b[0m\u001b[1;33m\u001b[0m\u001b[0m\n\u001b[0;32m      4\u001b[0m     \u001b[0mnumber\u001b[0m \u001b[1;33m+=\u001b[0m\u001b[1;36m1\u001b[0m\u001b[1;33m\u001b[0m\u001b[1;33m\u001b[0m\u001b[0m\n\u001b[0;32m      5\u001b[0m \u001b[0mprint\u001b[0m\u001b[1;33m(\u001b[0m\u001b[0mnumber\u001b[0m\u001b[1;33m)\u001b[0m\u001b[1;33m\u001b[0m\u001b[1;33m\u001b[0m\u001b[0m\n",
      "\u001b[1;31mTypeError\u001b[0m: 'module' object is not callable"
     ]
    }
   ],
   "source": [
    "target_time=time()+5\n",
    "number=0\n",
    "while time() < target_time:\n",
    "    number +=1\n",
    "print(number)"
   ]
  },
  {
   "cell_type": "code",
   "execution_count": null,
   "id": "2065f121-8250-4d07-a157-108e0a7c568c",
   "metadata": {},
   "outputs": [],
   "source": []
  }
 ],
 "metadata": {
  "kernelspec": {
   "display_name": "Python 3 (ipykernel)",
   "language": "python",
   "name": "python3"
  },
  "language_info": {
   "codemirror_mode": {
    "name": "ipython",
    "version": 3
   },
   "file_extension": ".py",
   "mimetype": "text/x-python",
   "name": "python",
   "nbconvert_exporter": "python",
   "pygments_lexer": "ipython3",
   "version": "3.9.7"
  }
 },
 "nbformat": 4,
 "nbformat_minor": 5
}
