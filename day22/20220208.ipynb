{
 "cells": [
  {
   "cell_type": "raw",
   "id": "227dc23a-be2f-40e3-9e63-ea800241f874",
   "metadata": {},
   "source": [
    "#함수의 기본 = 작은 프로그램\n",
    "변수이름은 명령어와 다르게"
   ]
  },
  {
   "cell_type": "code",
   "execution_count": 2,
   "id": "f50b2f88-844a-4d68-b04e-2adc44e80640",
   "metadata": {},
   "outputs": [],
   "source": [
    "def print_3_times():\n",
    "    print('안녕하세요')\n",
    "    print('안녕하세요')\n",
    "    print('안녕하세요')"
   ]
  },
  {
   "cell_type": "code",
   "execution_count": 5,
   "id": "9aca075a-5913-421c-9b6e-1cf389a0c330",
   "metadata": {},
   "outputs": [
    {
     "name": "stdout",
     "output_type": "stream",
     "text": [
      "안녕하세요\n",
      "안녕하세요\n",
      "안녕하세요\n"
     ]
    }
   ],
   "source": [
    "print_3_times()"
   ]
  },
  {
   "cell_type": "code",
   "execution_count": 6,
   "id": "63a5b8b3-dccf-44f2-904f-28b37326161f",
   "metadata": {},
   "outputs": [],
   "source": [
    "def print_3_times(name): #(매개변수)\n",
    "    print(name+'님 안녕하세요') #님 안녕하세요가 스트링이라서 매개변수도 스트링이어야 함\n",
    "    print(name+'님 안녕하세요')\n",
    "    print(name+'님 안녕하세요')"
   ]
  },
  {
   "cell_type": "code",
   "execution_count": 7,
   "id": "6bca6991-7180-4509-bd0f-f4fe76166608",
   "metadata": {},
   "outputs": [
    {
     "name": "stdout",
     "output_type": "stream",
     "text": [
      "베이베님 안녕하세요\n",
      "베이베님 안녕하세요\n",
      "베이베님 안녕하세요\n"
     ]
    }
   ],
   "source": [
    "print_3_times('베이베') #스트링넣음"
   ]
  },
  {
   "cell_type": "code",
   "execution_count": 11,
   "id": "1bad308d-b293-4260-a6be-a8ccb92dc6bd",
   "metadata": {},
   "outputs": [],
   "source": [
    "def print_3_times(name):\n",
    "    for i in range(3):\n",
    "        print(name+'님 안녕하세요')"
   ]
  },
  {
   "cell_type": "code",
   "execution_count": 12,
   "id": "dbaaaea0-37d1-49bf-93d8-d91cdaeecf17",
   "metadata": {},
   "outputs": [
    {
     "name": "stdout",
     "output_type": "stream",
     "text": [
      "엥님 안녕하세요\n",
      "엥님 안녕하세요\n",
      "엥님 안녕하세요\n"
     ]
    }
   ],
   "source": [
    "print_3_times('엥')"
   ]
  },
  {
   "cell_type": "code",
   "execution_count": 13,
   "id": "100a8f7e-ecd1-4706-b3b2-552772434bbf",
   "metadata": {},
   "outputs": [],
   "source": [
    "#횟수추가"
   ]
  },
  {
   "cell_type": "code",
   "execution_count": 14,
   "id": "ae1a982f-6434-4fee-867f-2b0f2318efb2",
   "metadata": {},
   "outputs": [],
   "source": [
    "def print_3_times(name,n_times):\n",
    "    for i in range(n_times):\n",
    "        print(name+'님 안녕하세요')"
   ]
  },
  {
   "cell_type": "code",
   "execution_count": 15,
   "id": "0257f8c4-9643-4e7e-bb6e-310a77b4c120",
   "metadata": {},
   "outputs": [
    {
     "name": "stdout",
     "output_type": "stream",
     "text": [
      "스트링님 안녕하세요\n",
      "스트링님 안녕하세요\n",
      "스트링님 안녕하세요\n",
      "스트링님 안녕하세요\n",
      "스트링님 안녕하세요\n"
     ]
    }
   ],
   "source": [
    "print_3_times('스트링',5)"
   ]
  },
  {
   "cell_type": "code",
   "execution_count": 16,
   "id": "e5bbcdac-b1c5-4bba-9c84-825a18938371",
   "metadata": {},
   "outputs": [],
   "source": [
    "name_list=['김','이','박','서']"
   ]
  },
  {
   "cell_type": "code",
   "execution_count": 21,
   "id": "f3bd3c3a-6275-4a99-aeb5-ffaa51e4145b",
   "metadata": {},
   "outputs": [],
   "source": [
    "def print_n_times(name_list):\n",
    "    for i in range(len(name_list)): #리스트는 렝\n",
    "        print(name_list[i]+'님 안녕하세요')"
   ]
  },
  {
   "cell_type": "code",
   "execution_count": 22,
   "id": "d3d4477f-74fc-4788-be11-43f47f18f0f1",
   "metadata": {},
   "outputs": [
    {
     "name": "stdout",
     "output_type": "stream",
     "text": [
      "김님 안녕하세요\n",
      "이님 안녕하세요\n",
      "박님 안녕하세요\n",
      "서님 안녕하세요\n"
     ]
    }
   ],
   "source": [
    "print_n_times(name_list)"
   ]
  },
  {
   "cell_type": "code",
   "execution_count": 23,
   "id": "561e6304-9416-494e-a944-1cb9420dd28f",
   "metadata": {},
   "outputs": [
    {
     "data": {
      "text/plain": [
       "True"
      ]
     },
     "execution_count": 23,
     "metadata": {},
     "output_type": "execute_result"
    }
   ],
   "source": [
    "'김'<'박' #순서별 트루 펄스"
   ]
  },
  {
   "cell_type": "code",
   "execution_count": 24,
   "id": "bca5aca7-4207-46e4-b0ff-5d16f9c79319",
   "metadata": {},
   "outputs": [
    {
     "data": {
      "text/plain": [
       "False"
      ]
     },
     "execution_count": 24,
     "metadata": {},
     "output_type": "execute_result"
    }
   ],
   "source": [
    "'a'>'c' #큰 순서대로 솔팅 해볼 수 있다"
   ]
  },
  {
   "cell_type": "code",
   "execution_count": 26,
   "id": "5b81f1b0-9f40-4f02-a85f-9772010b89f0",
   "metadata": {},
   "outputs": [
    {
     "data": {
      "text/plain": [
       "'이'"
      ]
     },
     "execution_count": 26,
     "metadata": {},
     "output_type": "execute_result"
    }
   ],
   "source": [
    "max(name_list)"
   ]
  },
  {
   "cell_type": "raw",
   "id": "00d07294-1ed7-4c98-8c5a-6ea1dc0d6c26",
   "metadata": {},
   "source": [
    "총 {}분의 학생이 출석했습니다\n",
    "1번 김님 #for 문\n",
    "2번 이님\n",
    "3번 박님\n",
    "4번 서님\n",
    "모두 열심히 수업하세요"
   ]
  },
  {
   "cell_type": "code",
   "execution_count": 34,
   "id": "a3074762-e49b-4226-88eb-98184365e18c",
   "metadata": {},
   "outputs": [],
   "source": [
    "name=['김','이','박','서']"
   ]
  },
  {
   "cell_type": "code",
   "execution_count": 28,
   "id": "43a5aea9-7582-43b5-9e52-836bddcccd9b",
   "metadata": {},
   "outputs": [],
   "source": [
    "def print_n_times(welcome):\n",
    "    for i in range(len(welcome)):\n",
    "        print('총'welcome[i]'분의 학생이 출석했습니다' welcome[i+1]'번 {welcome}님\\n모두 열심히 수업하세요')"
   ]
  },
  {
   "cell_type": "code",
   "execution_count": 29,
   "id": "36b97113-8154-4727-a580-8249e18c5246",
   "metadata": {},
   "outputs": [
    {
     "name": "stdout",
     "output_type": "stream",
     "text": [
      "총0분의 학생이 출석했습니다\n",
      " 1번 ['김', '이', '박', '서']님\n",
      "모두 열심히 수업하세요\n",
      "총1분의 학생이 출석했습니다\n",
      " 2번 ['김', '이', '박', '서']님\n",
      "모두 열심히 수업하세요\n",
      "총2분의 학생이 출석했습니다\n",
      " 3번 ['김', '이', '박', '서']님\n",
      "모두 열심히 수업하세요\n",
      "총3분의 학생이 출석했습니다\n",
      " 4번 ['김', '이', '박', '서']님\n",
      "모두 열심히 수업하세요\n"
     ]
    }
   ],
   "source": [
    "print_n_times(welcome)"
   ]
  },
  {
   "cell_type": "code",
   "execution_count": 37,
   "id": "f7cc29c3-abd7-4d56-8b33-0a4f65eb34da",
   "metadata": {},
   "outputs": [],
   "source": [
    "def print_n_times(name):\n",
    "    print('총'+str(len(name))+'명의 학생이 출석했습니다')\n",
    "    for i in range(len(name)):\n",
    "        print(str(i+1)+'번'+name[i])\n",
    "    print('모두 열심히 수업하세요')    "
   ]
  },
  {
   "cell_type": "code",
   "execution_count": 38,
   "id": "9313d07d-2b1c-4696-a9f8-1bd38a16fcf7",
   "metadata": {},
   "outputs": [
    {
     "name": "stdout",
     "output_type": "stream",
     "text": [
      "총4명의 학생이 출석했습니다\n",
      "1번김\n",
      "2번이\n",
      "3번박\n",
      "4번서\n",
      "모두 열심히 수업하세요\n"
     ]
    }
   ],
   "source": [
    "print_n_times(name)"
   ]
  },
  {
   "cell_type": "code",
   "execution_count": 39,
   "id": "8e9520b4-52eb-4163-9b96-f5a2eea6950a",
   "metadata": {},
   "outputs": [],
   "source": [
    "import random"
   ]
  },
  {
   "cell_type": "code",
   "execution_count": 40,
   "id": "cf966ce0-5aa4-420a-8df5-b89d3d7b4c88",
   "metadata": {},
   "outputs": [
    {
     "data": {
      "text/plain": [
       "2"
      ]
     },
     "execution_count": 40,
     "metadata": {},
     "output_type": "execute_result"
    }
   ],
   "source": [
    "random.choice([2,3,4])"
   ]
  },
  {
   "cell_type": "code",
   "execution_count": 41,
   "id": "ade5baa7-a2d9-4c62-816b-5f2ae1d90074",
   "metadata": {},
   "outputs": [
    {
     "data": {
      "text/plain": [
       "5"
      ]
     },
     "execution_count": 41,
     "metadata": {},
     "output_type": "execute_result"
    }
   ],
   "source": [
    "random.choice(range(2,7))"
   ]
  },
  {
   "cell_type": "raw",
   "id": "4a5575eb-8ada-47fe-bbc8-ab417019220d",
   "metadata": {},
   "source": [
    "총 4분의 학생이 존재합니다\n",
    "김 님\n",
    "박 님\n",
    "이 선택외었습니다 축하합니다"
   ]
  },
  {
   "cell_type": "code",
   "execution_count": 42,
   "id": "bc92a49b-9873-45ad-b45f-b06d0cd2e7a1",
   "metadata": {},
   "outputs": [],
   "source": [
    "name=['김','이','박','서']"
   ]
  },
  {
   "cell_type": "code",
   "execution_count": 43,
   "id": "3c7f475f-8248-4814-99b2-a188d21ece30",
   "metadata": {},
   "outputs": [
    {
     "data": {
      "text/plain": [
       "'김'"
      ]
     },
     "execution_count": 43,
     "metadata": {},
     "output_type": "execute_result"
    }
   ],
   "source": [
    "import random\n",
    "random.choice(name)"
   ]
  },
  {
   "cell_type": "code",
   "execution_count": 57,
   "id": "52dd63c0-1984-4226-bef2-dd90457ecf2f",
   "metadata": {},
   "outputs": [],
   "source": [
    "import random\n",
    "a1=random.choice(name)\n",
    "a2=random.choice(name)\n",
    "def congratuation(name):\n",
    "    print('총'+str(len(name))+'분의 학생이 존재합니다')\n",
    "    for i in range(len(name)-3):\n",
    "        print(a1+'님')\n",
    "        print(a2+'님')\n",
    "    print('이 선택되었습니다 축하합니다')"
   ]
  },
  {
   "cell_type": "code",
   "execution_count": 58,
   "id": "dd2ca64b-07f5-4b27-9f05-5b519d3d368f",
   "metadata": {},
   "outputs": [
    {
     "name": "stdout",
     "output_type": "stream",
     "text": [
      "총4분의 학생이 존재합니다\n",
      "박님\n",
      "서님\n",
      "이 선택되었습니다 축하합니다\n"
     ]
    }
   ],
   "source": [
    "congratuation(name)"
   ]
  },
  {
   "cell_type": "code",
   "execution_count": 59,
   "id": "dd1dee18-7c6f-4f27-aebf-d1d05c9c3888",
   "metadata": {},
   "outputs": [],
   "source": [
    "import random\n",
    "a1=random.choice(name)\n",
    "a2=random.choice(name)\n",
    "def congratuation(name):\n",
    "    print('총'+str(len(name))+'분의 학생이 존재합니다')\n",
    "    print(a1+'님')\n",
    "    print(a2+'님')\n",
    "    print('이 선택되었습니다 축하합니다')"
   ]
  },
  {
   "cell_type": "code",
   "execution_count": 60,
   "id": "19cbd0de-5d92-4833-8bc6-dc0256a43f2c",
   "metadata": {},
   "outputs": [
    {
     "name": "stdout",
     "output_type": "stream",
     "text": [
      "총4분의 학생이 존재합니다\n",
      "김님\n",
      "서님\n",
      "이 선택되었습니다 축하합니다\n"
     ]
    }
   ],
   "source": [
    "congratuation(name)"
   ]
  },
  {
   "cell_type": "code",
   "execution_count": 61,
   "id": "ea1edddc-2105-40ff-80af-91dcf533fdb8",
   "metadata": {},
   "outputs": [],
   "source": [
    "#수업답"
   ]
  },
  {
   "cell_type": "code",
   "execution_count": 62,
   "id": "5a34d400-5ddc-44e3-9548-43bf06d5e7d5",
   "metadata": {},
   "outputs": [],
   "source": [
    "def welcome(x):\n",
    "    print(f'총{len(x)}명의 학생이 존재합니다')\n",
    "    while True: #와일은 다 고르고 어떨 때 정지키겠다는 뜻\n",
    "        choice1=random.choice(x)\n",
    "        print(f'{choice1}님')\n",
    "        x.remove(choice1) #뽑히면 없앰\n",
    "        if len(x) == 2:\n",
    "            break\n",
    "    print('이 선택되었습니다 축하합니다')"
   ]
  },
  {
   "cell_type": "code",
   "execution_count": 63,
   "id": "36a7347d-7a56-4efd-970b-d469033330c1",
   "metadata": {},
   "outputs": [
    {
     "name": "stdout",
     "output_type": "stream",
     "text": [
      "총4명의 학생이 존재합니다\n",
      "김님\n",
      "박님\n",
      "이 선택되었습니다 축하합니다\n"
     ]
    }
   ],
   "source": [
    "welcome(name)"
   ]
  },
  {
   "cell_type": "code",
   "execution_count": 65,
   "id": "d288ec07-073e-4d6c-aaff-79a3f91a0a03",
   "metadata": {},
   "outputs": [
    {
     "data": {
      "text/plain": [
       "['이', '서']"
      ]
     },
     "execution_count": 65,
     "metadata": {},
     "output_type": "execute_result"
    }
   ],
   "source": [
    "name"
   ]
  },
  {
   "cell_type": "code",
   "execution_count": 67,
   "id": "74b50c18-760f-4e55-a3ea-82cc81674c69",
   "metadata": {},
   "outputs": [
    {
     "data": {
      "text/plain": [
       "['서']"
      ]
     },
     "execution_count": 67,
     "metadata": {},
     "output_type": "execute_result"
    }
   ],
   "source": [
    "new_name=[] #제외시키기\n",
    "for i in name:\n",
    "    if i != '이':\n",
    "        new_name.append(i)\n",
    "new_name"
   ]
  },
  {
   "cell_type": "code",
   "execution_count": 71,
   "id": "89b67c97-2012-44d4-bf75-741b354245c5",
   "metadata": {},
   "outputs": [],
   "source": [
    "name=['김','이','박','서']\n",
    "\n",
    "def welcome(x):\n",
    "    print('총 {}명의 학생이 존재합니다'.format(len(x)))\n",
    "    while True:\n",
    "        choice1=random.choice(x)\n",
    "        print('{}님'.format(choice1))\n",
    "        choice2=random.choice(x)\n",
    "        if choice1 != choice2:\n",
    "            print('{}님'.format(choice2))\n",
    "            print('이 선택되었습니다 축하합니다')\n",
    "            break\n",
    "        else:#같은거 뽑혔을 때\n",
    "            tmp_x=[i for i in x if i != choice1]\n",
    "            choice2=random.choice(tmp_x)\n",
    "            print('{}님'.format(choice2))\n",
    "            print('이 선택되었습니다 축하합니다')\n",
    "            break"
   ]
  },
  {
   "cell_type": "code",
   "execution_count": 72,
   "id": "5e38a9d3-0e76-4f5f-9b3a-52fd51421476",
   "metadata": {},
   "outputs": [
    {
     "name": "stdout",
     "output_type": "stream",
     "text": [
      "총 4명의 학생이 존재합니다\n",
      "김님\n",
      "서님\n",
      "이 선택되었습니다 축하합니다\n"
     ]
    }
   ],
   "source": [
    "welcome(name)"
   ]
  },
  {
   "cell_type": "code",
   "execution_count": 73,
   "id": "93475aae-daa0-4d2e-ba23-50625cce567d",
   "metadata": {},
   "outputs": [],
   "source": [
    "#뽑는 갯수를 정해서 뽑기"
   ]
  },
  {
   "cell_type": "code",
   "execution_count": 169,
   "id": "2b16f744-3791-43df-9cc5-b16ffe544e48",
   "metadata": {},
   "outputs": [],
   "source": [
    "name=name+['유','곽','백','권','주','변','류']"
   ]
  },
  {
   "cell_type": "code",
   "execution_count": 134,
   "id": "33b5c0d6-b098-4b59-8726-cfb911b28202",
   "metadata": {},
   "outputs": [
    {
     "data": {
      "text/plain": [
       "['김', '이', '박', '서', '유', '곽', '백', '권', '주', '변', '류']"
      ]
     },
     "execution_count": 134,
     "metadata": {},
     "output_type": "execute_result"
    }
   ],
   "source": [
    "name"
   ]
  },
  {
   "cell_type": "code",
   "execution_count": 77,
   "id": "80714de1-af1b-460e-a7e5-93ab3f544947",
   "metadata": {},
   "outputs": [],
   "source": [
    "def 비복원(x,n):\n",
    "    choice = random.choice(x)\n",
    "    return choice*n"
   ]
  },
  {
   "cell_type": "code",
   "execution_count": 78,
   "id": "e2cbfbd7-e846-4a99-840c-d17269c390ac",
   "metadata": {},
   "outputs": [
    {
     "data": {
      "text/plain": [
       "'주주'"
      ]
     },
     "execution_count": 78,
     "metadata": {},
     "output_type": "execute_result"
    }
   ],
   "source": [
    "비복원(name,2)"
   ]
  },
  {
   "cell_type": "code",
   "execution_count": 79,
   "id": "2082a4e5-05b7-4453-a18c-756cf2e04bc6",
   "metadata": {},
   "outputs": [],
   "source": [
    "#리스트로 만들기"
   ]
  },
  {
   "cell_type": "code",
   "execution_count": 80,
   "id": "bdbabeff-3920-4413-b6b8-c1a00d6f77ce",
   "metadata": {},
   "outputs": [],
   "source": [
    "def 비복원(x,n):\n",
    "    choice = random.choice(x)\n",
    "    return [choice*n]"
   ]
  },
  {
   "cell_type": "code",
   "execution_count": 81,
   "id": "eaee3f29-3d13-4872-9728-fea186ca98cf",
   "metadata": {},
   "outputs": [
    {
     "data": {
      "text/plain": [
       "['변변']"
      ]
     },
     "execution_count": 81,
     "metadata": {},
     "output_type": "execute_result"
    }
   ],
   "source": [
    "비복원(name,2)"
   ]
  },
  {
   "cell_type": "code",
   "execution_count": 87,
   "id": "34fcbe3f-2228-4251-8d0c-b346c5c4f093",
   "metadata": {},
   "outputs": [],
   "source": [
    "def 복원(x,n):\n",
    "    result = []\n",
    "    for i in range(n):\n",
    "        result.append(random.choice(x))\n",
    "    return result"
   ]
  },
  {
   "cell_type": "code",
   "execution_count": 88,
   "id": "b7cda1fb-c7b8-4411-bf97-880d227c3842",
   "metadata": {},
   "outputs": [
    {
     "data": {
      "text/plain": [
       "['주', '변', '곽', '박', '서']"
      ]
     },
     "execution_count": 88,
     "metadata": {},
     "output_type": "execute_result"
    }
   ],
   "source": [
    "복원(name,5)"
   ]
  },
  {
   "cell_type": "raw",
   "id": "09bc51bc-d3e9-456e-aca3-c55cf69f608b",
   "metadata": {},
   "source": [
    "a=list(range(5))\n",
    "\n",
    "def xx(x): #오류나서 질문할 것\n",
    "    y=x.copy()\n",
    "    y.remove(random.choice())\n",
    "    return y"
   ]
  },
  {
   "cell_type": "raw",
   "id": "9ac96cd1-2ebd-405d-ac59-34c8765495b8",
   "metadata": {},
   "source": [
    "a=list(range(5))\n",
    "print(xx(x))\n",
    "a"
   ]
  },
  {
   "cell_type": "code",
   "execution_count": 135,
   "id": "0763d6fb-f642-4ee0-bffe-374b0c6eb0c0",
   "metadata": {},
   "outputs": [],
   "source": [
    "def welcome(name):\n",
    "    print(f'총 {len(name)}명의 학생이 존재합니다')\n",
    "    x=name.copy()\n",
    "    choice = random.choice(x)\n",
    "    print(f'{choice}님')\n",
    "    x.remove(choice)\n",
    "    choice=random.choice(x)\n",
    "    print(f'{choice}님')\n",
    "    print('이 선택되었습니다 축하합니다')"
   ]
  },
  {
   "cell_type": "code",
   "execution_count": 136,
   "id": "562f2ac8-335c-4ff2-944e-bb7fb7b5701a",
   "metadata": {},
   "outputs": [
    {
     "name": "stdout",
     "output_type": "stream",
     "text": [
      "총 11명의 학생이 존재합니다\n",
      "백님\n",
      "유님\n",
      "이 선택되었습니다 축하합니다\n"
     ]
    }
   ],
   "source": [
    "welcome(name)"
   ]
  },
  {
   "cell_type": "code",
   "execution_count": 137,
   "id": "e1ba638b-2cf8-4eb9-a784-1365bebabbee",
   "metadata": {},
   "outputs": [],
   "source": [
    "#x명을 리스트로 출력"
   ]
  },
  {
   "cell_type": "code",
   "execution_count": 139,
   "id": "1cde7ffb-33c0-46ea-b2d4-47cc5d28557e",
   "metadata": {},
   "outputs": [],
   "source": [
    "def welcome_n(name,n):\n",
    "    x=name.copy()\n",
    "    result=[]\n",
    "    while True: #빈리스트 채워줌\n",
    "        choice=random.choice(x)\n",
    "        result.append(choice)\n",
    "        if len(result)==n:\n",
    "            break\n",
    "        x.remove(choice)\n",
    "    return result"
   ]
  },
  {
   "cell_type": "code",
   "execution_count": 141,
   "id": "7b6f9a83-c2c4-4a49-bf83-1aaaf08c5a38",
   "metadata": {},
   "outputs": [
    {
     "data": {
      "text/plain": [
       "['주', '권', '변', '유', '류', '서', '백', '곽', '김', '박', '이']"
      ]
     },
     "execution_count": 141,
     "metadata": {},
     "output_type": "execute_result"
    }
   ],
   "source": [
    "welcome_n(name,11)"
   ]
  },
  {
   "cell_type": "code",
   "execution_count": 142,
   "id": "b8449735-0055-4416-af04-cb909e6e807b",
   "metadata": {},
   "outputs": [],
   "source": [
    "def welcome_n(name,n):\n",
    "    x=name.copy()\n",
    "    result=[]\n",
    "    cnt=1\n",
    "    while cnt<=n: #조건에 안맞는 값 들어오면 에러 >>> 에러 안나게 해보기\n",
    "        choice=random.choice(x)\n",
    "        result.append(choice)\n",
    "        x.remove(choice)\n",
    "        cnt += 1\n",
    "    return result"
   ]
  },
  {
   "cell_type": "code",
   "execution_count": 144,
   "id": "bc370e8b-f877-49b6-97c2-cecd8a87fb5b",
   "metadata": {},
   "outputs": [
    {
     "data": {
      "text/plain": [
       "['백', '변', '이', '권']"
      ]
     },
     "execution_count": 144,
     "metadata": {},
     "output_type": "execute_result"
    }
   ],
   "source": [
    "welcome_n(name,3)"
   ]
  },
  {
   "cell_type": "code",
   "execution_count": 145,
   "id": "3552937c-85de-46d7-bf6b-2d57c8c6b0ec",
   "metadata": {},
   "outputs": [],
   "source": [
    "#최대값보다 크면 숫자를 자동으로 바꿔주기"
   ]
  },
  {
   "cell_type": "code",
   "execution_count": 146,
   "id": "6220c7c3-d057-491b-9032-13b657daa8d1",
   "metadata": {},
   "outputs": [],
   "source": [
    "def welcome_n(name,n):\n",
    "    x=name.copy() #데이터의 원본을 보존하기 위해 데이터를 복사해두는 것\n",
    "    if len(x) < n:\n",
    "        n=len(x)\n",
    "    result=[]\n",
    "    cnt=1\n",
    "    while cnt<=n: #조건에 안맞는 값 들어오면 에러 >>> 에러 안나게 해보기\n",
    "        choice=random.choice(x)\n",
    "        result.append(choice)\n",
    "        x.remove(choice)\n",
    "        cnt += 1\n",
    "    return result"
   ]
  },
  {
   "cell_type": "code",
   "execution_count": 147,
   "id": "d863398b-177e-4d4c-8c7d-77b61220abe0",
   "metadata": {},
   "outputs": [
    {
     "data": {
      "text/plain": [
       "['유', '이', '백', '권', '류', '박', '주', '곽', '김', '변', '서']"
      ]
     },
     "execution_count": 147,
     "metadata": {},
     "output_type": "execute_result"
    }
   ],
   "source": [
    "welcome_n(name,13)"
   ]
  },
  {
   "cell_type": "code",
   "execution_count": 148,
   "id": "4e2f850c-5a80-4dd4-b261-b90184365bd4",
   "metadata": {},
   "outputs": [],
   "source": [
    "def welcome_n(name,n):\n",
    "    x=name.copy()\n",
    "    if len(x) < n:\n",
    "        return print(f'학생부의 총 학생은 {len(x)}인데 입력한 수는{n}입니다' )\n",
    "    result=[]\n",
    "    cnt=1\n",
    "    while cnt<=n: #조건에 안맞는 값 들어오면 에러 >>> 에러 안나게 해보기\n",
    "        choice=random.choice(x)\n",
    "        result.append(choice)\n",
    "        x.remove(choice)\n",
    "        cnt += 1\n",
    "    return result"
   ]
  },
  {
   "cell_type": "code",
   "execution_count": 149,
   "id": "71d33a6f-0002-460e-ae98-a7477be93f0f",
   "metadata": {},
   "outputs": [
    {
     "name": "stdout",
     "output_type": "stream",
     "text": [
      "학생부의 총 학생은 11인데 입력한 수는100입니다\n"
     ]
    }
   ],
   "source": [
    "welcome_n(name,100)"
   ]
  },
  {
   "cell_type": "code",
   "execution_count": 150,
   "id": "ad20a61d-e1fa-41cf-929c-bb46b9fd8336",
   "metadata": {},
   "outputs": [],
   "source": [
    "#for문으로 짜기 >>> 정해져있을 때 쓰기(조건일땐 와일)"
   ]
  },
  {
   "cell_type": "code",
   "execution_count": 160,
   "id": "a346e44a-2d22-440a-bf25-2d873eaef132",
   "metadata": {},
   "outputs": [],
   "source": [
    "def welcome_n(name,n):\n",
    "    x=name.copy()\n",
    "    if len(x) < n:\n",
    "        return print(f'학생부의 총 학생은 {len(x)}인데 입력한 수는{n}입니다' )\n",
    "    result=[]\n",
    "    for i in range(n):\n",
    "        choice=random.choice(x)\n",
    "        result.append(choice)\n",
    "        x.remove(choice)\n",
    "    return result"
   ]
  },
  {
   "cell_type": "code",
   "execution_count": 163,
   "id": "c6a968fc-b465-40f3-8097-3bb7a9efa263",
   "metadata": {},
   "outputs": [
    {
     "data": {
      "text/plain": [
       "['이', '주', '김', '변', '서']"
      ]
     },
     "execution_count": 163,
     "metadata": {},
     "output_type": "execute_result"
    }
   ],
   "source": [
    "welcome_n(name,5)"
   ]
  },
  {
   "cell_type": "raw",
   "id": "ffc0f041-42a1-4faf-a6f6-d680764441d8",
   "metadata": {},
   "source": [
    "#remove대신 pop써서 나타내기는 혼자 해보기"
   ]
  },
  {
   "cell_type": "code",
   "execution_count": 172,
   "id": "e173eed0-9842-440c-b5a0-9541b1c21238",
   "metadata": {},
   "outputs": [],
   "source": [
    "def welcome_n(name,n=6): #n값을 줄 수도 있음\n",
    "    x=name.copy()\n",
    "    if len(x) < n:\n",
    "        return print(f'학생부의 총 학생은 {len(x)}인데 입력한 수는{n}입니다' )\n",
    "    result=[]\n",
    "    for i in range(n):\n",
    "        choice=random.choice(x)\n",
    "        result.append(choice)\n",
    "        x.remove(choice)\n",
    "    return result"
   ]
  },
  {
   "cell_type": "code",
   "execution_count": 173,
   "id": "9633b728-9ea2-4ca8-b4ab-2356b9c9a4f6",
   "metadata": {},
   "outputs": [
    {
     "data": {
      "text/plain": [
       "['류', '백', '곽', '이', '김', '유']"
      ]
     },
     "execution_count": 173,
     "metadata": {},
     "output_type": "execute_result"
    }
   ],
   "source": [
    "welcome_n(name)"
   ]
  },
  {
   "cell_type": "raw",
   "id": "bdd6e94d-6777-4ec3-8938-c0fc1f907dac",
   "metadata": {},
   "source": [
    "['류']\n",
    "['유','김']\n",
    "...\n",
    "....\n",
    "welcome_n(name,1)\n",
    "welcome_n(name,2)\n"
   ]
  },
  {
   "cell_type": "code",
   "execution_count": 174,
   "id": "4a45f03b-fe60-41f5-8c91-527072a0dd57",
   "metadata": {},
   "outputs": [
    {
     "name": "stdout",
     "output_type": "stream",
     "text": [
      "[]\n",
      "['권']\n",
      "['권', '권']\n",
      "['주', '유', '곽']\n",
      "['곽', '권', '류', '주']\n",
      "['박', '백', '곽', '김', '주']\n",
      "['권', '이', '변', '곽', '유', '서']\n",
      "['이', '서', '백', '류', '권', '주', '권']\n",
      "['류', '변', '박', '곽', '백', '백', '곽', '유']\n",
      "['백', '곽', '권', '서', '주', '이', '유', '백', '주']\n",
      "['곽', '변', '류', '유', '김', '주', '서', '권', '이', '류']\n",
      "['백', '김', '서', '백', '변', '곽', '류', '이', '변', '주', '박']\n",
      "['변', '박', '서', '곽', '곽', '백', '류', '유', '김', '권', '이', '유']\n",
      "['박', '류', '유', '곽', '류', '유', '김', '곽', '권', '주', '주', '권', '변']\n",
      "['백', '변', '주', '권', '박', '곽', '변', '권', '서', '류', '유', '김', '유', '이']\n",
      "['류', '백', '변', '곽', '류', '권', '이', '주', '유', '곽', '변', '서', '권', '주', '김']\n",
      "['주', '곽', '유', '이', '변', '곽', '주', '권', '서', '류', '유', '백', '권', '변', '김', '박']\n",
      "['서', '주', '김', '주', '곽', '박', '백', '백', '류', '유', '이', '류', '권', '유', '권', '곽', '변']\n",
      "['류', '유', '곽', '권', '류', '백', '변', '주', '변', '유', '김', '서', '곽', '권', '백', '주', '박', '이']\n"
     ]
    }
   ],
   "source": [
    "for i in range(len(name)+1):\n",
    "    print(welcome_n(name,i))"
   ]
  },
  {
   "cell_type": "code",
   "execution_count": 175,
   "id": "6e452098-566e-446b-a4b1-67450e478f08",
   "metadata": {},
   "outputs": [],
   "source": [
    "obj=list(range(1,9999999))\n",
    "random.shuffle(obj)"
   ]
  },
  {
   "cell_type": "code",
   "execution_count": 176,
   "id": "d08d7110-6438-4fbb-a72b-cabbbe4aa1ec",
   "metadata": {},
   "outputs": [],
   "source": [
    "obj=obj[:10]"
   ]
  },
  {
   "cell_type": "code",
   "execution_count": 177,
   "id": "64bb285e-a2cc-4ef8-a399-4d4493694c81",
   "metadata": {},
   "outputs": [
    {
     "data": {
      "text/plain": [
       "[1271131,\n",
       " 7454857,\n",
       " 8988385,\n",
       " 856666,\n",
       " 7324108,\n",
       " 6660673,\n",
       " 7564098,\n",
       " 7840666,\n",
       " 3109856,\n",
       " 6729596]"
      ]
     },
     "execution_count": 177,
     "metadata": {},
     "output_type": "execute_result"
    }
   ],
   "source": [
    "obj"
   ]
  },
  {
   "cell_type": "code",
   "execution_count": 179,
   "id": "7e210491-a604-4fbe-9226-d5e7c554bdc5",
   "metadata": {},
   "outputs": [],
   "source": [
    "#각 자리수 다 더하기 :문자로 변환하면 편함"
   ]
  },
  {
   "cell_type": "raw",
   "id": "871de06b-436b-46de-bb93-8c63f4250c4d",
   "metadata": {},
   "source": [
    "if는 한 값만 판단 처음에 돌려주면 됨, for는 여러 값을 판단"
   ]
  },
  {
   "cell_type": "code",
   "execution_count": 180,
   "id": "d3aecb19-608e-4a0f-b903-ef6a1db40a06",
   "metadata": {},
   "outputs": [
    {
     "data": {
      "text/plain": [
       "13"
      ]
     },
     "execution_count": 180,
     "metadata": {},
     "output_type": "execute_result"
    }
   ],
   "source": [
    "obj[0]//1000000+obj[0]//100000"
   ]
  },
  {
   "cell_type": "code",
   "execution_count": 185,
   "id": "e936851f-04c9-455a-9109-5d69c85acc5f",
   "metadata": {},
   "outputs": [
    {
     "data": {
      "text/plain": [
       "1271131"
      ]
     },
     "execution_count": 185,
     "metadata": {},
     "output_type": "execute_result"
    }
   ],
   "source": [
    "obj[0]"
   ]
  },
  {
   "cell_type": "code",
   "execution_count": 197,
   "id": "f41f02cc-0ea2-4b24-92d5-0e2fca0b43f3",
   "metadata": {},
   "outputs": [],
   "source": [
    "def calc_num(x):\n",
    "    #print\n",
    "    s=0\n",
    "    for i in str(obj[0]):\n",
    "        s += int(i)\n",
    "    return s"
   ]
  },
  {
   "cell_type": "code",
   "execution_count": 198,
   "id": "ebfb2e70-9c1e-41ba-9b4e-fea0fc7bc105",
   "metadata": {},
   "outputs": [],
   "source": [
    "new_obj=[]\n",
    "for i in obj[:10]:\n",
    "    new_obj.append(calc_num(i))"
   ]
  },
  {
   "cell_type": "code",
   "execution_count": 199,
   "id": "0df68a8b-793a-4022-89c4-0a6831eef024",
   "metadata": {},
   "outputs": [
    {
     "data": {
      "text/plain": [
       "16"
      ]
     },
     "execution_count": 199,
     "metadata": {},
     "output_type": "execute_result"
    }
   ],
   "source": [
    "calc_num(x)"
   ]
  },
  {
   "cell_type": "code",
   "execution_count": 200,
   "id": "50049bf3-344e-402d-baf4-9ba808cf4269",
   "metadata": {},
   "outputs": [],
   "source": [
    "#평균(=백터)을 구하는 함수 만들기"
   ]
  },
  {
   "cell_type": "code",
   "execution_count": 201,
   "id": "ec20bc0a-25f3-4b2d-bed0-816a40c796f4",
   "metadata": {},
   "outputs": [],
   "source": [
    "def avg(x):\n",
    "    return sum(x)/len(x)"
   ]
  },
  {
   "cell_type": "code",
   "execution_count": 202,
   "id": "3ecc7936-6b10-4e47-8ee9-b8cbac2c5e98",
   "metadata": {},
   "outputs": [
    {
     "data": {
      "text/plain": [
       "5780003.6"
      ]
     },
     "execution_count": 202,
     "metadata": {},
     "output_type": "execute_result"
    }
   ],
   "source": [
    "avg(obj)"
   ]
  },
  {
   "cell_type": "code",
   "execution_count": 206,
   "id": "7c21ed88-c042-404f-9bbd-9110dab0376f",
   "metadata": {},
   "outputs": [
    {
     "ename": "ModuleNotFoundError",
     "evalue": "No module named 'numpy'",
     "output_type": "error",
     "traceback": [
      "\u001b[1;31m---------------------------------------------------------------------------\u001b[0m",
      "\u001b[1;31mModuleNotFoundError\u001b[0m                       Traceback (most recent call last)",
      "\u001b[1;32m~\\AppData\\Local\\Temp/ipykernel_8532/2623705965.py\u001b[0m in \u001b[0;36m<module>\u001b[1;34m\u001b[0m\n\u001b[1;32m----> 1\u001b[1;33m \u001b[1;32mimport\u001b[0m \u001b[0mnumpy\u001b[0m \u001b[1;32mas\u001b[0m \u001b[0mnp\u001b[0m\u001b[1;33m\u001b[0m\u001b[1;33m\u001b[0m\u001b[0m\n\u001b[0m\u001b[0;32m      2\u001b[0m \u001b[0marr\u001b[0m\u001b[1;33m=\u001b[0m\u001b[0mnp\u001b[0m\u001b[1;33m.\u001b[0m\u001b[0marray\u001b[0m\u001b[1;33m(\u001b[0m\u001b[0mobj\u001b[0m\u001b[1;33m)\u001b[0m\u001b[1;33m\u001b[0m\u001b[1;33m\u001b[0m\u001b[0m\n\u001b[0;32m      3\u001b[0m \u001b[0mnp\u001b[0m\u001b[1;33m.\u001b[0m\u001b[0msum\u001b[0m\u001b[1;33m(\u001b[0m\u001b[0marr\u001b[0m\u001b[1;33m[\u001b[0m\u001b[0marr\u001b[0m\u001b[1;33m<\u001b[0m\u001b[0mnp\u001b[0m\u001b[1;33m.\u001b[0m\u001b[0mmean\u001b[0m\u001b[1;33m(\u001b[0m\u001b[0marr\u001b[0m\u001b[1;33m)\u001b[0m\u001b[1;33m]\u001b[0m\u001b[1;33m)\u001b[0m\u001b[1;33m\u001b[0m\u001b[1;33m\u001b[0m\u001b[0m\n",
      "\u001b[1;31mModuleNotFoundError\u001b[0m: No module named 'numpy'"
     ]
    }
   ],
   "source": [
    "import numpy as np\n",
    "arr=np.array(obj)\n",
    "np.sum(arr[arr<np.mean(arr)])"
   ]
  },
  {
   "cell_type": "code",
   "execution_count": 207,
   "id": "81589b8b-697e-4532-8b0c-43f1da45e4df",
   "metadata": {
    "collapsed": true,
    "jupyter": {
     "outputs_hidden": true
    },
    "tags": []
   },
   "outputs": [
    {
     "data": {
      "text/plain": [
       "5237653"
      ]
     },
     "execution_count": 207,
     "metadata": {},
     "output_type": "execute_result"
    }
   ],
   "source": [
    "new_obj=[] #************                                        \n",
    "for ob in obj:\n",
    "    if ob < avg(obj):\n",
    "        new_obj.append(ob)\n",
    "sum(new_obj)"
   ]
  },
  {
   "cell_type": "code",
   "execution_count": 208,
   "id": "c7eb69b2-90d9-4fe6-885e-8035f5e786a4",
   "metadata": {
    "jupyter": {
     "source_hidden": true
    },
    "tags": []
   },
   "outputs": [],
   "source": [
    "#map(func,obj)"
   ]
  },
  {
   "cell_type": "code",
   "execution_count": 209,
   "id": "a7e5fc42-05ed-41e6-a233-db759730b5d5",
   "metadata": {
    "collapsed": true,
    "jupyter": {
     "outputs_hidden": true,
     "source_hidden": true
    },
    "tags": []
   },
   "outputs": [
    {
     "data": {
      "text/plain": [
       "<map at 0x1cd5c7831c8>"
      ]
     },
     "execution_count": 209,
     "metadata": {},
     "output_type": "execute_result"
    }
   ],
   "source": [
    "map(calc_num,obj)"
   ]
  },
  {
   "cell_type": "code",
   "execution_count": 211,
   "id": "81fdf102-17bc-4a82-bd3c-025930c4773c",
   "metadata": {
    "collapsed": true,
    "jupyter": {
     "outputs_hidden": true,
     "source_hidden": true
    },
    "tags": []
   },
   "outputs": [
    {
     "data": {
      "text/plain": [
       "[16, 16, 16, 16, 16, 16, 16, 16, 16, 16]"
      ]
     },
     "execution_count": 211,
     "metadata": {},
     "output_type": "execute_result"
    }
   ],
   "source": [
    "list(map(calc_num,obj))"
   ]
  },
  {
   "cell_type": "code",
   "execution_count": 213,
   "id": "4b2e8e79-a949-45be-812c-2bce916c9747",
   "metadata": {
    "collapsed": true,
    "jupyter": {
     "outputs_hidden": true,
     "source_hidden": true
    },
    "tags": []
   },
   "outputs": [
    {
     "data": {
      "text/plain": [
       "6"
      ]
     },
     "execution_count": 213,
     "metadata": {},
     "output_type": "execute_result"
    }
   ],
   "source": [
    "a=['1','2','3'] #리스트를 숫자로 바꾸기\n",
    "new_a=[]\n",
    "for i in a:\n",
    "    new_a.append(int(i))\n",
    "sum(new_a)"
   ]
  },
  {
   "cell_type": "code",
   "execution_count": 214,
   "id": "b767c1dd-dcc1-4ce3-94d6-7f08431bd4d3",
   "metadata": {
    "collapsed": true,
    "jupyter": {
     "outputs_hidden": true,
     "source_hidden": true
    },
    "tags": []
   },
   "outputs": [
    {
     "data": {
      "text/plain": [
       "[1, 2, 3]"
      ]
     },
     "execution_count": 214,
     "metadata": {},
     "output_type": "execute_result"
    }
   ],
   "source": [
    "list(map(int,a)) #map함수 사용하기"
   ]
  },
  {
   "cell_type": "code",
   "execution_count": 216,
   "id": "dd6aa54f-f738-440f-8478-8b316a26003e",
   "metadata": {},
   "outputs": [
    {
     "data": {
      "text/plain": [
       "6"
      ]
     },
     "execution_count": 216,
     "metadata": {},
     "output_type": "execute_result"
    }
   ],
   "source": [
    "sum(map(int,a))"
   ]
  },
  {
   "cell_type": "code",
   "execution_count": 217,
   "id": "d42dca3b-bcb1-4b49-baae-4cd17cfe069a",
   "metadata": {},
   "outputs": [],
   "source": [
    "#필터링=조건주고 거름=if"
   ]
  },
  {
   "cell_type": "code",
   "execution_count": 218,
   "id": "c4710c8c-54ac-4dd9-b201-24587816964d",
   "metadata": {},
   "outputs": [],
   "source": [
    "#filter(조건,리스트)"
   ]
  },
  {
   "cell_type": "code",
   "execution_count": 219,
   "id": "fab972f9-6198-4630-a17d-bc236e4a4095",
   "metadata": {},
   "outputs": [
    {
     "ename": "TypeError",
     "evalue": "'<' not supported between instances of 'list' and 'float'",
     "output_type": "error",
     "traceback": [
      "\u001b[1;31m---------------------------------------------------------------------------\u001b[0m",
      "\u001b[1;31mTypeError\u001b[0m                                 Traceback (most recent call last)",
      "\u001b[1;32m~\\AppData\\Local\\Temp/ipykernel_8532/851503196.py\u001b[0m in \u001b[0;36m<module>\u001b[1;34m\u001b[0m\n\u001b[1;32m----> 1\u001b[1;33m \u001b[0mfilter\u001b[0m\u001b[1;33m(\u001b[0m\u001b[0mobj\u001b[0m\u001b[1;33m<\u001b[0m\u001b[0mavg\u001b[0m\u001b[1;33m(\u001b[0m\u001b[0mobj\u001b[0m\u001b[1;33m)\u001b[0m\u001b[1;33m,\u001b[0m\u001b[0mobj\u001b[0m\u001b[1;33m)\u001b[0m\u001b[1;33m\u001b[0m\u001b[1;33m\u001b[0m\u001b[0m\n\u001b[0m",
      "\u001b[1;31mTypeError\u001b[0m: '<' not supported between instances of 'list' and 'float'"
     ]
    }
   ],
   "source": [
    "filter(obj<avg(obj),obj)"
   ]
  },
  {
   "cell_type": "code",
   "execution_count": 220,
   "id": "7a00bae0-6236-4c20-b162-b974936a0b39",
   "metadata": {},
   "outputs": [
    {
     "data": {
      "text/plain": [
       "<filter at 0x1cd53544548>"
      ]
     },
     "execution_count": 220,
     "metadata": {},
     "output_type": "execute_result"
    }
   ],
   "source": [
    "filter(lambda x: x<avg(obj),obj) #익명함수=이름필요없음"
   ]
  },
  {
   "cell_type": "code",
   "execution_count": 221,
   "id": "ee46c972-7b17-4525-9e8e-f8c8c3923e96",
   "metadata": {},
   "outputs": [
    {
     "data": {
      "text/plain": [
       "5237653"
      ]
     },
     "execution_count": 221,
     "metadata": {},
     "output_type": "execute_result"
    }
   ],
   "source": [
    "sum(filter(lambda x: x<avg(obj),obj)) #앞값을 만족하면 뒷값을 빼냄, 리스트로 만듦 #************"
   ]
  },
  {
   "cell_type": "code",
   "execution_count": 222,
   "id": "04f78fa0-d44c-4088-8eda-1df071c6e5f7",
   "metadata": {},
   "outputs": [],
   "source": [
    "def xx(x):\n",
    "    return x**2"
   ]
  },
  {
   "cell_type": "code",
   "execution_count": 223,
   "id": "75959a02-a6ca-4796-9bf9-162e732e3381",
   "metadata": {},
   "outputs": [
    {
     "data": {
      "text/plain": [
       "16"
      ]
     },
     "execution_count": 223,
     "metadata": {},
     "output_type": "execute_result"
    }
   ],
   "source": [
    "xx(4)"
   ]
  },
  {
   "cell_type": "code",
   "execution_count": 224,
   "id": "d7e45e5d-0bdb-464c-b71d-b8062079bb61",
   "metadata": {},
   "outputs": [],
   "source": [
    "#한 줄짜리 함수 만들기"
   ]
  },
  {
   "cell_type": "code",
   "execution_count": 225,
   "id": "de1f532b-293e-480c-afe1-68ab674ef7fd",
   "metadata": {},
   "outputs": [
    {
     "data": {
      "text/plain": [
       "16"
      ]
     },
     "execution_count": 225,
     "metadata": {},
     "output_type": "execute_result"
    }
   ],
   "source": [
    "(lambda x : x**2)(4)"
   ]
  },
  {
   "cell_type": "code",
   "execution_count": 226,
   "id": "a53ae47d-badc-4b0f-880d-b194806cbfe9",
   "metadata": {},
   "outputs": [],
   "source": [
    "#220을 한줄 함수로"
   ]
  },
  {
   "cell_type": "code",
   "execution_count": 227,
   "id": "df7d39af-543c-44f2-958a-b8d0fe80c593",
   "metadata": {},
   "outputs": [],
   "source": [
    "def xx(x):\n",
    "    return x<avg(obj)"
   ]
  },
  {
   "cell_type": "code",
   "execution_count": 228,
   "id": "8564f2c8-b30e-4610-ac81-62192a4f6803",
   "metadata": {},
   "outputs": [
    {
     "data": {
      "text/plain": [
       "True"
      ]
     },
     "execution_count": 228,
     "metadata": {},
     "output_type": "execute_result"
    }
   ],
   "source": [
    "xx(obj[0])"
   ]
  },
  {
   "cell_type": "code",
   "execution_count": 229,
   "id": "1623aa66-bfdc-4f86-9655-b432079f28fa",
   "metadata": {},
   "outputs": [],
   "source": [
    "#obj의 자리수 구하기"
   ]
  },
  {
   "cell_type": "code",
   "execution_count": 230,
   "id": "64d15461-45a7-494a-b774-0085abff8926",
   "metadata": {},
   "outputs": [
    {
     "data": {
      "text/plain": [
       "7"
      ]
     },
     "execution_count": 230,
     "metadata": {},
     "output_type": "execute_result"
    }
   ],
   "source": [
    "len(str(obj[0]))"
   ]
  },
  {
   "cell_type": "code",
   "execution_count": 231,
   "id": "cca38525-ab6a-4aa8-ac47-6d66ed397270",
   "metadata": {},
   "outputs": [
    {
     "data": {
      "text/plain": [
       "<map at 0x1cd53544148>"
      ]
     },
     "execution_count": 231,
     "metadata": {},
     "output_type": "execute_result"
    }
   ],
   "source": [
    "map(len(str(x)),obj)"
   ]
  },
  {
   "cell_type": "code",
   "execution_count": 233,
   "id": "81ab4a95-0a32-4a28-9f6e-ccd1b5a93189",
   "metadata": {},
   "outputs": [],
   "source": [
    "def xxx(x):\n",
    "    return len(str(x))"
   ]
  },
  {
   "cell_type": "code",
   "execution_count": 236,
   "id": "063e67e6-5a28-41fb-b52c-6861dfa19331",
   "metadata": {},
   "outputs": [
    {
     "data": {
      "text/plain": [
       "[7, 7, 7, 6, 7, 7, 7, 7, 7, 7]"
      ]
     },
     "execution_count": 236,
     "metadata": {},
     "output_type": "execute_result"
    }
   ],
   "source": [
    "list(map(lambda x:len(str(x)),obj))"
   ]
  },
  {
   "cell_type": "code",
   "execution_count": 237,
   "id": "e66d6579-6855-48e9-9eda-73f096b5f8c0",
   "metadata": {},
   "outputs": [],
   "source": [
    "obj=list(range(1,9999999))\n",
    "random.shuffle(obj)"
   ]
  },
  {
   "cell_type": "code",
   "execution_count": 238,
   "id": "9f3b3b30-c45f-4907-9d32-f2a20b50c882",
   "metadata": {},
   "outputs": [
    {
     "data": {
      "text/plain": [
       "9999998"
      ]
     },
     "execution_count": 238,
     "metadata": {},
     "output_type": "execute_result"
    }
   ],
   "source": [
    "len(obj)"
   ]
  },
  {
   "cell_type": "code",
   "execution_count": 249,
   "id": "0bf12b22-c78a-44e0-8079-9d91601fb6a4",
   "metadata": {
    "tags": []
   },
   "outputs": [],
   "source": [
    "#앞 뒤가 똑같은거 찾기"
   ]
  },
  {
   "cell_type": "code",
   "execution_count": 250,
   "id": "d62304f7-4638-4246-b1b6-6cc960390677",
   "metadata": {},
   "outputs": [
    {
     "data": {
      "text/plain": [
       "False"
      ]
     },
     "execution_count": 250,
     "metadata": {},
     "output_type": "execute_result"
    }
   ],
   "source": [
    "str(obj[0])==str(obj[0])[::-1]"
   ]
  },
  {
   "cell_type": "code",
   "execution_count": 251,
   "id": "bb572c8c-2bd8-44d8-bea7-a323cb6d2722",
   "metadata": {},
   "outputs": [
    {
     "data": {
      "text/plain": [
       "False"
      ]
     },
     "execution_count": 251,
     "metadata": {},
     "output_type": "execute_result"
    }
   ],
   "source": [
    "str(x)==str(x)[::-1]"
   ]
  },
  {
   "cell_type": "code",
   "execution_count": 253,
   "id": "ef790c1c-bb52-4c55-b75d-9eebfaff29fe",
   "metadata": {},
   "outputs": [
    {
     "data": {
      "text/plain": [
       "10997"
      ]
     },
     "execution_count": 253,
     "metadata": {},
     "output_type": "execute_result"
    }
   ],
   "source": [
    "len(list(filter(lambda x: str(x) == str(x)[::-1],obj)))"
   ]
  },
  {
   "cell_type": "code",
   "execution_count": 254,
   "id": "128bf92d-8569-42aa-bc81-0291c0d7eb40",
   "metadata": {},
   "outputs": [],
   "source": [
    "#PPT리턴"
   ]
  },
  {
   "cell_type": "code",
   "execution_count": 255,
   "id": "97fa8c64-9f7b-436d-be7a-94a38a3b21dc",
   "metadata": {},
   "outputs": [],
   "source": [
    "def return_test(a=10):\n",
    "    print('A위치입니다')\n",
    "    return a\n",
    "    print('B위치입니다')"
   ]
  },
  {
   "cell_type": "code",
   "execution_count": 257,
   "id": "1387a73e-e43b-4063-bcc5-70182dbc9b4a",
   "metadata": {},
   "outputs": [
    {
     "name": "stdout",
     "output_type": "stream",
     "text": [
      "A위치입니다\n"
     ]
    },
    {
     "data": {
      "text/plain": [
       "10"
      ]
     },
     "execution_count": 257,
     "metadata": {},
     "output_type": "execute_result"
    }
   ],
   "source": [
    "return_test()"
   ]
  },
  {
   "cell_type": "code",
   "execution_count": 258,
   "id": "f1ec2e8e-0f7b-4a2f-9eb6-882d078812b6",
   "metadata": {},
   "outputs": [
    {
     "name": "stdout",
     "output_type": "stream",
     "text": [
      "A위치입니다\n"
     ]
    }
   ],
   "source": [
    "x=return_test()"
   ]
  },
  {
   "cell_type": "code",
   "execution_count": 259,
   "id": "7d500b3f-eed2-4990-96ad-3f51c9044fa3",
   "metadata": {},
   "outputs": [
    {
     "data": {
      "text/plain": [
       "10"
      ]
     },
     "execution_count": 259,
     "metadata": {},
     "output_type": "execute_result"
    }
   ],
   "source": [
    "x"
   ]
  },
  {
   "cell_type": "code",
   "execution_count": 260,
   "id": "1d188421-2352-4a09-9f23-9a65444c2a01",
   "metadata": {},
   "outputs": [],
   "source": [
    "def f(x):\n",
    "    return x"
   ]
  },
  {
   "cell_type": "code",
   "execution_count": 261,
   "id": "f57d01a7-b28c-48ee-82ae-a013d415c8d5",
   "metadata": {},
   "outputs": [
    {
     "data": {
      "text/plain": [
       "10"
      ]
     },
     "execution_count": 261,
     "metadata": {},
     "output_type": "execute_result"
    }
   ],
   "source": [
    "f(x)"
   ]
  },
  {
   "cell_type": "code",
   "execution_count": 262,
   "id": "889b2f9b-c268-49cd-961c-8c6f1811e381",
   "metadata": {},
   "outputs": [],
   "source": [
    "#가변 매개변수"
   ]
  },
  {
   "cell_type": "code",
   "execution_count": 263,
   "id": "1fe1e756-67ba-4698-84fe-ffaca791944a",
   "metadata": {},
   "outputs": [],
   "source": [
    "def print_n_times(n=2,*values):\n",
    "    for i in range(n):\n",
    "        for value in values:\n",
    "            print(value)\n",
    "        print()"
   ]
  },
  {
   "cell_type": "code",
   "execution_count": 265,
   "id": "b5349bf1-eab5-4c26-9aa8-b612ce9b07ad",
   "metadata": {},
   "outputs": [
    {
     "name": "stdout",
     "output_type": "stream",
     "text": [
      "안녕하세요\n",
      "즐거운\n",
      "파이썬\n",
      "\n",
      "안녕하세요\n",
      "즐거운\n",
      "파이썬\n",
      "\n"
     ]
    }
   ],
   "source": [
    "print_n_times(2,'안녕하세요','즐거운','파이썬')"
   ]
  },
  {
   "cell_type": "code",
   "execution_count": 266,
   "id": "0d6147c5-3fee-414e-b1df-482ca740be13",
   "metadata": {},
   "outputs": [],
   "source": [
    "#키워드 매개변수"
   ]
  },
  {
   "cell_type": "code",
   "execution_count": 269,
   "id": "fb001e34-67c1-4f71-9cca-6591d96dcc8a",
   "metadata": {},
   "outputs": [
    {
     "data": {
      "text/plain": [
       "['박', '유', '유', '곽', '주', '변', '권']"
      ]
     },
     "execution_count": 269,
     "metadata": {},
     "output_type": "execute_result"
    }
   ],
   "source": [
    "args={'name':name,'n':7}\n",
    "welcome_n(**args)"
   ]
  },
  {
   "cell_type": "code",
   "execution_count": 270,
   "id": "c4cf4f52-dfef-4389-843d-f086978edd58",
   "metadata": {},
   "outputs": [],
   "source": [
    "kkk='a s d f g h'.split(' ')"
   ]
  },
  {
   "cell_type": "code",
   "execution_count": 271,
   "id": "5365c6ec-a630-4227-9d81-8e4593563e69",
   "metadata": {},
   "outputs": [
    {
     "data": {
      "text/plain": [
       "['a', 's', 'd', 'f', 'g', 'h']"
      ]
     },
     "execution_count": 271,
     "metadata": {},
     "output_type": "execute_result"
    }
   ],
   "source": [
    "kkk"
   ]
  },
  {
   "cell_type": "code",
   "execution_count": 272,
   "id": "56b4dc40-b58e-4add-be8c-fbd51f498601",
   "metadata": {},
   "outputs": [
    {
     "data": {
      "text/plain": [
       "['류', '백', '이', '곽', '주', '유', '백']"
      ]
     },
     "execution_count": 272,
     "metadata": {},
     "output_type": "execute_result"
    }
   ],
   "source": [
    "welcome_n(**args) *values"
   ]
  },
  {
   "cell_type": "code",
   "execution_count": 282,
   "id": "38a7465c-ce31-4ca7-af0c-7edf4eb34e47",
   "metadata": {},
   "outputs": [],
   "source": [
    "values=(5,7,9,10)\n",
    "def mul(*values):\n",
    "    s=1\n",
    "    for values in values:\n",
    "        s*=values\n",
    "    return s"
   ]
  },
  {
   "cell_type": "code",
   "execution_count": 283,
   "id": "583708b3-f5e7-47ee-bc50-4a3eb277acf1",
   "metadata": {},
   "outputs": [
    {
     "data": {
      "text/plain": [
       "3150"
      ]
     },
     "execution_count": 283,
     "metadata": {},
     "output_type": "execute_result"
    }
   ],
   "source": [
    "mul(5,7,9,10)"
   ]
  },
  {
   "cell_type": "code",
   "execution_count": 277,
   "id": "af9c2ab9-6adc-4fee-8c07-6b08890a8562",
   "metadata": {},
   "outputs": [],
   "source": [
    "#문제풀이"
   ]
  },
  {
   "cell_type": "code",
   "execution_count": 284,
   "id": "81f47369-84c6-420a-984e-7a047a5cc33c",
   "metadata": {},
   "outputs": [],
   "source": [
    "def mul(values):\n",
    "    s=1\n",
    "    for values in values:\n",
    "        s*=values\n",
    "    return s"
   ]
  },
  {
   "cell_type": "code",
   "execution_count": 285,
   "id": "829bfe59-ec66-49e6-ac83-02289f1717ed",
   "metadata": {},
   "outputs": [
    {
     "ename": "TypeError",
     "evalue": "mul() takes 1 positional argument but 4 were given",
     "output_type": "error",
     "traceback": [
      "\u001b[1;31m---------------------------------------------------------------------------\u001b[0m",
      "\u001b[1;31mTypeError\u001b[0m                                 Traceback (most recent call last)",
      "\u001b[1;32m~\\AppData\\Local\\Temp/ipykernel_8532/3327607175.py\u001b[0m in \u001b[0;36m<module>\u001b[1;34m\u001b[0m\n\u001b[1;32m----> 1\u001b[1;33m \u001b[0mmul\u001b[0m\u001b[1;33m(\u001b[0m\u001b[1;36m5\u001b[0m\u001b[1;33m,\u001b[0m\u001b[1;36m7\u001b[0m\u001b[1;33m,\u001b[0m\u001b[1;36m9\u001b[0m\u001b[1;33m,\u001b[0m\u001b[1;36m10\u001b[0m\u001b[1;33m)\u001b[0m\u001b[1;33m\u001b[0m\u001b[1;33m\u001b[0m\u001b[0m\n\u001b[0m",
      "\u001b[1;31mTypeError\u001b[0m: mul() takes 1 positional argument but 4 were given"
     ]
    }
   ],
   "source": [
    "mul(5,7,9,10)"
   ]
  },
  {
   "cell_type": "code",
   "execution_count": 286,
   "id": "4db296af-f31d-4cf1-813f-465cec0103bf",
   "metadata": {},
   "outputs": [],
   "source": [
    "#재귀함수"
   ]
  },
  {
   "cell_type": "code",
   "execution_count": 287,
   "id": "da0ceae4-c470-48d7-80b4-db883f8525fd",
   "metadata": {},
   "outputs": [],
   "source": [
    "#for반복문으로 펙토리얼 구하기"
   ]
  },
  {
   "cell_type": "code",
   "execution_count": 290,
   "id": "eeac27f9-1105-46e0-8f4c-3c7bde4ae04f",
   "metadata": {},
   "outputs": [],
   "source": [
    "def factorial(n):\n",
    "    factor =1 #처음 구할때는 초기값 줘야 해\n",
    "    for i in range(1,n+1):\n",
    "        factor*=i\n",
    "    return factor"
   ]
  },
  {
   "cell_type": "code",
   "execution_count": 291,
   "id": "3bac59eb-f4b3-43d8-a9c3-09e14103ceb6",
   "metadata": {},
   "outputs": [
    {
     "data": {
      "text/plain": [
       "120"
      ]
     },
     "execution_count": 291,
     "metadata": {},
     "output_type": "execute_result"
    }
   ],
   "source": [
    "factorial(5)"
   ]
  },
  {
   "cell_type": "code",
   "execution_count": 289,
   "id": "f1afb4da-a5c8-4cba-a85e-8c584e7b6561",
   "metadata": {},
   "outputs": [],
   "source": [
    "#재귀함수: 거울보듯 무한 계산"
   ]
  },
  {
   "cell_type": "code",
   "execution_count": 296,
   "id": "cad8f595-900d-4b78-bc5f-f46de59ee914",
   "metadata": {},
   "outputs": [],
   "source": [
    "def factorial_recur(n):\n",
    "    print(n) #확인용\n",
    "    if n==0:\n",
    "        return 1\n",
    "    else:\n",
    "        print(n)\n",
    "        return n*factorial(n-1)"
   ]
  },
  {
   "cell_type": "code",
   "execution_count": 298,
   "id": "e7e2c459-782a-42c1-82b8-6475fd884a53",
   "metadata": {},
   "outputs": [
    {
     "name": "stdout",
     "output_type": "stream",
     "text": [
      "5\n",
      "5\n",
      "4\n",
      "4\n"
     ]
    },
    {
     "data": {
      "text/plain": [
       "24"
      ]
     },
     "execution_count": 298,
     "metadata": {},
     "output_type": "execute_result"
    }
   ],
   "source": [
    "factorial_recur(5)\n",
    "factorial_recur(4)"
   ]
  },
  {
   "cell_type": "code",
   "execution_count": 299,
   "id": "c96e6636-c26b-4136-a499-12c47ba13039",
   "metadata": {},
   "outputs": [],
   "source": [
    "def recur(x): #for안쓰고 반복하기\n",
    "    \n",
    "    print('aaa')\n",
    "    if x == 0:\n",
    "        return #0일경우 빠져나가고 아님 밑에거 진행해라 (무한반복호출이라서 탈출조건 필요)\n",
    "    recur(x-1)"
   ]
  },
  {
   "cell_type": "code",
   "execution_count": 300,
   "id": "784b3cff-fe34-4ae1-aef2-134cb4d9629b",
   "metadata": {},
   "outputs": [
    {
     "name": "stdout",
     "output_type": "stream",
     "text": [
      "aaa\n",
      "aaa\n",
      "aaa\n",
      "aaa\n",
      "aaa\n",
      "aaa\n"
     ]
    }
   ],
   "source": [
    "recur(5)"
   ]
  },
  {
   "cell_type": "code",
   "execution_count": 301,
   "id": "c7efc61a-5176-4afe-b108-d8bb4f9fe369",
   "metadata": {},
   "outputs": [],
   "source": [
    "def recur(x): \n",
    "    print('aaa')\n",
    "    if x == 6:\n",
    "        return \n",
    "    recur(x-1)"
   ]
  },
  {
   "cell_type": "code",
   "execution_count": 303,
   "id": "ccdfa9e8-1f60-4912-b3fc-b8eb5e51d5e4",
   "metadata": {},
   "outputs": [
    {
     "name": "stdout",
     "output_type": "stream",
     "text": [
      "aaa\n"
     ]
    }
   ],
   "source": [
    "recur(6) #5를 넣으면 조건이 안되서 무한대로 나옴"
   ]
  },
  {
   "cell_type": "code",
   "execution_count": 304,
   "id": "39fcf962-7c09-4955-9e59-421028c5c8d1",
   "metadata": {},
   "outputs": [],
   "source": [
    "#sum을 만들어라"
   ]
  },
  {
   "cell_type": "code",
   "execution_count": 317,
   "id": "9d4c05ba-598f-46b2-b4dd-49a2accd3976",
   "metadata": {},
   "outputs": [],
   "source": [
    "def sum_recur(x): \n",
    "    s=0\n",
    "    for i in range(x):\n",
    "        s += i\n",
    "    return s"
   ]
  },
  {
   "cell_type": "code",
   "execution_count": 319,
   "id": "a704d17b-74db-48c1-9638-1e7e786c6b0b",
   "metadata": {},
   "outputs": [
    {
     "data": {
      "text/plain": [
       "3"
      ]
     },
     "execution_count": 319,
     "metadata": {},
     "output_type": "execute_result"
    }
   ],
   "source": [
    "sum_recur(3)"
   ]
  },
  {
   "cell_type": "code",
   "execution_count": 320,
   "id": "03998080-5c54-49b6-b84f-a2e0ef1b0d63",
   "metadata": {},
   "outputs": [],
   "source": [
    "def sum_recur(x): \n",
    "    if x ==0:\n",
    "        return 0\n",
    "    return x+sum_recur(x-1)"
   ]
  },
  {
   "cell_type": "code",
   "execution_count": 321,
   "id": "1345846f-97fb-413b-b1dd-e878d48b2b89",
   "metadata": {},
   "outputs": [
    {
     "data": {
      "text/plain": [
       "6"
      ]
     },
     "execution_count": 321,
     "metadata": {},
     "output_type": "execute_result"
    }
   ],
   "source": [
    "sum_recur(3)"
   ]
  },
  {
   "cell_type": "code",
   "execution_count": 326,
   "id": "d3cae686-d1da-4e94-b0f6-d47e917c719c",
   "metadata": {},
   "outputs": [],
   "source": [
    "def sum_non_recur(x): \n",
    "    s=0\n",
    "    for i in range(1,x+1):\n",
    "        s += i\n",
    "    return s"
   ]
  },
  {
   "cell_type": "code",
   "execution_count": 327,
   "id": "bf492043-38cd-42d3-baa0-7b519b182b0a",
   "metadata": {},
   "outputs": [
    {
     "data": {
      "text/plain": [
       "6"
      ]
     },
     "execution_count": 327,
     "metadata": {},
     "output_type": "execute_result"
    }
   ],
   "source": [
    "sum_non_recur(3)"
   ]
  },
  {
   "cell_type": "code",
   "execution_count": 328,
   "id": "1c7796ec-dcb3-48f0-a275-da6101ca6973",
   "metadata": {},
   "outputs": [],
   "source": [
    "#피보나치 수열"
   ]
  },
  {
   "cell_type": "code",
   "execution_count": 354,
   "id": "17e15e91-a406-4fbd-b724-ebb40cd36cb7",
   "metadata": {},
   "outputs": [
    {
     "data": {
      "text/plain": [
       "5"
      ]
     },
     "execution_count": 354,
     "metadata": {},
     "output_type": "execute_result"
    }
   ],
   "source": [
    "f_1=1\n",
    "f_2=1\n",
    "tmp=[f_1,f_2]\n",
    "for i in range(5):\n",
    "    tmp.append((tmp[i]+tmp[i+1]))\n",
    "tmp[-3] #3번째 값은"
   ]
  },
  {
   "cell_type": "code",
   "execution_count": 353,
   "id": "04dd6511-7c16-4657-82b5-cfbf2c144081",
   "metadata": {},
   "outputs": [
    {
     "data": {
      "text/plain": [
       "[1, 1, 2, 3, 5, 8, 13]"
      ]
     },
     "execution_count": 353,
     "metadata": {},
     "output_type": "execute_result"
    }
   ],
   "source": [
    "tmp"
   ]
  },
  {
   "cell_type": "code",
   "execution_count": 357,
   "id": "f7e034f1-36bd-4ed1-a0d8-492877119392",
   "metadata": {},
   "outputs": [],
   "source": [
    "def fib(n):\n",
    "    f_1=1\n",
    "    f_2=1\n",
    "    tmp=[f_1,f_2]\n",
    "    for i in range(n):\n",
    "        tmp.append((tmp[i]+tmp[i+1]))\n",
    "    return tmp[-3] "
   ]
  },
  {
   "cell_type": "code",
   "execution_count": 358,
   "id": "daa18dbb-37b9-4585-ab97-c99d6104e39f",
   "metadata": {},
   "outputs": [
    {
     "data": {
      "text/plain": [
       "8"
      ]
     },
     "execution_count": 358,
     "metadata": {},
     "output_type": "execute_result"
    }
   ],
   "source": [
    "fib(6)"
   ]
  },
  {
   "cell_type": "code",
   "execution_count": 359,
   "id": "cf8bbcef-30e3-4857-a36c-6cfec999739c",
   "metadata": {},
   "outputs": [],
   "source": [
    "def fibo(n):\n",
    "    if (n==1) or (n==2):\n",
    "        return 1\n",
    "    return fibo(n-1)+fibo(n-2)"
   ]
  },
  {
   "cell_type": "code",
   "execution_count": 362,
   "id": "aadf6a23-529b-49fd-a972-551435a0bdfa",
   "metadata": {},
   "outputs": [
    {
     "data": {
      "text/plain": [
       "3"
      ]
     },
     "execution_count": 362,
     "metadata": {},
     "output_type": "execute_result"
    }
   ],
   "source": [
    "fibo(4)"
   ]
  },
  {
   "cell_type": "code",
   "execution_count": 364,
   "id": "85225c55-1334-49a6-8e54-6938c005f7e2",
   "metadata": {},
   "outputs": [],
   "source": [
    "counter=0\n",
    "def fibo(n):\n",
    "    print(f'피보나치 수열{n}을 구합니다')\n",
    "    global counter\n",
    "    counter +=1\n",
    "    if n==1:\n",
    "        return 1\n",
    "    if n==2:\n",
    "        return 2\n",
    "    else: \n",
    "        return fibo(n-1)+fibo(n-2)"
   ]
  },
  {
   "cell_type": "code",
   "execution_count": 365,
   "id": "ebd24992-f58b-4a27-a862-e45bac0e4789",
   "metadata": {},
   "outputs": [
    {
     "name": "stdout",
     "output_type": "stream",
     "text": [
      "피보나치 수열4을 구합니다\n",
      "피보나치 수열3을 구합니다\n",
      "피보나치 수열2을 구합니다\n",
      "피보나치 수열1을 구합니다\n",
      "피보나치 수열2을 구합니다\n"
     ]
    },
    {
     "data": {
      "text/plain": [
       "5"
      ]
     },
     "execution_count": 365,
     "metadata": {},
     "output_type": "execute_result"
    }
   ],
   "source": [
    "fibo(4)"
   ]
  },
  {
   "cell_type": "code",
   "execution_count": 366,
   "id": "8de5a1eb-c168-4f6c-aa85-869158ad727e",
   "metadata": {},
   "outputs": [],
   "source": [
    "#재귀함수문제 트리"
   ]
  },
  {
   "cell_type": "code",
   "execution_count": 367,
   "id": "d9d1c6fc-33ba-43d9-9ffd-eb143e42257c",
   "metadata": {},
   "outputs": [],
   "source": [
    "counter=0\n",
    "def fibo(n):\n",
    "    global counter\n",
    "    counter +=1\n",
    "    if n==1:\n",
    "        return 1\n",
    "    if n==2:\n",
    "        return 2\n",
    "    else: \n",
    "        return fibo(n-1)+fibo(n-2)"
   ]
  },
  {
   "cell_type": "code",
   "execution_count": 370,
   "id": "e135a41a-2813-40a0-9d40-c2dc4a7e7e81",
   "metadata": {},
   "outputs": [
    {
     "name": "stdout",
     "output_type": "stream",
     "text": [
      "Wall time: 21.9 ms\n"
     ]
    },
    {
     "data": {
      "text/plain": [
       "121393"
      ]
     },
     "execution_count": 370,
     "metadata": {},
     "output_type": "execute_result"
    }
   ],
   "source": [
    "%%time \n",
    "fibo(25)"
   ]
  },
  {
   "cell_type": "code",
   "execution_count": 371,
   "id": "949fe99c-8126-49b3-9a02-d47fb76d8b52",
   "metadata": {},
   "outputs": [
    {
     "name": "stdout",
     "output_type": "stream",
     "text": [
      "Wall time: 0 ns\n"
     ]
    },
    {
     "data": {
      "text/plain": [
       "75025"
      ]
     },
     "execution_count": 371,
     "metadata": {},
     "output_type": "execute_result"
    }
   ],
   "source": [
    "%%time #for문이 더 빠르다\n",
    "fib(25)"
   ]
  },
  {
   "cell_type": "code",
   "execution_count": 372,
   "id": "36a34389-77dc-41c7-9ac8-6c22250dfd89",
   "metadata": {},
   "outputs": [],
   "source": [
    "#파이썬은 코드짧, 같을 때 속도 빨라야 한다."
   ]
  },
  {
   "cell_type": "code",
   "execution_count": 373,
   "id": "997e24f4-6835-4a60-8965-4687505aa3f7",
   "metadata": {},
   "outputs": [],
   "source": [
    "#재귀함수 문제풀기"
   ]
  },
  {
   "cell_type": "code",
   "execution_count": null,
   "id": "112d785a-4ea9-4420-a86e-851e251e9d6a",
   "metadata": {},
   "outputs": [],
   "source": [
    "def flatten(x):\n",
    "    "
   ]
  },
  {
   "cell_type": "code",
   "execution_count": 374,
   "id": "4433e09a-3be5-4086-b2bd-c62a0d43144e",
   "metadata": {},
   "outputs": [],
   "source": [
    "data=[[1,2,3],[4,[5,6]],7,[8,9]]"
   ]
  },
  {
   "cell_type": "code",
   "execution_count": 376,
   "id": "9e762cef-fe7e-403b-9c6c-2e430bd7b784",
   "metadata": {},
   "outputs": [
    {
     "data": {
      "text/plain": [
       "[4, [5, 6]]"
      ]
     },
     "execution_count": 376,
     "metadata": {},
     "output_type": "execute_result"
    }
   ],
   "source": [
    "data[1]"
   ]
  },
  {
   "cell_type": "code",
   "execution_count": 377,
   "id": "a1cde034-d644-4d68-990d-f3b72108e028",
   "metadata": {},
   "outputs": [
    {
     "data": {
      "text/plain": [
       "[1, 2, 3]"
      ]
     },
     "execution_count": 377,
     "metadata": {},
     "output_type": "execute_result"
    }
   ],
   "source": [
    "x=[]\n",
    "x.extend(data[0])\n",
    "x"
   ]
  },
  {
   "cell_type": "code",
   "execution_count": 383,
   "id": "5e3bf712-223c-4211-8786-3f0fde0099f6",
   "metadata": {},
   "outputs": [
    {
     "data": {
      "text/plain": [
       "[8, 9, 7]"
      ]
     },
     "execution_count": 383,
     "metadata": {},
     "output_type": "execute_result"
    }
   ],
   "source": [
    "\n",
    "x.append(data[2])\n",
    "x"
   ]
  },
  {
   "cell_type": "code",
   "execution_count": 384,
   "id": "b35005ab-52ed-4e7b-97bb-bcd0636cd099",
   "metadata": {},
   "outputs": [
    {
     "data": {
      "text/plain": [
       "[8, 9, 7, 8, 9]"
      ]
     },
     "execution_count": 384,
     "metadata": {},
     "output_type": "execute_result"
    }
   ],
   "source": [
    "\n",
    "x.extend(data[3])\n",
    "x"
   ]
  },
  {
   "cell_type": "code",
   "execution_count": 386,
   "id": "6ad2c09d-85d9-43b2-a5a2-b6941af9bcbf",
   "metadata": {},
   "outputs": [
    {
     "data": {
      "text/plain": [
       "[1, 2, 3, 4, [5, 6], 8, 9]"
      ]
     },
     "execution_count": 386,
     "metadata": {},
     "output_type": "execute_result"
    }
   ],
   "source": [
    "#리스트 뽑아서 더하기\n",
    "data[0]+data[1]+data[3]"
   ]
  },
  {
   "cell_type": "code",
   "execution_count": 387,
   "id": "f4da1086-30fa-4bb7-aba0-d2176275b323",
   "metadata": {},
   "outputs": [
    {
     "data": {
      "text/plain": [
       "[1, 2, 3]"
      ]
     },
     "execution_count": 387,
     "metadata": {},
     "output_type": "execute_result"
    }
   ],
   "source": [
    "new_data=[]\n",
    "for i in data[0]:\n",
    "    new_data.append(i)\n",
    "new_data"
   ]
  },
  {
   "cell_type": "code",
   "execution_count": null,
   "id": "0d0e0a98-5d38-44b0-86ae-4cc95f2de19f",
   "metadata": {},
   "outputs": [],
   "source": [
    "def flatten(x):\n",
    "    if :\n",
    "        return \n",
    "    new_data=[i for i in data]\n",
    "    "
   ]
  },
  {
   "cell_type": "code",
   "execution_count": null,
   "id": "0fb5c200-69fb-43b1-a05b-184b9f28d407",
   "metadata": {},
   "outputs": [],
   "source": [
    "def ravel(x):\n",
    "    for i in range(len(x))"
   ]
  },
  {
   "cell_type": "markdown",
   "id": "eb51fb13-4810-4e4d-a5ee-8caff1ee77d1",
   "metadata": {},
   "source": [
    "new_data=[]\n",
    "for i in data[1]:\n",
    "    a=new_data.append(i)\n",
    "    if new_data.append(i)==[a]:\n",
    "        a.append(new_data[i])\n",
    "    break\n",
    "new_data"
   ]
  },
  {
   "cell_type": "code",
   "execution_count": 412,
   "id": "166a8fb2-9714-417d-b0b8-940669c88960",
   "metadata": {},
   "outputs": [],
   "source": [
    "data=[[1,2,3],[4,[5,6]],7,[8,9]]\n",
    "data1=[[1,2,3],[4,[5,6]],[7,8,9]]"
   ]
  },
  {
   "cell_type": "code",
   "execution_count": 418,
   "id": "b9e0ca52-4288-4573-9a4c-15d5d1e31a93",
   "metadata": {},
   "outputs": [],
   "source": [
    "def flatten(x):\n",
    "    result=[]\n",
    "    for i in x:\n",
    "        result += i\n",
    "    return result"
   ]
  },
  {
   "cell_type": "code",
   "execution_count": 419,
   "id": "dc55cffe-10dc-4128-bf54-14e8adc45619",
   "metadata": {},
   "outputs": [
    {
     "data": {
      "text/plain": [
       "[1, 2, 3, 4, [5, 6], 7, 8, 9]"
      ]
     },
     "execution_count": 419,
     "metadata": {},
     "output_type": "execute_result"
    }
   ],
   "source": [
    "flatten(data1)"
   ]
  },
  {
   "cell_type": "code",
   "execution_count": 426,
   "id": "c33fea61-a3ca-484a-b410-a6a6b7f7cf79",
   "metadata": {},
   "outputs": [],
   "source": [
    "def flatten(x):\n",
    "    result=[]\n",
    "    for i in x:\n",
    "        if type(i) == list:\n",
    "            result += flatten(i)\n",
    "        else:\n",
    "            result += [i]\n",
    "    return result"
   ]
  },
  {
   "cell_type": "code",
   "execution_count": 421,
   "id": "cde30a05-a07a-43f1-a07b-726d82819b86",
   "metadata": {},
   "outputs": [
    {
     "data": {
      "text/plain": [
       "[1, 2, 3, 4]"
      ]
     },
     "execution_count": 421,
     "metadata": {},
     "output_type": "execute_result"
    }
   ],
   "source": [
    "[1,2,3]+[4]"
   ]
  },
  {
   "cell_type": "code",
   "execution_count": 427,
   "id": "c0f7da36-5760-4f53-9bfb-e3d11f17b93e",
   "metadata": {},
   "outputs": [
    {
     "data": {
      "text/plain": [
       "[1, 2, 3, 4, 5, 6, 7, 8, 9]"
      ]
     },
     "execution_count": 427,
     "metadata": {},
     "output_type": "execute_result"
    }
   ],
   "source": [
    "flatten(data1)"
   ]
  },
  {
   "cell_type": "code",
   "execution_count": 428,
   "id": "676a79da-7b8b-4d81-adba-a86d4f759399",
   "metadata": {},
   "outputs": [
    {
     "data": {
      "text/plain": [
       "[1, 2, 3, 4, 5, 6, 7, 8, 9]"
      ]
     },
     "execution_count": 428,
     "metadata": {},
     "output_type": "execute_result"
    }
   ],
   "source": [
    "flatten(data)"
   ]
  },
  {
   "cell_type": "code",
   "execution_count": 429,
   "id": "0e52cad1-4c9c-4df8-af12-504d9d0dc503",
   "metadata": {},
   "outputs": [],
   "source": [
    "#튜플(1,2,3),(2,5) 한번 결정된 요소는 바꿀 수 없다"
   ]
  },
  {
   "cell_type": "code",
   "execution_count": 430,
   "id": "7496c817-f049-4f7c-bda4-a29d770dea00",
   "metadata": {},
   "outputs": [
    {
     "data": {
      "text/plain": [
       "tuple"
      ]
     },
     "execution_count": 430,
     "metadata": {},
     "output_type": "execute_result"
    }
   ],
   "source": [
    "x=[(1,2),(4,5)]\n",
    "type(x[0])"
   ]
  },
  {
   "cell_type": "code",
   "execution_count": 431,
   "id": "1c4984b2-bc29-4596-91c6-f9223766064b",
   "metadata": {},
   "outputs": [
    {
     "ename": "ModuleNotFoundError",
     "evalue": "No module named 'numpy'",
     "output_type": "error",
     "traceback": [
      "\u001b[1;31m---------------------------------------------------------------------------\u001b[0m",
      "\u001b[1;31mModuleNotFoundError\u001b[0m                       Traceback (most recent call last)",
      "\u001b[1;32m~\\AppData\\Local\\Temp/ipykernel_8532/3593848235.py\u001b[0m in \u001b[0;36m<module>\u001b[1;34m\u001b[0m\n\u001b[1;32m----> 1\u001b[1;33m \u001b[1;32mimport\u001b[0m \u001b[0mnumpy\u001b[0m \u001b[1;32mas\u001b[0m \u001b[0mnp\u001b[0m\u001b[1;33m\u001b[0m\u001b[1;33m\u001b[0m\u001b[0m\n\u001b[0m",
      "\u001b[1;31mModuleNotFoundError\u001b[0m: No module named 'numpy'"
     ]
    }
   ],
   "source": [
    "import numpy as np"
   ]
  },
  {
   "cell_type": "code",
   "execution_count": 432,
   "id": "817e0974-71d9-46ae-826a-edbdcaf4e1d8",
   "metadata": {},
   "outputs": [
    {
     "ename": "NameError",
     "evalue": "name 'np' is not defined",
     "output_type": "error",
     "traceback": [
      "\u001b[1;31m---------------------------------------------------------------------------\u001b[0m",
      "\u001b[1;31mNameError\u001b[0m                                 Traceback (most recent call last)",
      "\u001b[1;32m~\\AppData\\Local\\Temp/ipykernel_8532/2181966570.py\u001b[0m in \u001b[0;36m<module>\u001b[1;34m\u001b[0m\n\u001b[1;32m----> 1\u001b[1;33m \u001b[0mnp\u001b[0m\u001b[1;33m.\u001b[0m\u001b[0mzeros\u001b[0m\u001b[1;33m[\u001b[0m\u001b[1;33m(\u001b[0m\u001b[1;36m3\u001b[0m\u001b[1;33m,\u001b[0m\u001b[1;36m4\u001b[0m\u001b[1;33m)\u001b[0m\u001b[1;33m]\u001b[0m\u001b[1;33m\u001b[0m\u001b[1;33m\u001b[0m\u001b[0m\n\u001b[0m",
      "\u001b[1;31mNameError\u001b[0m: name 'np' is not defined"
     ]
    }
   ],
   "source": [
    "np.zeros[(3,4)]"
   ]
  },
  {
   "cell_type": "code",
   "execution_count": 433,
   "id": "2505faf4-e5d3-4a89-8d0a-d92917d18bf6",
   "metadata": {},
   "outputs": [],
   "source": [
    "x=[1,2,3]\n",
    "y=[i*i for i in range(1,4)]\n",
    "z=zip(x,y)"
   ]
  },
  {
   "cell_type": "code",
   "execution_count": 434,
   "id": "62780fe8-c0c1-4581-b34d-9d281fb69197",
   "metadata": {},
   "outputs": [
    {
     "data": {
      "text/plain": [
       "((1, 1), (2, 4), (3, 9))"
      ]
     },
     "execution_count": 434,
     "metadata": {},
     "output_type": "execute_result"
    }
   ],
   "source": [
    "tuple(z)"
   ]
  },
  {
   "cell_type": "code",
   "execution_count": 435,
   "id": "6b7280b2-0b95-4d9c-b9b9-704787022ab7",
   "metadata": {},
   "outputs": [],
   "source": []
  },
  {
   "cell_type": "code",
   "execution_count": 437,
   "id": "4eb8d97e-1579-47e1-a2ae-cc16e7d2eb23",
   "metadata": {},
   "outputs": [],
   "source": [
    "x=(list(range(10)),list(range(1,11)))"
   ]
  },
  {
   "cell_type": "code",
   "execution_count": 438,
   "id": "a7f55016-7a93-44f2-9bb1-31354a1ec1f4",
   "metadata": {},
   "outputs": [],
   "source": [
    "y,z=x"
   ]
  },
  {
   "cell_type": "code",
   "execution_count": 439,
   "id": "0261c744-720a-4269-ac0b-233afb2a6f74",
   "metadata": {},
   "outputs": [
    {
     "data": {
      "text/plain": [
       "[1, 2, 3, 4, 5, 6, 7, 8, 9, 10]"
      ]
     },
     "execution_count": 439,
     "metadata": {},
     "output_type": "execute_result"
    }
   ],
   "source": [
    "z"
   ]
  },
  {
   "cell_type": "code",
   "execution_count": 440,
   "id": "8a47ceeb-9712-45c6-9042-90f744395499",
   "metadata": {},
   "outputs": [],
   "source": [
    "#람다는 많이 연습하기"
   ]
  },
  {
   "cell_type": "code",
   "execution_count": null,
   "id": "a05abff0-fd5f-4d5b-9442-bc155ddd98eb",
   "metadata": {},
   "outputs": [],
   "source": [
    "#시스템모듈은 해킹할 때 쓰임 "
   ]
  }
 ],
 "metadata": {
  "kernelspec": {
   "display_name": "kbu",
   "language": "python",
   "name": "kbu"
  },
  "language_info": {
   "codemirror_mode": {
    "name": "ipython",
    "version": 3
   },
   "file_extension": ".py",
   "mimetype": "text/x-python",
   "name": "python",
   "nbconvert_exporter": "python",
   "pygments_lexer": "ipython3",
   "version": "3.7.11"
  }
 },
 "nbformat": 4,
 "nbformat_minor": 5
}
